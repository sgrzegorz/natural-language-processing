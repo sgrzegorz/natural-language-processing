{
 "cells": [
  {
   "cell_type": "code",
   "execution_count": 16,
   "id": "a0f8311f",
   "metadata": {},
   "outputs": [],
   "source": [
    "import spacy\n",
    "# python -m spacy download en_core_web_sm\n",
    "# python -m spacy download pl_core_news_sm\n",
    "import re\n",
    "import tarfile\n",
    "import os\n",
    "import matplotlib.pyplot as plt\n",
    "import numpy as np\n",
    "import regex\n",
    "import pandas as pd\n",
    "import morfeusz2\n",
    "from elasticsearch_dsl import *\n",
    "from elasticsearch_dsl import query\n",
    "from elasticsearch import *\n",
    "import os\n",
    "import pickle\n",
    "\n",
    "import spacy\n",
    "from collections import Counter\n",
    "from spacy.tokenizer import *"
   ]
  },
  {
   "cell_type": "markdown",
   "id": "7e270556",
   "metadata": {},
   "source": [
    "1. Make sure the texts in the corpus does not contain HTML code.\n",
    "2. Use SpaCy [tokenizer API](https://spacy.io/api/tokenizer) to tokenize the text from the cleaned law corpus.\n",
    "3. Compute **frequency list** for each of the processed files.\n",
    "4. Aggregate the result to obtain one global frequency list.\n",
    "5. Reject all entries that are shorter than 2 characters or contain non-letter characters (make sure to include Polish\n",
    "   diacritics).\n",
    "6. Make a plot in a logarithmic scale (for X and Y):\n",
    "   1. X-axis should contain the **rank** of a term, meaning the first rank belongs to the term with the highest number of\n",
    "      occurrences; the terms with the same number of occurrences should be ordered by their name,\n",
    "   2. Y-axis should contain the **number of occurrences** of the term with given rank.\n",
    "7. Install [Morfeusz](http://morfeusz.sgjp.pl/download/) (Binding dla Pythona) and use it to find all words that do not\n",
    "   appear in that dictionary.\n",
    "8. Find 30 words with the highest ranks that do not belong to the dictionary.\n",
    "9. Find 30 random words (i.e. shuffle the words) with 5 occurrences that do not belong to the dictionary.\n",
    "10. Use Levenshtein distance and the frequency list, to determine the most probable correction of the words from\n",
    "   lists defined in points 8 and 9. (**Note**: You don't have to apply the distance directly. Any method that is more efficient than scanning the\n",
    "   dictionary will be appreciated.)\n",
    "11. Load [SGJP dictionary](http://morfeusz.sgjp.pl/download/) (Słownik SGJP dane tekstowe) to ElasticSearch (one document for each form) \n",
    "   and use fuzzy matching to obtain the possible\n",
    "   corrections of the 30 words with 5 occurrences that do not belong to the dictionary.\n",
    "12. Compare the results of your algorithm and output of ES. \n",
    "13. Draw conclusions regarding:\n",
    "   * the distribution of words in the corpus,\n",
    "   * the number of true misspellings vs. the number of unknown words,\n",
    "   * the performance of your method compared to ElasticSearch,\n",
    "   * the results provided by your method compared to ElasticSearch,\n",
    "   * the validity of the obtained corrections."
   ]
  },
  {
   "cell_type": "code",
   "execution_count": 17,
   "id": "5b92b0c6",
   "metadata": {},
   "outputs": [],
   "source": [
    "nlp = spacy.load(\"pl_core_news_sm\")\n",
    "tokenizer = Tokenizer(nlp.vocab)\n"
   ]
  },
  {
   "cell_type": "code",
   "execution_count": 19,
   "id": "241bb0b4",
   "metadata": {},
   "outputs": [
    {
     "name": "stdout",
     "output_type": "stream",
     "text": [
      "50\n",
      "100\n",
      "150\n",
      "200\n",
      "250\n",
      "300\n",
      "350\n",
      "400\n",
      "450\n",
      "500\n",
      "550\n",
      "600\n",
      "650\n",
      "700\n",
      "750\n",
      "800\n",
      "850\n",
      "900\n",
      "950\n",
      "1000\n",
      "1050\n",
      "1100\n",
      "1150\n"
     ]
    }
   ],
   "source": [
    "\n",
    "file_tokens = {}\n",
    "i = 0\n",
    "path=\"../data/ustawy\"\n",
    "for filename in os.listdir(path):\n",
    "    with open(os.path.join(path, filename), 'r',encoding='utf-8') as f: # open in readonly mode\n",
    "        text = f.read()\n",
    "        doc = tokenizer(text)\n",
    "        words = [token.text for token in doc if token.is_stop != True and token.is_punct != True]\n",
    "        file_tokens[f.name] = words\n",
    "        word_freq = Counter(words)\n",
    "        i+=1\n",
    "        if i % 200 == 0:\n",
    "            print(i)\n",
    "    "
   ]
  },
  {
   "cell_type": "code",
   "execution_count": null,
   "id": "ac276522",
   "metadata": {},
   "outputs": [],
   "source": [
    "word_freq = [Counter(words) for words in "
   ]
  },
  {
   "cell_type": "code",
   "execution_count": 24,
   "id": "489d43dd",
   "metadata": {},
   "outputs": [
    {
     "name": "stdout",
     "output_type": "stream",
     "text": [
      "['\\n\\n\\n\\n', 'Dz.U.', '1998', 'r.', 'Nr', '117,', 'poz.', '759', '                                     \\n                                        \\n                                        \\n                                        \\n                                        \\n                                        \\n                                     ', 'USTAWA', '\\n                             ', 'dnia', '25', 'lipca', '1998', 'r.', '\\n                                        \\n                       ', 'zmianie', 'ustawy', 'systemie', 'oświaty', '\\n                                        \\n                                        \\n                                     ', 'Art.', '1.', '\\n', 'ustawie', 'dnia', '7', 'września', '1991', 'r.', 'systemie', 'oświaty', '(Dz.U.', '1996', 'r.', 'Nr', '67,', '\\n', 'poz.', '329,', 'Nr', '106,', 'poz.', '496', '1997', 'r.', 'Nr', '28,', 'poz.', '153', 'Nr', '141,', 'poz.', '943)', '\\n', 'wprowadza', 'następujące', 'zmiany:', '\\n', '1)', 'art.', '1:', '\\n   ', 'a)', 'pkt', '5', 'dodaje', 'pkt', '5a', 'brzmieniu:', '\\n      ', '\"5a)', 'opiekę', 'uczniami', 'znacznymi', 'sprzężonymi', 'dysfunkcjami', '\\n         ', 'poprzez', 'umożliwianie', 'realizowania', 'indywidualnych', 'form', 'programów', '\\n         ', 'nauczania,\",', '\\n   ', 'b)', 'pkt', '7', 'skreśla', 'wyraz', '\"średnich\";', '\\n', '2)', 'art.', '2:', '\\n   ', 'a)', 'pkt', '1', 'otrzymuje', 'brzmienie:', '\\n     ', '\"1)', 'przedszkola,', 'oddziałami', 'integracyjnymi', 'przedszkola', '\\n       ', 'specjalne,\",', '\\n   ', 'b)', 'pkt', '2', 'otrzymuje', 'brzmienie:', '\\n     ', '\"2)', 'szkoły', 'podstawowe,', 'gimnazja', 'szkoły', 'ponadgimnazjalne', 'ogólnokształcące', '\\n       ', 'zawodowe,', 'oddziałami', 'integracyjnymi,', 'wyjątkiem', 'szkół', '\\n       ', 'wyższych,', 'szkoły', 'specjalne,', 'szkoły', 'sportowe', 'mistrzostwa', '\\n       ', 'sportowego', 'szkoły', 'artystyczne,\",', '\\n   ', 'c)', 'pkt', '3', 'otrzymuje', 'brzmienie:', '\\n    ', '\"3)', 'placówki', 'oświatowo-wychowawcze,', 'placówki', 'pracy', 'pozaszkolnej,', '\\n       ', 'ogniska', 'artystyczne', 'placówki', 'kształcenia', 'ustawicznego', 'umożliwiające', '\\n       ', 'uzyskanie', 'uzupełnienie', 'wiedzy', 'ogólnej', 'kwalifikacji', 'zawodowych,', '\\n       ', 'zdobywanie', 'umiejętności,', 'kształtowanie', 'rozwijanie', 'zainteresowań', '\\n       ', 'uzdolnień', 'korzystanie', 'różnych', 'form', 'wypoczynku,\",', '\\n   ', 'd)', 'skreśla', 'pkt', '6;', '\\n', '3)', 'art.', '2', 'dodaje', 'art.', '2a', 'brzmieniu:', '\\n     ', '\"Art.', '2a.', 'System', 'oświaty', 'wspomagają', 'stowarzyszenia', 'fundacje', 'prowadzące', '\\n           ', 'statutową', 'działalność', 'zakresie', 'oświaty', 'wychowania.\";', '\\n', '4)', 'art.', '3:', '\\n   ', 'a)', 'skreśla', 'oznaczenie', 'ust.', '1,', '\\n   ', 'b)', 'pkt', '4', 'otrzymuje', 'brzmienie:', '\\n     ', '\"4)', 'placówce', 'publicznej', 'należy', 'rozumieć', 'placówkę', 'prowadzoną', '\\n       ', 'ministra', 'jednostkę', 'samorządu', 'terytorialnego,\",', '\\n   ', 'c)', 'pkt', '5', 'otrzymuje', 'brzmienie:', '\\n     ', '\"5)', 'organie', 'prowadzącym', 'szkołę', 'placówkę', 'należy', 'rozumieć', '\\n       ', 'ministra,', 'jednostkę', 'samorządu', 'terytorialnego,', 'osoby', 'prawne', '\\n       ', 'fizyczne,\",', '\\n   ', 'd)', 'skreśla', 'pkt', '6,', '\\n   ', 'e)', 'pkt', '8', 'wyrazy', '\"rządowej', 'administracji', 'ogólnej\"', 'zastępuje', 'wyrazami', '\\n     ', '\"zespolonej', 'administracji', 'rządowej\",', '\\n   ', 'f)', 'pkt', '13', 'kropkę', 'zastępuje', 'przecinkiem', 'dodaje', 'pkt', '14', '\\n     ', 'brzmieniu:', '\\n      ', '\"14)', 'zadaniach', 'oświatowych', 'jednostek', 'samorządu', 'terytorialnego', 'należy', '\\n          ', 'rozumieć', 'zadania', 'zakresie', 'kształcenia,', 'wychowania', '\\n          ', 'opieki.\",', '\\n   ', 'g)', 'skreśla', 'ust.', '1a', '2;', '\\n', '5)', 'art.', '4', 'otrzymuje', 'brzmienie:', '\\n     ', '\"Art.', '4.', 'Nauczyciel', 'swoich', 'działaniach', 'dydaktycznych,', 'wychowawczych', '\\n          ', 'opiekuńczych', 'obowiązek', 'kierowania', 'dobrem', 'uczniów,', 'troską', '\\n          ', 'zdrowie,', 'postawę', 'moralną', 'obywatelską', 'poszanowaniem', 'godności', '\\n          ', 'osobistej', 'ucznia.\";', '\\n', '6)', 'art.', '5:', '\\n   ', 'a)', 'ust.', '2', '3', ' ', 'otrzymuje', 'brzmienie:', '\\n     ', '\"2.', 'Szkoła', 'placówka,', 'zastrzeżeniem', 'ust.', '3a-4,', 'zakładana', '\\n       ', 'prowadzona', 'przez:', '\\n        ', '1)', 'jednostkę', 'samorządu', 'terytorialnego,', '\\n        ', '2)', 'inną', 'osobę', 'prawną,', '\\n        ', '3)', 'osobę', 'fizyczną.', '\\n      ', '3.', 'Jednostki', 'samorządu', 'terytorialnego', 'zakładać', 'prowadzić', '\\n       ', 'szkoły', 'placówki', 'publiczne.\",', '\\n   ', 'b)', 'ust.', '3', 'dodaje', 'ust.', '3a', '3b', 'brzmieniu:', '\\n     ', '\"3a.', 'Ministrowie', 'właściwi', 'spraw:', 'wewnętrznych,', 'obrony', 'narodowej', '\\n       ', 'sprawiedliwości', 'zakładać', 'prowadzić', 'publiczne', 'szkoły', 'placówki,', '\\n       ', 'mowa', 'przepisach', 'wydanych', 'podstawie', 'art.', '29.', '\\n      ', '3b.', 'Minister', 'właściwy', 'spraw', 'oświaty', 'wychowania', 'zakłada', 'prowadzi', '\\n       ', 'szkoły', 'dzieci', 'obywateli', 'polskich', 'czasowo', 'przebywających', 'granicą,', '\\n       ', 'szkoły', 'szkolne', 'punkty', 'konsultacyjne', 'placówkach', '\\n       ', 'dyplomatycznych', 'konsularnych', 'Rzeczypospolitej', 'Polskiej', 'zespoły', '\\n       ', 'szkół,', 'publiczne', 'placówki', 'doskonalenia', 'nauczycieli', 'zasięgu', '\\n       ', 'ogólnokrajowym', 'zakładać', 'prowadzić', 'szkoły', 'charakterze', '\\n       ', 'eksperymentalnym.\",', '\\n   ', 'c)', 'ust.', '5', 'otrzymuje', 'brzmienie:', '\\n     ', '\"5.', 'Zakładanie', 'prowadzenie', 'publicznych', 'przedszkoli,', 'oddziałami', '\\n       ', 'integracyjnymi', 'przedszkoli', 'specjalnych,', 'szkół', 'podstawowych', '\\n       ', 'gimnazjów,', 'oddziałami', 'integracyjnymi,', 'wyjątkiem', 'szkół', '\\n       ', 'podstawowych', 'specjalnych', 'gimnazjów', 'specjalnych,', 'szkół', 'podstawowych', '\\n       ', 'artystycznych', 'gimnazjów', 'artystycznych', 'szkół', 'zakładach', '\\n       ', 'karnych,', 'zakładach', 'poprawczych', 'schroniskach', 'nieletnich,', 'należy', '\\n       ', 'zadań', 'własnych', 'gmin.\",', '\\n   ', 'd)', 'ust.', '5', 'dodaje', 'ust.', '5a', '5b', 'brzmieniu:', '\\n      ', '\"5a.', 'Zakładanie', 'prowadzenie', 'publicznych', 'szkół', 'podstawowych', 'specjalnych', '\\n         ', 'gimnazjów', 'specjalnych,', 'szkół', 'ponadgimnazjalnych,', 'oddziałami', '\\n         ', 'integracyjnymi,', 'szkół', 'artystycznych,', 'szkół', 'sportowych', 'mistrzostwa', '\\n         ', 'sportowego', 'placówek', 'wymienionych', 'art.', '2', 'pkt', '3-5', '7,', '\\n         ', 'wyjątkiem', 'szkół', 'placówek', 'znaczeniu', 'regionalnym,', 'należy', 'zadań', '\\n         ', 'własnych', 'powiatu,', 'zastrzeżeniem', 'ust.', '6c.', '\\n       ', '5b.', 'Przepisy', 'ust.', '5', '5a', 'ograniczają', 'możliwości', 'zakładania', '\\n         ', 'prowadzenia', 'jednostki', 'samorządu', 'terytorialnego', 'szkół,', '\\n         ', 'prowadzenie', 'należy', 'zadań', 'własnych.\",', '\\n   ', 'e)', 'ust.', '6', 'otrzymuje', 'brzmienie:', '\\n     ', '\"6.', 'Zakładanie', 'prowadzenie', 'publicznych', 'zakładów', 'kształcenia', 'placówek', '\\n       ', 'doskonalenia', 'nauczycieli,', 'bibliotek', 'pedagogicznych', 'szkół', 'placówek', '\\n       ', 'znaczeniu', 'regionalnym', 'wymienionych', 'ust.', '5a', 'należy', 'zadań', 'własnych', '\\n       ', 'samorządu', 'województwa.\",', '\\n   ', 'f)', 'ust.', '6', 'dodaje', 'ust.', '6a-6c', 'brzmieniu:', '\\n       ', '\"6a.', 'Powiat', 'gmina', 'uzgodnieniu', 'kuratorem', 'oświaty', 'zakładać', '\\n         ', 'prowadzić', 'ramach', 'zadań', 'własnych', 'publiczne', 'placówki', 'doskonalenia', '\\n         ', 'nauczycieli,', 'zakłady', 'kształcenia', 'nauczycieli', 'biblioteki', '\\n         ', 'pedagogiczne.', '\\n       ', '6b.', 'Gmina', 'zakładać', 'prowadzić', 'publiczne', 'placówki', 'wymienione', 'art.', '\\n         ', '2', 'pkt', '3-5', 'zasięgu', 'gminnym.', '\\n       ', '6c.', 'Rada', 'Ministrów', 'określi,', 'drodze', 'rozporządzenia,', 'wykaz', 'szkół', '\\n         ', 'placówek', 'znaczeniu', 'regionalnym,', 'uwzględniając', 'szczególności', '\\n         ', 'ogólnokrajowy', 'ponadpowiatowy', 'zasięg', 'działania,', '\\n         ', 'prowadzenie', 'należy', ' ', 'samorządu', 'województwa.\",', '\\n   ', 'g)', 'skreśla', 'ust.', '10;', '\\n', '7)', 'art.', '5a', 'otrzymuje', 'brzmienie:', '\\n      ', '\"Art.', '5a.', '1.', 'Zadania', 'oświatowe', 'jednostek', 'samorządu', 'terytorialnego', '\\n             ', 'finansowane', 'zasadach', 'określonych', 'odrębnych', 'ustawach.', '\\n         ', '2.', 'Zadaniem', 'oświatowym', 'gmin', 'zapewnienie', 'kształcenia,', 'wychowania', '\\n           ', 'opieki', 'szkołach,', 'mowa', ' ', 'art.', '9', 'ust.', '1', 'pkt', '1', '2,', '\\n           ', 'zadaniem', 'oświatowym', 'powiatu', 'szkołach,', 'mowa', 'art.', '9', '\\n           ', 'ust.', '1', 'pkt', '3', 'placówkach,', 'mowa', 'art.', '2', 'pkt', ' ', '3', '5', '\\n           ', '7,', 'zadaniem', 'oświatowym', 'samorządu', 'województwa', 'szkołach,', '\\n           ', 'placówkach,', 'zakładach', 'kształcenia', 'placówkach', 'doskonalenia', '\\n           ', 'nauczycieli,', 'mowa', 'art.', '5', 'ust.', '6.', '\\n         ', '3.', 'Środki', 'niezbędne', 'realizację', 'zadań', 'oświatowych,', 'mowa', '\\n           ', 'ust.', '2,', 'wynagrodzenia', 'nauczycieli', 'utrzymanie', 'szkół', '\\n           ', 'placówek', 'zagwarantowane', 'dochodach', 'jednostek', 'samorządu', '\\n           ', 'terytorialnego.\";', '\\n', '8)', 'art.', '5a', 'dodaje', 'art.', '5b', 'brzmieniu:', '\\n      ', '\"Art.', '5b.', '1.', 'Prawa', 'obowiązki', 'nauczycieli', 'publicznych', 'przedszkoli,', 'szkół', '\\n             ', 'placówek', 'określa', 'ustawa', 'dnia', '26', 'stycznia', '1982', 'r.', 'Karta', '\\n             ', 'Nauczyciela', '(Dz.U.', '1997', 'r.', 'Nr', '56,', 'poz.', '357).', '\\n         ', '2.', 'Jednostka', 'samorządu', 'terytorialnego', 'zwiększyć', 'wynagrodzenia', '\\n           ', 'nauczycieli', 'szkołach', 'placówkach', 'prowadzonych', '\\n           ', 'poziom', 'określony', 'odrębnych', 'przepisach.\";', '\\n', '9)', 'art.', '7', 'ust.', '1', 'pkt', '4', 'lit.', 'otrzymuje', 'brzmienie:', '\\n      ', '\"a)', 'programy', 'nauczania', 'uwzględniające', 'podstawę', 'programową', 'kształcenia', '\\n        ', 'ogólnego,', 'przypadku', 'szkół', 'zawodowych', 'podstawy', 'programowe', '\\n        ', 'kształcenia', 'danym', 'zawodzie', 'profilu', 'kształcenia', 'zawodowego,\";', '\\n', '10)', 'art.', '8', 'wyrazach', '\"Szkoła', 'podstawowa\"', 'dodaje', 'wyrazy', '\"i', 'gimnazjum\";', '\\n', '11)', 'art.', '9:', '\\n   ', 'a)', 'ust.', '1', 'otrzymuje', 'brzmienie:', '\\n     ', '\"1.', 'Szkoły', 'publiczne', 'niepubliczne', 'dzielą', 'na:', '\\n         ', '1)', 'sześcioletnią', 'szkołę', 'podstawową,', 'kończącą', 'sprawdzianem,', '\\n           ', 'uprawniającą', 'dalszego', 'kształcenia', 'gimnazjum,', '\\n         ', '2)', 'trzyletnie', 'gimnazjum,', 'kończące', 'egzaminem,', 'dające', 'możliwość', '\\n           ', 'dalszego', 'kształcenia', 'liceum', 'profilowanym', 'szkole', 'zawodowej,', '\\n         ', '3)', 'szkoły', 'ponadgimnazjalne:', '\\n           ', 'a)', 'trzyletnie', 'licea', 'profilowane,', 'umożliwiające', 'uzyskanie', 'świadectwa', '\\n             ', 'dojrzałości', 'zdaniu', 'egzaminu', 'maturalnego,', '\\n           ', 'b)', 'dwuletnie', 'szkoły', 'zawodowe,', 'kończące', 'egzaminem', 'zawodowym', '\\n             ', 'dające', 'możliwość', 'dalszego', 'kształcenia', 'dwuletnim', 'liceum', '\\n             ', 'uzupełniającym,', '\\n           ', 'c)', 'dwuletnie', 'licea', 'uzupełniające,', 'umożliwiające', 'absolwentom', 'szkół', '\\n             ', 'wymienionych', 'lit.', 'b', 'uzyskanie', 'świadectwa', 'dojrzałości', 'zdaniu', '\\n             ', 'egzaminu,', 'mowa', 'lit.', 'a,', '\\n           ', 'd)', 'szkoły', 'policealne,', 'dające', 'możliwość', 'uzupełnienia', 'wykształcenia', '\\n             ', 'zawodowego,', 'kończyć', 'egzaminem', 'zawodowym.\",', '\\n   ', 'b)', 'skreśla', 'ust.', '4;', '\\n', '12)', 'art.', '9', 'dodaje', 'art.', '9a-9d', ' ', 'brzmieniu:', '\\n      ', '\"Art.', '9a.', '1.', 'Tworzy', 'Centralną', 'Komisję', 'Egzaminacyjną', 'siedzibą', '\\n             ', 'Warszawie.', '\\n         ', '2.', 'zadań', 'Centralnej', 'Komisji', 'Egzaminacyjnej', 'należy', 'szczególności:', '\\n           ', '1)', 'opracowywanie', 'propozycji', 'standardów', 'wymagań', 'będących', 'podstawą', '\\n             ', 'przeprowadzania', 'sprawdzianów', 'egzaminów', 'współpracy', '\\n             ', 'szczególności', 'zainteresowanymi', 'ministrami,', 'szkołami', 'wyższymi,', '\\n             ', 'jednostkami', 'badawczo-rozwojowymi,', 'organizacjami', 'pracodawców', '\\n             ', 'samorządami', 'zawodowymi,', '\\n           ', '2)', 'dokonywanie', 'analizy', 'wyników', 'sprawdzianów', 'egzaminów', '\\n             ', 'składanie', 'ministrowi', 'właściwemu', 'spraw', 'oświaty', 'wychowania', '\\n             ', 'corocznych', 'sprawozdań', 'poziomie', 'osiągnięć', 'uczniów', '\\n             ', 'poszczególnych', 'etapach', 'kształcenia,', '\\n           ', '3)', 'przygotowywanie', 'upowszechnianie', 'programów', 'doskonalenia', '\\n             ', 'nauczycieli', 'zakresie', 'diagnozowania', 'oceniania,', '\\n           ', '4)', 'inspirowanie', 'badań', 'naukowych', 'innowacji', 'dziedzinie', 'oceniania', '\\n             ', 'egzaminowania,', '\\n           ', '5)', 'prowadzenie', 'ewidencji', 'egzaminatorów', 'okręgowych', 'komisji', '\\n             ', 'egzaminacyjnych.', '\\n    ', 'Art.', '9b.', '1.', 'Centralna', 'Komisja', 'Egzaminacyjna', 'wpisuje', 'ewidencji', '\\n            ', 'egzaminatorów', 'osoby', 'zgłoszone', 'okręgowe', 'komisje', 'egzaminacyjne.', '\\n         ', '2.', 'decyzji', 'sprawach', 'odmowy', 'wpisu', 'skreślenia', 'ewidencji', '\\n           ', 'egzaminatorów', 'przysługuje', 'odwołanie', 'ministra', 'właściwego', 'spraw', '\\n           ', 'oświaty', 'wychowania.', '\\n         ', '3.', 'Minister', 'właściwy', 'spraw', 'oświaty', 'wychowania', 'określi,', 'drodze', '\\n           ', 'rozporządzenia,', 'wymagania', 'jakim', 'odpowiadać', 'egzaminatorzy,', '\\n           ', 'warunki', 'wpisywania', 'skreślania', 'egzaminatorów', 'ewidencji', '\\n           ', 'egzaminatorów.', '\\n       ', 'Art.', '9c.', '1.', 'Minister', 'właściwy', 'spraw', 'oświaty', 'wychowania', 'tworzy,', '\\n              ', 'drodze', 'rozporządzenia,', 'okręgowe', 'komisje', 'egzaminacyjne', '\\n              ', 'określa', 'zasięg', 'terytorialny.', '\\n         ', '2.', 'zadań', 'okręgowych', 'komisji', 'egzaminacyjnych', 'należy', 'szczególności:', '\\n           ', '1)', 'przeprowadzanie', 'sprawdzianów', 'egzaminów,', 'mowa', 'art.', '9', '\\n             ', 'ust.', '1,', '\\n           ', '2)', 'przygotowywanie', 'zadań', 'testów', 'egzaminacyjnych,', '\\n           ', '3)', 'analizowanie', 'wyników', 'sprawdzianów', 'egzaminów', 'formułowanie', '\\n             ', 'wniosków,', '\\n           ', '4)', 'opracowywanie', 'przekazywanie', 'sprawozdań', 'przeprowadzonych', '\\n             ', 'sprawdzianów', 'egzaminów', 'dyrektorom', 'szkół,', 'organom', 'prowadzącym', '\\n             ', 'szkoły,', 'kuratorom', 'oświaty', 'Centralnej', 'Komisji', 'Egzaminacyjnej,', '\\n           ', '5)', 'szkolenie', 'kandydatów', 'egzaminatorów', 'egzaminatorów,', '\\n           ', '6)', 'współpraca', 'innymi', 'okręgowymi', 'komisjami', 'egzaminacyjnymi', '\\n             ', 'Centralną', 'Komisją', 'Egzaminacyjną.', '\\n       ', 'Art.', '9d.', '1.', 'Nadzór', 'działalnością', 'Centralnej', 'Komisji', 'Egzaminacyjnej', '\\n              ', 'okręgowych', 'komisji', 'egzaminacyjnych', 'sprawuje', 'minister', ' ', 'właściwy', '\\n              ', 'spraw', 'oświaty', 'wychowania.', '\\n         ', '2.', 'Centralna', 'Komisja', 'Egzaminacyjna', 'okręgowe', 'komisje', 'egzaminacyjne', '\\n           ', 'państwowymi', 'jednostkami', 'budżetowymi', 'finansowanymi', 'budżetu', 'ministra', '\\n           ', 'właściwego', 'spraw', 'oświaty', 'wychowania.', '\\n         ', '3.', 'Organizację', 'Centralnej', 'Komisji', 'Egzaminacyjnej', 'okręgowych', '\\n           ', 'komisji', 'egzaminacyjnych', 'określą', 'statuty', 'nadane', 'ministra', '\\n           ', 'właściwego', 'spraw', 'oświaty', 'wychowania.\";', '\\n', '13)', 'art.', '10', 'ust.', '1', 'otrzymuje', 'brzmienie:', '\\n     ', '\"1.', 'Świadectwo', 'ukończenia', 'szkoły,', 'wyjątkiem', 'szkoły', 'medycznej,', '\\n       ', 'uzyskać', 'podstawie', 'egzaminów', 'eksternistycznych.\";', '\\n', '14)', 'art.', '12', 'ust.', '1', 'otrzymuje', 'brzmienie:', '\\n     ', '\"1.', 'Publiczne', 'przedszkola,', 'szkoły', 'podstawowe', 'gimnazja', 'organizują', 'naukę', '\\n       ', 'religii', 'życzenie', 'rodziców,', 'publiczne', 'szkoły', 'ponadgimnazjalne', '\\n       ', 'życzenie', 'bądź', 'rodziców,', 'bądź', 'samych', 'uczniów;', 'osiągnięciu', '\\n       ', 'pełnoletności', 'pobieraniu', 'nauki', 'religii', 'decydują', 'uczniowie.\";', '\\n', '15)', 'art.', '14a', 'skreśla', 'wyrazy', '\"w', 'uzgodnieniu', 'kuratorem', 'oświaty\";', '\\n', '16)', 'art.', '15', 'otrzymuje', 'brzmienie:', '\\n     ', '\"Art.', '15.', '1.', 'Nauka', 'obowiązkowa', 'ukończenia', '18', 'życia.', '\\n         ', '2.', 'Obowiązek', 'szkolny', 'dziecka', 'rozpoczyna', 'początkiem', '\\n           ', 'szkolnego', 'kalendarzowym,', ' ', 'dziecko', 'kończy', '7', 'lat', '\\n           ', 'trwa', 'ukończenia', 'gimnazjum,', 'dłużej', '\\n           ', 'ukończenia', '18', 'życia.\";', '\\n', '17)', 'art.', '16:', '\\n   ', 'a)', 'ust.', '4', '5', 'otrzymują', 'brzmienie:', '\\n     ', '\"4.', 'Decyzję', 'sprawie', 'odroczenia', 'obowiązku', 'szkolnego', 'podejmuje', 'dyrektor', '\\n       ', 'publicznej', 'szkoły', 'podstawowej,', 'obwodzie', 'dziecko', 'mieszka,', '\\n       ', 'zasięgnięciu', 'opinii', 'poradni', 'psychologiczno-pedagogicznej.', '\\n     ', '5.', 'Obowiązek', 'szkolny', 'spełnia', 'uczęszczanie', 'szkoły', 'podstawowej', '\\n       ', 'gimnazjum,', 'publicznych', 'niepublicznych.\",', '\\n   ', 'b)', 'ust.', '5', 'dodaje', 'ust.', '5a', 'brzmieniu:', '\\n      ', '\"5a.', 'ukończeniu', 'gimnazjum', 'obowiązek', 'nauki', 'spełnia', '\\n         ', 'uczęszczanie', 'publicznej', 'niepublicznej', 'szkoły', 'ponadgimnazjalnej', '\\n         ', 'formach', 'pozaszkolnych.\",', '\\n   ', 'c)', 'ust.', '8', 'otrzymuje', 'brzmienie:', '\\n     ', '\"8.', 'wniosek', 'rodziców', 'dyrektor', 'publicznej', 'szkoły', 'podstawowej', '\\n       ', 'gimnazjum,', 'obwodzie', 'dziecko', 'mieszka,', 'dyrektor', 'szkoły', '\\n       ', 'ponadgimnazjalnej,', 'dziecko', 'uczęszcza,', 'zezwolić', '\\n       ', 'spełnianie', 'dziecko', 'odpowiednio', 'obowiązku', 'szkolnego', 'obowiązku', '\\n       ', 'nauki', 'szkołą', 'określa', 'warunki', 'spełniania.', 'Dziecko', '\\n       ', 'spełniając', 'odpowiednio', 'obowiązek', 'szkolny', 'obowiązek', 'nauki', '\\n       ', 'formie', 'otrzymać', 'świadectwo', 'ukończenia', 'poszczególnych', 'klas', 'danej', '\\n       ', 'szkoły', 'ukończenia', 'szkoły', 'podstawie', 'egzaminów', 'klasyfikacyjnych', '\\n       ', 'przeprowadzonych', 'szkołę,', 'dyrektor', 'zezwolił', 'taką', 'formę', '\\n       ', 'spełniania', 'obowiązku', 'szkolnego', 'nauki.\",', '\\n   ', 'd)', 'skreśla', 'ust.', '9;', '\\n', '18)', 'art.', '17:', '\\n   ', 'a)', 'ust.', '1', '2', 'otrzymują', 'brzmienie:', '\\n     ', '\"1.', 'Sieć', 'publicznych', 'szkół', 'zorganizowana', '\\n       ', 'umożliwiający', 'dzieciom', 'spełnianie', 'obowiązku', 'szkolnego,', '\\n       ', 'uwzględnieniem', 'ust.', '2.', '\\n     ', '2.', 'Droga', 'dziecka', 'domu', 'szkoły', 'przekraczać:', '\\n         ', '1)', '3', 'km', 'przypadku', 'uczniów', 'klas', 'szkół', 'podstawowych,', '\\n         ', '2)', '4', 'km', 'przypadku', 'uczniów', 'klas', 'V', 'szkół', 'podstawowych', '\\n           ', 'uczniów', 'gimnazjów.\",', '\\n   ', 'b)', 'ust.', '3', 'dodaje', 'ust.', '3a', 'brzmieniu:', '\\n      ', '\"3a.', 'Obowiązkiem', 'gminy', 'zapewnienie', 'bezpłatnego', 'transportu', 'opieki', '\\n         ', 'czasie', 'przewozu', 'dzieci', 'niepełnosprawnych', 'uczęszczających', '\\n         ', 'publicznych', 'szkół', 'podstawowych', 'gimnazjów.\",', '\\n   ', 'c)', 'ust.', '4', 'skreśla', 'wyrazy', '\"w', 'uzgodnieniu', 'kuratorem', 'oświaty\"', '\\n     ', 'wyrazie', '\"podstawowych\"', 'dodaje', 'wyrazy', '\"i', 'gimnazjów\",', '\\n   ', 'd)', 'ust.', '4', 'dodaje', 'ust.', '5', 'brzmieniu:', '\\n     ', '\"5.', 'Rada', 'powiatu', 'ustala', 'plan', 'sieci', 'publicznych', 'szkół', 'ponadgimnazjalnych.', '\\n       ', 'Uchwała', 'rady', 'powiatu', 'podlega', 'ogłoszeniu', 'wojewódzkim', 'dzienniku', '\\n       ', 'urzędowym.\";', '\\n', '19)', 'art.', '18:', '\\n   ', 'a)', 'pkt', '2', 'otrzymuje', 'brzmienie:', '\\n     ', '\"2)', 'zapewnienia', 'regularnego', 'uczęszczania', 'dziecka', 'zajęcia', 'szkolne,\",', '\\n   ', 'b)', 'pkt', '4', 'kropkę', 'zastępuje', 'przecinkiem', 'dodaje', 'pkt', '5', '\\n     ', 'brzmieniu:', '\\n     ', '\"5)', 'powiadamiania', 'organów', 'gminy', 'formie', 'spełniania', 'obowiązku', 'szkolnego', '\\n       ', 'obowiązku', 'nauki', 'młodzież', 'wieku', '16-18', 'lat', 'zmianach', '\\n       ', 'zakresie.\";', '\\n', '20)', 'art.', '19', 'otrzymuje', 'brzmienie:', '\\n     ', '\"Art.', '19.', '1.', 'Dyrektorzy', 'publicznych', 'szkół', 'podstawowych', 'gimnazjów', '\\n             ', 'kontrolują', 'spełnianie', 'obowiązku', 'szkolnego', 'dzieci', '\\n             ', 'zamieszkujące', 'obwodach', 'szkół,', 'gmina', 'kontroluje', 'spełnianie', '\\n             ', 'obowiązku', 'szkolnego', 'obowiązku', 'nauki', 'młodzież', 'wieku', '1618', '\\n', 'lat,', 'szczególności:', '\\n           ', '1)', 'kontrolują', 'wykonywanie', 'obowiązków,', 'mowa', 'art.', '18', 'pkt', '\\n             ', '1,', '2', '5,', 'współdziałają', 'rodzicami', 'realizacji', 'obowiązku,', '\\n             ', 'mowa', 'art.', '18', 'pkt', '3', '4,', '\\n           ', '2)', 'prowadzą', 'ewidencję', 'spełniania', 'obowiązku', 'szkolnego', 'obowiązku', '\\n             ', 'nauki.', '\\n         ', '2.', 'Organ', 'gminy', 'prowadzący', 'ewidencję', 'ludności', 'obowiązany', 'ramach', '\\n           ', 'zadań', 'własnych', 'przesyłać', 'właściwym', 'dyrektorom', 'szkół', 'informacje', '\\n           ', 'aktualnym', 'stanie', 'zmianach', 'ewidencji', 'dzieci', 'młodzieży', 'wieku', '\\n           ', '3-18', 'lat.\";', '\\n', '21)', 'art.', '20', 'otrzymuje', 'brzmienie:', '\\n     ', '\"Art.', '20.', 'Niespełnianie', 'obowiązku', 'szkolnego', 'obowiązku', 'nauki', 'podlega', '\\n           ', 'egzekucji', 'trybie', 'ustawy', 'postępowaniu', 'egzekucyjnym', '\\n           ', 'administracji.\";', '\\n', '22)', 'art.', '22', 'ust.', '2:', '\\n   ', 'a)', 'pkt', '2', 'otrzymuje', 'brzmienie:', '\\n     ', '\"2)', 'podstawę', 'programową', 'wychowania', 'przedszkolnego,', 'kształcenia', 'ogólnego,', '\\n       ', 'odniesieniu', 'szkół', 'zawodowych', 'podstawy', 'programowe', '\\n       ', 'kształcenia', 'poszczególnych', 'zawodach', 'podstawy', 'programowe', 'profili', '\\n       ', 'kształcenia', 'zawodowego,\",', '\\n   ', 'b)', 'pkt', '4', 'końcu', 'dodaje', 'wyrazy', '\"i', 'sprawdzianów\",', '\\n   ', 'c)', 'pkt', '4', 'dodaje', 'pkt', '4a', 'brzmieniu:', '\\n      ', '\"4a)', 'standardy', 'wymagań', 'będące', 'podstawą', 'przeprowadzania', 'sprawdzianów', '\\n         ', 'egzaminów,\";', '\\n', '23)', 'art.', '29', 'otrzymuje', 'brzmienie:', '\\n    ', '\"Art.', '29.', 'Rada', 'Ministrów', 'określić,', 'drodze', 'rozporządzenia,', 'wykaz', '\\n           ', 'szkół', 'placówek,', 'prowadzą', 'ministrowie', 'właściwi', 'spraw:', '\\n           ', 'wewnętrznych,', 'obrony', 'narodowej', 'sprawiedliwości.\";', '\\n', '24)', 'art.', '31', 'otrzymuje', 'brzmienie:', '\\n    ', '\"Art.', '31.', 'Kurator', 'oświaty,', 'imieniu', 'wojewody,', 'wykonuje', 'zadania', '\\n           ', 'kompetencje', 'zakresie', 'oświaty', 'określone', 'ustawie', 'przepisach', '\\n           ', 'odrębnych', 'obszarze', 'województwa,', 'szczególności:', '\\n           ', '1)', 'sprawuje', 'nadzór', 'pedagogiczny', 'szkołami', 'placówkami,', '\\n             ', 'publicznymi', 'niepublicznymi,', 'zastrzeżeniem', 'art.', '32a,', '\\n           ', '2)', 'wydaje', 'decyzje', 'administracyjne', 'sprawach', 'określonych', 'ustawie,', '\\n           ', '3)', 'współdziała', 'organami', 'prowadzącymi', 'szkoły', 'placówki', 'publiczne', '\\n             ', 'organizowaniu', 'doskonalenia', 'zawodowego', 'nauczycieli,', '\\n           ', '4)', 'współdziała', 'radami', 'oświatowymi', 'powołanymi', 'podstawie', 'art.', '48,', '\\n           ', '5)', 'wykonuje', 'zadania', 'organu', 'wyższego', 'stopnia', 'stosunku', 'organów', '\\n             ', 'jednostek', 'samorządu', 'terytorialnego', 'sprawach', 'szkół', 'publicznych', '\\n             ', 'zakładanych', 'prowadzonych', 'osoby', 'prawne', 'fizyczne,', 'szkół', '\\n             ', 'placówek', 'niepublicznych,', 'zakresie', 'obowiązku', 'szkolnego', '\\n             ', 'obowiązku', 'nauki', 'stosunku', 'dyrektorów', 'szkół', 'organów', '\\n             ', 'jednostek', 'samorządu', 'terytorialnego.\";', '\\n', '25)', 'art.', '32', 'otrzymuje', 'brzmienie:', '\\n      ', '\"Art.', '32.', '1.', 'Kurator', 'oświaty', 'wykonuje', 'zadania', 'kompetencje', '\\n             ', 'pomocy', 'kuratorium', 'oświaty.', '\\n         ', '2.', 'Kuratoria', 'oświaty', 'państwowymi', 'jednostkami', 'budżetowymi.', '\\n         ', '3.', 'Wojewoda,', 'wniosek', 'kuratora', 'oświaty,', 'tworzyć', 'delegatury', '\\n           ', 'kuratorium', 'oświaty.', 'Kierownik', 'delegatury', 'może,', 'upoważnienia', '\\n           ', 'kuratora', 'oświaty,', 'prowadzić', 'sprawy', 'obszarze', 'działania', 'delegatury,', '\\n           ', 'sprawować', 'nadzór', 'pedagogiczny', 'wydawać', 'decyzje', '\\n           ', 'administracyjne.', '\\n         ', '4.', 'Minister', 'właściwy', 'spraw', 'oświaty', 'wychowania', 'porozumieniu', '\\n           ', 'ministrem', 'właściwym', 'spraw', 'administracji', 'publicznej', 'określa,', '\\n           ', 'drodze', 'rozporządzenia,', 'organizację', 'kuratoriów', 'oświaty', 'zasady', '\\n           ', 'tworzenia', 'delegatur.\";', '\\n', '26)', 'art.', '32', 'dodaje', 'art.', '32a', 'brzmieniu:', '\\n    ', '\"Art.', '32a.', '1.', 'Nadzór', 'pedagogiczny', 'publicznymi', 'niepublicznymi', 'szkołami', '\\n             ', 'placówkami', 'artystycznymi', 'sprawuje', 'minister', 'właściwy', 'spraw', '\\n             ', 'kultury,', 'celu', 'porozumieniu', 'ministrem', '\\n             ', 'właściwym', 'spraw', 'oświaty', 'wychowania,', 'drodze', ' ', 'rozporządzenia,', '\\n             ', 'utworzyć', 'specjalistyczną', 'jednostkę', ' ', 'nadzoru', 'określić', '\\n             ', 'organizację', 'zakres', 'powierzonych', 'zadań', 'związanych', 'sprawowaniem', '\\n             ', 'nadzoru', 'pedagogicznego.', '\\n         ', '2.', 'Specjalistyczna', 'jednostka', 'nadzoru', 'państwową', 'jednostką', '\\n           ', 'budżetową', 'finansowaną', 'budżetu', 'ministra', 'właściwego', 'spraw', '\\n           ', 'kultury.', '\\n         ', '3.', 'Przepisy', 'ust.', '1', 'naruszają', 'uprawnień', 'kuratora', 'oświaty', 'zakresie', '\\n           ', 'nadzoru', 'pedagogicznego', 'nauczaniem', 'przedmiotów', 'ogólnokształcących', '\\n           ', 'szkołach', 'artystycznych.', '\\n         ', '4.', 'odniesieniu', 'szkół', 'placówek,', 'mowa', 'ust.', '1,', '\\n           ', 'minister', 'właściwy', 'spraw', 'kultury', 'wydaje', 'porozumieniu', 'ministrem', '\\n           ', 'właściwym', 'spraw', 'oświaty', 'wychowania', 'przepisy', 'określone', 'art.', '10', '\\n           ', 'ust.', '2,', 'art.', '22', 'ust.', '1', 'pkt', '1', '2,', 'ust.', '2', 'pkt', '1-4', '5-8.\";', '\\n', '27)', 'art.', '33', 'ust.', '2', 'skreśla', 'pkt', '5;', '\\n', '28)', 'art.', '34:', '\\n   ', 'a)', 'ust.', '2', 'dodaje', 'ust.', '2a', 'brzmieniu:', '\\n     ', '\"2a.', 'dyrektor', 'szkoły', 'placówki', 'usunie', 'wyznaczonym', 'terminie', '\\n       ', 'uchybień,', 'mowa', 'ust.', '1,', 'opracuje', 'programu', 'poprawy', '\\n       ', 'efektywności', 'kształcenia', 'wychowania', 'uzwględni', 'programie', '\\n       ', 'zgłoszonych', 'uwag', 'wniosków,', 'organ', 'sprawujący', 'nadzór', 'pedagogiczny', '\\n       ', 'wystąpić', 'organu', 'prowadzącego', 'szkołę', 'placówkę', 'wnioskiem', '\\n       ', 'odwołanie', 'dyrektora', 'szkoły', 'placówki', 'czasie', 'szkolnego', '\\n       ', 'wypowiedzenia', 'końcem', 'szkolnego.\",', '\\n   ', 'b)', 'ust.', '3', 'wyrazy', '\"z', 'zastrzeżeniem', 'ust.', '4\"', 'zastępuje', 'wyrazami', '\"z', '\\n     ', 'wyjątkiem', 'szkoły', 'prowadzonej', 'jednostkę', 'samorządu', 'terytorialnego\",', '\\n   ', 'c)', 'ust.', '4', 'wyraz', '\"gminę\"', 'zastępuje', 'wyrazami', '\"jednostkę', 'samorządu', '\\n     ', 'terytorialnego\"', 'wyraz', '\"gmina\"', 'zastępuje', 'wyrazami', '\"jednostka', '\\n     ', 'samorządu', 'terytorialnego\";', '\\n', '29)', 'art.', '34b', 'wyrazy', '\"w', 'zakładach', 'poprawczych\"', 'zastępuje', 'wyrazami', '\"przy', '\\n  ', 'zakładach', 'poprawczych\";', '\\n', '30)', 'art.', '35:', '\\n   ', 'a)', 'ust.', '1', 'otrzymuje', 'brzmienie:', '\\n     ', '\"1.', 'Minister', 'właściwy', 'spraw', 'oświaty', 'wychowania', 'nadzoruje', 'koordynuje', '\\n       ', 'wykonywanie', 'nadzoru', 'pedagogicznego', 'terenie', 'kraju.\",', '\\n   ', 'b)', 'skreśla', 'ust.', '2,', '\\n   ', 'c)', 'ust.', '2a', 'skreśla', 'wyrazy', '\"oraz', 'kuratorskimi', 'ośrodkami', 'pracy', '\\n     ', 'młodzieżą\",', '\\n   ', 'd)', 'skreśla', 'ust.', '3,', '\\n   ', 'e)', 'ust.', '5', 'otrzymuje', 'brzmienie:', '\\n     ', '\"5.', 'Kurator', 'oświaty', 'organy,', 'mowa', 'ust.', '1', '2a', 'art.', '\\n       ', '32a,', 'sprawują', 'nadzór', 'pedagogiczny', 'pomocy', 'nauczycieli', 'zatrudnionych', '\\n       ', 'stanowiskach', 'wymagających', 'kwalifikacji', 'pedagogicznych', 'kuratoriach', '\\n       ', 'oświaty', 'urzędach', 'organów', 'podporządkowanych', '\\n       ', 'jednostkach', 'organizacyjnych.\",', '\\n   ', 'f)', 'ust.', '5', 'dodaje', 'ust.', '5a', 'brzmieniu:', '\\n     ', '\"5a.', 'Kurator', 'oświaty', 'organy,', 'mowa', 'ust.', '5,', 'zlecać', '\\n       ', 'osobom', 'posiadającym', 'odpowiednie', 'kwalifikacje', 'prowadzenie', 'badań', '\\n       ', 'opracowywanie', 'ekspertyz', 'służących', 'ocenie', 'efektywności', 'działalności', '\\n       ', 'dydaktycznej,', 'wychowawczej', 'opiekuńczej', 'szkół', 'placówek.\",', '\\n   ', 'g)', 'ust.', '6', 'otrzymuje', 'brzmienie:', '\\n     ', '\"6.', 'Minister', 'właściwy', 'spraw', 'oświaty', 'wychowania', 'porozumieniu', '\\n       ', 'zainteresowanymi', 'ministrami', 'określa,', 'drodze', 'rozporządzenia,', '\\n       ', 'szczegółowe', 'zasady', 'sprawowania', 'nadzoru', 'pedagogicznego,', 'wykaz', 'stanowisk,', '\\n       ', 'mowa', 'ust.', '5,', 'kwalifikacje', 'niezbędne', 'sprawowania', 'nadzoru', '\\n       ', 'pedagogicznego,', 'kwalifikacje', 'osób,', 'mowa', 'ust.', '5a.\";', '\\n', '31)', 'art.', '38', 'pkt', '1', 'dodaje', 'lit.', 'c', 'brzmieniu:', '\\n     ', '\"c)', 'złożenia', 'organ', 'sprawujący', 'nadzór', 'pedagogiczny', 'wniosku,', '\\n       ', 'mowa', 'art.', '34', 'ust.', '2a,\";', '\\n', '32)', 'art.', '45:', '\\n   ', 'a)', 'ust.', '3', 'pkt', '4', 'wyrazy', '\"minimów', 'programowych\"', 'zastępuje', 'wyrazami', '\\n     ', '\"podstaw', 'programowych\",', '\\n   ', 'b)', 'ust.', '4', 'wyrazy', '\"organów', 'administracji', 'państwowej\"', 'zastępuje', 'wyrazami', '\\n     ', '\"organów', 'administracji', 'rządowej\";', '\\n', '33)', 'art.', '48', '49', 'otrzymują', 'brzmienie:', '\\n      ', '\"Art.', '48.', '1.', 'Organ', 'stanowiący', 'jednostki', 'samorządu', 'terytorialnego', '\\n             ', 'powołać', 'radę', 'oświatową', 'działającą', 'organie.', '\\n         ', '2.', 'zadań', 'rady', 'oświatowej', 'należy:', '\\n           ', '1)', 'badanie', 'potrzeb', 'oświatowych', 'obszarze', 'działania', 'jednostki', '\\n             ', 'samorządu', 'terytorialnego', 'przygotowywanie', 'projektów', '\\n             ', 'zaspokajania,', '\\n           ', '2)', 'opiniowanie', 'budżetu', 'jednostki', 'samorządu', 'terytorialnego', 'części', '\\n             ', 'dotyczącej', 'wydatków', 'oświatę,', '\\n           ', '3)', 'opiniowanie', 'projektów', 'sieci', 'publicznych', 'szkół', 'placówek,', '\\n           ', '4)', 'opiniowanie', 'projektów', 'aktów', 'prawa', 'miejscowego', 'wydawanych', '\\n             ', 'sprawach', 'oświaty,', '\\n           ', '5)', 'wyrażanie', 'opinii', 'wniosków', 'sprawach', 'dotyczących', '\\n             ', 'oświaty.', '\\n         ', '3.', 'Właściwy', 'organ', 'jednostki', 'samorządu', 'terytorialnego', 'obowiązany', '\\n           ', 'przedstawić', 'radzie', 'oświatowej', 'projekty', 'aktów,', 'mowa', 'ust.', '\\n           ', '2', 'pkt', '2', '4.', '\\n       ', 'Art.', '49.', 'Organ,', 'mowa', 'art.', '48', 'ust.', '1,', 'ustala:', '\\n         ', '1)', 'skład', 'zasady', 'wyboru', 'członków', 'rady', 'oświatowej,', '\\n         ', '2)', 'regulamin', 'działania', 'rady', 'oświatowej.\";', '\\n', '34)', 'art.', '58', 'ust.', '1-4', 'otrzymują', 'brzmienie:', '\\n   ', '\"1.', 'Szkołę', 'placówkę', 'publiczną', 'zakłada', 'podstawie', 'aktu', '\\n     ', 'założycielskiego,', 'określa', 'typ,', 'nazwę', 'siedzibę,', 'przypadku', '\\n     ', 'szkół', 'prowadzących', 'kształcenie', 'zawodowe', 'zawody', 'profile', '\\n     ', 'kształcenia', 'zawodowego.', '\\n   ', '2.', 'Akt', 'założycielski', 'szkoły', 'publicznej,', 'realizowany', 'obowiązek', '\\n     ', 'szkolny,', 'oprócz', 'danych', 'wymienionych', 'ust.', '1,', 'określa', 'zasięg', '\\n     ', 'terytorialny', '(obwód),', 'szczególności', 'nazwy', 'miejscowości', '(w', 'miastach', '\\n     ', 'nazwy', 'ulic', 'części)', 'należącej', 'obwodu,', '\\n     ', 'podporządkowane', 'organizacyjnie', 'szkoły', 'filialne.', '\\n   ', '3.', 'Założenie', 'szkoły', 'publicznej', 'osobę', 'prawną', 'fizyczną', 'wymaga', '\\n     ', 'zezwolenia', 'właściwego', 'organu', 'jednostki', 'samorządu', 'terytorialnego,', '\\n     ', 'zadaniem', 'prowadzenie', 'szkół', 'publicznych', 'danego', 'typu,', 'wydanego', '\\n     ', 'uzyskaniu', 'pozytywnej', 'opinii', 'kuratora', 'oświaty,', 'przypadku', 'szkół', '\\n     ', 'artystycznych', 'ministra', 'właściwego', 'spraw', 'kultury.', '\\n   ', '4.', 'Wniosek', 'udzielenie', 'zezwolenia,', 'mowa', 'ust.', '3,', 'łącznie', '\\n     ', 'projektami', 'aktu', 'założycielskiego', 'statutu,', 'złożony', '\\n     ', 'później', '6', 'miesięcy', 'początkiem', 'budżetowego,', '\\n     ', 'nastąpić', 'uruchomienie', 'szkoły.\";', '\\n', '35)', 'art.', '59', 'ust.', '1,', '2', '4', 'otrzymują', 'brzmienie:', '\\n     ', '\"1.', 'Szkoła', 'publiczna,', 'zastrzeżeniem', 'ust.', '2,', 'zlikwidowana', '\\n       ', 'końcem', 'szkolnego', 'organ', 'prowadzący', 'szkołę,', 'zapewnieniu', '\\n       ', 'organ', 'uczniom', 'możliwości', 'kontynuowania', 'nauki', 'innej', 'szkole', '\\n       ', 'publicznej', 'samym', 'zbliżonym', 'profilu.', 'Organ', 'prowadzący', '\\n       ', 'obowiązany', 'najmniej', '6', 'miesięcy', 'terminem', 'likwidacji', '\\n       ', 'zawiadomić', 'rodziców', 'uczniów,', 'właściwego', 'kuratora', 'oświaty', 'właściwy', '\\n       ', 'organ', 'jednostki', 'samorządu', 'terytorialnego', 'zamiarze', 'likwidacji.', '\\n     ', '2.', 'Szkoła', 'placówka', 'publiczna', 'prowadzona', 'jednostkę', 'samorządu', '\\n       ', 'terytorialnego', 'zostać', 'zlikwidowana', 'uzyskaniu', 'pozytywnej', 'opinii', '\\n       ', 'kuratora', 'oświaty,', 'szkoła', 'publiczna', 'prowadzona', 'inną', 'osobę', 'prawną', '\\n       ', 'osobę', 'fizyczną', 'zgodą', 'organu,', 'udzielił', 'zezwolenia', '\\n       ', 'założenie.', 'przypadku', 'szkoły', 'artystycznej', 'wymagana', '\\n       ', 'pozytywna', 'opinia', 'ministra', 'właściwego', 'spraw', 'kultury.', '\\n     ', '4.', 'Dokumentację', 'zlikwidowanej', 'szkoły', 'prowadzonej', 'osobę', 'prawną', '\\n       ', 'fizyczną', 'przekazuje', 'właściwemu', 'organowi', 'jednostki', 'samorządu', '\\n       ', 'terytorialnego,', 'mowa', 'art.', '58', 'ust.', '3.\";', '\\n', '36)', 'art.', '60', 'skreśla', 'ust.', '4;', '\\n', '37)', 'art.', '61:', '\\n   ', 'a)', 'ust.', '1', 'otrzymuje', 'brzmienie:', '\\n     ', '\"1.', 'Struktura', 'organizacyjna', 'szkoły', 'podstawowej', 'obejmuje', 'klasy', 'VI.\",', '\\n   ', 'b)', 'ust.', '2', 'skreśla', 'wyrazy', '\"za', 'zgodą', 'kuratora', 'oświaty\";', '\\n', '38)', 'art.', '62:', '\\n   ', 'a)', 'ust.', '1', 'dodaje', ' ', 'ust.', '1a', 'brzmieniu:', '\\n     ', '\"1a.', 'Szkoła', 'podstawowa', 'gimnazjum,', 'wyjątkiem', 'szkół', 'podstawowych', '\\n       ', 'specjalnych', 'gimnazjów', 'specjalnych', 'szkół', 'artystycznych,', '\\n       ', 'łączone', 'zespół.\",', '\\n   ', 'b)', 'ust.', '6', 'zdanie', 'drugie', 'otrzymuje', 'brzmienie:', '\\n     ', '\"Porozumienie', 'określać,', 'organów', 'wykonywać', 'zadania', '\\n       ', 'organu', 'prowadzącego,', 'finansowania', 'tryb', 'rozwiązania', '\\n       ', 'zespołu.\";', '\\n', '39)', 'skreśla', 'art.', '65;', '\\n', '40)', 'art.', '68', 'ust.', '2', 'otrzymuje', 'brzmienie:', '\\n     ', '\"2.', 'Minister', 'właściwy', 'spraw', 'oświaty', 'wychowania', 'porozumieniu', '\\n       ', 'ministrem', 'właściwym', 'spraw', 'pracy', 'określić,', 'drodze', '\\n       ', 'rozporządzenia,', 'rodzaje,', 'organizację', 'zasady', 'działania', 'ośrodków', '\\n       ', 'doskonalenia', 'zawodowego', 'placówek', 'kształcenia', 'ustawicznego', '\\n       ', 'dorosłych,', 'zasady', 'odpłatności', 'naukę', 'ośrodkach', '\\n       ', 'placówkach.\";', '\\n', '41)', 'art.', '68d', 'ust.', '1', 'skreśla', 'wyrazy', 'rodzinach', 'zastępczych\";', '\\n', '42)', 'art.', '69', 'ust.', '2', 'otrzymuje', 'brzmienie:', '\\n     ', '\"2.', 'Ochotnicze', 'Hufce', 'Pracy', 'umożliwiają', 'młodzieży', 'wieku', 'powyżej', '15', 'lat,', '\\n       ', 'ukończyła', 'szkoły', 'podstawowej', 'gimnazjum', 'kontynuuje', '\\n       ', 'nauki', 'ukończeniu', 'szkół,', 'zdobycie', 'kwalifikacji', 'zawodowych', '\\n       ', 'uzupełnienie', 'wykształcenia', 'podstawowego', 'gimnazjalnego.\";', '\\n', '43)', 'art.', '71b', 'ust.', '1', 'wyrazach', '\"kształceniem', 'specjalnym\"', 'dodaje', 'wyrazy', '\\n  ', '\"lub', 'integracyjnym\";', '\\n', '44)', 'art.', '72', 'otrzymuje', 'brzmienie:', '\\n    ', '\"Art.', '72.', 'Dzieciom', 'młodzieży', 'pozbawionym', 'całkowicie', 'częściowo', 'opieki', '\\n           ', 'rodzicielskiej', 'organizuje', 'rodziny', 'zastępcze', 'zasadach', '\\n           ', 'określonych', 'ustawie', 'pomocy', 'społecznej.\";', '\\n', '45)', 'skreśla', 'art.', '73-76;', '\\n', '46)', 'art.', '78:', '\\n   ', 'a)', 'skreśla', 'ust.', '2,', '\\n   ', 'b)', 'ust.', '3', 'skreśla', 'wyrazy', '\"i', '2\";', '\\n', '47)', 'art.', '79', 'otrzymuje', 'brzmienie:', '\\n      ', '\"Art.', '79.', '1.', 'Przedszkola', 'publiczne,', 'szkoły', 'publiczne', 'placówki', 'publiczne', '\\n             ', 'prowadzone', 'organy', 'wymienione', 'art.', '5', 'ust.', '2', 'pkt', '1', '\\n             ', 'jednostkami', 'zakładami', 'budżetowymi.', 'Zasady', 'gospodarki', '\\n             ', 'finansowej', 'przedszkoli,', 'szkół', 'placówek', 'określają', 'odrębne', '\\n             ', 'przepisy.', '\\n         ', '2.', 'Przedszkola', 'placówki,', 'mowa', 'ust.', '1,', 'będące', 'jednostkami', '\\n           ', 'budżetowymi', 'tworzyć', 'środki', 'specjalne', 'zasadach', 'określonych', '\\n           ', 'odrębnych', 'przepisach.', '\\n         ', '3.', 'Plan', 'finansowy', 'środków', 'specjalnych,', 'mowa', 'ust.', '2,', '\\n           ', 'zatwierdza', 'dyrektor', 'wniosek', 'rady', 'przedszkola', 'placówki.\";', '\\n', '48)', 'art.', '80', 'otrzymuje', 'brzmienie:', '\\n     ', '\"Art.', '80.', '1.', 'Szkoły', 'publiczne', 'wymienione', 'art.', '79', 'prowadzą', 'gospodarkę', '\\n             ', 'finansową', 'zasad', 'określonych', 'organ', 'prowadzący', 'szkołę.', '\\n             ', 'Szkoły', 'otrzymują', 'każdego', 'ucznia', 'dotację', 'budżetu', 'jednostki', '\\n             ', 'samorządu', 'terytorialnego', 'obowiązanej', 'prowadzenia', 'odpowiedniego', '\\n             ', 'typu', 'szkół,', 'wysokości', 'równej', 'wydatkom', 'przewidzianym', 'jednego', '\\n             ', 'ucznia', 'szkołach', 'samego', 'typu', 'prowadzonych', 'jednostkę', '\\n             ', 'samorządu', 'terytorialnego.', '\\n         ', '2.', 'Szczegółowe', 'zasady', 'udzielania', 'dotacji,', 'mowa', 'ust.', '1,', '\\n           ', 'określa', 'organ', 'stanowiący', 'jednostki', 'samorządu', 'terytorialnego.\";', '\\n', '49)', 'art.', '82:', '\\n   ', 'a)', 'ust.', '1', 'otrzymuje', 'brzmienie:', '\\n     ', '\"1.', 'Osoby', 'prawne', 'fizyczne', 'zakładać', 'szkoły', 'placówki', 'niepubliczne', '\\n       ', 'uzyskaniu', 'wpisu', 'ewidencji', 'prowadzonej', 'jednostkę', 'samorządu', '\\n       ', 'terytorialnego', 'obowiązaną', 'prowadzenia', 'odpowiedniego', 'typu', 'publicznych', '\\n       ', 'szkół', 'placówek.\",', '\\n   ', 'b)', 'ust.', '2', 'pkt', '6', 'otrzymuje', 'brzmienie:', '\\n     ', '\"6)', 'zobowiązanie', 'przestrzegania', 'wymagań', 'określonych', 'art.', '7', 'ust.', '3', '\\n       ', 'przypadku', 'szkoły', 'podstawowej', 'gimnazjum,', ' ', 'przypadku', 'szkoły', '\\n       ', 'ponadgimnazjalnej', 'ubiegającej', 'nadanie', 'uprawnień', 'szkoły', 'publicznej', '\\n       ', 'dniem', 'rozpoczęcia', 'działalności.\",', '\\n   ', 'c)', 'ust.', '2', 'dodaje', 'ust.', '2a', 'brzmieniu:', '\\n      ', '\"2a.', 'przypadku', 'szkoły', 'podstawowej,', 'gimnazjum', 'szkoły', 'ponadgimnazjalnej', '\\n         ', 'ubiegającej', 'nadanie', 'uprawnień', 'szkoły', 'publicznej', 'dniem', '\\n         ', 'rozpoczęcia', 'działalności,', 'wpis', 'ewidencji', 'nastąpić,', '\\n         ', 'osoba', 'prowadząca', 'przedstawi', 'pozytywną', 'opinię', 'kuratora', 'oświaty.\",', '\\n   ', 'd)', 'ust.', '3', 'wyrazie', '\"właściwemu\"', 'dodaje', 'wyrazy', '\"kuratorowi', 'oświaty', '\\n     ', 'przypadku', 'szkół', 'artystycznych', 'ministrowi', 'właściwemu', 'spraw', '\\n     ', 'kultury', 'oraz\",', '\\n   ', 'e)', 'ust.', '3a', 'pkt', '6', 'otrzymuje', 'brzmienie:', '\\n     ', '\"6)', 'przypadku', 'szkoły', 'prowadzącej', 'kształcenie', 'zawodowe', 'nazwę', 'zawodu', '\\n       ', 'profilu', 'kształcenia', 'zawodowego.\";', '\\n', '50)', 'art.', '85', 'otrzymuje', 'brzmienie:', '\\n      ', '\"Art.', '85.', '1.', 'Niepublicznej', 'szkole', 'podstawowej', 'gimnazjum', 'założonym', '\\n             ', 'zgodnie', 'art.', '82', 'ust.', '1-3', 'przysługują', 'uprawnienia', 'szkoły', '\\n             ', 'publicznej', 'dniem', 'rozpoczęcia', 'działalności.', '\\n         ', '2.', 'Kurator', 'oświaty', 'ciągu', '6', 'miesięcy', 'dnia', 'rozpoczęcia', 'działalności', '\\n           ', 'szkołę', 'podstawową,', 'gimnazjum', 'szkołę', 'ponadgimnazjalną,', '\\n           ', 'uzyskała', 'uprawnienia', 'szkoły', 'publicznej', 'dniem', 'rozpoczęcia', '\\n           ', 'działalności,', 'obowiązany', 'sprawdzić', 'spełnianie', 'warunków', '\\n           ', 'określonych', 'art.', '7', 'ust.', '3.', 'stosunku', 'szkół', 'artystycznych', '\\n           ', 'uprawnienia', 'kuratora', 'oświaty', 'przysługują', 'odpowiednio', 'ministrowi', '\\n           ', 'właściwemu', 'spraw', 'kultury.', '\\n         ', '3.', 'Organ', 'jednostki', 'samorządu', 'terytorialnego,', 'mowa', 'art.', '82', '\\n           ', 'ust.', '1,', 'wniosek', 'osoby', 'prowadzącej', 'szkołę', 'niepubliczną', '\\n           ', 'posiadającą', 'uprawnień', 'szkoły', 'publicznej', 'nadaje', 'szkole', '\\n           ', 'uprawnienia', 'szkoły', 'publicznej,', 'osoba', 'przedstawi', 'pozytywną', '\\n           ', 'opinię', 'kuratora', 'oświaty,', 'przypadku', 'szkół', 'artystycznych', 'ministra', '\\n', 'właściwego', 'spraw', 'kultury,', 'spełnianiu', 'szkołę', '\\n           ', 'warunków', 'określonych', 'art.', '7', 'ust.', '3.\";', '\\n', '51)', 'skreśla', 'art.', '87;', '\\n', '52)', 'art.', '88', 'skreśla', 'wyrazy', '\"uzyskane', 'zgodnie', 'art.', '85', 'ust.', '1', '3,', 'art.', '\\n  ', '86', 'ust.', '1', 'art.', '87\"', 'wyrazy', '\"jest', 'równoznaczne', 'likwidacją\"', 'zastępuje', '\\n  ', 'wyrazami', '\"lub', 'gimnazjum', 'równoznaczne', 'likwidacją\";', '\\n', '53)', 'art.', '89', 'otrzymuje', 'brzmienie:', '\\n    ', '\"Art.', '89.', 'Nadzór', 'pedagogiczny', 'szkołami', 'placówkami', 'niepublicznymi', '\\n           ', 'sprawują', 'właściwi', 'kuratorzy', 'oświaty,', 'przypadku', 'szkół', '\\n           ', 'artystycznych', 'minister', 'właściwy', 'spraw', 'kultury.', 'Przepisy', '\\n           ', 'art.', '33', 'stosuje', 'odpowiednio.\";', '\\n', '54)', 'art.', '90:', '\\n   ', 'a)', 'ust.', '1', '2', 'otrzymują', 'brzmienie:', '\\n     ', '\"1.', 'Niepubliczne', 'przedszkola,', 'specjalne,', 'szkoły', 'podstawowe', '\\n       ', 'gimnazja,', 'oddziałami', 'integracyjnymi,', 'wyjątkiem', 'szkół', '\\n       ', 'podstawowych', 'specjalnych', 'gimnazjów', 'specjalnych', 'szkół', 'podstawowych', '\\n       ', 'artystycznych,', 'otrzymują', 'dotacje', 'budżetu', 'gminy.', '\\n     ', '2.', 'Niepubliczne', 'szkoły', 'podstawowe', 'specjalne', 'gimnazja', 'specjalne,', 'szkoły', '\\n       ', 'artystyczne', 'szkoły', 'ponadgimnazjalne', 'uprawnieniach', 'szkół', 'publicznych,', '\\n       ', 'oddziałami', 'integracyjnymi,', 'otrzymują', 'dotacje', 'budżetu', '\\n       ', 'powiatu.\",', '\\n   ', 'b)', 'ust.', '3', 'dodaje', 'ust.', '3a', '3b', 'brzmieniu:', '\\n     ', '\"3a.', 'Placówki', 'niepubliczne,', 'mowa', 'art.', '2', 'pkt', '5', '7,', 'otrzymują', '\\n       ', 'dotacje', 'budżetu', 'powiatu.', '\\n     ', '3b.', 'Szkoły', 'niepubliczne', 'posiadające', 'uprawnień', 'szkoły', 'publicznej', '\\n       ', 'placówki', 'niepubliczne,', 'mowa', 'art.', '2', 'pkt', '3,', '4', '10,', '\\n       ', 'otrzymywać', 'dotacje', 'budżetu', 'powiatu.\",', '\\n   ', 'c)', 'ust.', '4', 'otrzymuje', 'brzmienie:', '\\n     ', '\"4.', 'Szczegółowe', 'zasady', 'udzielania', 'dotacji,', 'mowa', 'ust.', '1,', '2,', '3a', '\\n       ', '3b,', 'określa', 'organ', 'stanowiący', 'jednostki', 'samorządu', 'terytorialnego.\",', '\\n   ', 'd)', 'skreśla', 'ust.', '5', '6,', '\\n   ', 'e)', 'ust.', '7', 'końcu', 'dodaje', 'wyrazy', '\"oraz', 'organów', 'prowadzących', 'szkoły', '\\n     ', 'placówki\";', '\\n', '55)', 'art.', '91', 'ust.', '1', 'wyrazy', '\"gminy\"', 'zastępuje', 'wyrazami', '\"właściwej', '\\n  ', 'jednostki', 'samorządu', 'terytorialnego\";', '\\n', '56)', 'użyte', 'ustawie', 'różnych', 'przypadkach', 'wyrazy', '\"Minister', 'Edukacji', 'Narodowej,', '\\n  ', 'Minister', 'Kultury', 'Sztuki,', 'Minister', 'Obrony', 'Narodowej,', 'Minister', 'Spraw', '\\n  ', 'Wewnętrznych', 'Administracji,', 'Minister', 'Sprawiedliwości,', 'Minister', 'Pracy', '\\n  ', 'Polityki', 'Socjalnej', 'Minister', 'Zdrowia', 'Opieki', 'Społecznej\"', 'zastępuje', '\\n  ', 'odpowiednio', 'wyrazami', '\"minister', 'właściwy', 'spraw', 'oświaty', 'wychowania,', '\\n  ', 'minister', 'właściwy', 'spraw', 'kultury,', 'minister', 'właściwy', 'spraw', 'obrony', '\\n  ', 'narodowej,', 'minister', 'właściwy', 'spraw', 'administracji', 'publicznej,', 'minister', '\\n  ', 'właściwy', 'spraw', 'sprawiedliwości,', 'minister', 'właściwy', 'spraw', 'pracy', '\\n  ', 'minister', 'właściwy', 'spraw', 'zdrowia\"', 'użytymi', 'samych', 'przypadkach.', '\\n                                     ', 'Art.', '2.', '\\n', '1.', 'dniem', '1', 'stycznia', '1999', 'r.', 'zakładanie', 'prowadzenie', 'publicznych', 'szkół', '\\n  ', 'podstawowych', 'specjalnych,', 'szkół', 'ponadpodstawowych,', 'szkół', 'artystycznych,', 'szkół', '\\n  ', 'sportowych', 'mistrzostwa', 'sportowego', 'placówek', 'wymienionych', 'art.', '2', 'pkt', '3', '\\n  ', '5', '7', 'ustawy,', 'mowa', 'art.', '1,', 'przechodzi', 'zadań', 'własnych', 'powiatu.', '\\n', '2.', 'Przepis', 'ust.', '1', 'dotyczy', 'szkół', 'publicznych', 'prowadzonych', 'osoby', 'prawne', '\\n  ', 'fizyczne', 'podstawie', 'zezwolenia.', '\\n                                     ', 'Art.', '3.', '\\n', 'nowotworzonych', 'istniejących', 'dniu', 'wejścia', 'życie', 'ustawy', 'szkół', '\\n', 'podstawowych', 'ponadpodstawowych', 'stosuje', 'przepisy', 'dotychczasowe.', '\\n                                        \\n                                     ', 'Art.', '4.', '\\n', 'Szkoły', 'placówki', 'przejęte', 'prowadzone', 'dniem', 'wejścia', 'życie', 'ustawy', '\\n', 'gminy', 'zgodnie', 'art.', '104', 'ust.', '4', 'ustawy,', 'mowa', 'art.', '1,', 'nadal', '\\n', 'prowadzone', 'gminy,', 'chyba', 'rada', 'gminy', 'terminie', '30', 'dni', 'dnia', 'wejścia', '\\n', 'życie', 'ustawy', 'podejmie', 'uchwałę', 'przekazaniu', 'prowadzenia', 'szkoły', 'placówki', '\\n', 'powiatowi.', '\\n                                        \\n                                     ', 'Art.', '5.', '\\n', '1.', 'Szkoły', 'placówki', 'niepubliczne', 'wpisane', 'dniu', 'wejścia', 'życie', 'ustawy', '\\n  ', 'ewidencji', 'prowadzonej', 'kuratorów', 'oświaty', 'właściwych', 'ministrów,', 'wpisuje', '\\n  ', 'urzędu', 'ewidencji', 'prowadzonej', 'odpowiednią', 'jednostkę', 'samorządu', '\\n  ', 'terytorialnego.', '\\n', '2.', 'Kuratorzy', 'oświaty', 'ministrowie,', 'mowa', 'ust.', '1,', 'terminie', '6', '\\n  ', 'miesięcy', 'dnia', 'wejścia', 'życie', 'ustawy,', 'przekażą', 'właściwym', 'jednostkom', '\\n  ', 'samorządu', 'terytorialnego', 'dokumentację', 'związaną', 'wpisem', 'szkół', 'placówek', '\\n  ', 'niepublicznych', 'ewidencji.', '\\n                                        \\n                                     ', 'Art.', '6.', '\\n', 'Ustawa', 'wchodzi', 'życie', 'dniem', '1', 'stycznia', '1999', 'r.', 'wyjątkiem', 'art.', '22', 'ust.', '2', 'pkt', '\\n', '4a', 'ustawy,', 'mowa', 'art.', '1,', 'wchodzi', 'życie', 'dniem', '1', 'września', '1999', '\\n', 'r.', 'art.', '62', 'ust.', '1a', 'ustawy,', 'mowa', 'art.', '1,', 'wchodzi', 'życie', '\\n', 'dniem', '1', 'września', '2001', 'r.', 'wyjątkiem', 'przepisów', 'dotyczących', 'funkcjonowania', '\\n', 'tworzenia:', '\\n', '1)', 'sześcioletnich', 'szkół', 'podstawowych,', '\\n', '2)', 'gimnazjów,', '\\n', '3)', 'szkół', 'ponadgimnazjalnych', '\\n', 'przepisów', 'dotyczących', 'obowiązku', 'szkolnego', 'obowiązku', 'nauki,', 'wchodzą', '\\n', 'życie', 'terminie', 'zasadach', 'określonych', 'odrębnej', 'ustawie.', '\\n']\n"
     ]
    }
   ],
   "source": [
    "print(list(file_tokens.values())[0])"
   ]
  },
  {
   "cell_type": "code",
   "execution_count": 27,
   "id": "ac178833",
   "metadata": {},
   "outputs": [
    {
     "ename": "TypeError",
     "evalue": "'spacy.lexeme.Lexeme' object is not subscriptable",
     "output_type": "error",
     "traceback": [
      "\u001b[0;31m---------------------------------------------------------------------------\u001b[0m",
      "\u001b[0;31mTypeError\u001b[0m                                 Traceback (most recent call last)",
      "\u001b[0;32m<ipython-input-27-463a59669a5f>\u001b[0m in \u001b[0;36m<module>\u001b[0;34m\u001b[0m\n\u001b[0;32m----> 1\u001b[0;31m \u001b[0mprint\u001b[0m\u001b[0;34m(\u001b[0m\u001b[0mnlp\u001b[0m\u001b[0;34m.\u001b[0m\u001b[0mvocab\u001b[0m\u001b[0;34m[\u001b[0m\u001b[0;36m0\u001b[0m\u001b[0;34m]\u001b[0m\u001b[0;34m[\u001b[0m\u001b[0;36m0\u001b[0m\u001b[0;34m]\u001b[0m\u001b[0;34m)\u001b[0m\u001b[0;34m\u001b[0m\u001b[0;34m\u001b[0m\u001b[0m\n\u001b[0m",
      "\u001b[0;31mTypeError\u001b[0m: 'spacy.lexeme.Lexeme' object is not subscriptable"
     ]
    }
   ],
   "source": [
    "print(nlp.vocab[0][0])"
   ]
  },
  {
   "cell_type": "code",
   "execution_count": null,
   "id": "4d2a4562",
   "metadata": {},
   "outputs": [],
   "source": [
    "with open('file_tokens.pkl', 'wb') as outp:\n",
    "    pickle.dump(file_tokens, outp, pickle.HIGHEST_PROTOCOL)\n"
   ]
  },
  {
   "cell_type": "code",
   "execution_count": 3,
   "id": "2ddfb09e",
   "metadata": {},
   "outputs": [
    {
     "name": "stdout",
     "output_type": "stream",
     "text": [
      "dog True 4.8634477 True\n",
      "cat True 5.2525845 True\n",
      "banana True 5.3935223 True\n",
      "afskfsd True 5.5341754 True\n"
     ]
    }
   ],
   "source": [
    "nlp = spacy.load(\"en_core_web_sm\")\n",
    "tokens = nlp(\"dog cat banana afskfsd\")\n",
    "\n",
    "for token in tokens:\n",
    "    print(token.text, token.has_vector, token.vector_norm, token.is_oov)"
   ]
  },
  {
   "cell_type": "code",
   "execution_count": 17,
   "id": "bbef9e24",
   "metadata": {},
   "outputs": [
    {
     "name": "stdout",
     "output_type": "stream",
     "text": [
      "['_', '__bytes__', '__class__', '__delattr__', '__dir__', '__doc__', '__eq__', '__format__', '__ge__', '__getattribute__', '__getitem__', '__gt__', '__hash__', '__init__', '__init_subclass__', '__iter__', '__le__', '__len__', '__lt__', '__ne__', '__new__', '__pyx_vtable__', '__reduce__', '__reduce_ex__', '__repr__', '__setattr__', '__setstate__', '__sizeof__', '__str__', '__subclasshook__', '__unicode__', '_bulk_merge', '_get_array_attrs', '_py_tokens', '_realloc', '_vector', '_vector_norm', 'cats', 'char_span', 'copy', 'count_by', 'doc', 'ents', 'extend_tensor', 'from_array', 'from_bytes', 'from_dict', 'from_disk', 'from_docs', 'get_extension', 'get_lca_matrix', 'has_annotation', 'has_extension', 'has_unknown_spaces', 'has_vector', 'is_nered', 'is_parsed', 'is_sentenced', 'is_tagged', 'lang', 'lang_', 'mem', 'noun_chunks', 'noun_chunks_iterator', 'remove_extension', 'retokenize', 'sentiment', 'sents', 'set_ents', 'set_extension', 'similarity', 'spans', 'tensor', 'text', 'text_with_ws', 'to_array', 'to_bytes', 'to_dict', 'to_disk', 'to_json', 'to_utf8_array', 'user_data', 'user_hooks', 'user_span_hooks', 'user_token_hooks', 'vector', 'vector_norm', 'vocab']\n",
      "Poczuł przyjemną woń mocnej kawy.\n",
      "Poczuł VERB ROOT\n",
      "przyjemną ADJ amod\n",
      "woń NOUN obj\n",
      "mocnej ADJ amod\n",
      "kawy NOUN nmod\n",
      ". PUNCT punct\n"
     ]
    }
   ],
   "source": [
    "from spacy.lang.pl.examples import sentences \n",
    "\n",
    "nlp = spacy.load(\"pl_core_news_sm\")\n",
    "doc = nlp(sentences[0])\n",
    "print(dir(doc))\n",
    "print(doc.text)\n",
    "for token in doc:\n",
    "    print(token.text, token.pos_, token.dep_)"
   ]
  },
  {
   "cell_type": "code",
   "execution_count": 12,
   "id": "334b0b07",
   "metadata": {},
   "outputs": [],
   "source": [
    "iterations = 0\n",
    "path=\"../data/ustawy\"\n",
    "for filename in os.listdir(path):\n",
    "    with open(os.path.join(path, filename), 'r',encoding='utf-8') as f: # open in readonly mode\n",
    "        text = f.read()\n",
    "        doc = nlp(text)\n",
    "        iterations+=1\n",
    "        if iterations==10:\n",
    "            break\n",
    "    \n",
    "\n"
   ]
  },
  {
   "cell_type": "code",
   "execution_count": 13,
   "id": "6a37bd9f",
   "metadata": {},
   "outputs": [
    {
     "name": "stdout",
     "output_type": "stream",
     "text": [
      "jump\n",
      "catch\n",
      "2\n"
     ]
    }
   ],
   "source": [
    "import spacy\n",
    "nlp = spacy.load(\"en_core_web_sm\")\n",
    "\n",
    "list_of_words = ['Pies', 'jump', 'catch']\n",
    "\n",
    "def word_count(string):\n",
    "    words_counted = 0\n",
    "    my_string = nlp(string)\n",
    "\n",
    "    for token in my_string:\n",
    "        # actual word\n",
    "        word = token.text\n",
    "        # lemma\n",
    "        lemma_word = token.lemma_\n",
    "        # part of speech\n",
    "        word_pos = token.pos_\n",
    "        if lemma_word in list_of_words:\n",
    "            words_counted += 1\n",
    "            print(lemma_word)\n",
    "    return words_counted\n",
    "\n",
    "\n",
    "sentence = \"I ran, jumped, and caught the ball.\"\n",
    "words_counted = word_count(sentence)\n",
    "print(words_counted)"
   ]
  },
  {
   "cell_type": "code",
   "execution_count": 10,
   "id": "98e8cb83",
   "metadata": {},
   "outputs": [
    {
     "ename": "NameError",
     "evalue": "name 'text' is not defined",
     "output_type": "error",
     "traceback": [
      "\u001b[0;31m---------------------------------------------------------------------------\u001b[0m",
      "\u001b[0;31mNameError\u001b[0m                                 Traceback (most recent call last)",
      "\u001b[0;32m<ipython-input-10-82e92c933452>\u001b[0m in \u001b[0;36m<module>\u001b[0;34m\u001b[0m\n\u001b[1;32m      1\u001b[0m \u001b[0mnlp\u001b[0m \u001b[0;34m=\u001b[0m \u001b[0mspacy\u001b[0m\u001b[0;34m.\u001b[0m\u001b[0mload\u001b[0m\u001b[0;34m(\u001b[0m\u001b[0;34m\"pl_core_news_sm\"\u001b[0m\u001b[0;34m)\u001b[0m\u001b[0;34m\u001b[0m\u001b[0;34m\u001b[0m\u001b[0m\n\u001b[1;32m      2\u001b[0m \u001b[0;31m# text =\u001b[0m\u001b[0;34m\u001b[0m\u001b[0;34m\u001b[0m\u001b[0;34m\u001b[0m\u001b[0m\n\u001b[0;32m----> 3\u001b[0;31m \u001b[0mdoc\u001b[0m \u001b[0;34m=\u001b[0m \u001b[0mnlp\u001b[0m\u001b[0;34m(\u001b[0m\u001b[0mtext\u001b[0m\u001b[0;34m)\u001b[0m\u001b[0;34m\u001b[0m\u001b[0;34m\u001b[0m\u001b[0m\n\u001b[0m\u001b[1;32m      4\u001b[0m \u001b[0;31m#remove stopwords and punctuations\u001b[0m\u001b[0;34m\u001b[0m\u001b[0;34m\u001b[0m\u001b[0;34m\u001b[0m\u001b[0m\n\u001b[1;32m      5\u001b[0m \u001b[0mwords\u001b[0m \u001b[0;34m=\u001b[0m \u001b[0;34m[\u001b[0m\u001b[0mtoken\u001b[0m\u001b[0;34m.\u001b[0m\u001b[0mtext\u001b[0m \u001b[0;32mfor\u001b[0m \u001b[0mtoken\u001b[0m \u001b[0;32min\u001b[0m \u001b[0mdoc\u001b[0m \u001b[0;32mif\u001b[0m \u001b[0mtoken\u001b[0m\u001b[0;34m.\u001b[0m\u001b[0mis_stop\u001b[0m \u001b[0;34m!=\u001b[0m \u001b[0;32mTrue\u001b[0m \u001b[0;32mand\u001b[0m \u001b[0mtoken\u001b[0m\u001b[0;34m.\u001b[0m\u001b[0mis_punct\u001b[0m \u001b[0;34m!=\u001b[0m \u001b[0;32mTrue\u001b[0m\u001b[0;34m]\u001b[0m\u001b[0;34m\u001b[0m\u001b[0;34m\u001b[0m\u001b[0m\n",
      "\u001b[0;31mNameError\u001b[0m: name 'text' is not defined"
     ]
    }
   ],
   "source": [
    "\n",
    "nlp = spacy.load(\"pl_core_news_sm\")\n",
    "# text = \n",
    "doc = nlp(text)\n",
    "#remove stopwords and punctuations\n",
    "words = [token.text for token in doc if token.is_stop != True and token.is_punct != True]\n",
    "word_freq = Counter(words)\n",
    "common_words = word_freq\n",
    "print (common_words)\n"
   ]
  },
  {
   "cell_type": "code",
   "execution_count": 5,
   "id": "f966ef0a",
   "metadata": {},
   "outputs": [
    {
     "ename": "AttributeError",
     "evalue": "module 'spacy.tokenizer' has no attribute 'pipe'",
     "output_type": "error",
     "traceback": [
      "\u001b[0;31m---------------------------------------------------------------------------\u001b[0m",
      "\u001b[0;31mAttributeError\u001b[0m                            Traceback (most recent call last)",
      "\u001b[0;32m<ipython-input-5-03c4cb7fc825>\u001b[0m in \u001b[0;36m<module>\u001b[0;34m\u001b[0m\n\u001b[1;32m      4\u001b[0m \u001b[0;34m\u001b[0m\u001b[0m\n\u001b[1;32m      5\u001b[0m \u001b[0mtexts\u001b[0m \u001b[0;34m=\u001b[0m \u001b[0;34m[\u001b[0m\u001b[0;34m\"One document.\"\u001b[0m\u001b[0;34m,\u001b[0m \u001b[0;34m\"...\"\u001b[0m\u001b[0;34m,\u001b[0m \u001b[0;34m\"Lots of documents\"\u001b[0m\u001b[0;34m]\u001b[0m\u001b[0;34m\u001b[0m\u001b[0;34m\u001b[0m\u001b[0m\n\u001b[0;32m----> 6\u001b[0;31m \u001b[0;32mfor\u001b[0m \u001b[0mdoc\u001b[0m \u001b[0;32min\u001b[0m \u001b[0mtokenizer\u001b[0m\u001b[0;34m.\u001b[0m\u001b[0mpipe\u001b[0m\u001b[0;34m(\u001b[0m\u001b[0mtexts\u001b[0m\u001b[0;34m,\u001b[0m \u001b[0mbatch_size\u001b[0m\u001b[0;34m=\u001b[0m\u001b[0;36m50\u001b[0m\u001b[0;34m)\u001b[0m\u001b[0;34m:\u001b[0m\u001b[0;34m\u001b[0m\u001b[0;34m\u001b[0m\u001b[0m\n\u001b[0m\u001b[1;32m      7\u001b[0m     \u001b[0mprint\u001b[0m\u001b[0;34m(\u001b[0m\u001b[0mdoc\u001b[0m\u001b[0;34m)\u001b[0m\u001b[0;34m\u001b[0m\u001b[0;34m\u001b[0m\u001b[0m\n\u001b[1;32m      8\u001b[0m     \u001b[0;31m# pass\u001b[0m\u001b[0;34m\u001b[0m\u001b[0;34m\u001b[0m\u001b[0;34m\u001b[0m\u001b[0m\n",
      "\u001b[0;31mAttributeError\u001b[0m: module 'spacy.tokenizer' has no attribute 'pipe'"
     ]
    }
   ],
   "source": [
    "from spacy import *\n",
    "from collections import Counter\n",
    "nlp = spacy.load(\"pl_core_news_sm\")\n",
    "\n",
    "texts = [\"One document.\", \"...\", \"Lots of documents\"]\n",
    "for doc in tokenizer.pipe(texts, batch_size=50):\n",
    "    print(doc)\n",
    "    # pass\n"
   ]
  },
  {
   "cell_type": "code",
   "execution_count": 39,
   "id": "bf990755",
   "metadata": {},
   "outputs": [
    {
     "name": "stdout",
     "output_type": "stream",
     "text": [
      "['lemme', 'that']\n"
     ]
    },
    {
     "ename": "AttributeError",
     "evalue": "'spacy.tokenizer.Tokenizer' object has no attribute 'add_special'",
     "output_type": "error",
     "traceback": [
      "\u001b[0;31m---------------------------------------------------------------------------\u001b[0m",
      "\u001b[0;31mAttributeError\u001b[0m                            Traceback (most recent call last)",
      "\u001b[0;32m<ipython-input-39-f3df72171b02>\u001b[0m in \u001b[0;36m<module>\u001b[0;34m\u001b[0m\n\u001b[1;32m      6\u001b[0m \u001b[0;34m\u001b[0m\u001b[0m\n\u001b[1;32m      7\u001b[0m \u001b[0mspecial_case\u001b[0m \u001b[0;34m=\u001b[0m \u001b[0;34m[\u001b[0m\u001b[0;34m{\u001b[0m\u001b[0mORTH\u001b[0m\u001b[0;34m:\u001b[0m \u001b[0;34m\"lem\"\u001b[0m\u001b[0;34m}\u001b[0m\u001b[0;34m,\u001b[0m \u001b[0;34m{\u001b[0m\u001b[0;34m\"ORTH\"\u001b[0m\u001b[0;34m:\u001b[0m \u001b[0;34m\"me\"\u001b[0m\u001b[0;34m}\u001b[0m\u001b[0;34m]\u001b[0m\u001b[0;34m\u001b[0m\u001b[0;34m\u001b[0m\u001b[0m\n\u001b[0;32m----> 8\u001b[0;31m \u001b[0mnlp\u001b[0m\u001b[0;34m.\u001b[0m\u001b[0mtokenizer\u001b[0m\u001b[0;34m.\u001b[0m\u001b[0madd_special\u001b[0m\u001b[0;34m.\u001b[0m\u001b[0mcase\u001b[0m\u001b[0;34m(\u001b[0m\u001b[0;34m\"lemme\"\u001b[0m\u001b[0;34m,\u001b[0m \u001b[0mspecial_case\u001b[0m\u001b[0;34m)\u001b[0m\u001b[0;34m\u001b[0m\u001b[0;34m\u001b[0m\u001b[0m\n\u001b[0m\u001b[1;32m      9\u001b[0m \u001b[0mprint\u001b[0m\u001b[0;34m(\u001b[0m\u001b[0;34m[\u001b[0m\u001b[0mw\u001b[0m\u001b[0;34m.\u001b[0m\u001b[0mtext\u001b[0m \u001b[0;32mfor\u001b[0m \u001b[0mw\u001b[0m \u001b[0;32min\u001b[0m \u001b[0mnlp\u001b[0m\u001b[0;34m(\u001b[0m\u001b[0;34m\"lemme that\"\u001b[0m\u001b[0;34m)\u001b[0m\u001b[0;34m]\u001b[0m\u001b[0;34m)\u001b[0m\u001b[0;34m\u001b[0m\u001b[0;34m\u001b[0m\u001b[0m\n",
      "\u001b[0;31mAttributeError\u001b[0m: 'spacy.tokenizer.Tokenizer' object has no attribute 'add_special'"
     ]
    }
   ],
   "source": [
    "\n",
    "import spacy\n",
    "from spacy.symbols import ORTH\n",
    "nlp = spacy.load(\"pl_core_news_sm\")\n",
    "doc = nlp(\"lemme that\")\n",
    "print([w.text for w in doc])\n",
    "\n",
    "special_case = [{ORTH: \"lem\"}, {\"ORTH\": \"me\"}]\n",
    "nlp.tokenizer.add_special.case(\"lemme\", special_case)\n",
    "print([w.text for w in nlp(\"lemme that\")])"
   ]
  }
 ],
 "metadata": {
  "kernelspec": {
   "display_name": "Python [conda env:ml] *",
   "language": "python",
   "name": "conda-env-ml-py"
  },
  "language_info": {
   "codemirror_mode": {
    "name": "ipython",
    "version": 3
   },
   "file_extension": ".py",
   "mimetype": "text/x-python",
   "name": "python",
   "nbconvert_exporter": "python",
   "pygments_lexer": "ipython3",
   "version": "3.8.5"
  }
 },
 "nbformat": 4,
 "nbformat_minor": 5
}
