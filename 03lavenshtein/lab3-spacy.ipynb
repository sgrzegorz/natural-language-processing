{
 "cells": [
  {
   "cell_type": "code",
   "execution_count": 17,
   "id": "93b8008d",
   "metadata": {},
   "outputs": [],
   "source": [
    "import spacy\n",
    "# python -m spacy download en_core_web_sm\n",
    "# python -m spacy download pl_core_news_sm\n",
    "import re\n",
    "import tarfile\n",
    "import os\n",
    "import matplotlib.pyplot as plt\n",
    "import numpy as np\n",
    "import regex\n",
    "import pandas as pd\n",
    "import morfeusz2\n",
    "from elasticsearch_dsl import *\n",
    "from elasticsearch_dsl import query\n",
    "from elasticsearch import *\n",
    "from elasticsearch.helpers import *\n",
    "\n",
    "import os\n",
    "import pickle\n",
    "\n",
    "import spacy\n",
    "from collections import Counter\n",
    "from spacy.tokenizer import *\n",
    "import string\n",
    "import matplotlib\n",
    "import matplotlib.pyplot as plt\n",
    "matplotlib.style.use('ggplot')\n",
    "%matplotlib inline\n",
    "import pandas as pd\n",
    "import time\n",
    "import Levenshtein\n"
   ]
  },
  {
   "cell_type": "markdown",
   "id": "f6c60302-da83-46ac-aae5-be91274ab6cb",
   "metadata": {},
   "source": [
    "1. Make sure the texts in the corpus does not contain HTML code.\n",
    "2. Use SpaCy [tokenizer API](https://spacy.io/api/tokenizer) to tokenize the text from the cleaned law corpus.\n",
    "3. Compute **frequency list** for each of the processed files.\n",
    "4. Aggregate the result to obtain one global frequency list.\n",
    "5. Reject all entries that are shorter than 2 characters or contain non-letter characters (make sure to include Polish\n",
    "   diacritics).\n",
    "6. Make a plot in a logarithmic scale (for X and Y):\n",
    "   1. X-axis should contain the **rank** of a term, meaning the first rank belongs to the term with the highest number of\n",
    "      occurrences; the terms with the same number of occurrences should be ordered by their name,\n",
    "   2. Y-axis should contain the **number of occurrences** of the term with given rank."
   ]
  },
  {
   "cell_type": "code",
   "execution_count": 2,
   "id": "aeb8b0ca",
   "metadata": {},
   "outputs": [],
   "source": [
    "nlp = spacy.load(\"pl_core_news_sm\")\n",
    "tokenizer = Tokenizer(nlp.vocab)\n"
   ]
  },
  {
   "cell_type": "code",
   "execution_count": 3,
   "id": "e0f665b6-ab80-4376-b1fa-5efce5a536ad",
   "metadata": {},
   "outputs": [
    {
     "name": "stdout",
     "output_type": "stream",
     "text": [
      "Al)a ma-kota\n",
      "i psa\n",
      "Al)a ma-kota\n",
      "i psa\n",
      "Al a ma kota\n",
      "i psa\n"
     ]
    }
   ],
   "source": [
    "text = \"Al)a ma-kota\\ni psa\"\n",
    "print(text)\n",
    "text1 = text.translate(str.maketrans('', '', string.punctuation))\n",
    "print(text)\n",
    "\n",
    "\n",
    "def preprocess(text):\n",
    "    text = list(text)\n",
    "    for i in range(len(text)):\n",
    "        if text[i] in string.punctuation:\n",
    "            text[i] = ' '\n",
    "    return ''.join(text)\n",
    "\n",
    "print(preprocess(text))"
   ]
  },
  {
   "cell_type": "code",
   "execution_count": 4,
   "id": "4016f2fc",
   "metadata": {},
   "outputs": [
    {
     "name": "stdout",
     "output_type": "stream",
     "text": [
      "200\n",
      "400\n",
      "600\n",
      "800\n",
      "1000\n"
     ]
    }
   ],
   "source": [
    "\n",
    "file_tokens = {}\n",
    "\n",
    "i = 0\n",
    "path=\"../data/ustawy\"\n",
    "for filename in os.listdir(path):\n",
    "    with open(os.path.join(path, filename), 'r',encoding='utf-8') as f: # open in readonly mode\n",
    "        text = f.read()\n",
    "        # text = text.translate(str.maketrans('', '', string.punctuation))\n",
    "        text = preprocess(text)\n",
    "        text = text.lower()\n",
    "        text = regex.sub(r'\\s+', ' ',text)\n",
    "\n",
    "\n",
    "        doc = tokenizer(text)\n",
    "        words = [token.text for token in doc if token.is_stop != True and token.is_punct != True and (len(token.text) >1) and token.is_alpha and not token.is_digit ]\n",
    "\n",
    "        file_tokens[f.name] = words\n",
    "        word_freq = Counter(words)\n",
    "        i+=1\n",
    "        if i % 200 == 0:\n",
    "            print(i)\n",
    "    "
   ]
  },
  {
   "cell_type": "code",
   "execution_count": 5,
   "id": "c0d956c5",
   "metadata": {},
   "outputs": [],
   "source": [
    "word_freq ={}\n",
    "for filename, tokens in file_tokens.items():\n",
    "    word_freq[filename] = Counter(tokens)"
   ]
  },
  {
   "cell_type": "code",
   "execution_count": 6,
   "id": "54e88879",
   "metadata": {},
   "outputs": [],
   "source": [
    "word_freq_total = Counter({})\n",
    "for counting in word_freq.values():\n",
    "    word_freq_total.update(counting)\n"
   ]
  },
  {
   "cell_type": "code",
   "execution_count": 7,
   "id": "3e971866",
   "metadata": {},
   "outputs": [
    {
     "data": {
      "text/plain": [
       "[('art', 82963),\n",
       " ('ust', 53624),\n",
       " ('poz', 45245),\n",
       " ('nr', 44950),\n",
       " ('mowa', 28783)]"
      ]
     },
     "execution_count": 7,
     "metadata": {},
     "output_type": "execute_result"
    }
   ],
   "source": [
    "word_freq_total.most_common(5)"
   ]
  },
  {
   "cell_type": "code",
   "execution_count": 8,
   "id": "5d5df218",
   "metadata": {},
   "outputs": [
    {
     "data": {
      "image/png": "[encoded data removed]",
      "text/plain": [
       "<Figure size 1080x432 with 1 Axes>"
      ]
     },
     "metadata": {
      "needs_background": "light"
     },
     "output_type": "display_data"
    }
   ],
   "source": [
    "freq = [freq for (_,freq) in word_freq_total.most_common()]\n",
    "fig = plt.figure(figsize=(15,6))\n",
    "ax = fig.add_subplot(111)\n",
    "\n",
    "ax.plot(range(1,len(word_freq_total)+1),freq, color='blue', lw=2)\n",
    "\n",
    "ax.set_yscale('log')\n",
    "\n",
    "plt.show()\n"
   ]
  },
  {
   "cell_type": "markdown",
   "id": "021a9b90-5b7d-4377-a87d-fb038f7e5f38",
   "metadata": {},
   "source": [
    "7. Install [Morfeusz](http://morfeusz.sgjp.pl/download/) (Binding dla Pythona) and use it to find all words that do not\n",
    "  appear in that dictionary.\n"
   ]
  },
  {
   "cell_type": "code",
   "execution_count": 9,
   "id": "56ab30f1",
   "metadata": {},
   "outputs": [],
   "source": [
    "from morfeusz2 import *\n",
    "#Obiekt utworzony bez podawania parametrów konstruktora będzie używał domyślnego słownika SGJP i domyślnych ustawień opcji.\n",
    "morf = Morfeusz()\n",
    "\n",
    "not_found = {}\n",
    "for (token,freq) in word_freq_total.most_common():\n",
    "#     print('!'+token+'!',(morf.analyse(token)))\n",
    "    if 'ign' in (morf.analyse(token))[0][2]:\n",
    "#         print(freq,token)\n",
    "        not_found[token] =freq\n",
    "        \n",
    "        "
   ]
  },
  {
   "cell_type": "code",
   "execution_count": 10,
   "id": "ee747062",
   "metadata": {
    "tags": []
   },
   "outputs": [
    {
     "data": {
      "text/plain": [
       "[(0, 1, ('piws', 'piws', 'ign', [], []))]"
      ]
     },
     "execution_count": 10,
     "metadata": {},
     "output_type": "execute_result"
    }
   ],
   "source": [
    "morf.analyse(\"piws\")"
   ]
  },
  {
   "cell_type": "markdown",
   "id": "d2265421-3d1b-46f2-b73a-2b35291ec399",
   "metadata": {},
   "source": [
    "8. Find 30 words with the highest ranks that do not belong to the dictionary."
   ]
  },
  {
   "cell_type": "code",
   "execution_count": 11,
   "id": "629a07b4",
   "metadata": {},
   "outputs": [
    {
     "data": {
      "text/plain": [
       "[('poz', 45245),\n",
       " ('zm', 1072),\n",
       " ('późn', 1066),\n",
       " ('str', 516),\n",
       " ('gmo', 298),\n",
       " ('sww', 226),\n",
       " ('operacyjno', 209),\n",
       " ('skw', 195),\n",
       " ('rolno', 194),\n",
       " ('ex', 169),\n",
       " ('ike', 162),\n",
       " ('społeczno', 137),\n",
       " ('techniczno', 125),\n",
       " ('remediacji', 120),\n",
       " ('ure', 103),\n",
       " ('rozdz', 102),\n",
       " ('itp', 97),\n",
       " ('uke', 95),\n",
       " ('kn', 95),\n",
       " ('sanitarno', 88),\n",
       " ('charytatywno', 87),\n",
       " ('np', 85),\n",
       " ('cn', 83),\n",
       " ('pkwiu', 81),\n",
       " ('udt', 76),\n",
       " ('bswsg', 68),\n",
       " ('biobójczych', 63),\n",
       " ('bswp', 63),\n",
       " ('organizacyjno', 58),\n",
       " ('phs', 53)]"
      ]
     },
     "execution_count": 11,
     "metadata": {},
     "output_type": "execute_result"
    }
   ],
   "source": [
    "counter = Counter(not_found).most_common(30)\n",
    "counter"
   ]
  },
  {
   "cell_type": "markdown",
   "id": "79a0ca39-1e7f-4a75-bc6a-b002fcd44c4a",
   "metadata": {},
   "source": [
    "9. Find 30 random words (i.e. shuffle the words) with 5 occurrences that do not belong to the dictionary."
   ]
  },
  {
   "cell_type": "code",
   "execution_count": 12,
   "id": "11d1a8ab",
   "metadata": {},
   "outputs": [
    {
     "name": "stdout",
     "output_type": "stream",
     "text": [
      "['swine', 'rr', 'szcze', 'funkcjonalno', 'sięcy', 'czych', 'winopochodne', 'cznika', 'betezda', 'ami', 'urt', 'chelatującym', 'informacyjno', 'nfośigw', 'tzn', 'jed', 'siarczano', 'nym', 'wapnio', 'vista', 'ośc', 'inci', 'eudravigilance', 'mieszkalno', 'próbobiorców', 'najmnie', 'rci', 'contagious', 'łips', 'odbieralnice']\n"
     ]
    }
   ],
   "source": [
    "import random\n",
    "freq_5 = [token for (token,freq) in not_found.items() if freq==5 ]\n",
    "random.shuffle(freq_5)\n",
    "print(freq_5[0:30])\n"
   ]
  },
  {
   "cell_type": "markdown",
   "id": "63c2d060-bb85-4f1c-b5fd-4c996f1f9f0d",
   "metadata": {},
   "source": [
    "# 10\n",
    "10. Use Levenshtein distance and the frequency list, to determine the most probable correction of the words from\n",
    "   lists defined in points 8 and 9. (**Note**: You don't have to apply the distance directly. Any method that is more efficient than scanning the\n",
    "   dictionary will be appreciated.)"
   ]
  },
  {
   "cell_type": "code",
   "execution_count": 60,
   "id": "cc7344dd",
   "metadata": {},
   "outputs": [
    {
     "name": "stdout",
     "output_type": "stream",
     "text": [
      "[(0, 1, ('Kot', 'Kot:Sf', 'subst:sg.pl:nom.gen.dat.acc.inst.loc.voc:f', ['nazwisko'], [])), (0, 1, ('Kot', 'kot:Sm1', 'subst:sg:nom:m1', ['nazwa_pospolita'], ['pot.,środ.'])), (0, 1, ('Kot', 'Kot:Sm1', 'subst:sg:nom:m1', ['nazwisko'], [])), (0, 1, ('Kot', 'kot:Sm2', 'subst:sg:nom:m2', ['nazwa_pospolita'], [])), (0, 1, ('Kot', 'Kot:Sm3', 'subst:sg:nom.acc:m3', ['nazwa_geograficzna'], [])), (0, 1, ('Kot', 'kota', 'subst:pl:gen:f', ['nazwa_pospolita'], [])), (1, 2, ('ma', 'mieć', 'fin:sg:ter:imperf', [], [])), (1, 2, ('ma', 'mój:A', 'adj:sg:nom.voc:f:pos', [], [])), (2, 3, ('Alę', 'Ala', 'subst:sg:acc:f', ['imię'], []))]\n"
     ]
    }
   ],
   "source": [
    "morf = Morfeusz()\n",
    "analysis_result = morf.analyse(\"Kot ma Alę\")\n",
    "\n",
    "print(analysis_result)\n"
   ]
  },
  {
   "cell_type": "code",
   "execution_count": 14,
   "id": "70d297fe-b90d-480f-b842-5eaa8e560ce4",
   "metadata": {},
   "outputs": [],
   "source": [
    "filename = '../data/sgjp-20211031.tab'\n",
    "sjp =pd.read_csv(filename,skiprows=29,usecols=[0,1],header=None,delim_whitespace='\\t')[1]\n",
    "\n",
    "sjp = set(sjp)"
   ]
  },
  {
   "cell_type": "code",
   "execution_count": 57,
   "id": "543638d6-0680-4b66-b8fb-a50c789f0adb",
   "metadata": {},
   "outputs": [],
   "source": [
    "import math\n",
    "\n",
    "\n",
    "\n",
    "def find_corrections(words):\n",
    "    start = time.time()\n",
    "    suggestions = {}\n",
    "    min_distance = {}\n",
    "\n",
    "    i = 0\n",
    "    for word in words: # words with 5 ocurrences\n",
    "        suggestions[word] = []\n",
    "        min_distance[word] = math.inf \n",
    "        for dic in sjp:\n",
    "            levenshtein = Levenshtein.distance(word,dic)\n",
    "            if min_distance[word] >levenshtein:\n",
    "                min_distance[word] = levenshtein\n",
    "                suggestions[word] = [dic]\n",
    "            elif min_distance[word] == levenshtein:\n",
    "                suggestions[word].append(dic)                    \n",
    "        i+=1\n",
    "        if i%5==0:\n",
    "            print(i)\n",
    "\n",
    "    end = time.time() - start\n",
    "    print(\"total time\", end)\n",
    "    return (min_distance,suggestions)\n",
    "\n",
    "def print_corrections(words):\n",
    "    (min_distance,suggestions) = find_corrections(words)\n",
    "    for word, suggested in suggestions.items():\n",
    "        print(word, min_distance[word] ,\"--->\",suggested)"
   ]
  },
  {
   "cell_type": "code",
   "execution_count": 58,
   "id": "d4323e6b-d0c1-42cc-a978-cb55bbe440ed",
   "metadata": {},
   "outputs": [
    {
     "name": "stdout",
     "output_type": "stream",
     "text": [
      "5\n",
      "10\n",
      "15\n",
      "20\n",
      "25\n",
      "30\n",
      "35\n",
      "40\n",
      "45\n",
      "50\n",
      "55\n",
      "total time 18.21487545967102\n",
      "swine 2 ---> ['wint', 'sawina', 'Gwinea', 'spina', 'Iwiny', 'Taine', 'skin', 'iwina', 'wina', 'gwinea', 'koine', 'swoje', 'Świny', 'gwint', 'sini', 'swift', 'wino', 'spin', 'świni', 'Udine', 'spinel', 'Iwin', 'sino', 'Ewina', 'spinet', 'siny', 'shire']\n",
      "rr 1 ---> ['rh', 'nr', 'frr', 're', 'ar', 'wrr', 'brr', 'dr', 'ro', 'prr', 'drr', 'er']\n",
      "szcze 1 ---> ['szczep', 'szczek', 'szczeć']\n",
      "funkcjonalno 1 ---> ['funkcjonalny']\n",
      "sięcy 2 ---> ['silny', 'sitny', 'ssący', 'więc', 'siec', 'cięty', 'siecz', 'Zięby', 'Pięty', 'sicz', 'więzy', 'siny', 'księży']\n",
      "czych 1 ---> ['szych', 'czuch', 'chych', 'czmych']\n",
      "winopochodne 4 ---> ['niepochodny', 'węglopochodna', 'ropopochodny', 'węglopochodny', 'stopochodny', 'krwiopochodny']\n",
      "cznika 2 ---> ['ocznica', 'czajka', 'cynka', 'zniżka', 'Monika', 'tunika', 'arnika', 'cynik', 'czanka', 'cynia', 'czniać', 'ocznik', 'oznaka', 'czapka', 'Anika', 'czarka', 'czujka', 'Dzika', 'znikać', 'panika', 'tonika', 'Annika', 'czamka']\n",
      "betezda 2 ---> ['etezja']\n",
      "ami 1 ---> ['kami', 'mi', 'amid', 'ali', 'amia', 'rami', 'ćmi']\n",
      "urt 1 ---> ['furt', 'hurt', 'ura', 'ort', 'gurt', 'burt', 'ut', 'nurt']\n",
      "chelatującym 4 ---> ['czatujący']\n",
      "informacyjno 1 ---> ['informacyjny']\n",
      "nfośigw 4 ---> ['folio', 'fonia', 'opiew', 'neonik', 'nośny', 'posiew', 'foliowy', 'figa', 'Broniów', 'nori', 'naośny', 'folia', 'pościg', 'nawiew', 'ufolog', 'foliał', 'nowik', 'foki', 'nośca', 'nosić', 'Krokiew', 'neolog', 'neolit', 'nobil', 'Broniew', 'figi', 'krokiew', 'Chociw', 'nowina', 'nośnia', 'nosio', 'forint', 'neofita', 'fobia', 'nośnik', 'folga', 'nosiwo', 'fenig', 'Smoligów', 'pośpiew', 'dośpiew', 'powiew', 'nosik', 'Zofiów', 'Coniew', 'Łoniów', 'afonia', 'norito', 'noga', 'Antoniew', 'noria', 'Łosiów', 'notis', 'fowizm']\n",
      "tzn 1 ---> ['tan', 'ten', 'tyn', 'ton']\n",
      "jed 1 ---> ['jen', 'jod', 'jej', 'ued', 'jad']\n",
      "siarczano 1 ---> ['siarczan', 'siarczany']\n",
      "nym 1 ---> ['nim', 'nom', 'dym', 'cym', 'nem']\n",
      "wapnio 1 ---> ['wapnić', 'wapno']\n",
      "vista 1 ---> ['lista']\n",
      "ośc 1 ---> ['ość', 'oś']\n",
      "inci 1 ---> ['Vinci']\n",
      "eudravigilance 7 ---> ['udaninianin', 'udrażniacz', 'udaninianka', 'uprawianie', 'andragogicznie']\n",
      "mieszkalno 1 ---> ['mieszkalny']\n",
      "próbobiorców 4 ---> ['pracobiorca', 'prądobiorca']\n",
      "najmnie 1 ---> ['najemnie']\n",
      "rci 1 ---> ['ci']\n",
      "contagious 4 ---> ['optatiwus', 'longinus', 'rotawirus']\n",
      "łips 1 ---> ['gips', 'tips', 'mips']\n",
      "odbieralnice 2 ---> ['odbieralnik', 'odbieralnia']\n",
      "schetyna 2 ---> ['chatyna', 'cetyna', 'chityna']\n",
      "zawart 2 ---> ['zadarty', 'zwarty', 'zawór', 'nawar', 'zawora', 'bawar', 'Zawarta', 'zawrót', 'kwart', 'zakat', 'zatwar', 'zamarty', 'zawada', 'zawał', 'sawant', 'Bawar', 'zatarg', 'zwara', 'zażarty', 'zawała', 'zwarto', 'makart', 'zawale']\n",
      "sposb 2 ---> ['sos', 'snob', 'spona', 'spora', 'społy', 'opos', 'spod', 'stołb', 'epos', 'oposy', 'spot', 'stos', 'spoza', 'spisa', 'spust', 'szosa', 'spis', 'skos', 'spory', 'spoić', 'szos']\n",
      "ponitracyjnego 5 ---> ['penetracyjny', 'penetracyjność', 'bonitacyjność', 'bonitacyjny']\n",
      "teryto 2 ---> ['tefryt', 'teryna', 'toryt', 'terno', 'tryt', 'koryto', 'meryt']\n",
      "difenylopropylo 7 ---> ['nienylonowy']\n",
      "jwh 2 ---> ['jen', 'rh', 'wa', 'ach', 'jaz', 'jawa', 'dwa', 'owa', 'ów', 'KCh', 'jin', 'UwB', 'jaś', 'jor', 'jąć', 'jon', 'ech', 'Ewy', 'BCh', 'www', 'jęk', 'jam', 'wu', 'uh', 'juz', 'jod', 'jol', 'lwi', 'ow', 'Iwa', 'wf', 'już', 'jej', 'jaź', 'wc', 'Rh', 'w', 'jaw', 'rwa', 'Iwo', 'jur', 'jot', 'jus', 'och', 'kwa', 'iwa', 'oh', 'ja', 'jog', 'bah', 'eh', 'jar', 'jut', 'vw', 'juk', 'uch', 'wy', 'jad', 'Ewa']\n",
      "shigella 3 ---> ['libella', 'spirylla', 'Mirella']\n",
      "odgazowywacze 3 ---> ['odgazowywać']\n",
      "agave 1 ---> ['agape']\n",
      "inspekcyjno 1 ---> ['inspekcyjny']\n",
      "heptanol 2 ---> ['heptan', 'etanol', 'metanol']\n",
      "ppkt 1 ---> ['pkt', 'pakt']\n",
      "instrumen 1 ---> ['instrument']\n",
      "denitracyjne 3 ---> ['defibracyjny', 'penetracyjny', 'denotacyjny']\n",
      "wodno 1 ---> ['wonno', 'wodny', 'widno']\n",
      "regazyfikacyjnego 5 ---> ['niegazyfikacyjny', 'niegazyfikacyjność', 'gazyfikacyjny', 'gazyfikacyjność', 'denazyfikacyjny', 'denazyfikacyjność']\n",
      "edukacyjno 1 ---> ['edukacyjny']\n",
      "metylofenetyloamina 8 ---> ['fenyloamina', 'metyloamina']\n",
      "kpwig 2 ---> ['wig', 'kwit', 'dźwig', 'kpić', 'kwiz', 'kwik']\n",
      "rialnego 3 ---> ['ringo']\n",
      "nitracyjne 3 ---> ['migracyjnie', 'notacyjny', 'narracyjnie', 'nieoracyjny', 'wibracyjny', 'migracyjny', 'filtracyjny', 'nietrakcyjny', 'iteracyjny', 'nitratyn', 'narracyjny', 'nutacyjny', 'libracyjny']\n",
      "wlkp 2 ---> ['slup', 'Olki', 'wlot', 'wilki', 'elki', 'elka', 'Elka', 'ulop', 'ulep', 'wlec', 'ślip', 'wok', 'werp', 'alko', 'zlep', 'slip', 'alka', 'Ulka', 'wyka', 'wamp', 'klop', 'wykup', 'clip', 'klip', 'wlać', 'lkm', 'ślep', 'klap', 'wkop', 'Alka', 'wsyp', 'wąkop', 'wlew', 'wek', 'flip', 'wykop', 'klep', 'walka', 'wykap', 'wrap', 'wkup', 'wikt', 'wilk', 'weka', 'lep']\n",
      "ym 1 ---> ['im', 'em', 'hm', 'dym', 'cym', 'om', 'km', 'yhm', 'um']\n",
      "organicz 2 ---> ['organicyzm', 'organizm', 'organiarz', 'organiczny']\n",
      "kj 1 ---> ['ka', 'ki', 'kij', 'kb', 'ej', 'aj', 'km', 'oj', 'k']\n"
     ]
    }
   ],
   "source": [
    "print_corrections(freq_5)"
   ]
  },
  {
   "cell_type": "code",
   "execution_count": 59,
   "id": "9c59787d-54e4-4753-895a-e5a25ed0d2b8",
   "metadata": {
    "tags": []
   },
   "outputs": [
    {
     "name": "stdout",
     "output_type": "stream",
     "text": [
      "5\n",
      "10\n",
      "15\n",
      "20\n",
      "25\n",
      "30\n",
      "total time 10.512600421905518\n",
      "poz 1 ---> ['paz', 'pot', 'oz', 'płoz', 'pod', 'po']\n",
      "zm 1 ---> ['im', 'em', 'hm', 'om', 'km', 'izm', 'um']\n",
      "późn 1 ---> ['późno', 'późny']\n",
      "str 1 ---> ['itr', 'ser', 'sto', 'syr', 'styr', 'ster', 'star']\n",
      "gmo 1 ---> ['go', 'śmo']\n",
      "sww 1 ---> ['www', 'suw']\n",
      "operacyjno 1 ---> ['operacyjny']\n",
      "skw 1 ---> ['ska', 'suw', 'ski']\n",
      "rolno 1 ---> ['rolny', 'Solno', 'Kolno', 'Dolno', 'rojno', 'rośno']\n",
      "ex 1 ---> ['Rex', 'ee', 'em', 'eś', 'el', 'et', 'en', 'e', 'er', 'sex', 'ej', 'eł', 'eh', 'eń']\n",
      "ike 1 ---> ['iże', 'Nike']\n",
      "społeczno 1 ---> ['społeczny']\n",
      "techniczno 1 ---> ['techniczny']\n",
      "remediacji 3 ---> ['repudiacja', 'mediacja']\n",
      "ure 1 ---> ['öre', 're', 'ura']\n",
      "rozdz 2 ---> ['Gozd', 'rozdać', 'rozkaz', 'rozwóz', 'drozd', 'rydz', 'rod', 'Gozdy', 'rozmaz', 'rozdąć', 'rzaz', 'rondo', 'rozum', 'rzez', 'rond', 'rozdół']\n",
      "itp 1 ---> ['itr', 'ftp']\n",
      "uke 2 ---> ['suk', 'wte', 'urka', 'ska', 'keb', 'udko', 'udo', 'Dukt', 'ee', 'ufo', 'uhm', 'u', 'luks', 'ukuć', 'Age', 'Duje', 'he', 'suka', 'ulep', 'Oka', 'Kukle', 'ka', 'źle', 'ker', 'öre', 're', 'ket', 'pfe', 'juka', 'fuks', 'uaz', 'ukaz', 'ki', 'żuk', 'uha', 'Kuce', 'ckm', 'uff', 'iże', 'ul', 'te', 'Joe', 'akr', 'ehe', 'ura', 'uh', 'luk', 'kem', 'eee', 'ud', 'Gule', 'ulem', 'che', 'gie', 'rkm', 'nuże', 'Ikea', 'Nike', 'Żuki', 'sake', 'łuk', 'buk', 'luka', 'Złe', 'tuk', 'up', 'bule', 'aże', 'Noe', 'e', 'lkm', 'ulec', 'oje', 'ukoś', 'Ruże', 'duk', 'uno', 'me', 'kb', 'fe', 'dukt', 'ubek', 'kea', 'e-e', 'uhu', 'złe', 'tuka', 'ck', 'Kule', 'kuks', 'pkt', 'Lute', 'ukres', 'buks', 'km', 'ulew', 'ukop', 'ce', 'ut', 'Ose', 'ski', 'fuk', 'duce', 'ukos', 'huk', 'ued', 'k', 'juk', 'Rukle', 'tee', 'pe', 'uch', 'kuk', 'Buka', 'um', 'Poe']\n",
      "kn 1 ---> ['in', 'ka', 'ki', 'en', 'kb', 'km', 'k']\n",
      "sanitarno 1 ---> ['sanitarny']\n",
      "charytatywno 1 ---> ['charytatywny']\n",
      "np 1 ---> ['nr', 'nu', 'up', 'bp']\n",
      "cn 1 ---> ['in', 'cyn', 'cno', 'cna', 'en', 'cny', 'ci', 'ck', 'ce']\n",
      "pkwiu 2 ---> ['wiu', 'powit', 'powić', 'tkwić', 'pawić', 'kwiku', 'skwir', 'kwit', 'okwit', 'kwiz', 'Akwin', 'piu', 'kwik', 'pawik', 'pokwit', 'pfiu', 'pawio', 'pawi']\n",
      "udt 1 ---> ['udo', 'ud', 'ut']\n",
      "bswsg 3 ---> ['byss', 'sos', 'osiąg', 'bass', 'bies', 'blog', 'Issa', 'swój', 'bawny', 'bawar', 'sus', 'boks', 'stóg', 'bios', 'news', 'bryzg', 'bawet', 'bróg', 'swat', 'busz', 'bursz', 'siąg', 'swap', 'usus', 'bessa', 'tss', 'bóg', 'boso', 'Osse', 'bórg', 'bryg', 'biust', 'sms', 'wig', 'sąg', 'song', 'borg', 'bieg', 'bosy', 'bywać', 'bmw', 'biwak', 'swąd', 'Ławsk', 'biwa', 'boss', 'bims', 'dźwig', 'berso', 'smog', 'spąg', 'bursa', 'bawić', 'bus', 'swar', 'batog', 'beg', 'błysk', 'balsa', 'Ossa', 'bawół', 'Ossy', 'bluzg', 'brzeg', 'buksa', 'buks', 'bums', 'belg', 'baks', 'blask', 'scs', 'susz', 'burg', 'smug', 'brus', 'bras', 'Osusz']\n",
      "biobójczych 5 ---> ['ludobójczy', 'rozbójczy', 'zbójczy', 'Milejczyce', 'Trójczyce', 'zabójczy', 'jajobójczy', 'Libijczyk', 'borsuczyca', 'mężobójczy', 'molobójczy', 'bobczyć', 'samobójczy', 'carobójczy', 'podbójczy', 'niezbójczy', 'Swojczyce', 'mężobójczyni', 'ojczyc', 'Kobyłczyce', 'samobójczyni', 'Dobczyce', 'robaczyca', 'zbójczyni', 'synobójczyni', 'zabójczyni', 'bratobójczy', 'ojcobójczy', 'obojczyk', 'Sobczyce', 'ojcobójczyni', 'Wojczyce', 'bratobójczyni']\n",
      "bswp 2 ---> ['syp', 'zsyp', 'bhp', 'sap', 'bop', 'Isep', 'zsep', 'sep', 'osyp', 'osęp', 'swap', 'osep', 'bmw', 'biwa', 'bp', 'wsyp', 'usyp']\n",
      "organizacyjno 1 ---> ['organizacyjny']\n",
      "phs 1 ---> ['phy', 'pąs', 'phu']\n"
     ]
    }
   ],
   "source": [
    "# print(suggestions)\n",
    "top_30 = [token for (token,_) in counter]\n",
    "\n",
    "print_corrections(top_30)\n"
   ]
  },
  {
   "cell_type": "markdown",
   "id": "a9f14b0a-c048-447f-96ac-70d8684b93e1",
   "metadata": {},
   "source": [
    "# ELASTICSEARCH"
   ]
  },
  {
   "cell_type": "markdown",
   "id": "319bed27-ceef-49d3-bbe6-d70125ce12ef",
   "metadata": {},
   "source": [
    "11. Load [SGJP dictionary](http://morfeusz.sgjp.pl/download/) (Słownik SGJP dane tekstowe) to ElasticSearch (one document for each form) \n",
    "   and use fuzzy matching to obtain the possible\n",
    "   corrections of the 30 words with 5 occurrences that do not belong to the dictionary."
   ]
  },
  {
   "cell_type": "code",
   "execution_count": 20,
   "id": "e93e5d4f",
   "metadata": {},
   "outputs": [
    {
     "name": "stdout",
     "output_type": "stream",
     "text": [
      "{'name': 'x-dell', 'cluster_name': 'elasticsearch', 'cluster_uuid': 'hrJwCHZtSGm_1kBHAztvag', 'version': {'number': '7.10.1', 'build_flavor': 'default', 'build_type': 'deb', 'build_hash': '1c34507e66d7db1211f66f3513706fdf548736aa', 'build_date': '2020-12-05T01:00:33.671820Z', 'build_snapshot': False, 'lucene_version': '8.7.0', 'minimum_wire_compatibility_version': '6.8.0', 'minimum_index_compatibility_version': '6.0.0-beta1'}, 'tagline': 'You Know, for Search'}\n"
     ]
    },
    {
     "data": {
      "text/plain": [
       "<Elasticsearch([{'host': 'localhost'}])>"
      ]
     },
     "execution_count": 20,
     "metadata": {},
     "output_type": "execute_result"
    }
   ],
   "source": [
    "es = Elasticsearch(\"http://localhost:9200\")\n",
    "print(es.info())\n",
    "\n",
    "connections.add_connection('python_client', es)\n",
    "connections.create_connection(hosts=['localhost'])\n"
   ]
  },
  {
   "cell_type": "code",
   "execution_count": 21,
   "id": "2e3cf059",
   "metadata": {},
   "outputs": [],
   "source": [
    "synonym = token_filter('my_name', type='synonym',\n",
    "                       synonyms =\n",
    "                       [\"kpk => kodeks postępowania karnego\",\n",
    "                        \"kpc => kodeks postępowania cywilnego\",\n",
    "                        \"kk => kodeks karny\",\n",
    "                        \"kc => kodeks cywilny\"\n",
    "                       ])\n",
    "\n",
    "my_analyzer = analyzer('my_analyzer',\n",
    "    tokenizer=tokenizer('standard'),\n",
    "    filter=[\"lowercase\",synonym,\"morfologik_stem\"]\n",
    ")\n",
    "\n",
    "\n",
    "class Ustawa(Document):\n",
    "    title = Text()\n",
    "    created_at = Integer()\n",
    "    content = Text(analyzer=my_analyzer)\n",
    "    \n",
    "    class Index:\n",
    "        name = 'ustawa'\n",
    "        \n",
    "        \n",
    "\n",
    "Ustawa.init()\n",
    "\n",
    "iterations = 0\n",
    "path=\"../data/ustawy\"\n",
    "for filename in os.listdir(path):\n",
    "    with open(os.path.join(path, filename), 'r',encoding='utf-8') as f: # open in readonly mode\n",
    "        \n",
    "        year = int(re.search(r'.*\\/([^\\/]{4})',f.name).group(1))\n",
    "        first = Ustawa(title=f.name,content=f.read(),created_at = year)\n",
    "        \n",
    "        first.save(using=es)\n",
    "        iterations+=1"
   ]
  },
  {
   "cell_type": "code",
   "execution_count": 22,
   "id": "2200c060",
   "metadata": {},
   "outputs": [],
   "source": [
    "filename = '../data/sgjp-20211031.tab'\n",
    "sjp =pd.read_csv(filename,skiprows=29,usecols=[0,1],header=None,delim_whitespace='\\t')[1]\n",
    "\n",
    "sjp = set(sjp)"
   ]
  },
  {
   "cell_type": "code",
   "execution_count": 23,
   "id": "93c4cdab-278e-4969-b989-df6f398789a6",
   "metadata": {},
   "outputs": [],
   "source": [
    "\n",
    "# def gendata():\n",
    "#     mywords = ['kot', 'mysz', 'baz']\n",
    "#     for word in mywords:\n",
    "#         yield {\n",
    "#             \"_index\": \"mywords1\",\n",
    "#             \"word\": word,\n",
    "#         }\n",
    "\n",
    "# bulk(es, gendata(),request_timeout=10000)"
   ]
  },
  {
   "cell_type": "code",
   "execution_count": 24,
   "id": "6783da33-c3fb-471c-80c7-922fb3159baf",
   "metadata": {},
   "outputs": [
    {
     "name": "stdout",
     "output_type": "stream",
     "text": [
      "0\n",
      "300000\n"
     ]
    },
    {
     "data": {
      "text/plain": [
       "(383709, [])"
      ]
     },
     "execution_count": 24,
     "metadata": {},
     "output_type": "execute_result"
    }
   ],
   "source": [
    "def gendata():\n",
    "    i=0\n",
    "    for word in sjp:\n",
    "        if i%300000 ==0:\n",
    "            print(i)\n",
    "        i+=1\n",
    "        yield {\n",
    "            \"_index\": \"sjp\",\n",
    "            \"word\": word,\n",
    "        }\n",
    "                \n",
    "\n",
    "bulk(es, gendata(),request_timeout=10000 )"
   ]
  },
  {
   "cell_type": "code",
   "execution_count": 33,
   "id": "437aba28-100f-44c7-80ad-f59407b44d25",
   "metadata": {},
   "outputs": [
    {
     "name": "stdout",
     "output_type": "stream",
     "text": [
      "['misz-masz', 'mysz', 'mesz', 'mysi', 'myszy', 'wysz', 'kysz', 'MSZ']\n",
      "['Word belongs to the dictionary']\n"
     ]
    }
   ],
   "source": [
    "def get_corrections(myword,myindex,fuzziness=1):\n",
    "    result =es.search(index=myindex,\n",
    "       query ={\n",
    "            \"fuzzy\": {\n",
    "                \"word\": {\n",
    "                \"value\": myword,\n",
    "                \"fuzziness\": fuzziness\n",
    "                }\n",
    "            }\n",
    "        }\n",
    "    )\n",
    "    hits = result['hits']['hits']\n",
    "\n",
    "\n",
    "    hits_number = len(hits)\n",
    "\n",
    "    # print(hits_number)\n",
    "\n",
    "    suggestions = [i['_source']['word'] for i in hits]\n",
    "    # print(suggestions)\n",
    "    return suggestions\n",
    "\n",
    "\n",
    "print(get_corrections('mysz','sjp'))\n",
    "\n",
    "\n",
    "def get_corrections_if_needed(word,index):\n",
    "    for fuzziness in range(1,40):\n",
    "        corrections = get_corrections(word,index,fuzziness=fuzziness)\n",
    "        if len(corrections)>1:\n",
    "            break\n",
    "\n",
    "    if word in corrections:\n",
    "        return [\"Word belongs to the dictionary\"]\n",
    "    else:\n",
    "        return (corrections,fuzziness)\n",
    "    \n",
    "\n",
    "\n",
    "print(get_corrections_if_needed('mysz','sjp'))"
   ]
  },
  {
   "cell_type": "code",
   "execution_count": 72,
   "id": "077c2ad8-f352-4087-9864-36586ec20eb4",
   "metadata": {},
   "outputs": [],
   "source": [
    "def print_suggestions_elastic_search(words):\n",
    "    start = time.time()\n",
    "\n",
    "    for word in words:\n",
    "        (corrections,fuzziness) = get_corrections_if_needed(word,'sjp')\n",
    "        print(word, f'-->distance={fuzziness} ', corrections)\n",
    "    print(f'Total time={time.time()-start}')\n"
   ]
  },
  {
   "cell_type": "code",
   "execution_count": 74,
   "id": "a41d297f-5af7-42dd-bd08-85495d67b90f",
   "metadata": {},
   "outputs": [
    {
     "name": "stdout",
     "output_type": "stream",
     "text": [
      "poz -->distance=1  ['TOZ', 'pot', 'Pot', 'paz', 'ZOZ', 'POW', 'płoz', 'pod', 'Poe', 'oz']\n",
      "zm -->distance=1  ['powypasać:Vp~am~zę', 'pasać:Vi~am~zę', 'ZMS', 'om', 'hm', 'RM', 'ZK', 'ZS', 'ZOM', 'ZMP']\n",
      "późn -->distance=1  ['późno', 'Późna', 'późny']\n",
      "str -->distance=1  ['SOR', 'styr', 'ser', 'STAR', 'itr', 'Star', 'syr', 'sto', 'ster', 'star']\n",
      "gmo -->distance=1  ['śmo', 'WMO', 'GMC', 'MO', 'go', 'GM', 'Wilde:Sm1~go', 'Jeske:Sm1~go', 'Faure:Sm1~go', 'Hauke:Sm1~go']\n",
      "sww -->distance=1  ['www', 'WWW', 'suw', 'WSW', 'SW']\n",
      "operacyjno -->distance=2  ['operacyjny', 'operacyjnie', 'operacyjność', 'operacyjka']\n",
      "skw -->distance=1  ['UKW', 'SKS', 'ska', 'PKW', 'suw', 'ski', 'SW']\n",
      "rolno -->distance=1  ['Dolno', 'rojno', 'Solno', 'Kolno', 'rolny', 'rośno', 'Rożno']\n",
      "ex -->distance=1  ['er', 'sex', 'eś', 'ee', 'em', 'et', 'en', 'Rex', 'el', 'Ed']\n",
      "ike -->distance=1  ['IDE', 'Ikea', 'Nike', 'iże', 'IKEA', 'KE']\n",
      "społeczno -->distance=1  ['społeczny', 'Sołeczno']\n",
      "techniczno -->distance=2  ['techniczny', 'techniczność', 'techniczka', 'technicznie']\n",
      "remediacji -->distance=39  []\n",
      "ure -->distance=1  ['URz', 'öre', 'URL', 'Uri', 'Urle', 'ura', 'URM', 'BRE', 're', 'UE']\n",
      "rozdz -->distance=2  ['rozdąć', 'Gozdy', 'rozkaz', 'rozwóz', 'drozd', 'rozdać', 'rozmaz', 'rondo', 'rozum', 'rozdół']\n",
      "itp -->distance=1  ['MTP', 'ftp', 'Ita', 'itr', 'ATP', 'ITI', 'UTP', 'DTP', 'FTP', 'IP']\n",
      "uke -->distance=1  ['UKF', 'UKW', 'UE', 'UK', 'KE']\n",
      "kn -->distance=1  ['wełna:Sf~en~łn', 'Wiosna:Sf~en~sn', 'Wełna:Sf~en~łn', 'ko-ko-ko', 'FN', 'UN', 'SN', 'MN', 'kb', 'KG']\n",
      "sanitarno -->distance=2  ['sanitarny', 'sanitarność', 'sanitarka', 'sanitarnie', 'sanitaria']\n",
      "charytatywno -->distance=2  ['charytatywny', 'charytatywność', 'charytatywnie']\n",
      "np -->distance=1  ['ND', 'IP', 'HP', 'NW', 'NPD', 'nu', 'KP', 'ZNP', 'NEP', 'NIP']\n",
      "cn -->distance=1  ['wełna:Sf~en~łn', 'Wiosna:Sf~en~sn', 'Wełna:Sf~en~łn', 'CD', 'FN', 'UN', 'SN', 'MN', 'CNN', 'LN']\n",
      "pkwiu -->distance=2  ['tkwić', 'Akwin', 'kwiku', 'pawić', 'powit', 'powić', 'okwit', 'skwir', 'Pawia', 'pawik']\n",
      "udt -->distance=1  ['PDT', 'UHT', 'udo', 'DDT', 'UPT', 'ud', 'ut']\n",
      "bswsg -->distance=39  []\n",
      "biobójczych -->distance=39  []\n",
      "bswp -->distance=2  ['osep', 'zsep', 'osyp', 'ZSMP', 'swap', 'osęp', 'KSAP', 'ESOP', 'zsyp', 'WSiP']\n",
      "organizacyjno -->distance=2  ['organizacyjny', 'organizacyjność', 'organizacyjnie']\n",
      "phs -->distance=1  ['pąs', 'PDS', 'PBS', 'phy', 'PPS', 'PiS', 'VHS', 'PKS', 'PSS', 'PRS']\n",
      "Total time=0.9769184589385986\n"
     ]
    }
   ],
   "source": [
    "print_suggestions_elastic_search(top_30)"
   ]
  },
  {
   "cell_type": "code",
   "execution_count": 73,
   "id": "6d939881-92f6-4ce9-934c-2fcf8efe4c0a",
   "metadata": {},
   "outputs": [
    {
     "name": "stdout",
     "output_type": "stream",
     "text": [
      "swine -->distance=2  ['Świny', 'Sowin', 'gwint', 'Suwin', 'Iwiny', 'Taine', 'sanie', 'spinel', 'Winne', 'koine']\n",
      "rr -->distance=1  ['ro-ro', 'LR', 're', 'ar', 'wrr', 'brr', 'dr', 'er', 'RM', 'ro']\n",
      "szcze -->distance=1  ['Sycze', 'szczep', 'szczek', 'szczeć']\n",
      "funkcjonalno -->distance=2  ['funkcjonalny', 'funkcjonalność', 'funkcjonalnie']\n",
      "sięcy -->distance=2  ['ssący', 'Pięty', 'sitny', 'silny', 'cięty', 'siecz', 'Zięby', 'więzy', 'Siary', 'księży']\n",
      "czych -->distance=1  ['szych', 'czuch', 'chych', 'czmych']\n",
      "winopochodne -->distance=39  []\n",
      "cznika -->distance=2  ['czniać', 'ocznik', 'czajka', 'Gzinka', 'zniżka', 'Monika', 'oczniak', 'tunika', 'arnika', 'czanka']\n",
      "betezda -->distance=39  ['etezja']\n",
      "ami -->distance=1  ['ali', 'amia', 'amid', 'Ażi', 'kami', 'a:I', 'rami', 'ćmi', 'API', 'Ali']\n",
      "urt -->distance=1  ['ort', 'URz', 'gurt', 'URL', 'furt', 'Uri', 'hurt', 'UHT', 'ura', 'URM']\n",
      "chelatującym -->distance=39  []\n",
      "informacyjno -->distance=2  ['informacyjny', 'informacyjnie', 'informacyjność']\n",
      "nfośigw -->distance=39  []\n",
      "tzn -->distance=1  ['tyn', 'ten', 'tan', 'ton', 'OZN', 'TPN', 'TVN', 'won-ton']\n",
      "jed -->distance=1  ['jej', 'jod', 'jen', 'ued', 'jad', 'Ed', 'Siergiej:Sm1~je~owie', 'Maciej:Sm1~je~owie', 'Błażej:Sm1~je~owie']\n",
      "siarczano -->distance=1  ['siarczany', 'siarczan']\n",
      "nym -->distance=1  ['nom', 'dym', 'nim', 'cym', 'nem', 'wolny:A~ny', 'niewdzięczny:A~ny', 'niewinny:A~ny', 'niewinny:A~ien~ny', 'wolny:A~en~ny']\n",
      "wapnio -->distance=1  ['wapnić', 'Wapnik', 'Wapno', 'wapno']\n",
      "vista -->distance=1  ['lista', 'KGB-ista']\n",
      "ośc -->distance=1  ['ość', 'OC', 'oś']\n",
      "inci -->distance=2  ['Vinci', 'iścić', 'ongi', 'sini', 'inąd', 'lincz', 'inny', 'kaci', 'inak', 'nick']\n",
      "eudravigilance -->distance=39  []\n",
      "mieszkalno -->distance=2  ['mieszkalny', 'mieszkalnia', 'mieszkanko', 'mieszkalność', 'mieszalny']\n",
      "próbobiorców -->distance=39  []\n",
      "najmnie -->distance=2  ['najemnie', 'nalanie', 'gajenie', 'tajemnie', 'nadanie', 'najemnik', 'naiwnie', 'najście', 'bajanie', 'fajnie']\n",
      "rci -->distance=1  ['PCI', 'RAI', 'RCA', 'ci', 'Gać:Sf~ci', 'Kopyść:Sf~ci', 'imć:Sm1~ci', 'Got:Sm1~ci', 'Galata:Sm1~ci', 'Zbylut:Sm1~ci~towie']\n",
      "contagious -->distance=39  []\n",
      "łips -->distance=1  ['gips', 'tips', 'mips']\n",
      "odbieralnice -->distance=2  ['odbieralnia', 'odbieralnik']\n",
      "schetyna -->distance=2  ['chatyna', 'chityna', 'cetyna']\n",
      "zawart -->distance=1  ['Zawarta', 'Zawrat']\n",
      "sposb -->distance=2  ['spoza', 'Szosa', 'stołb', 'Spore', 'oposy', 'spona', 'spora', 'społy', 'Spock', 'spust']\n",
      "ponitracyjnego -->distance=39  []\n",
      "teryto -->distance=2  ['teryna', 'tefryt', 'koryto', 'terkot', 'Tryton', 'toryt', 'terno', 'meryt', 'tryt']\n",
      "difenylopropylo -->distance=39  []\n",
      "jwh -->distance=2  ['Iwa', 'już', 'jej', 'jaź', 'EWG', 'BWZ', 'Jim', 'jin', 'BPH', 'jaś']\n",
      "shigella -->distance=39  []\n",
      "odgazowywacze -->distance=39  []\n",
      "agave -->distance=2  ['agape', 'agama', 'agapa', 'agawa', 'agar-agar', 'agat', 'agar', 'Gaje', 'Gace', 'Aga']\n",
      "inspekcyjno -->distance=2  ['inspekcyjny', 'inspekcyjność']\n",
      "heptanol -->distance=2  ['metanol', 'etanol', 'heptan']\n",
      "ppkt -->distance=1  ['pakt', 'pkt']\n",
      "instrumen -->distance=39  ['instrument']\n",
      "denitracyjne -->distance=39  []\n",
      "wodno -->distance=1  ['wodny', 'Widno', 'wonno', 'widno']\n",
      "regazyfikacyjnego -->distance=39  []\n",
      "edukacyjno -->distance=2  ['edukacyjny', 'edukacyjność', 'edukacyjnie']\n",
      "metylofenetyloamina -->distance=39  []\n",
      "kpwig -->distance=2  ['Kawie', 'Kewin', 'dźwig', 'kpić', 'kwiz', 'kwit', 'kwik', 'Księżak:Sm1~kowie', 'Poleszuk:Sm1~kowie', 'Byk:Sm1~kowie']\n",
      "rialnego -->distance=39  []\n",
      "nitracyjne -->distance=39  []\n",
      "wlkp -->distance=2  ['wamp', 'klop', 'ślep', 'klap', 'wkop', 'zlep', 'slip', 'alka', 'Wyki', 'werp']\n",
      "ym -->distance=1  ['yo-yo', 'om', 'hm', 'RM', 'dym', 'em', 'GM', 'im', 'cym', 'UM']\n",
      "organicz -->distance=2  ['organiarz', 'organiczny', 'organicyzm', 'organizm']\n",
      "kj -->distance=1  ['ko-ko-ko', 'kb', 'KG', 'ki', 'kij', 'KP', 'BJ', 'DJ', 'ka', 'UJ']\n",
      "Total time=5.331502199172974\n"
     ]
    }
   ],
   "source": [
    "print_suggestions_elastic_search(freq_5)"
   ]
  },
  {
   "cell_type": "code",
   "execution_count": 28,
   "id": "9918da12",
   "metadata": {},
   "outputs": [
    {
     "name": "stdout",
     "output_type": "stream",
     "text": [
      "2\n"
     ]
    }
   ],
   "source": [
    "\n",
    "print(Levenshtein.distance(\"AA\",\"BA!\"))"
   ]
  },
  {
   "cell_type": "code",
   "execution_count": 29,
   "id": "fe18ca73",
   "metadata": {},
   "outputs": [
    {
     "data": {
      "text/plain": [
       "['swine',\n",
       " 'rr',\n",
       " 'szcze',\n",
       " 'funkcjonalno',\n",
       " 'sięcy',\n",
       " 'czych',\n",
       " 'winopochodne',\n",
       " 'cznika',\n",
       " 'betezda',\n",
       " 'ami',\n",
       " 'urt',\n",
       " 'chelatującym',\n",
       " 'informacyjno',\n",
       " 'nfośigw',\n",
       " 'tzn',\n",
       " 'jed',\n",
       " 'siarczano',\n",
       " 'nym',\n",
       " 'wapnio',\n",
       " 'vista',\n",
       " 'ośc',\n",
       " 'inci',\n",
       " 'eudravigilance',\n",
       " 'mieszkalno',\n",
       " 'próbobiorców',\n",
       " 'najmnie',\n",
       " 'rci',\n",
       " 'contagious',\n",
       " 'łips',\n",
       " 'odbieralnice',\n",
       " 'schetyna',\n",
       " 'zawart',\n",
       " 'sposb',\n",
       " 'ponitracyjnego',\n",
       " 'teryto',\n",
       " 'difenylopropylo',\n",
       " 'jwh',\n",
       " 'shigella',\n",
       " 'odgazowywacze',\n",
       " 'agave',\n",
       " 'inspekcyjno',\n",
       " 'heptanol',\n",
       " 'ppkt',\n",
       " 'instrumen',\n",
       " 'denitracyjne',\n",
       " 'wodno',\n",
       " 'regazyfikacyjnego',\n",
       " 'edukacyjno',\n",
       " 'metylofenetyloamina',\n",
       " 'kpwig',\n",
       " 'rialnego',\n",
       " 'nitracyjne',\n",
       " 'wlkp',\n",
       " 'ym',\n",
       " 'organicz',\n",
       " 'kj']"
      ]
     },
     "execution_count": 29,
     "metadata": {},
     "output_type": "execute_result"
    }
   ],
   "source": [
    "freq_5"
   ]
  },
  {
   "cell_type": "code",
   "execution_count": 30,
   "id": "20d8d49d-6202-4861-9db1-f9369c5b491b",
   "metadata": {
    "tags": []
   },
   "outputs": [
    {
     "name": "stdout",
     "output_type": "stream",
     "text": [
      "{'1': {'term_freq': 1, 'tokens': [{'position': 41, 'start_offset': 670, 'end_offset': 671}]}, '14': {'term_freq': 1, 'tokens': [{'position': 89, 'start_offset': 1099, 'end_offset': 1101}]}, '19': {'term_freq': 1, 'tokens': [{'position': 77, 'start_offset': 969, 'end_offset': 971}]}, '1995': {'term_freq': 1, 'tokens': [{'position': 79, 'start_offset': 980, 'end_offset': 984}]}, '1996': {'term_freq': 1, 'tokens': [{'position': 13, 'start_offset': 300, 'end_offset': 304}]}, '1997': {'term_freq': 1, 'tokens': [{'position': 2, 'start_offset': 49, 'end_offset': 53}]}, '2': {'term_freq': 1, 'tokens': [{'position': 82, 'start_offset': 1062, 'end_offset': 1063}]}, '21': {'term_freq': 1, 'tokens': [{'position': 11, 'start_offset': 287, 'end_offset': 289}]}, '30': {'term_freq': 1, 'tokens': [{'position': 7, 'start_offset': 68, 'end_offset': 70}]}, '6': {'term_freq': 1, 'tokens': [{'position': 5, 'start_offset': 60, 'end_offset': 61}]}, 'a': {'term_freq': 2, 'tokens': [{'position': 23, 'start_offset': 422, 'end_offset': 423}, {'position': 55, 'start_offset': 805, 'end_offset': 806}]}, 'artykuł': {'term_freq': 2, 'tokens': [{'position': 40, 'start_offset': 665, 'end_offset': 668}, {'position': 81, 'start_offset': 1057, 'end_offset': 1060}]}, 'brukseli': {'term_freq': 1, 'tokens': [{'position': 74, 'start_offset': 952, 'end_offset': 960}]}, 'czerwiec': {'term_freq': 1, 'tokens': [{'position': 78, 'start_offset': 972, 'end_offset': 979}]}, 'dla': {'term_freq': 2, 'tokens': [{'position': 29, 'start_offset': 472, 'end_offset': 475}, {'position': 61, 'start_offset': 855, 'end_offset': 858}]}, 'do': {'term_freq': 1, 'tokens': [{'position': 47, 'start_offset': 724, 'end_offset': 726}]}, 'dodatkowy': {'term_freq': 2, 'tokens': [{'position': 39, 'start_offset': 547, 'end_offset': 558}, {'position': 71, 'start_offset': 923, 'end_offset': 934}]}, 'dotyczyć': {'term_freq': 2, 'tokens': [{'position': 31, 'start_offset': 483, 'end_offset': 493}, {'position': 63, 'start_offset': 866, 'end_offset': 876}]}, 'dz.u': {'term_freq': 1, 'tokens': [{'position': 0, 'start_offset': 41, 'end_offset': 45}]}, 'dzień': {'term_freq': 4, 'tokens': [{'position': 10, 'start_offset': 282, 'end_offset': 286}, {'position': 76, 'start_offset': 963, 'end_offset': 967}, {'position': 90, 'start_offset': 1102, 'end_offset': 1105}, {'position': 92, 'start_offset': 1109, 'end_offset': 1113}]}, 'inny': {'term_freq': 2, 'tokens': [{'position': 24, 'start_offset': 424, 'end_offset': 430}, {'position': 56, 'start_offset': 807, 'end_offset': 813}]}, 'jej': {'term_freq': 2, 'tokens': [{'position': 37, 'start_offset': 533, 'end_offset': 536}, {'position': 69, 'start_offset': 909, 'end_offset': 912}]}, 'listopad': {'term_freq': 1, 'tokens': [{'position': 12, 'start_offset': 290, 'end_offset': 299}]}, 'między': {'term_freq': 2, 'tokens': [{'position': 18, 'start_offset': 365, 'end_offset': 371}, {'position': 50, 'start_offset': 748, 'end_offset': 754}]}, 'numer': {'term_freq': 1, 'tokens': [{'position': 4, 'start_offset': 57, 'end_offset': 59}]}, 'o': {'term_freq': 1, 'tokens': [{'position': 15, 'start_offset': 345, 'end_offset': 346}]}, 'ocean': {'term_freq': 1, 'tokens': [{'position': 15, 'start_offset': 345, 'end_offset': 346}]}, 'od': {'term_freq': 1, 'tokens': [{'position': 91, 'start_offset': 1106, 'end_offset': 1108}]}, 'oda': {'term_freq': 1, 'tokens': [{'position': 91, 'start_offset': 1106, 'end_offset': 1108}]}, 'ogłosić': {'term_freq': 1, 'tokens': [{'position': 93, 'start_offset': 1114, 'end_offset': 1124}]}, 'ogłoszenie': {'term_freq': 1, 'tokens': [{'position': 93, 'start_offset': 1114, 'end_offset': 1124}]}, 'ojciec': {'term_freq': 1, 'tokens': [{'position': 15, 'start_offset': 345, 'end_offset': 346}]}, 'on': {'term_freq': 4, 'tokens': [{'position': 33, 'start_offset': 510, 'end_offset': 513}, {'position': 37, 'start_offset': 533, 'end_offset': 536}, {'position': 65, 'start_offset': 885, 'end_offset': 888}, {'position': 69, 'start_offset': 909, 'end_offset': 912}]}, 'oraz': {'term_freq': 2, 'tokens': [{'position': 36, 'start_offset': 528, 'end_offset': 532}, {'position': 68, 'start_offset': 904, 'end_offset': 908}]}, 'partnerstwo': {'term_freq': 2, 'tokens': [{'position': 28, 'start_offset': 459, 'end_offset': 471}, {'position': 60, 'start_offset': 842, 'end_offset': 854}]}, 'państwo': {'term_freq': 4, 'tokens': [{'position': 19, 'start_offset': 372, 'end_offset': 381}, {'position': 25, 'start_offset': 431, 'end_offset': 440}, {'position': 51, 'start_offset': 755, 'end_offset': 764}, {'position': 57, 'start_offset': 814, 'end_offset': 823}]}, 'po': {'term_freq': 1, 'tokens': [{'position': 87, 'start_offset': 1088, 'end_offset': 1090}]}, 'pokój': {'term_freq': 2, 'tokens': [{'position': 30, 'start_offset': 476, 'end_offset': 482}, {'position': 62, 'start_offset': 859, 'end_offset': 865}]}, 'polski': {'term_freq': 1, 'tokens': [{'position': 46, 'start_offset': 715, 'end_offset': 723}]}, 'pozycja': {'term_freq': 1, 'tokens': [{'position': 6, 'start_offset': 63, 'end_offset': 66}]}, 'prezydent': {'term_freq': 1, 'tokens': [{'position': 44, 'start_offset': 687, 'end_offset': 697}]}, 'protokół': {'term_freq': 2, 'tokens': [{'position': 38, 'start_offset': 537, 'end_offset': 546}, {'position': 70, 'start_offset': 913, 'end_offset': 922}]}, 'północnoatlantycki': {'term_freq': 2, 'tokens': [{'position': 22, 'start_offset': 400, 'end_offset': 421}, {'position': 54, 'start_offset': 783, 'end_offset': 804}]}, 'ratyfikacja': {'term_freq': 1, 'tokens': [{'position': 16, 'start_offset': 347, 'end_offset': 358}]}, 'ratyfikować': {'term_freq': 1, 'tokens': [{'position': 48, 'start_offset': 727, 'end_offset': 740}]}, 'rok': {'term_freq': 3, 'tokens': [{'position': 3, 'start_offset': 54, 'end_offset': 55}, {'position': 14, 'start_offset': 305, 'end_offset': 306}, {'position': 80, 'start_offset': 985, 'end_offset': 986}]}, 'rzeczpospolita': {'term_freq': 1, 'tokens': [{'position': 45, 'start_offset': 698, 'end_offset': 714}]}, 'się': {'term_freq': 1, 'tokens': [{'position': 43, 'start_offset': 683, 'end_offset': 686}]}, 'siła': {'term_freq': 2, 'tokens': [{'position': 34, 'start_offset': 514, 'end_offset': 517}, {'position': 66, 'start_offset': 889, 'end_offset': 892}]}, 'siły': {'term_freq': 2, 'tokens': [{'position': 34, 'start_offset': 514, 'end_offset': 517}, {'position': 66, 'start_offset': 889, 'end_offset': 892}]}, 'sporządzić': {'term_freq': 1, 'tokens': [{'position': 72, 'start_offset': 936, 'end_offset': 949}]}, 'status': {'term_freq': 2, 'tokens': [{'position': 32, 'start_offset': 502, 'end_offset': 509}, {'position': 64, 'start_offset': 877, 'end_offset': 884}]}, 'strona': {'term_freq': 2, 'tokens': [{'position': 20, 'start_offset': 382, 'end_offset': 390}, {'position': 52, 'start_offset': 765, 'end_offset': 773}]}, 'traktat': {'term_freq': 2, 'tokens': [{'position': 21, 'start_offset': 391, 'end_offset': 399}, {'position': 53, 'start_offset': 774, 'end_offset': 782}]}, 'uczestniczyć': {'term_freq': 2, 'tokens': [{'position': 26, 'start_offset': 441, 'end_offset': 456}, {'position': 58, 'start_offset': 824, 'end_offset': 839}]}, 'umowa': {'term_freq': 2, 'tokens': [{'position': 17, 'start_offset': 359, 'end_offset': 364}, {'position': 49, 'start_offset': 741, 'end_offset': 746}]}, 'umowy': {'term_freq': 2, 'tokens': [{'position': 17, 'start_offset': 359, 'end_offset': 364}, {'position': 49, 'start_offset': 741, 'end_offset': 746}]}, 'upoważniać': {'term_freq': 1, 'tokens': [{'position': 42, 'start_offset': 673, 'end_offset': 682}]}, 'upływ': {'term_freq': 1, 'tokens': [{'position': 88, 'start_offset': 1091, 'end_offset': 1098}]}, 'ustawa': {'term_freq': 2, 'tokens': [{'position': 8, 'start_offset': 251, 'end_offset': 257}, {'position': 83, 'start_offset': 1065, 'end_offset': 1071}]}, 'w': {'term_freq': 5, 'tokens': [{'position': 27, 'start_offset': 457, 'end_offset': 458}, {'position': 59, 'start_offset': 840, 'end_offset': 841}, {'position': 73, 'start_offset': 950, 'end_offset': 951}, {'position': 75, 'start_offset': 961, 'end_offset': 962}, {'position': 85, 'start_offset': 1080, 'end_offset': 1081}]}, 'wchodzić': {'term_freq': 1, 'tokens': [{'position': 84, 'start_offset': 1072, 'end_offset': 1079}]}, 'wiek': {'term_freq': 5, 'tokens': [{'position': 27, 'start_offset': 457, 'end_offset': 458}, {'position': 59, 'start_offset': 840, 'end_offset': 841}, {'position': 73, 'start_offset': 950, 'end_offset': 951}, {'position': 75, 'start_offset': 961, 'end_offset': 962}, {'position': 85, 'start_offset': 1080, 'end_offset': 1081}]}, 'z': {'term_freq': 2, 'tokens': [{'position': 1, 'start_offset': 47, 'end_offset': 48}, {'position': 9, 'start_offset': 280, 'end_offset': 281}]}, 'zbrojny': {'term_freq': 2, 'tokens': [{'position': 35, 'start_offset': 518, 'end_offset': 527}, {'position': 67, 'start_offset': 894, 'end_offset': 903}]}, 'życie': {'term_freq': 1, 'tokens': [{'position': 86, 'start_offset': 1082, 'end_offset': 1087}]}, 'żyto': {'term_freq': 1, 'tokens': [{'position': 86, 'start_offset': 1082, 'end_offset': 1087}]}, 'żyć': {'term_freq': 1, 'tokens': [{'position': 86, 'start_offset': 1082, 'end_offset': 1087}]}}\n",
      "2\n"
     ]
    }
   ],
   "source": [
    "\n",
    "s = Search(using=es, index=\"ustawa\").query(\"match_all\")[:3000].execute()\n",
    "ids = [x.meta.id for x in s]\n",
    "\n",
    "amount=0\n",
    "for id in ids:\n",
    "    s = es.termvectors(index=\"ustawa\", fields=\"content\", id =id,field_statistics=True)\n",
    "    print(s['term_vectors']['content']['terms'])\n",
    "    try:\n",
    "        amount += s['term_vectors']['content']['terms']['ustawa']['term_freq']\n",
    "    except KeyError:\n",
    "        pass\n",
    "    break\n",
    "print(amount)\n"
   ]
  },
  {
   "cell_type": "markdown",
   "id": "e124e732-b436-4897-9157-4b636feb5619",
   "metadata": {},
   "source": [
    "12. Compare the results of your algorithm and output of ES. "
   ]
  },
  {
   "cell_type": "markdown",
   "id": "96164ccc-498d-40f4-b5ac-049004350280",
   "metadata": {},
   "source": [
    "13. Draw conclusions regarding:\n",
    "   * the distribution of words in the corpus,\n",
    "   * the number of true misspellings vs. the number of unknown words,\n",
    "   * the performance of your method compared to ElasticSearch,\n",
    "   * the results provided by your method compared to ElasticSearch,\n",
    "   * the validity of the obtained corrections."
   ]
  }
 ],
 "metadata": {
  "kernelspec": {
   "display_name": "Python [conda env:ml] *",
   "language": "python",
   "name": "conda-env-ml-py"
  },
  "language_info": {
   "codemirror_mode": {
    "name": "ipython",
    "version": 3
   },
   "file_extension": ".py",
   "mimetype": "text/x-python",
   "name": "python",
   "nbconvert_exporter": "python",
   "pygments_lexer": "ipython3",
   "version": "3.8.5"
  }
 },
 "nbformat": 4,
 "nbformat_minor": 5
}
