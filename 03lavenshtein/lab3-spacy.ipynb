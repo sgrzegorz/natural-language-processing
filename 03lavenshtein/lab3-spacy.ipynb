{
 "cells": [
  {
   "cell_type": "code",
   "execution_count": 1,
   "id": "93b8008d",
   "metadata": {},
   "outputs": [],
   "source": [
    "import spacy\n",
    "# python -m spacy download en_core_web_sm\n",
    "# python -m spacy download pl_core_news_sm\n",
    "import re\n",
    "import tarfile\n",
    "import os\n",
    "import matplotlib.pyplot as plt\n",
    "import numpy as np\n",
    "import regex\n",
    "import pandas as pd\n",
    "import morfeusz2\n",
    "from elasticsearch_dsl import *\n",
    "from elasticsearch_dsl import query\n",
    "from elasticsearch import *\n",
    "from elasticsearch.helpers import *\n",
    "\n",
    "import os\n",
    "import pickle\n",
    "\n",
    "import spacy\n",
    "from collections import Counter\n",
    "from spacy.tokenizer import *\n",
    "import string\n",
    "import matplotlib\n",
    "import matplotlib.pyplot as plt\n",
    "matplotlib.style.use('ggplot')\n",
    "%matplotlib inline\n",
    "import pandas as pd\n",
    "import time\n",
    "import Levenshtein\n"
   ]
  },
  {
   "cell_type": "markdown",
   "id": "f6c60302-da83-46ac-aae5-be91274ab6cb",
   "metadata": {},
   "source": [
    "1. Make sure the texts in the corpus does not contain HTML code.\n",
    "2. Use SpaCy [tokenizer API](https://spacy.io/api/tokenizer) to tokenize the text from the cleaned law corpus.\n",
    "3. Compute **frequency list** for each of the processed files.\n",
    "4. Aggregate the result to obtain one global frequency list.\n",
    "5. Reject all entries that are shorter than 2 characters or contain non-letter characters (make sure to include Polish\n",
    "   diacritics).\n",
    "6. Make a plot in a logarithmic scale (for X and Y):\n",
    "   1. X-axis should contain the **rank** of a term, meaning the first rank belongs to the term with the highest number of\n",
    "      occurrences; the terms with the same number of occurrences should be ordered by their name,\n",
    "   2. Y-axis should contain the **number of occurrences** of the term with given rank."
   ]
  },
  {
   "cell_type": "code",
   "execution_count": 2,
   "id": "aeb8b0ca",
   "metadata": {},
   "outputs": [],
   "source": [
    "nlp = spacy.load(\"pl_core_news_sm\")\n",
    "tokenizer = Tokenizer(nlp.vocab)\n"
   ]
  },
  {
   "cell_type": "code",
   "execution_count": 3,
   "id": "e0f665b6-ab80-4376-b1fa-5efce5a536ad",
   "metadata": {},
   "outputs": [
    {
     "name": "stdout",
     "output_type": "stream",
     "text": [
      "Al)a ma-kota\n",
      "i psa\n",
      "Al)a ma-kota\n",
      "i psa\n",
      "Al a ma kota\n",
      "i psa\n"
     ]
    }
   ],
   "source": [
    "text = \"Al)a ma-kota\\ni psa\"\n",
    "print(text)\n",
    "text1 = text.translate(str.maketrans('', '', string.punctuation))\n",
    "print(text)\n",
    "\n",
    "\n",
    "def preprocess(text):\n",
    "    text = list(text)\n",
    "    for i in range(len(text)):\n",
    "        if text[i] in string.punctuation:\n",
    "            text[i] = ' '\n",
    "    return ''.join(text)\n",
    "\n",
    "print(preprocess(text))"
   ]
  },
  {
   "cell_type": "code",
   "execution_count": 4,
   "id": "4016f2fc",
   "metadata": {},
   "outputs": [
    {
     "name": "stdout",
     "output_type": "stream",
     "text": [
      "200\n",
      "400\n",
      "600\n",
      "800\n",
      "1000\n"
     ]
    }
   ],
   "source": [
    "\n",
    "file_tokens = {}\n",
    "\n",
    "i = 0\n",
    "path=\"../data/ustawy\"\n",
    "for filename in os.listdir(path):\n",
    "    with open(os.path.join(path, filename), 'r',encoding='utf-8') as f: # open in readonly mode\n",
    "        text = f.read()\n",
    "        # text = text.translate(str.maketrans('', '', string.punctuation))\n",
    "        text = preprocess(text)\n",
    "        text = text.lower()\n",
    "        text = regex.sub(r'\\s+', ' ',text)\n",
    "\n",
    "\n",
    "        doc = tokenizer(text)\n",
    "        words = [token.text for token in doc if token.is_stop != True and token.is_punct != True and (len(token.text) >1) and token.is_alpha and not token.is_digit ]\n",
    "\n",
    "        file_tokens[f.name] = words\n",
    "        word_freq = Counter(words)\n",
    "        i+=1\n",
    "        if i % 200 == 0:\n",
    "            print(i)\n",
    "    "
   ]
  },
  {
   "cell_type": "code",
   "execution_count": 5,
   "id": "c0d956c5",
   "metadata": {},
   "outputs": [],
   "source": [
    "word_freq ={}\n",
    "for filename, tokens in file_tokens.items():\n",
    "    word_freq[filename] = Counter(tokens)"
   ]
  },
  {
   "cell_type": "code",
   "execution_count": 6,
   "id": "54e88879",
   "metadata": {},
   "outputs": [],
   "source": [
    "word_freq_total = Counter({})\n",
    "for counting in word_freq.values():\n",
    "    word_freq_total.update(counting)\n"
   ]
  },
  {
   "cell_type": "code",
   "execution_count": 7,
   "id": "3e971866",
   "metadata": {},
   "outputs": [
    {
     "data": {
      "text/plain": [
       "[('art', 82963),\n",
       " ('ust', 53624),\n",
       " ('poz', 45245),\n",
       " ('nr', 44950),\n",
       " ('mowa', 28783)]"
      ]
     },
     "execution_count": 7,
     "metadata": {},
     "output_type": "execute_result"
    }
   ],
   "source": [
    "word_freq_total.most_common(5)"
   ]
  },
  {
   "cell_type": "code",
   "execution_count": 8,
   "id": "5d5df218",
   "metadata": {},
   "outputs": [
    {
     "data": {
      "image/png": "[encoded data removed]",
      "text/plain": [
       "<Figure size 1080x432 with 1 Axes>"
      ]
     },
     "metadata": {
      "needs_background": "light"
     },
     "output_type": "display_data"
    }
   ],
   "source": [
    "freq = [freq for (_,freq) in word_freq_total.most_common()]\n",
    "fig = plt.figure(figsize=(15,6))\n",
    "ax = fig.add_subplot(111)\n",
    "\n",
    "ax.plot(range(1,len(word_freq_total)+1),freq, color='blue', lw=2)\n",
    "\n",
    "ax.set_yscale('log')\n",
    "\n",
    "plt.show()\n"
   ]
  },
  {
   "cell_type": "markdown",
   "id": "021a9b90-5b7d-4377-a87d-fb038f7e5f38",
   "metadata": {},
   "source": [
    "7. Install [Morfeusz](http://morfeusz.sgjp.pl/download/) (Binding dla Pythona) and use it to find all words that do not\n",
    "  appear in that dictionary.\n"
   ]
  },
  {
   "cell_type": "code",
   "execution_count": 52,
   "id": "56ab30f1",
   "metadata": {},
   "outputs": [],
   "source": [
    "from morfeusz2 import *\n",
    "#Obiekt utworzony bez podawania parametrów konstruktora będzie używał domyślnego słownika SGJP i domyślnych ustawień opcji.\n",
    "morf = Morfeusz()\n",
    "\n",
    "not_found = {}\n",
    "for (token,freq) in word_freq_total.most_common():\n",
    "#     print('!'+token+'!',(morf.analyse(token)))\n",
    "    if 'ign' in (morf.analyse(token))[0][2]:\n",
    "#         print(freq,token)\n",
    "        not_found[token] =freq\n",
    "        \n",
    "        "
   ]
  },
  {
   "cell_type": "code",
   "execution_count": 53,
   "id": "ee747062",
   "metadata": {
    "tags": []
   },
   "outputs": [
    {
     "data": {
      "text/plain": [
       "[(0, 1, ('piws', 'piws', 'ign', [], []))]"
      ]
     },
     "execution_count": 53,
     "metadata": {},
     "output_type": "execute_result"
    }
   ],
   "source": [
    "morf.analyse(\"piws\")"
   ]
  },
  {
   "cell_type": "markdown",
   "id": "d2265421-3d1b-46f2-b73a-2b35291ec399",
   "metadata": {},
   "source": [
    "8. Find 30 words with the highest ranks that do not belong to the dictionary."
   ]
  },
  {
   "cell_type": "code",
   "execution_count": 54,
   "id": "629a07b4",
   "metadata": {},
   "outputs": [
    {
     "data": {
      "text/plain": [
       "[('poz', 45245),\n",
       " ('zm', 1072),\n",
       " ('późn', 1066),\n",
       " ('str', 516),\n",
       " ('gmo', 298),\n",
       " ('sww', 226),\n",
       " ('operacyjno', 209),\n",
       " ('skw', 195),\n",
       " ('rolno', 194),\n",
       " ('ex', 169),\n",
       " ('ike', 162),\n",
       " ('społeczno', 137),\n",
       " ('techniczno', 125),\n",
       " ('remediacji', 120),\n",
       " ('ure', 103),\n",
       " ('rozdz', 102),\n",
       " ('itp', 97),\n",
       " ('uke', 95),\n",
       " ('kn', 95),\n",
       " ('sanitarno', 88),\n",
       " ('charytatywno', 87),\n",
       " ('np', 85),\n",
       " ('cn', 83),\n",
       " ('pkwiu', 81),\n",
       " ('udt', 76),\n",
       " ('bswsg', 68),\n",
       " ('biobójczych', 63),\n",
       " ('bswp', 63),\n",
       " ('organizacyjno', 58),\n",
       " ('phs', 53)]"
      ]
     },
     "execution_count": 54,
     "metadata": {},
     "output_type": "execute_result"
    }
   ],
   "source": [
    "counter = Counter(not_found).most_common(30)\n",
    "counter"
   ]
  },
  {
   "cell_type": "code",
   "execution_count": 60,
   "id": "7a99f049-fbd9-4732-911f-2153a60be3b3",
   "metadata": {},
   "outputs": [
    {
     "name": "stdout",
     "output_type": "stream",
     "text": [
      "Total number of words that do not belong to the dictionary: 2805\n"
     ]
    }
   ],
   "source": [
    "print('Total number of words that do not belong to the dictionary:', len(Counter(not_found).most_common()))"
   ]
  },
  {
   "cell_type": "markdown",
   "id": "79a0ca39-1e7f-4a75-bc6a-b002fcd44c4a",
   "metadata": {},
   "source": [
    "9. Find 30 random words (i.e. shuffle the words) with 5 occurrences that do not belong to the dictionary."
   ]
  },
  {
   "cell_type": "code",
   "execution_count": 59,
   "id": "11d1a8ab",
   "metadata": {},
   "outputs": [
    {
     "name": "stdout",
     "output_type": "stream",
     "text": [
      "['sposb', 'rci', 'wlkp', 'cznika', 'metylofenetyloamina', 'inspekcyjno', 'zawart', 'wodno', 'wapnio', 'ponitracyjnego', 'denitracyjne', 'inci', 'ppkt', 'informacyjno', 'ami', 'nfośigw', 'regazyfikacyjnego', 'kpwig', 'schetyna', 'najmnie', 'heptanol', 'jed', 'eudravigilance', 'chelatującym', 'sięcy', 'organicz', 'odgazowywacze', 'agave', 'mieszkalno', 'rr']\n",
      "Total number of words with 5 occurrences that do not belong to the dictionary : 56\n"
     ]
    }
   ],
   "source": [
    "import random\n",
    "freq_5 = [token for (token,freq) in not_found.items() if freq==5 ]\n",
    "random.shuffle(freq_5)\n",
    "print(freq_5[0:30])\n",
    "print('Total number of words with 5 occurrences that do not belong to the dictionary :', len(freq_5))"
   ]
  },
  {
   "cell_type": "markdown",
   "id": "63c2d060-bb85-4f1c-b5fd-4c996f1f9f0d",
   "metadata": {},
   "source": [
    "# 10\n",
    "10. Use Levenshtein distance and the frequency list, to determine the most probable correction of the words from\n",
    "   lists defined in points 8 and 9. (**Note**: You don't have to apply the distance directly. Any method that is more efficient than scanning the\n",
    "   dictionary will be appreciated.)"
   ]
  },
  {
   "cell_type": "code",
   "execution_count": 13,
   "id": "cc7344dd",
   "metadata": {},
   "outputs": [
    {
     "name": "stdout",
     "output_type": "stream",
     "text": [
      "[(0, 1, ('Kot', 'Kot:Sf', 'subst:sg.pl:nom.gen.dat.acc.inst.loc.voc:f', ['nazwisko'], [])), (0, 1, ('Kot', 'kot:Sm1', 'subst:sg:nom:m1', ['nazwa_pospolita'], ['pot.,środ.'])), (0, 1, ('Kot', 'Kot:Sm1', 'subst:sg:nom:m1', ['nazwisko'], [])), (0, 1, ('Kot', 'kot:Sm2', 'subst:sg:nom:m2', ['nazwa_pospolita'], [])), (0, 1, ('Kot', 'Kot:Sm3', 'subst:sg:nom.acc:m3', ['nazwa_geograficzna'], [])), (0, 1, ('Kot', 'kota', 'subst:pl:gen:f', ['nazwa_pospolita'], [])), (1, 2, ('ma', 'mieć', 'fin:sg:ter:imperf', [], [])), (1, 2, ('ma', 'mój:A', 'adj:sg:nom.voc:f:pos', [], [])), (2, 3, ('Alę', 'Ala', 'subst:sg:acc:f', ['imię'], []))]\n"
     ]
    }
   ],
   "source": [
    "morf = Morfeusz()\n",
    "analysis_result = morf.analyse(\"Ala ma kota\")\n",
    "\n",
    "print(analysis_result)\n"
   ]
  },
  {
   "cell_type": "code",
   "execution_count": 14,
   "id": "70d297fe-b90d-480f-b842-5eaa8e560ce4",
   "metadata": {},
   "outputs": [],
   "source": [
    "filename = '../data/sgjp-20211031.tab'\n",
    "sjp =pd.read_csv(filename,skiprows=29,usecols=[0,1],header=None,delim_whitespace='\\t')[1]\n",
    "\n",
    "sjp = set(sjp)"
   ]
  },
  {
   "cell_type": "code",
   "execution_count": 61,
   "id": "543638d6-0680-4b66-b8fb-a50c789f0adb",
   "metadata": {},
   "outputs": [],
   "source": [
    "import math\n",
    "\n",
    "\n",
    "\n",
    "def find_suggestions(words):\n",
    "    start = time.time()\n",
    "    suggestions = {}\n",
    "    min_distance = {}\n",
    "\n",
    "    i = 0\n",
    "    for word in words: # words with 5 ocurrences\n",
    "        suggestions[word] = []\n",
    "        min_distance[word] = math.inf \n",
    "        for dic in sjp:\n",
    "            levenshtein = Levenshtein.distance(word,dic)\n",
    "            if min_distance[word] >levenshtein:\n",
    "                min_distance[word] = levenshtein\n",
    "                suggestions[word] = [dic]\n",
    "            elif min_distance[word] == levenshtein:\n",
    "                suggestions[word].append(dic)                    \n",
    "        i+=1\n",
    "        if i%5==0:\n",
    "            print(i)\n",
    "\n",
    "    end = time.time() - start\n",
    "    print(\"total time\", end)\n",
    "    return (min_distance,suggestions)\n",
    "\n",
    "def print_suggestions(words):\n",
    "    (min_distance,suggestions) = find_suggestions(words)\n",
    "    for word, suggested in suggestions.items():\n",
    "        print(word, min_distance[word] ,\"--->\",suggested)\n",
    "        print(word, f'-->distance={min_distance[word]} ', suggested)"
   ]
  },
  {
   "cell_type": "code",
   "execution_count": 62,
   "id": "9c59787d-54e4-4753-895a-e5a25ed0d2b8",
   "metadata": {
    "tags": []
   },
   "outputs": [
    {
     "name": "stdout",
     "output_type": "stream",
     "text": [
      "5\n",
      "10\n",
      "15\n",
      "20\n",
      "25\n",
      "30\n",
      "total time 9.127793550491333\n",
      "poz 1 ---> ['płoz', 'po', 'pod', 'pot', 'paz', 'oz']\n",
      "poz -->distance=1  ['płoz', 'po', 'pod', 'pot', 'paz', 'oz']\n",
      "zm 1 ---> ['em', 'km', 'om', 'izm', 'um', 'hm', 'im']\n",
      "zm -->distance=1  ['em', 'km', 'om', 'izm', 'um', 'hm', 'im']\n",
      "późn 1 ---> ['późno', 'późny']\n",
      "późn -->distance=1  ['późno', 'późny']\n",
      "str 1 ---> ['styr', 'itr', 'ster', 'syr', 'star', 'ser', 'sto']\n",
      "str -->distance=1  ['styr', 'itr', 'ster', 'syr', 'star', 'ser', 'sto']\n",
      "gmo 1 ---> ['śmo', 'go']\n",
      "gmo -->distance=1  ['śmo', 'go']\n",
      "sww 1 ---> ['suw', 'www']\n",
      "sww -->distance=1  ['suw', 'www']\n",
      "operacyjno 1 ---> ['operacyjny']\n",
      "operacyjno -->distance=1  ['operacyjny']\n",
      "skw 1 ---> ['ska', 'suw', 'ski']\n",
      "skw -->distance=1  ['ska', 'suw', 'ski']\n",
      "rolno 1 ---> ['Solno', 'Kolno', 'rolny', 'rośno', 'rojno', 'Dolno']\n",
      "rolno -->distance=1  ['Solno', 'Kolno', 'rolny', 'rośno', 'rojno', 'Dolno']\n",
      "ex 1 ---> ['ej', 'eł', 'Rex', 'em', 'eś', 'er', 'et', 'el', 'e', 'en', 'ee', 'eh', 'sex', 'eń']\n",
      "ex -->distance=1  ['ej', 'eł', 'Rex', 'em', 'eś', 'er', 'et', 'el', 'e', 'en', 'ee', 'eh', 'sex', 'eń']\n",
      "ike 1 ---> ['iże', 'Nike']\n",
      "ike -->distance=1  ['iże', 'Nike']\n",
      "społeczno 1 ---> ['społeczny']\n",
      "społeczno -->distance=1  ['społeczny']\n",
      "techniczno 1 ---> ['techniczny']\n",
      "techniczno -->distance=1  ['techniczny']\n",
      "remediacji 3 ---> ['repudiacja', 'mediacja']\n",
      "remediacji -->distance=3  ['repudiacja', 'mediacja']\n",
      "ure 1 ---> ['re', 'ura', 'öre']\n",
      "ure -->distance=1  ['re', 'ura', 'öre']\n",
      "rozdz 2 ---> ['rozmaz', 'Gozd', 'rozdół', 'rozum', 'Gozdy', 'rod', 'rozkaz', 'rzaz', 'rond', 'rzez', 'rozwóz', 'rydz', 'rondo', 'rozdąć', 'rozdać', 'drozd']\n",
      "rozdz -->distance=2  ['rozmaz', 'Gozd', 'rozdół', 'rozum', 'Gozdy', 'rod', 'rozkaz', 'rzaz', 'rond', 'rzez', 'rozwóz', 'rydz', 'rondo', 'rozdąć', 'rozdać', 'drozd']\n",
      "itp 1 ---> ['itr', 'ftp']\n",
      "itp -->distance=1  ['itr', 'ftp']\n",
      "uke 2 ---> ['ued', 'pfe', 'nuże', 'urka', 'Age', 're', 'Poe', 'che', 'ukos', 'Lute', 'k', 'Joe', 'ka', 'Żuki', 'ehe', 'rkm', 'buks', 'Ose', 'udko', 'uno', 'pkt', 'buk', 'uhm', 'Ruże', 'ukop', 'ufo', 'fe', 'km', 'ket', 'Buka', 'lkm', 'tuk', 'kem', 'ura', 'ut', 'Gule', 'suk', 'Noe', 'ukuć', 'wte', 'Ikea', 'duce', 'ulec', 'kuk', 'tee', 'dukt', 'gie', 'ska', 'udo', 'akr', 'Kukle', 'ce', 'Dukt', 'me', 'kb', 'uh', 'kuks', 'żuk', 'suka', 'ubek', 'ulew', 'fuk', 'u', 'te', 'ker', 'oje', 'ukaz', 'uhu', 'uha', 'ulep', 'keb', 'Rukle', 'pe', 'tuka', 'uff', 'luks', 'e', 'ukres', 'uch', 'iże', 'ul', 'aże', 'ukoś', 'ck', 'um', 'ki', 'Oka', 'sake', 'juk', 'ee', 'bule', 'ulem', 'duk', 'e-e', 'he', 'eee', 'Duje', 'Kule', 'juka', 'łuk', 'up', 'fuks', 'luka', 'źle', 'ski', 'uaz', 'Kuce', 'Złe', 'huk', 'kea', 'złe', 'ckm', 'luk', 'ud', 'öre', 'Nike']\n",
      "uke -->distance=2  ['ued', 'pfe', 'nuże', 'urka', 'Age', 're', 'Poe', 'che', 'ukos', 'Lute', 'k', 'Joe', 'ka', 'Żuki', 'ehe', 'rkm', 'buks', 'Ose', 'udko', 'uno', 'pkt', 'buk', 'uhm', 'Ruże', 'ukop', 'ufo', 'fe', 'km', 'ket', 'Buka', 'lkm', 'tuk', 'kem', 'ura', 'ut', 'Gule', 'suk', 'Noe', 'ukuć', 'wte', 'Ikea', 'duce', 'ulec', 'kuk', 'tee', 'dukt', 'gie', 'ska', 'udo', 'akr', 'Kukle', 'ce', 'Dukt', 'me', 'kb', 'uh', 'kuks', 'żuk', 'suka', 'ubek', 'ulew', 'fuk', 'u', 'te', 'ker', 'oje', 'ukaz', 'uhu', 'uha', 'ulep', 'keb', 'Rukle', 'pe', 'tuka', 'uff', 'luks', 'e', 'ukres', 'uch', 'iże', 'ul', 'aże', 'ukoś', 'ck', 'um', 'ki', 'Oka', 'sake', 'juk', 'ee', 'bule', 'ulem', 'duk', 'e-e', 'he', 'eee', 'Duje', 'Kule', 'juka', 'łuk', 'up', 'fuks', 'luka', 'źle', 'ski', 'uaz', 'Kuce', 'Złe', 'huk', 'kea', 'złe', 'ckm', 'luk', 'ud', 'öre', 'Nike']\n",
      "kn 1 ---> ['k', 'ka', 'km', 'kb', 'in', 'en', 'ki']\n",
      "kn -->distance=1  ['k', 'ka', 'km', 'kb', 'in', 'en', 'ki']\n",
      "sanitarno 1 ---> ['sanitarny']\n",
      "sanitarno -->distance=1  ['sanitarny']\n",
      "charytatywno 1 ---> ['charytatywny']\n",
      "charytatywno -->distance=1  ['charytatywny']\n",
      "np 1 ---> ['nr', 'nu', 'bp', 'up']\n",
      "np -->distance=1  ['nr', 'nu', 'bp', 'up']\n",
      "cn 1 ---> ['cyn', 'cny', 'ci', 'ce', 'in', 'cno', 'en', 'ck', 'cna']\n",
      "cn -->distance=1  ['cyn', 'cny', 'ci', 'ce', 'in', 'cno', 'en', 'ck', 'cna']\n",
      "pkwiu 2 ---> ['pawi', 'kwiku', 'skwir', 'piu', 'okwit', 'kwiz', 'wiu', 'kwit', 'tkwić', 'Akwin', 'pokwit', 'powić', 'pawić', 'kwik', 'pawik', 'pawio', 'pfiu', 'powit']\n",
      "pkwiu -->distance=2  ['pawi', 'kwiku', 'skwir', 'piu', 'okwit', 'kwiz', 'wiu', 'kwit', 'tkwić', 'Akwin', 'pokwit', 'powić', 'pawić', 'kwik', 'pawik', 'pawio', 'pfiu', 'powit']\n",
      "udt 1 ---> ['ut', 'udo', 'ud']\n",
      "udt -->distance=1  ['ut', 'udo', 'ud']\n",
      "bswsg 3 ---> ['bawar', 'baks', 'smug', 'bywać', 'busz', 'bawet', 'song', 'Osusz', 'bras', 'bosy', 'bryg', 'bims', 'bróg', 'bmw', 'tss', 'buks', 'bessa', 'Osse', 'smog', 'borg', 'sms', 'Ossa', 'bus', 'wig', 'bryzg', 'siąg', 'bawny', 'Issa', 'berso', 'burg', 'batog', 'blask', 'swar', 'bóg', 'blog', 'biust', 'sąg', 'belg', 'sus', 'sos', 'usus', 'news', 'bawić', 'swap', 'bieg', 'bums', 'scs', 'bluzg', 'bios', 'swój', 'balsa', 'bursz', 'błysk', 'bass', 'biwa', 'swat', 'brus', 'bies', 'buksa', 'spąg', 'susz', 'bursa', 'boks', 'swąd', 'byss', 'Ławsk', 'bawół', 'bórg', 'biwak', 'osiąg', 'boss', 'boso', 'brzeg', 'dźwig', 'stóg', 'beg', 'Ossy']\n",
      "bswsg -->distance=3  ['bawar', 'baks', 'smug', 'bywać', 'busz', 'bawet', 'song', 'Osusz', 'bras', 'bosy', 'bryg', 'bims', 'bróg', 'bmw', 'tss', 'buks', 'bessa', 'Osse', 'smog', 'borg', 'sms', 'Ossa', 'bus', 'wig', 'bryzg', 'siąg', 'bawny', 'Issa', 'berso', 'burg', 'batog', 'blask', 'swar', 'bóg', 'blog', 'biust', 'sąg', 'belg', 'sus', 'sos', 'usus', 'news', 'bawić', 'swap', 'bieg', 'bums', 'scs', 'bluzg', 'bios', 'swój', 'balsa', 'bursz', 'błysk', 'bass', 'biwa', 'swat', 'brus', 'bies', 'buksa', 'spąg', 'susz', 'bursa', 'boks', 'swąd', 'byss', 'Ławsk', 'bawół', 'bórg', 'biwak', 'osiąg', 'boss', 'boso', 'brzeg', 'dźwig', 'stóg', 'beg', 'Ossy']\n",
      "biobójczych 5 ---> ['Sobczyce', 'jajobójczy', 'niezbójczy', 'Dobczyce', 'Swojczyce', 'bratobójczyni', 'podbójczy', 'Wojczyce', 'bobczyć', 'robaczyca', 'Trójczyce', 'zbójczyni', 'ojcobójczy', 'synobójczyni', 'molobójczy', 'obojczyk', 'zabójczyni', 'ludobójczy', 'zbójczy', 'Kobyłczyce', 'borsuczyca', 'zabójczy', 'bratobójczy', 'mężobójczy', 'Milejczyce', 'ojcobójczyni', 'samobójczyni', 'rozbójczy', 'samobójczy', 'mężobójczyni', 'ojczyc', 'Libijczyk', 'carobójczy']\n",
      "biobójczych -->distance=5  ['Sobczyce', 'jajobójczy', 'niezbójczy', 'Dobczyce', 'Swojczyce', 'bratobójczyni', 'podbójczy', 'Wojczyce', 'bobczyć', 'robaczyca', 'Trójczyce', 'zbójczyni', 'ojcobójczy', 'synobójczyni', 'molobójczy', 'obojczyk', 'zabójczyni', 'ludobójczy', 'zbójczy', 'Kobyłczyce', 'borsuczyca', 'zabójczy', 'bratobójczy', 'mężobójczy', 'Milejczyce', 'ojcobójczyni', 'samobójczyni', 'rozbójczy', 'samobójczy', 'mężobójczyni', 'ojczyc', 'Libijczyk', 'carobójczy']\n",
      "bswp 2 ---> ['Isep', 'bop', 'osyp', 'sep', 'bmw', 'usyp', 'wsyp', 'bhp', 'sap', 'zsyp', 'osep', 'swap', 'zsep', 'bp', 'biwa', 'syp', 'osęp']\n",
      "bswp -->distance=2  ['Isep', 'bop', 'osyp', 'sep', 'bmw', 'usyp', 'wsyp', 'bhp', 'sap', 'zsyp', 'osep', 'swap', 'zsep', 'bp', 'biwa', 'syp', 'osęp']\n",
      "organizacyjno 1 ---> ['organizacyjny']\n",
      "organizacyjno -->distance=1  ['organizacyjny']\n",
      "phs 1 ---> ['phu', 'pąs', 'phy']\n",
      "phs -->distance=1  ['phu', 'pąs', 'phy']\n"
     ]
    }
   ],
   "source": [
    "# print(suggestions)\n",
    "top_30 = [token for (token,_) in counter]\n",
    "\n",
    "print_suggestions(top_30)\n"
   ]
  },
  {
   "cell_type": "code",
   "execution_count": 63,
   "id": "d4323e6b-d0c1-42cc-a978-cb55bbe440ed",
   "metadata": {},
   "outputs": [
    {
     "name": "stdout",
     "output_type": "stream",
     "text": [
      "5\n",
      "10\n",
      "15\n",
      "20\n",
      "25\n",
      "30\n",
      "35\n",
      "40\n",
      "45\n",
      "50\n",
      "55\n",
      "total time 16.070964097976685\n",
      "sposb 2 ---> ['spora', 'spory', 'spis', 'szos', 'społy', 'epos', 'szosa', 'stołb', 'opos', 'oposy', 'spoić', 'spisa', 'stos', 'sos', 'spona', 'spust', 'spot', 'snob', 'skos', 'spod', 'spoza']\n",
      "sposb -->distance=2  ['spora', 'spory', 'spis', 'szos', 'społy', 'epos', 'szosa', 'stołb', 'opos', 'oposy', 'spoić', 'spisa', 'stos', 'sos', 'spona', 'spust', 'spot', 'snob', 'skos', 'spod', 'spoza']\n",
      "rci 1 ---> ['ci']\n",
      "rci -->distance=1  ['ci']\n",
      "wlkp 2 ---> ['werp', 'wlec', 'wkup', 'wąkop', 'alko', 'wykup', 'zlep', 'Elka', 'wykap', 'wyka', 'elki', 'weka', 'slup', 'slip', 'wsyp', 'Ulka', 'lkm', 'Olki', 'ślep', 'wilk', 'wrap', 'Alka', 'elka', 'walka', 'wek', 'clip', 'wlot', 'klip', 'wikt', 'klep', 'ślip', 'ulep', 'wamp', 'wok', 'klop', 'alka', 'wlać', 'lep', 'wilki', 'wkop', 'wykop', 'klap', 'ulop', 'wlew', 'flip']\n",
      "wlkp -->distance=2  ['werp', 'wlec', 'wkup', 'wąkop', 'alko', 'wykup', 'zlep', 'Elka', 'wykap', 'wyka', 'elki', 'weka', 'slup', 'slip', 'wsyp', 'Ulka', 'lkm', 'Olki', 'ślep', 'wilk', 'wrap', 'Alka', 'elka', 'walka', 'wek', 'clip', 'wlot', 'klip', 'wikt', 'klep', 'ślip', 'ulep', 'wamp', 'wok', 'klop', 'alka', 'wlać', 'lep', 'wilki', 'wkop', 'wykop', 'klap', 'ulop', 'wlew', 'flip']\n",
      "cznika 2 ---> ['czniać', 'czamka', 'Anika', 'czajka', 'Annika', 'oznaka', 'panika', 'tunika', 'arnika', 'czapka', 'Monika', 'znikać', 'Dzika', 'czujka', 'cynik', 'ocznica', 'zniżka', 'cynka', 'czanka', 'ocznik', 'cynia', 'tonika', 'czarka']\n",
      "cznika -->distance=2  ['czniać', 'czamka', 'Anika', 'czajka', 'Annika', 'oznaka', 'panika', 'tunika', 'arnika', 'czapka', 'Monika', 'znikać', 'Dzika', 'czujka', 'cynik', 'ocznica', 'zniżka', 'cynka', 'czanka', 'ocznik', 'cynia', 'tonika', 'czarka']\n",
      "metylofenetyloamina 8 ---> ['metyloamina', 'fenyloamina']\n",
      "metylofenetyloamina -->distance=8  ['metyloamina', 'fenyloamina']\n",
      "inspekcyjno 1 ---> ['inspekcyjny']\n",
      "inspekcyjno -->distance=1  ['inspekcyjny']\n",
      "zawart 2 ---> ['bawar', 'zawada', 'zatarg', 'zwarty', 'zatwar', 'Bawar', 'zawała', 'zamarty', 'zadarty', 'zawora', 'sawant', 'zawór', 'zawrót', 'kwart', 'zakat', 'zwarto', 'zwara', 'zawale', 'zawał', 'makart', 'nawar', 'zażarty', 'Zawarta']\n",
      "zawart -->distance=2  ['bawar', 'zawada', 'zatarg', 'zwarty', 'zatwar', 'Bawar', 'zawała', 'zamarty', 'zadarty', 'zawora', 'sawant', 'zawór', 'zawrót', 'kwart', 'zakat', 'zwarto', 'zwara', 'zawale', 'zawał', 'makart', 'nawar', 'zażarty', 'Zawarta']\n",
      "wodno 1 ---> ['wonno', 'wodny', 'widno']\n",
      "wodno -->distance=1  ['wonno', 'wodny', 'widno']\n",
      "wapnio 1 ---> ['wapno', 'wapnić']\n",
      "wapnio -->distance=1  ['wapno', 'wapnić']\n",
      "ponitracyjnego 5 ---> ['penetracyjny', 'bonitacyjność', 'bonitacyjny', 'penetracyjność']\n",
      "ponitracyjnego -->distance=5  ['penetracyjny', 'bonitacyjność', 'bonitacyjny', 'penetracyjność']\n",
      "denitracyjne 3 ---> ['penetracyjny', 'defibracyjny', 'denotacyjny']\n",
      "denitracyjne -->distance=3  ['penetracyjny', 'defibracyjny', 'denotacyjny']\n",
      "inci 1 ---> ['Vinci']\n",
      "inci -->distance=1  ['Vinci']\n",
      "ppkt 1 ---> ['pkt', 'pakt']\n",
      "ppkt -->distance=1  ['pkt', 'pakt']\n",
      "informacyjno 1 ---> ['informacyjny']\n",
      "informacyjno -->distance=1  ['informacyjny']\n",
      "ami 1 ---> ['ali', 'rami', 'amid', 'amia', 'ćmi', 'kami', 'mi']\n",
      "ami -->distance=1  ['ali', 'rami', 'amid', 'amia', 'ćmi', 'kami', 'mi']\n",
      "nfośigw 4 ---> ['folio', 'nośny', 'Antoniew', 'nowina', 'afonia', 'nobil', 'pośpiew', 'fowizm', 'Krokiew', 'nowik', 'fobia', 'nawiew', 'nośnik', 'nosio', 'nosić', 'neolit', 'foliowy', 'neonik', 'nosiwo', 'folga', 'nori', 'figi', 'naośny', 'Chociw', 'Coniew', 'nośnia', 'opiew', 'norito', 'noria', 'Broniew', 'Łosiów', 'folia', 'notis', 'foki', 'neolog', 'figa', 'Smoligów', 'Zofiów', 'Broniów', 'posiew', 'ufolog', 'nośca', 'noga', 'krokiew', 'foliał', 'forint', 'pościg', 'fonia', 'nosik', 'fenig', 'neofita', 'Łoniów', 'powiew', 'dośpiew']\n",
      "nfośigw -->distance=4  ['folio', 'nośny', 'Antoniew', 'nowina', 'afonia', 'nobil', 'pośpiew', 'fowizm', 'Krokiew', 'nowik', 'fobia', 'nawiew', 'nośnik', 'nosio', 'nosić', 'neolit', 'foliowy', 'neonik', 'nosiwo', 'folga', 'nori', 'figi', 'naośny', 'Chociw', 'Coniew', 'nośnia', 'opiew', 'norito', 'noria', 'Broniew', 'Łosiów', 'folia', 'notis', 'foki', 'neolog', 'figa', 'Smoligów', 'Zofiów', 'Broniów', 'posiew', 'ufolog', 'nośca', 'noga', 'krokiew', 'foliał', 'forint', 'pościg', 'fonia', 'nosik', 'fenig', 'neofita', 'Łoniów', 'powiew', 'dośpiew']\n",
      "regazyfikacyjnego 5 ---> ['denazyfikacyjny', 'gazyfikacyjny', 'denazyfikacyjność', 'gazyfikacyjność', 'niegazyfikacyjny', 'niegazyfikacyjność']\n",
      "regazyfikacyjnego -->distance=5  ['denazyfikacyjny', 'gazyfikacyjny', 'denazyfikacyjność', 'gazyfikacyjność', 'niegazyfikacyjny', 'niegazyfikacyjność']\n",
      "kpwig 2 ---> ['wig', 'kwiz', 'kwit', 'kwik', 'kpić', 'dźwig']\n",
      "kpwig -->distance=2  ['wig', 'kwiz', 'kwit', 'kwik', 'kpić', 'dźwig']\n",
      "schetyna 2 ---> ['chityna', 'cetyna', 'chatyna']\n",
      "schetyna -->distance=2  ['chityna', 'cetyna', 'chatyna']\n",
      "najmnie 1 ---> ['najemnie']\n",
      "najmnie -->distance=1  ['najemnie']\n",
      "heptanol 2 ---> ['heptan', 'metanol', 'etanol']\n",
      "heptanol -->distance=2  ['heptan', 'metanol', 'etanol']\n",
      "jed 1 ---> ['ued', 'jen', 'jad', 'jod', 'jej']\n",
      "jed -->distance=1  ['ued', 'jen', 'jad', 'jod', 'jej']\n",
      "eudravigilance 7 ---> ['andragogicznie', 'uprawianie', 'udrażniacz', 'udaninianin', 'udaninianka']\n",
      "eudravigilance -->distance=7  ['andragogicznie', 'uprawianie', 'udrażniacz', 'udaninianin', 'udaninianka']\n",
      "chelatującym 4 ---> ['czatujący']\n",
      "chelatującym -->distance=4  ['czatujący']\n",
      "sięcy 2 ---> ['Zięby', 'silny', 'siec', 'więzy', 'księży', 'ssący', 'sitny', 'sicz', 'więc', 'siny', 'Pięty', 'cięty', 'siecz']\n",
      "sięcy -->distance=2  ['Zięby', 'silny', 'siec', 'więzy', 'księży', 'ssący', 'sitny', 'sicz', 'więc', 'siny', 'Pięty', 'cięty', 'siecz']\n",
      "organicz 2 ---> ['organicyzm', 'organizm', 'organiarz', 'organiczny']\n",
      "organicz -->distance=2  ['organicyzm', 'organizm', 'organiarz', 'organiczny']\n",
      "odgazowywacze 3 ---> ['odgazowywać']\n",
      "odgazowywacze -->distance=3  ['odgazowywać']\n",
      "agave 1 ---> ['agape']\n",
      "agave -->distance=1  ['agape']\n",
      "mieszkalno 1 ---> ['mieszkalny']\n",
      "mieszkalno -->distance=1  ['mieszkalny']\n",
      "rr 1 ---> ['ar', 're', 'brr', 'nr', 'ro', 'er', 'prr', 'wrr', 'frr', 'drr', 'dr', 'rh']\n",
      "rr -->distance=1  ['ar', 're', 'brr', 'nr', 'ro', 'er', 'prr', 'wrr', 'frr', 'drr', 'dr', 'rh']\n",
      "czych 1 ---> ['czuch', 'chych', 'szych', 'czmych']\n",
      "czych -->distance=1  ['czuch', 'chych', 'szych', 'czmych']\n",
      "betezda 2 ---> ['etezja']\n",
      "betezda -->distance=2  ['etezja']\n",
      "ym 1 ---> ['em', 'cym', 'km', 'om', 'yhm', 'um', 'hm', 'im', 'dym']\n",
      "ym -->distance=1  ['em', 'cym', 'km', 'om', 'yhm', 'um', 'hm', 'im', 'dym']\n",
      "rialnego 3 ---> ['ringo']\n",
      "rialnego -->distance=3  ['ringo']\n",
      "próbobiorców 4 ---> ['pracobiorca', 'prądobiorca']\n",
      "próbobiorców -->distance=4  ['pracobiorca', 'prądobiorca']\n",
      "tzn 1 ---> ['ten', 'tan', 'ton', 'tyn']\n",
      "tzn -->distance=1  ['ten', 'tan', 'ton', 'tyn']\n",
      "teryto 2 ---> ['toryt', 'terno', 'tefryt', 'koryto', 'teryna', 'tryt', 'meryt']\n",
      "teryto -->distance=2  ['toryt', 'terno', 'tefryt', 'koryto', 'teryna', 'tryt', 'meryt']\n",
      "swine 2 ---> ['Taine', 'spin', 'sawina', 'spinet', 'swoje', 'świni', 'spina', 'Iwiny', 'Ewina', 'wina', 'skin', 'koine', 'wino', 'sini', 'Udine', 'Gwinea', 'swift', 'iwina', 'shire', 'sino', 'gwint', 'wint', 'siny', 'gwinea', 'spinel', 'Iwin', 'Świny']\n",
      "swine -->distance=2  ['Taine', 'spin', 'sawina', 'spinet', 'swoje', 'świni', 'spina', 'Iwiny', 'Ewina', 'wina', 'skin', 'koine', 'wino', 'sini', 'Udine', 'Gwinea', 'swift', 'iwina', 'shire', 'sino', 'gwint', 'wint', 'siny', 'gwinea', 'spinel', 'Iwin', 'Świny']\n",
      "difenylopropylo 7 ---> ['nienylonowy']\n",
      "difenylopropylo -->distance=7  ['nienylonowy']\n",
      "ośc 1 ---> ['oś', 'ość']\n",
      "ośc -->distance=1  ['oś', 'ość']\n",
      "nym 1 ---> ['cym', 'nim', 'nom', 'nem', 'dym']\n",
      "nym -->distance=1  ['cym', 'nim', 'nom', 'nem', 'dym']\n",
      "vista 1 ---> ['lista']\n",
      "vista -->distance=1  ['lista']\n",
      "instrumen 1 ---> ['instrument']\n",
      "instrumen -->distance=1  ['instrument']\n",
      "nitracyjne 3 ---> ['nutacyjny', 'iteracyjny', 'narracyjny', 'nieoracyjny', 'filtracyjny', 'notacyjny', 'wibracyjny', 'migracyjny', 'narracyjnie', 'nitratyn', 'libracyjny', 'nietrakcyjny', 'migracyjnie']\n",
      "nitracyjne -->distance=3  ['nutacyjny', 'iteracyjny', 'narracyjny', 'nieoracyjny', 'filtracyjny', 'notacyjny', 'wibracyjny', 'migracyjny', 'narracyjnie', 'nitratyn', 'libracyjny', 'nietrakcyjny', 'migracyjnie']\n",
      "funkcjonalno 1 ---> ['funkcjonalny']\n",
      "funkcjonalno -->distance=1  ['funkcjonalny']\n",
      "szcze 1 ---> ['szczeć', 'szczep', 'szczek']\n",
      "szcze -->distance=1  ['szczeć', 'szczep', 'szczek']\n",
      "kj 1 ---> ['ej', 'k', 'ka', 'km', 'kb', 'kij', 'oj', 'ki', 'aj']\n",
      "kj -->distance=1  ['ej', 'k', 'ka', 'km', 'kb', 'kij', 'oj', 'ki', 'aj']\n",
      "łips 1 ---> ['mips', 'gips', 'tips']\n",
      "łips -->distance=1  ['mips', 'gips', 'tips']\n",
      "contagious 4 ---> ['longinus', 'optatiwus', 'rotawirus']\n",
      "contagious -->distance=4  ['longinus', 'optatiwus', 'rotawirus']\n",
      "edukacyjno 1 ---> ['edukacyjny']\n",
      "edukacyjno -->distance=1  ['edukacyjny']\n",
      "siarczano 1 ---> ['siarczan', 'siarczany']\n",
      "siarczano -->distance=1  ['siarczan', 'siarczany']\n",
      "shigella 3 ---> ['spirylla', 'libella', 'Mirella']\n",
      "shigella -->distance=3  ['spirylla', 'libella', 'Mirella']\n",
      "jwh 2 ---> ['owa', 'jen', 'jęk', 'oh', 'lwi', 'UwB', 'jut', 'jaw', 'dwa', 'ów', 'wy', 'jur', 'bah', 'wf', 'iwa', 'jaz', 'vw', 'jad', 'juz', 'jon', 'rwa', 'jaś', 'już', 'ach', 'w', 'jod', 'jor', 'uh', 'jog', 'jus', 'Rh', 'jawa', 'BCh', 'ech', 'www', 'jin', 'Iwa', 'Ewy', 'Ewa', 'uch', 'jar', 'ja', 'jol', 'wu', 'jot', 'och', 'kwa', 'juk', 'eh', 'jąć', 'KCh', 'jej', 'jaź', 'wc', 'wa', 'jam', 'ow', 'Iwo', 'rh']\n",
      "jwh -->distance=2  ['owa', 'jen', 'jęk', 'oh', 'lwi', 'UwB', 'jut', 'jaw', 'dwa', 'ów', 'wy', 'jur', 'bah', 'wf', 'iwa', 'jaz', 'vw', 'jad', 'juz', 'jon', 'rwa', 'jaś', 'już', 'ach', 'w', 'jod', 'jor', 'uh', 'jog', 'jus', 'Rh', 'jawa', 'BCh', 'ech', 'www', 'jin', 'Iwa', 'Ewy', 'Ewa', 'uch', 'jar', 'ja', 'jol', 'wu', 'jot', 'och', 'kwa', 'juk', 'eh', 'jąć', 'KCh', 'jej', 'jaź', 'wc', 'wa', 'jam', 'ow', 'Iwo', 'rh']\n",
      "winopochodne 4 ---> ['krwiopochodny', 'węglopochodny', 'niepochodny', 'stopochodny', 'ropopochodny', 'węglopochodna']\n",
      "winopochodne -->distance=4  ['krwiopochodny', 'węglopochodny', 'niepochodny', 'stopochodny', 'ropopochodny', 'węglopochodna']\n",
      "odbieralnice 2 ---> ['odbieralnik', 'odbieralnia']\n",
      "odbieralnice -->distance=2  ['odbieralnik', 'odbieralnia']\n",
      "urt 1 ---> ['nurt', 'ura', 'ut', 'gurt', 'hurt', 'ort', 'burt', 'furt']\n",
      "urt -->distance=1  ['nurt', 'ura', 'ut', 'gurt', 'hurt', 'ort', 'burt', 'furt']\n"
     ]
    }
   ],
   "source": [
    "print_suggestions(freq_5)"
   ]
  },
  {
   "cell_type": "markdown",
   "id": "a9f14b0a-c048-447f-96ac-70d8684b93e1",
   "metadata": {},
   "source": [
    "# ELASTICSEARCH"
   ]
  },
  {
   "cell_type": "markdown",
   "id": "319bed27-ceef-49d3-bbe6-d70125ce12ef",
   "metadata": {},
   "source": [
    "11. Load [SGJP dictionary](http://morfeusz.sgjp.pl/download/) (Słownik SGJP dane tekstowe) to ElasticSearch (one document for each form) \n",
    "   and use fuzzy matching to obtain the possible\n",
    "   corrections of the 30 words with 5 occurrences that do not belong to the dictionary."
   ]
  },
  {
   "cell_type": "code",
   "execution_count": 23,
   "id": "e93e5d4f",
   "metadata": {},
   "outputs": [
    {
     "name": "stdout",
     "output_type": "stream",
     "text": [
      "{'name': 'x-dell', 'cluster_name': 'elasticsearch', 'cluster_uuid': 'hrJwCHZtSGm_1kBHAztvag', 'version': {'number': '7.10.1', 'build_flavor': 'default', 'build_type': 'deb', 'build_hash': '1c34507e66d7db1211f66f3513706fdf548736aa', 'build_date': '2020-12-05T01:00:33.671820Z', 'build_snapshot': False, 'lucene_version': '8.7.0', 'minimum_wire_compatibility_version': '6.8.0', 'minimum_index_compatibility_version': '6.0.0-beta1'}, 'tagline': 'You Know, for Search'}\n"
     ]
    },
    {
     "data": {
      "text/plain": [
       "<Elasticsearch([{'host': 'localhost'}])>"
      ]
     },
     "execution_count": 23,
     "metadata": {},
     "output_type": "execute_result"
    }
   ],
   "source": [
    "es = Elasticsearch(\"http://localhost:9200\")\n",
    "print(es.info())\n",
    "\n",
    "connections.add_connection('python_client', es)\n",
    "connections.create_connection(hosts=['localhost'])\n",
    "\n",
    "# curl -X DELETE 'http://localhost:9200/_all'"
   ]
  },
  {
   "cell_type": "code",
   "execution_count": 36,
   "id": "2200c060",
   "metadata": {},
   "outputs": [],
   "source": [
    "filename = '../data/sgjp-20211031.tab'\n",
    "sjp =pd.read_csv(filename,skiprows=29,usecols=[0,1],header=None,delim_whitespace='\\t')[1]\n",
    "\n",
    "sjp = set(sjp)"
   ]
  },
  {
   "cell_type": "code",
   "execution_count": 37,
   "id": "93c4cdab-278e-4969-b989-df6f398789a6",
   "metadata": {},
   "outputs": [],
   "source": [
    "\n",
    "# def gendata():\n",
    "#     mywords = ['kot', 'mysz', 'baz']\n",
    "#     for word in mywords:\n",
    "#         yield {\n",
    "#             \"_index\": \"mywords1\",\n",
    "#             \"word\": word,\n",
    "#         }\n",
    "\n",
    "# bulk(es, gendata(),request_timeout=10000)"
   ]
  },
  {
   "cell_type": "code",
   "execution_count": 38,
   "id": "6783da33-c3fb-471c-80c7-922fb3159baf",
   "metadata": {},
   "outputs": [
    {
     "name": "stdout",
     "output_type": "stream",
     "text": [
      "0\n",
      "300000\n"
     ]
    },
    {
     "data": {
      "text/plain": [
       "(383709, [])"
      ]
     },
     "execution_count": 38,
     "metadata": {},
     "output_type": "execute_result"
    }
   ],
   "source": [
    "def gendata():\n",
    "    i=0\n",
    "    for word in sjp:\n",
    "        if i%300000 ==0:\n",
    "            print(i)\n",
    "        i+=1\n",
    "        yield {\n",
    "            \"_index\": \"sjp\",\n",
    "            \"word\": word,\n",
    "        }\n",
    "                \n",
    "\n",
    "bulk(es, gendata(),request_timeout=10000 )"
   ]
  },
  {
   "cell_type": "code",
   "execution_count": 42,
   "id": "437aba28-100f-44c7-80ad-f59407b44d25",
   "metadata": {},
   "outputs": [
    {
     "name": "stdout",
     "output_type": "stream",
     "text": [
      "['misz-masz', 'mysz', 'wysz', 'mysi', 'kysz', 'mesz', 'myszy', 'MSZ']\n",
      "['Word belongs to the dictionary']\n"
     ]
    }
   ],
   "source": [
    "def get_suggestions_es(myword,myindex,fuzziness=1):\n",
    "    result =es.search(index=myindex,\n",
    "       query ={\n",
    "            \"fuzzy\": {\n",
    "                \"word\": {\n",
    "                \"value\": myword,\n",
    "                \"fuzziness\": fuzziness\n",
    "                }\n",
    "            }\n",
    "        }\n",
    "    )\n",
    "    hits = result['hits']['hits']\n",
    "\n",
    "\n",
    "    hits_number = len(hits)\n",
    "\n",
    "    # print(hits_number)\n",
    "\n",
    "    suggestions = [i['_source']['word'] for i in hits]\n",
    "    # print(suggestions)\n",
    "    return suggestions\n",
    "\n",
    "\n",
    "print(get_suggestions_es('mysz','sjp'))\n",
    "\n",
    "\n",
    "def get_suggestions_if_needed_es(word,index):\n",
    "    for fuzziness in range(1,40):\n",
    "        suggestions = get_suggestions_es(word,index,fuzziness=fuzziness)\n",
    "        if len(suggestions)>1:\n",
    "            break\n",
    "\n",
    "    if word in suggestions:\n",
    "        return [\"Word belongs to the dictionary\"]\n",
    "    else:\n",
    "        return (suggestions,fuzziness)\n",
    "    \n",
    "\n",
    "\n",
    "print(get_suggestions_if_needed_es('mysz','sjp'))"
   ]
  },
  {
   "cell_type": "code",
   "execution_count": 43,
   "id": "077c2ad8-f352-4087-9864-36586ec20eb4",
   "metadata": {},
   "outputs": [],
   "source": [
    "def print_suggestions_es(words):\n",
    "    start = time.time()\n",
    "\n",
    "    for word in words:\n",
    "        (suggestions,fuzziness) = get_suggestions_if_needed_es(word,'sjp')\n",
    "        print(word, f'-->distance={fuzziness} ', suggestions)\n",
    "    print(f'Total time={time.time()-start}')\n"
   ]
  },
  {
   "cell_type": "code",
   "execution_count": 44,
   "id": "a41d297f-5af7-42dd-bd08-85495d67b90f",
   "metadata": {},
   "outputs": [
    {
     "name": "stdout",
     "output_type": "stream",
     "text": [
      "poz -->distance=1  ['Pot', 'TOZ', 'Poe', 'płoz', 'POW', 'pot', 'ZOZ', 'paz', 'pod', 'po']\n",
      "zm -->distance=1  ['powypasać:Vp~am~zę', 'pasać:Vi~am~zę', 'ZZ', 'ZMP', 'ZS', 'MZ', 'RM', 'ZOM', 'om', 'em']\n",
      "późn -->distance=1  ['późno', 'Późna', 'późny']\n",
      "str -->distance=1  ['Star', 'sto', 'SOR', 'STAR', 'syr', 'star', 'styr', 'itr', 'ster', 'ser']\n",
      "gmo -->distance=1  ['śmo', 'WMO', 'GMC', 'MO', 'go', 'GM', 'Hauke:Sm1~go', 'Faure:Sm1~go', 'go-cart', 'Wilde:Sm1~go']\n",
      "sww -->distance=1  ['suw', 'WSW', 'WWW', 'www', 'SW']\n",
      "operacyjno -->distance=2  ['operacyjny', 'operacyjnie', 'operacyjka', 'operacyjność']\n",
      "skw -->distance=1  ['suw', 'UKW', 'ska', 'PKW', 'SKS', 'ski', 'SW']\n",
      "rolno -->distance=1  ['rolny', 'Solno', 'Rożno', 'Kolno', 'rośno', 'rojno', 'Dolno']\n",
      "ex -->distance=1  ['el', 'et', 'EP', 'eł', 'Rex', 'em', 'eś', 'ej', 'er', 'Ed']\n",
      "ike -->distance=1  ['IDE', 'Ikea', 'iże', 'IKEA', 'Nike', 'KE']\n",
      "społeczno -->distance=1  ['społeczny', 'Sołeczno']\n",
      "techniczno -->distance=2  ['techniczny', 'techniczka', 'technicznie', 'techniczność']\n",
      "remediacji -->distance=39  []\n",
      "ure -->distance=1  ['Uri', 'URz', 'ura', 'BRE', 'Urle', 'URM', 'URL', 'öre', 'UE', 're']\n",
      "rozdz -->distance=2  ['rozkaz', 'rozum', 'Gozdy', 'rozdół', 'rozmaz', 'rozdać', 'rozwóz', 'rondo', 'rozdąć', 'drozd']\n",
      "itp -->distance=1  ['UTP', 'DTP', 'FTP', 'MTP', 'ITI', 'ATP', 'itr', 'Ita', 'ftp', 'IP']\n",
      "uke -->distance=1  ['UKW', 'UKF', 'UE', 'KE', 'UK']\n",
      "kn -->distance=1  ['Wiosna:Sf~en~sn', 'wełna:Sf~en~łn', 'Wełna:Sf~en~łn', 'ko-ko-ko', 'KP', 'KPN', 'KNA', 'PKN', 'SN', 'KC']\n",
      "sanitarno -->distance=2  ['sanitarny', 'sanitaria', 'sanitarka', 'sanitarnie', 'sanitarność']\n",
      "charytatywno -->distance=2  ['charytatywny', 'charytatywnie', 'charytatywność']\n",
      "np -->distance=1  ['NEP', 'KP', 'HP', 'PN', 'NPD', 'EP', 'UP', 'nr', 'SP', 'RP']\n",
      "cn -->distance=1  ['Wiosna:Sf~en~sn', 'wełna:Sf~en~łn', 'Wełna:Sf~en~łn', 'SN', 'PN', 'CO', 'BN', 'cyn', 'CV', 'MN']\n",
      "pkwiu -->distance=2  ['kwiku', 'skwir', 'okwit', 'Akwin', 'pokwit', 'powit', 'Pawia', 'pawić', 'pawik', 'pawio']\n",
      "udt -->distance=1  ['UHT', 'udo', 'DDT', 'UPT', 'PDT', 'ut', 'ud']\n",
      "bswsg -->distance=39  []\n",
      "biobójczych -->distance=39  []\n",
      "bswp -->distance=2  ['zsyp', 'ESOP', 'osep', 'usyp', 'wsyp', 'ZSMP', 'Isep', 'osyp', 'KSAP', 'BBWR']\n",
      "organizacyjno -->distance=2  ['organizacyjny', 'organizacyjnie', 'organizacyjność']\n",
      "phs -->distance=1  ['PKS', 'PPS', 'PiS', 'VHS', 'pąs', 'PRS', 'PSS', 'phu', 'PBS', 'PDS']\n",
      "Total time=1.8488342761993408\n"
     ]
    }
   ],
   "source": [
    "print_suggestions_es(top_30)"
   ]
  },
  {
   "cell_type": "code",
   "execution_count": 45,
   "id": "6d939881-92f6-4ce9-934c-2fcf8efe4c0a",
   "metadata": {},
   "outputs": [
    {
     "name": "stdout",
     "output_type": "stream",
     "text": [
      "urt -->distance=1  ['hurt', 'gurt', 'Uri', 'nurt', 'URz', 'ura', 'UHT', 'ort', 'burt', 'furt']\n",
      "zawart -->distance=1  ['Zawarta', 'Zawrat']\n",
      "funkcjonalno -->distance=2  ['funkcjonalny', 'funkcjonalność', 'funkcjonalnie']\n",
      "jed -->distance=1  ['jad', 'jen', 'ued', 'jod', 'jej', 'Ed', 'Błażej:Sm1~je~owie', 'Maciej:Sm1~je~owie', 'Siergiej:Sm1~je~owie']\n",
      "schetyna -->distance=2  ['chatyna', 'chityna', 'cetyna']\n",
      "cznika -->distance=2  ['Czacka', 'czajka', 'oznaka', 'panika', 'Annika', 'czamka', 'czniać', 'Gzinka', 'tunika', 'arnika']\n",
      "nitracyjne -->distance=39  []\n",
      "inci -->distance=2  ['Vinci', 'sini', 'inąd', 'inwit', 'iścić', 'wincik', 'dingi', 'nick', 'inba', 'Iłki']\n",
      "rialnego -->distance=39  []\n",
      "betezda -->distance=39  ['etezja']\n",
      "ym -->distance=1  ['yo-yo', 'my', 'RM', 'om', 'em', 'cym', 'km', 'UM', 'DM', 'um']\n",
      "inspekcyjno -->distance=2  ['inspekcyjny', 'inspekcyjność']\n",
      "czych -->distance=1  ['chych', 'czuch', 'czmych', 'szych']\n",
      "winopochodne -->distance=39  []\n",
      "instrumen -->distance=39  ['instrument']\n",
      "odbieralnice -->distance=2  ['odbieralnik', 'odbieralnia']\n",
      "swine -->distance=2  ['Udine', 'Gwinea', 'swift', 'iwina', 'spinet', 'swoje', 'świni', 'spina', 'Iwiny', 'Swift']\n",
      "heptanol -->distance=2  ['metanol', 'heptan', 'etanol']\n",
      "informacyjno -->distance=2  ['informacyjny', 'informacyjność', 'informacyjnie']\n",
      "eudravigilance -->distance=39  []\n",
      "ppkt -->distance=1  ['pakt', 'pkt']\n",
      "mieszkalno -->distance=2  ['mieszkalny', 'mieszkalnia', 'mieszkalność', 'mieszkanko', 'mieszalny']\n",
      "sięcy -->distance=2  ['Siary', 'sitny', 'więzy', 'ssący', 'księży', 'silny', 'Zięby', 'cięty', 'siecz', 'Pięty']\n",
      "chelatującym -->distance=39  []\n",
      "odgazowywacze -->distance=39  []\n",
      "nfośigw -->distance=39  []\n",
      "ośc -->distance=1  ['ość', 'OC', 'oś']\n",
      "agave -->distance=2  ['agape', 'agawa', 'agama', 'agapa', 'agar-agar', 'Gace', 'Gaje', 'agar', 'agat', 'Age']\n",
      "edukacyjno -->distance=2  ['edukacyjny', 'edukacyjnie', 'edukacyjność']\n",
      "szcze -->distance=1  ['szczeć', 'szczep', 'szczek', 'Sycze']\n",
      "wlkp -->distance=2  ['Wólka', 'klip', 'wikt', 'Wilka', 'clip', 'wlot', 'wykap', 'wyka', 'Wilki', 'elki']\n",
      "rci -->distance=1  ['RCA', 'RAI', 'PCI', 'ci', 'Got:Sm1~ci', 'Kopyść:Sf~ci', 'imć:Sm1~ci', 'Gać:Sf~ci', 'Galata:Sm1~ci', 'Prot:Sm1~ci~towie']\n",
      "denitracyjne -->distance=39  []\n",
      "rr -->distance=1  ['ro-ro', 'prr', 'brr', 'nr', 'BRR', 'RM', 'RP', 'ro', 're', 'ar']\n",
      "shigella -->distance=39  []\n",
      "jwh -->distance=2  ['BWZ', 'jog', 'jus', 'Joe', 'dwa', 'Jim', 'GBH', 'jur', 'bah', 'EWG']\n",
      "vista -->distance=1  ['lista', 'KGB-ista']\n",
      "wodno -->distance=1  ['Widno', 'wodny', 'widno', 'wonno']\n",
      "teryto -->distance=2  ['Tryton', 'tefryt', 'terkot', 'koryto', 'teryna', 'toryt', 'meryt', 'terno', 'tryt']\n",
      "ponitracyjnego -->distance=39  []\n",
      "próbobiorców -->distance=39  []\n",
      "nym -->distance=1  ['nim', 'cym', 'nem', 'dym', 'nom', 'niewinny:A~ny', 'wolny:A~ny', 'niewdzięczny:A~ny', 'wolny:A~en~ny', 'niewdzięczny:A~en~ny']\n",
      "kpwig -->distance=2  ['Kawie', 'dźwig', 'Kewin', 'kwit', 'kwiz', 'kwik', 'kpić', 'Prusak:Sm1~kowie', 'Syryjczyk:Sm1~kowie', 'Turek:Sm1~kowie']\n",
      "tzn -->distance=1  ['ten', 'TVN', 'OZN', 'TPN', 'tyn', 'tan', 'ton', 'won-ton']\n",
      "ami -->distance=1  ['ali', 'rami', 'API', 'amid', 'a:I', 'Ażi', 'Ali', 'kami', 'ćmi', 'amia']\n",
      "kj -->distance=1  ['ko-ko-ko', 'KP', 'KC', 'kb', 'ka', 'KE', 'km', 'ej', 'DJ', 'oj']\n",
      "regazyfikacyjnego -->distance=39  []\n",
      "difenylopropylo -->distance=39  []\n",
      "łips -->distance=1  ['gips', 'mips', 'tips']\n",
      "siarczano -->distance=1  ['siarczany', 'siarczan']\n",
      "contagious -->distance=39  []\n",
      "najmnie -->distance=2  ['najemnie', 'tajemnie', 'najście', 'najemnik', 'bajanie', 'gajenie', 'naiwnie', 'nadanie', 'nalanie', 'tajnie']\n",
      "sposb -->distance=2  ['spisa', 'Spore', 'społy', 'szosa', 'stołb', 'Szosa', 'spory', 'spora', 'oposy', 'spoić']\n",
      "wapnio -->distance=1  ['wapnić', 'Wapnik', 'wapno', 'Wapno']\n",
      "organicz -->distance=2  ['organicyzm', 'organizm', 'organiczny', 'organiarz']\n",
      "metylofenetyloamina -->distance=39  []\n",
      "Total time=6.209630250930786\n"
     ]
    }
   ],
   "source": [
    "print_suggestions_es(freq_5)"
   ]
  },
  {
   "cell_type": "code",
   "execution_count": 46,
   "id": "9918da12",
   "metadata": {},
   "outputs": [
    {
     "name": "stdout",
     "output_type": "stream",
     "text": [
      "2\n"
     ]
    }
   ],
   "source": [
    "\n",
    "print(Levenshtein.distance(\"AA\",\"BA!\"))"
   ]
  },
  {
   "cell_type": "code",
   "execution_count": null,
   "id": "fe18ca73",
   "metadata": {},
   "outputs": [],
   "source": [
    "freq_5"
   ]
  },
  {
   "cell_type": "code",
   "execution_count": null,
   "id": "20d8d49d-6202-4861-9db1-f9369c5b491b",
   "metadata": {
    "tags": []
   },
   "outputs": [],
   "source": [
    "\n",
    "s = Search(using=es, index=\"ustawa\").query(\"match_all\")[:3000].execute()\n",
    "ids = [x.meta.id for x in s]\n",
    "\n",
    "amount=0\n",
    "for id in ids:\n",
    "    s = es.termvectors(index=\"ustawa\", fields=\"content\", id =id,field_statistics=True)\n",
    "    print(s['term_vectors']['content']['terms'])\n",
    "    try:\n",
    "        amount += s['term_vectors']['content']['terms']['ustawa']['term_freq']\n",
    "    except KeyError:\n",
    "        pass\n",
    "    break\n",
    "print(amount)\n"
   ]
  },
  {
   "cell_type": "markdown",
   "id": "e124e732-b436-4897-9157-4b636feb5619",
   "metadata": {},
   "source": [
    "12. Compare the results of your algorithm and output of ES. "
   ]
  },
  {
   "cell_type": "code",
   "execution_count": null,
   "id": "7c42afd6-8286-448d-99a1-fb752e6a945a",
   "metadata": {},
   "outputs": [],
   "source": [
    "for word in top_30:\n",
    "    (min_distance,suggestions) = find_suggestions(words)\n",
    "    (suggestions_es,fuzziness_es) = get_suggestions_if_needed_es(word,'sjp')"
   ]
  },
  {
   "cell_type": "markdown",
   "id": "96164ccc-498d-40f4-b5ac-049004350280",
   "metadata": {},
   "source": [
    "13. Draw conclusions regarding:\n",
    "   * the distribution of words in the corpus,\n",
    "   * the number of true misspellings vs. the number of unknown words,\n",
    "   * the performance of your method compared to ElasticSearch,\n",
    "   * the results provided by your method compared to ElasticSearch,\n",
    "   * the validity of the obtained corrections."
   ]
  }
 ],
 "metadata": {
  "kernelspec": {
   "display_name": "Python [conda env:ml] *",
   "language": "python",
   "name": "conda-env-ml-py"
  },
  "language_info": {
   "codemirror_mode": {
    "name": "ipython",
    "version": 3
   },
   "file_extension": ".py",
   "mimetype": "text/x-python",
   "name": "python",
   "nbconvert_exporter": "python",
   "pygments_lexer": "ipython3",
   "version": "3.8.5"
  }
 },
 "nbformat": 4,
 "nbformat_minor": 5
}
