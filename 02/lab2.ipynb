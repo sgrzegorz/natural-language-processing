{
 "cells": [
  {
   "cell_type": "markdown",
   "id": "3d42a463-263c-471b-87b2-0f111fcdfa71",
   "metadata": {},
   "source": [
    "1. Install ElasticSearch (ES).\n",
    "2. Install an ES plugin for Polish https://github.com/allegro/elasticsearch-analysis-morfologik \n",
    "3. Define an ES analyzer for Polish texts containing:\n",
    "   1. standard tokenizer\n",
    "   1. synonym filter with the following definitions:\n",
    "      1. kpk - kodeks postępowania karnego\n",
    "      1. kpc - kodeks postępowania cywilnego\n",
    "      1. kk - kodeks karny\n",
    "      1. kc - kodeks cywilny\n",
    "   1. Morfologik-based lemmatizer\n",
    "   1. lowercase filter"
   ]
  },
  {
   "cell_type": "code",
   "execution_count": 537,
   "id": "7a2f3951-3137-447b-bfd8-888b70a63c8a",
   "metadata": {},
   "outputs": [
    {
     "data": {
      "text/plain": [
       "{'name': 'x-dell',\n",
       " 'cluster_name': 'elasticsearch',\n",
       " 'cluster_uuid': 'hrJwCHZtSGm_1kBHAztvag',\n",
       " 'version': {'number': '7.10.1',\n",
       "  'build_flavor': 'default',\n",
       "  'build_type': 'deb',\n",
       "  'build_hash': '1c34507e66d7db1211f66f3513706fdf548736aa',\n",
       "  'build_date': '2020-12-05T01:00:33.671820Z',\n",
       "  'build_snapshot': False,\n",
       "  'lucene_version': '8.7.0',\n",
       "  'minimum_wire_compatibility_version': '6.8.0',\n",
       "  'minimum_index_compatibility_version': '6.0.0-beta1'},\n",
       " 'tagline': 'You Know, for Search'}"
      ]
     },
     "execution_count": 537,
     "metadata": {},
     "output_type": "execute_result"
    }
   ],
   "source": [
    "import re\n",
    "import tarfile\n",
    "import os\n",
    "import matplotlib.pyplot as plt\n",
    "import numpy as np\n",
    "import regex\n",
    "import pandas as pd\n",
    "import morfeusz2\n",
    "%matplotlib inline\n",
    "\n",
    "\n",
    "\n",
    "from elasticsearch import Elasticsearch\n",
    "from elasticsearch_dsl import analyzer, tokenizer\n",
    "\n",
    "es = Elasticsearch(\"http://localhost:9200\")\n",
    "resp = es.info()\n",
    "resp"
   ]
  },
  {
   "cell_type": "code",
   "execution_count": 593,
   "id": "c9f24876-0093-4bfa-88db-054ad664dce7",
   "metadata": {},
   "outputs": [
    {
     "name": "stdout",
     "output_type": "stream",
     "text": [
      "1179\n"
     ]
    }
   ],
   "source": [
    "from elasticsearch_dsl import  *\n",
    "from elasticsearch import *\n",
    "from datetime import datetime\n",
    "\n",
    "from elasticsearch_dsl import connections\n",
    "\n",
    "connections.create_connection(hosts=['localhost'])\n",
    "es = Elasticsearch()\n",
    "\n",
    "synonym = token_filter('my_name', type='synonym',\n",
    "                       synonyms =\n",
    "                       [\"kpk => kodeks postępowania karnego\",\n",
    "                        \"kpc => kodeks postępowania cywilnego\",\n",
    "                        \"kk => kodeks karny\",\n",
    "                        \"kc => kodeks cywilny\"\n",
    "                       ])\n",
    "\n",
    "my_analyzer = analyzer('my_analyzer',\n",
    "    tokenizer=tokenizer('standard'),\n",
    "    filter=[\"lowercase\",synonym,\"morfologik_stem\",]\n",
    ")\n",
    "\n",
    "\n",
    "# es.delete_by_query(index=['ustawa'], body={\"query\": {\"match_all\": {}}})\n",
    "\n",
    "\n",
    "class Ustawa(Document):\n",
    "    title = Text()\n",
    "    created_at = Integer()\n",
    "    content = Text(analyzer=my_analyzer)\n",
    "    \n",
    "    class Index:\n",
    "        name = 'ustawa'\n",
    "        \n",
    "        \n",
    "\n",
    "Ustawa.init()\n",
    "\n",
    "\n",
    "path=\"../data/ustawy\"\n",
    "i=0\n",
    "for filename in os.listdir(path):\n",
    "    with open(os.path.join(path, filename), 'r',encoding='utf-8') as f: # open in readonly mode\n",
    "        \n",
    "        # title = \n",
    "        year = int(re.search(r'.*\\/([^\\/]{4})',f.name).group(1))\n",
    "        first = Ustawa(title=f.name,content=f.read(),created_at = year)\n",
    "        \n",
    "        first.save(using=es)\n",
    "        i+=1\n",
    "        # if i==50:\n",
    "        #     break\n",
    "        # break\n",
    "print(i) \n",
    "\n",
    "\n",
    "\n",
    "\n",
    "\n",
    "\n"
   ]
  },
  {
   "cell_type": "code",
   "execution_count": 594,
   "id": "1cdbf20f-9d3c-45f8-8ed4-c43808e80403",
   "metadata": {},
   "outputs": [],
   "source": [
    "from elasticsearch_dsl import *\n",
    "from elasticsearch import *"
   ]
  },
  {
   "cell_type": "code",
   "execution_count": 599,
   "id": "97e9f8be-a8f9-4362-b47a-7d2d96996d1a",
   "metadata": {},
   "outputs": [
    {
     "ename": "ImportError",
     "evalue": "cannot import name 'MatchPhrase' from 'elasticsearch' (/home/x/anaconda3/envs/ml/lib/python3.8/site-packages/elasticsearch/__init__.py)",
     "output_type": "error",
     "traceback": [
      "\u001b[0;31m---------------------------------------------------------------------------\u001b[0m",
      "\u001b[0;31mImportError\u001b[0m                               Traceback (most recent call last)",
      "\u001b[0;32m<ipython-input-599-7f393de0a8e8>\u001b[0m in \u001b[0;36m<module>\u001b[0;34m\u001b[0m\n\u001b[0;32m----> 1\u001b[0;31m \u001b[0;32mfrom\u001b[0m \u001b[0melasticsearch\u001b[0m \u001b[0;32mimport\u001b[0m \u001b[0mMatchPhrase\u001b[0m\u001b[0;34m\u001b[0m\u001b[0;34m\u001b[0m\u001b[0m\n\u001b[0m",
      "\u001b[0;31mImportError\u001b[0m: cannot import name 'MatchPhrase' from 'elasticsearch' (/home/x/anaconda3/envs/ml/lib/python3.8/site-packages/elasticsearch/__init__.py)"
     ]
    }
   ],
   "source": [
    "from elasticsearch import MatchPhrase\n"
   ]
  },
  {
   "cell_type": "code",
   "execution_count": 542,
   "id": "dda5bc21-fb6e-407a-b2f8-c7fa6234b487",
   "metadata": {},
   "outputs": [
    {
     "name": "stdout",
     "output_type": "stream",
     "text": [
      "name   component           version description\n",
      "x-dell analysis-morfologik 7.10.1  Morfologik Polish Lemmatizer plugin for Elasticsearch\n",
      "\n"
     ]
    }
   ],
   "source": [
    "elasticsearch_dsl.connections.add_connection('python_client', es)\n",
    "\n",
    "print(es.cat.plugins(params={'v': '', 'h': 'name,component,version,description'}))\n"
   ]
  },
  {
   "cell_type": "code",
   "execution_count": 698,
   "id": "38e025d4-e5c7-443c-8491-ee2d4e6eb538",
   "metadata": {},
   "outputs": [
    {
     "name": "stdout",
     "output_type": "stream",
     "text": [
      "2356\n"
     ]
    }
   ],
   "source": [
    "search = Search(index='ustawa',using=es).query('match', content='ustawa').count()\n",
    "print(search)\n",
    "# r =search.execute()\n",
    "# print(len(r))"
   ]
  },
  {
   "cell_type": "code",
   "execution_count": 547,
   "id": "73c2c62f-2fd6-4d69-8a92-853d188b6a66",
   "metadata": {},
   "outputs": [
    {
     "name": "stdout",
     "output_type": "stream",
     "text": [
      "1179\n"
     ]
    }
   ],
   "source": [
    "\n",
    "s = Search(using=es, index=\"ustawa\").count()\n",
    "print(s)"
   ]
  },
  {
   "cell_type": "code",
   "execution_count": 334,
   "id": "d3ccc923-6742-4b56-b185-e092c22acdf9",
   "metadata": {},
   "outputs": [
    {
     "name": "stdout",
     "output_type": "stream",
     "text": [
      "1\n"
     ]
    }
   ],
   "source": [
    "s = Search(using=es, index=\"ustawa\").query(\"match_phrase\", title='../data/ustawy/2001_906.txt').count()\n",
    "print(s)"
   ]
  },
  {
   "cell_type": "markdown",
   "id": "59de9fc7-b759-468b-bf50-6a9fe88e44a5",
   "metadata": {},
   "source": [
    "4. Define an ES index for storing the contents of the legislative acts.\n",
    "5. Load the data to the ES index.\n",
    "6. Determine the number of legislative acts containing the word **ustawa** (in any form)."
   ]
  },
  {
   "cell_type": "code",
   "execution_count": 696,
   "id": "2a7d7200-0c70-4a67-93f8-fce7de45cb5d",
   "metadata": {},
   "outputs": [
    {
     "name": "stdout",
     "output_type": "stream",
     "text": [
      "There are 2356 documents with the word \"ustawa\" in them\n"
     ]
    }
   ],
   "source": [
    "s = Search(using=es, index=\"ustawa\").filter(\"match_phrase\", content='ustawa').count()\n",
    "print(f'There are {s} documents with the word \"ustawa\" in them')"
   ]
  },
  {
   "cell_type": "markdown",
   "id": "b1776ea4-dd42-4098-a792-1a84ba5a38ab",
   "metadata": {},
   "source": [
    "7. Determine the number of occurrences of the word **ustawa** by searching for this particular form, including the other inflectional forms.\n",
    "8. Determine the number of occurrences of the word **ustaw** by searching for this particular form, including the other inflectional forms."
   ]
  },
  {
   "cell_type": "code",
   "execution_count": 804,
   "id": "285f9e54-2340-4fad-9e19-099e9e8f72bc",
   "metadata": {
    "tags": []
   },
   "outputs": [
    {
     "name": "stdout",
     "output_type": "stream",
     "text": [
      "['1', '10a', '1989', '1990', '1993', '1996', '2', '20', '213', '3', '30', '306', '347', '435', '47', '53', '72', '73', 'artykuł', 'brzmienie', 'brzmieć', 'budżetowy', 'być', 'członek', 'dodawać', 'droga', 'dz.u', 'działalność', 'dzień', 'finansować', 'grudzień', 'i', 'kancelaria', 'kierowniczy', 'krajowy', 'który', 'maj', 'maja', 'moc', 'mowa', 'nie', 'numer', 'o', 'ocean', 'od', 'oda', 'ogłosić', 'ogłoszenie', 'ojciec', 'określać', 'on', 'państwowy', 'polski', 'pozycja', 'prezydent', 'przysługiwać', 'przyznawać', 'rad', 'rada', 'rok', 'ryczałt', 'rzeczpospolita', 'się', 'stanowisko', 'styczeń', 'sądownictwo', 'usta', 'ustawa', 'w', 'wchodzić', 'wiek', 'wysokość', 'z', 'zajmować', 'zajmujący', 'zarządzenie', 'zarządzić', 'zasada', 'zmiana', 'środek', 'środki', 'życie', 'żyto', 'żyć']\n",
      "4\n"
     ]
    }
   ],
   "source": [
    "s = es.termvectors(index=\"ustawa\", fields=\"content\", id =id,field_statistics=False)\n",
    "print(list(s['term_vectors']['content']['terms'].keys()))\n",
    "\n",
    "print(s['term_vectors']['content']['terms']['ustawa']['term_freq'])"
   ]
  },
  {
   "cell_type": "code",
   "execution_count": 809,
   "id": "29b4fa4c-3c6b-42eb-b863-04ebe405d2c8",
   "metadata": {
    "tags": []
   },
   "outputs": [
    {
     "name": "stdout",
     "output_type": "stream",
     "text": [
      "49868\n"
     ]
    }
   ],
   "source": [
    "s = Search(using=es, index=\"ustawa\").query(\"match_all\")[:3000].execute()\n",
    "ids = [x.meta.id for x in s]\n",
    "\n",
    "amount=0\n",
    "for id in ids:\n",
    "    s = es.termvectors(index=\"ustawa\", fields=\"content\", id =id,field_statistics=True)\n",
    "    try:\n",
    "        amount += s['term_vectors']['content']['terms']['ustawa']['term_freq']\n",
    "    except KeyError:\n",
    "        pass\n",
    "print(amount)"
   ]
  },
  {
   "cell_type": "markdown",
   "id": "b8f9eea7-c422-44b3-a294-09915406d47a",
   "metadata": {},
   "source": [
    "9. Determine the number of legislative acts containing the words **kodeks postępowania cywilnego** \n",
    "   in the specified order, but in any inflection form."
   ]
  },
  {
   "cell_type": "code",
   "execution_count": 766,
   "id": "5702053a-f825-42c2-8986-4c8aad92b79a",
   "metadata": {},
   "outputs": [
    {
     "name": "stdout",
     "output_type": "stream",
     "text": [
      "The number of files containing the words \"kodeks postępowania cywilnego\" is: 198\n",
      "The number of files containing the words \"kpc\" is: 198\n"
     ]
    }
   ],
   "source": [
    "s = Search(using=es, index=\"ustawa\").query(\"match_phrase\", content='kodeks postępowania cywilnego').count()\n",
    "print(f'The number of files containing the words \"kodeks postępowania cywilnego\" is: {s}')\n",
    "\n",
    "s = Search(using=es, index=\"ustawa\").query(\"match_phrase\", content='kpc').count()\n",
    "print(f'The number of files containing the words \"kpc\" is: {s}')"
   ]
  },
  {
   "cell_type": "markdown",
   "id": "18a3985d-343b-4817-8f0c-c01a34605e59",
   "metadata": {},
   "source": [
    "10. Determine the number of legislative acts containing the words **wchodzi w życie** \n",
    "   (in any form) allowing for up to 2 additional words in the searched phrase."
   ]
  },
  {
   "cell_type": "code",
   "execution_count": 631,
   "id": "c636b373-ec3a-47cc-9d81-2cac3634a74a",
   "metadata": {},
   "outputs": [
    {
     "name": "stdout",
     "output_type": "stream",
     "text": [
      "2348\n"
     ]
    }
   ],
   "source": [
    "q = elasticsearch_dsl.query.MatchPhrase(content={'query' : \"wchodzi w życie\",'slop' :2})\n",
    "s = Search(using=es, index=\"ustawa\").query(q).count()\n",
    "\n",
    "print(s)"
   ]
  },
  {
   "cell_type": "markdown",
   "id": "d79f03ea-8aaa-4f1a-ab5d-95992bf42e3e",
   "metadata": {},
   "source": [
    "11. Determine the 10 documents that are the most relevant for the phrase **konstytucja**.\n",
    "12. Print the excerpts containing the word **konstytucja** (up to three excerpts per document) \n",
    "   from the previous task."
   ]
  },
  {
   "cell_type": "code",
   "execution_count": 820,
   "id": "c62fd8ad-d90c-4c71-8c83-323afcbccb01",
   "metadata": {
    "tags": []
   },
   "outputs": [
    {
     "name": "stdout",
     "output_type": "stream",
     "text": [
      "0 ../data/ustawy/1995_436.txt 0.0\n",
      "1 ../data/ustawy/2001_1082.txt 0.0\n",
      "2 ../data/ustawy/1997_349.txt 0.0\n",
      "3 ../data/ustawy/1996_396.txt 0.0\n",
      "4 ../data/ustawy/1997_944.txt 0.0\n",
      "5 ../data/ustawy/2001_23.txt 0.0\n",
      "6 ../data/ustawy/2000_1268.txt 0.0\n",
      "7 ../data/ustawy/1994_195.txt 0.0\n",
      "8 ../data/ustawy/2002_110.txt 0.0\n",
      "9 ../data/ustawy/1997_604.txt 0.0\n"
     ]
    }
   ],
   "source": [
    "from pprint import pprint\n",
    "\n",
    "s = Search(using=es, index=\"ustawa\").filter(\"match_phrase\", content='konstytucja').execute()\n",
    "# s.highlight(fields='content').execute()\n",
    "for i,hit in enumerate(s[:10]):\n",
    "    # pprint(vars(hit))\n",
    "\n",
    "    print(i, hit.title,hit.meta.score)\n",
    "# print(s[:10])"
   ]
  },
  {
   "cell_type": "code",
   "execution_count": 851,
   "id": "19167905-a633-489d-a4c5-a6ac12aed9f1",
   "metadata": {
    "tags": []
   },
   "outputs": [
    {
     "name": "stdout",
     "output_type": "stream",
     "text": [
      "0 ../data/ustawy/1997_629.txt 6.8801036\n",
      "- \n",
      "           i uchwalenia <em>Konstytucji</em> Rzeczypospolitej Polskiej\n",
      "-  przygotowania i \n",
      "uchwalenia <em>Konstytucji</em> Rzeczypospolitej Polskiej (Dz.U. Nr 67, poz\n",
      "-  przedstawienia\n",
      "                Zgromadzeniu Narodowemu projektu nowej <em>Konstytucji</em>\n",
      "1 ../data/ustawy/1997_629.txt 6.8801036\n",
      "- \n",
      "           i uchwalenia <em>Konstytucji</em> Rzeczypospolitej Polskiej\n",
      "-  przygotowania i \n",
      "uchwalenia <em>Konstytucji</em> Rzeczypospolitej Polskiej (Dz.U. Nr 67, poz\n",
      "-  przedstawienia\n",
      "                Zgromadzeniu Narodowemu projektu nowej <em>Konstytucji</em>\n",
      "2 ../data/ustawy/2000_443.txt 6.674678\n",
      "- . 89 ust.\n",
      "  1 i art. 90 <em>Konstytucji</em> Rzeczypospolitej Polskiej, oraz inne umowy\n",
      "- . 89\n",
      "     ust. 1 lub art. 90 <em>Konstytucji</em> Rzeczypospolitej Polskiej, lub\n",
      "   3\n",
      "-  przesłanek określonych w art. 89 ust. 1 lub art. 90 <em>Konstytucji</em>\n",
      "     Rzeczypospolitej\n",
      "3 ../data/ustawy/2000_443.txt 6.674678\n",
      "- . 89 ust.\n",
      "  1 i art. 90 <em>Konstytucji</em> Rzeczypospolitej Polskiej, oraz inne umowy\n",
      "- . 89\n",
      "     ust. 1 lub art. 90 <em>Konstytucji</em> Rzeczypospolitej Polskiej, lub\n",
      "   3\n",
      "-  przesłanek określonych w art. 89 ust. 1 lub art. 90 <em>Konstytucji</em>\n",
      "     Rzeczypospolitej\n",
      "4 ../data/ustawy/1997_604.txt 6.6438217\n",
      "-  co do zgodności z <em>Konstytucją</em> celów lub \n",
      "   zasad działania partii politycznej\n",
      "-  <em>Konstytucją</em>.\n",
      " 2. Na postanowienie, o którym mowa w ust. 1, zażalenie nie przysługuje\n",
      "-  \n",
      "   politycznej z <em>Konstytucją</em>, Sąd odmawia wpisu partii do ewidencji.\n",
      " 4\n",
      "5 ../data/ustawy/1997_604.txt 6.6438217\n",
      "-  co do zgodności z <em>Konstytucją</em> celów lub \n",
      "   zasad działania partii politycznej\n",
      "-  <em>Konstytucją</em>.\n",
      " 2. Na postanowienie, o którym mowa w ust. 1, zażalenie nie przysługuje\n",
      "-  \n",
      "   politycznej z <em>Konstytucją</em>, Sąd odmawia wpisu partii do ewidencji.\n",
      " 4\n",
      "6 ../data/ustawy/1996_350.txt 6.638639\n",
      "-  <em>Konstytucji</em> lub ustawy, w związku z zajmowanym\n",
      "              stanowiskiem lub w\n",
      "-  w art. 107 <em>Konstytucji</em> odpowiedzialność przed\n",
      "           Trybunałem Stanu\n",
      "-  <em>Konstytucji</em>, ustawy lub za\n",
      "              popełnienie przestępstwa.\n",
      "         2. W\n",
      "7 ../data/ustawy/1996_350.txt 6.638639\n",
      "-  <em>Konstytucji</em> lub ustawy, w związku z zajmowanym\n",
      "              stanowiskiem lub w\n",
      "-  w art. 107 <em>Konstytucji</em> odpowiedzialność przed\n",
      "           Trybunałem Stanu\n",
      "-  <em>Konstytucji</em>, ustawy lub za\n",
      "              popełnienie przestępstwa.\n",
      "         2. W\n",
      "8 ../data/ustawy/1997_642.txt 6.262811\n",
      "- ) stwierdzenie zgodności ustaw i umów międzynarodowych z\n",
      "               <em>Konstytucją</em>\n",
      "-  wydawanych przez\n",
      "               centralne organy państwowe, z <em>Konstytucją</em>\n",
      "- ) stwierdzenie zgodności z <em>Konstytucją</em> celów lub\n",
      "               działalności partii\n",
      "9 ../data/ustawy/1997_642.txt 6.262811\n",
      "- ) stwierdzenie zgodności ustaw i umów międzynarodowych z\n",
      "               <em>Konstytucją</em>\n",
      "-  wydawanych przez\n",
      "               centralne organy państwowe, z <em>Konstytucją</em>\n",
      "- ) stwierdzenie zgodności z <em>Konstytucją</em> celów lub\n",
      "               działalności partii\n"
     ]
    }
   ],
   "source": [
    "q = elasticsearch_dsl.query.Match(content={'query' : \"konstytucja\"})\n",
    "s = Search(using=es, index=\"ustawa\").query(q).highlight('content',number_of_fragments=3,type='plain',fragment_size=80)[:10].execute()\n",
    "\n",
    "for i,hit in enumerate(s):\n",
    "    fragments = hit.meta['highlight']['content']\n",
    "    print(i,hit['title'],hit.meta.score)\n",
    "    for fragment in fragments:\n",
    "        print('-', fragment)\n"
   ]
  },
  {
   "cell_type": "code",
   "execution_count": 586,
   "id": "12f4a0d2-9286-4609-9971-eaf6e1a91344",
   "metadata": {
    "collapsed": true,
    "jupyter": {
     "outputs_hidden": true
    },
    "tags": []
   },
   "outputs": [
    {
     "ename": "RequestError",
     "evalue": "RequestError(400, 'illegal_argument_exception', \"[nested] requires 'path' field\")",
     "output_type": "error",
     "traceback": [
      "\u001b[0;31m---------------------------------------------------------------------------\u001b[0m",
      "\u001b[0;31mRequestError\u001b[0m                              Traceback (most recent call last)",
      "\u001b[0;32m<ipython-input-586-b2a0a90fb83d>\u001b[0m in \u001b[0;36m<module>\u001b[0;34m\u001b[0m\n\u001b[1;32m      1\u001b[0m \u001b[0ms\u001b[0m \u001b[0;34m=\u001b[0m \u001b[0mSearch\u001b[0m\u001b[0;34m(\u001b[0m\u001b[0musing\u001b[0m\u001b[0;34m=\u001b[0m\u001b[0mes\u001b[0m\u001b[0;34m,\u001b[0m \u001b[0mindex\u001b[0m\u001b[0;34m=\u001b[0m\u001b[0;34m\"ustawa\"\u001b[0m\u001b[0;34m)\u001b[0m\u001b[0;34m.\u001b[0m\u001b[0mquery\u001b[0m\u001b[0;34m(\u001b[0m\u001b[0;34m'nested'\u001b[0m\u001b[0;34m,\u001b[0m \u001b[0mquery\u001b[0m\u001b[0;34m=\u001b[0m\u001b[0mQ\u001b[0m\u001b[0;34m(\u001b[0m\u001b[0;34m'match'\u001b[0m\u001b[0;34m,\u001b[0m \u001b[0mcontent\u001b[0m\u001b[0;34m=\u001b[0m\u001b[0;34m'konstytucja'\u001b[0m\u001b[0;34m)\u001b[0m\u001b[0;34m,\u001b[0m \u001b[0minner_hits\u001b[0m\u001b[0;34m=\u001b[0m\u001b[0;34m{\u001b[0m\u001b[0;34m\"highlight\"\u001b[0m\u001b[0;34m:\u001b[0m \u001b[0;34m{\u001b[0m\u001b[0;34m\"fields\"\u001b[0m\u001b[0;34m:\u001b[0m \u001b[0;34m{\u001b[0m\u001b[0;34m\"content\"\u001b[0m\u001b[0;34m:\u001b[0m \u001b[0;34m{\u001b[0m\u001b[0;34m}\u001b[0m\u001b[0;34m}\u001b[0m\u001b[0;34m}\u001b[0m\u001b[0;34m}\u001b[0m\u001b[0;34m)\u001b[0m\u001b[0;34m\u001b[0m\u001b[0;34m\u001b[0m\u001b[0m\n\u001b[1;32m      2\u001b[0m \u001b[0;34m\u001b[0m\u001b[0m\n\u001b[0;32m----> 3\u001b[0;31m \u001b[0;32mfor\u001b[0m \u001b[0mhit\u001b[0m \u001b[0;32min\u001b[0m \u001b[0ms\u001b[0m\u001b[0;34m:\u001b[0m\u001b[0;34m\u001b[0m\u001b[0;34m\u001b[0m\u001b[0m\n\u001b[0m\u001b[1;32m      4\u001b[0m     \u001b[0;32mfor\u001b[0m \u001b[0mcomment\u001b[0m \u001b[0;32min\u001b[0m \u001b[0mhit\u001b[0m\u001b[0;34m.\u001b[0m\u001b[0mmeta\u001b[0m\u001b[0;34m.\u001b[0m\u001b[0minner_hits\u001b[0m\u001b[0;34m.\u001b[0m\u001b[0mcontent\u001b[0m\u001b[0;34m.\u001b[0m\u001b[0mhits\u001b[0m\u001b[0;34m:\u001b[0m\u001b[0;34m\u001b[0m\u001b[0;34m\u001b[0m\u001b[0m\n\u001b[1;32m      5\u001b[0m         \u001b[0;31m# not 100% sure about the path, but look into comment.meta\u001b[0m\u001b[0;34m\u001b[0m\u001b[0;34m\u001b[0m\u001b[0;34m\u001b[0m\u001b[0m\n",
      "\u001b[0;32m~/anaconda3/envs/ml/lib/python3.8/site-packages/elasticsearch_dsl/search.py\u001b[0m in \u001b[0;36m__iter__\u001b[0;34m(self)\u001b[0m\n\u001b[1;32m    344\u001b[0m         \u001b[0mIterate\u001b[0m \u001b[0mover\u001b[0m \u001b[0mthe\u001b[0m \u001b[0mhits\u001b[0m\u001b[0;34m.\u001b[0m\u001b[0;34m\u001b[0m\u001b[0;34m\u001b[0m\u001b[0m\n\u001b[1;32m    345\u001b[0m         \"\"\"\n\u001b[0;32m--> 346\u001b[0;31m         \u001b[0;32mreturn\u001b[0m \u001b[0miter\u001b[0m\u001b[0;34m(\u001b[0m\u001b[0mself\u001b[0m\u001b[0;34m.\u001b[0m\u001b[0mexecute\u001b[0m\u001b[0;34m(\u001b[0m\u001b[0;34m)\u001b[0m\u001b[0;34m)\u001b[0m\u001b[0;34m\u001b[0m\u001b[0;34m\u001b[0m\u001b[0m\n\u001b[0m\u001b[1;32m    347\u001b[0m \u001b[0;34m\u001b[0m\u001b[0m\n\u001b[1;32m    348\u001b[0m     \u001b[0;32mdef\u001b[0m \u001b[0m__getitem__\u001b[0m\u001b[0;34m(\u001b[0m\u001b[0mself\u001b[0m\u001b[0;34m,\u001b[0m \u001b[0mn\u001b[0m\u001b[0;34m)\u001b[0m\u001b[0;34m:\u001b[0m\u001b[0;34m\u001b[0m\u001b[0;34m\u001b[0m\u001b[0m\n",
      "\u001b[0;32m~/anaconda3/envs/ml/lib/python3.8/site-packages/elasticsearch_dsl/search.py\u001b[0m in \u001b[0;36mexecute\u001b[0;34m(self, ignore_cache)\u001b[0m\n\u001b[1;32m    713\u001b[0m \u001b[0;34m\u001b[0m\u001b[0m\n\u001b[1;32m    714\u001b[0m             self._response = self._response_class(\n\u001b[0;32m--> 715\u001b[0;31m                 \u001b[0mself\u001b[0m\u001b[0;34m,\u001b[0m \u001b[0mes\u001b[0m\u001b[0;34m.\u001b[0m\u001b[0msearch\u001b[0m\u001b[0;34m(\u001b[0m\u001b[0mindex\u001b[0m\u001b[0;34m=\u001b[0m\u001b[0mself\u001b[0m\u001b[0;34m.\u001b[0m\u001b[0m_index\u001b[0m\u001b[0;34m,\u001b[0m \u001b[0mbody\u001b[0m\u001b[0;34m=\u001b[0m\u001b[0mself\u001b[0m\u001b[0;34m.\u001b[0m\u001b[0mto_dict\u001b[0m\u001b[0;34m(\u001b[0m\u001b[0;34m)\u001b[0m\u001b[0;34m,\u001b[0m \u001b[0;34m**\u001b[0m\u001b[0mself\u001b[0m\u001b[0;34m.\u001b[0m\u001b[0m_params\u001b[0m\u001b[0;34m)\u001b[0m\u001b[0;34m\u001b[0m\u001b[0;34m\u001b[0m\u001b[0m\n\u001b[0m\u001b[1;32m    716\u001b[0m             )\n\u001b[1;32m    717\u001b[0m         \u001b[0;32mreturn\u001b[0m \u001b[0mself\u001b[0m\u001b[0;34m.\u001b[0m\u001b[0m_response\u001b[0m\u001b[0;34m\u001b[0m\u001b[0;34m\u001b[0m\u001b[0m\n",
      "\u001b[0;32m~/anaconda3/envs/ml/lib/python3.8/site-packages/elasticsearch/client/utils.py\u001b[0m in \u001b[0;36m_wrapped\u001b[0;34m(*args, **kwargs)\u001b[0m\n\u001b[1;32m    299\u001b[0m                 \u001b[0;32mif\u001b[0m \u001b[0mp\u001b[0m \u001b[0;32min\u001b[0m \u001b[0mkwargs\u001b[0m\u001b[0;34m:\u001b[0m\u001b[0;34m\u001b[0m\u001b[0;34m\u001b[0m\u001b[0m\n\u001b[1;32m    300\u001b[0m                     \u001b[0mparams\u001b[0m\u001b[0;34m[\u001b[0m\u001b[0mp\u001b[0m\u001b[0;34m]\u001b[0m \u001b[0;34m=\u001b[0m \u001b[0mkwargs\u001b[0m\u001b[0;34m.\u001b[0m\u001b[0mpop\u001b[0m\u001b[0;34m(\u001b[0m\u001b[0mp\u001b[0m\u001b[0;34m)\u001b[0m\u001b[0;34m\u001b[0m\u001b[0;34m\u001b[0m\u001b[0m\n\u001b[0;32m--> 301\u001b[0;31m             \u001b[0;32mreturn\u001b[0m \u001b[0mfunc\u001b[0m\u001b[0;34m(\u001b[0m\u001b[0;34m*\u001b[0m\u001b[0margs\u001b[0m\u001b[0;34m,\u001b[0m \u001b[0mparams\u001b[0m\u001b[0;34m=\u001b[0m\u001b[0mparams\u001b[0m\u001b[0;34m,\u001b[0m \u001b[0mheaders\u001b[0m\u001b[0;34m=\u001b[0m\u001b[0mheaders\u001b[0m\u001b[0;34m,\u001b[0m \u001b[0;34m**\u001b[0m\u001b[0mkwargs\u001b[0m\u001b[0;34m)\u001b[0m\u001b[0;34m\u001b[0m\u001b[0;34m\u001b[0m\u001b[0m\n\u001b[0m\u001b[1;32m    302\u001b[0m \u001b[0;34m\u001b[0m\u001b[0m\n\u001b[1;32m    303\u001b[0m         \u001b[0;32mreturn\u001b[0m \u001b[0m_wrapped\u001b[0m\u001b[0;34m\u001b[0m\u001b[0;34m\u001b[0m\u001b[0m\n",
      "\u001b[0;32m~/anaconda3/envs/ml/lib/python3.8/site-packages/elasticsearch/client/__init__.py\u001b[0m in \u001b[0;36msearch\u001b[0;34m(self, body, index, doc_type, params, headers)\u001b[0m\n\u001b[1;32m   1763\u001b[0m             \u001b[0mparams\u001b[0m\u001b[0;34m[\u001b[0m\u001b[0;34m\"from\"\u001b[0m\u001b[0;34m]\u001b[0m \u001b[0;34m=\u001b[0m \u001b[0mparams\u001b[0m\u001b[0;34m.\u001b[0m\u001b[0mpop\u001b[0m\u001b[0;34m(\u001b[0m\u001b[0;34m\"from_\"\u001b[0m\u001b[0;34m)\u001b[0m\u001b[0;34m\u001b[0m\u001b[0;34m\u001b[0m\u001b[0m\n\u001b[1;32m   1764\u001b[0m \u001b[0;34m\u001b[0m\u001b[0m\n\u001b[0;32m-> 1765\u001b[0;31m         return self.transport.perform_request(\n\u001b[0m\u001b[1;32m   1766\u001b[0m             \u001b[0;34m\"POST\"\u001b[0m\u001b[0;34m,\u001b[0m\u001b[0;34m\u001b[0m\u001b[0;34m\u001b[0m\u001b[0m\n\u001b[1;32m   1767\u001b[0m             \u001b[0m_make_path\u001b[0m\u001b[0;34m(\u001b[0m\u001b[0mindex\u001b[0m\u001b[0;34m,\u001b[0m \u001b[0mdoc_type\u001b[0m\u001b[0;34m,\u001b[0m \u001b[0;34m\"_search\"\u001b[0m\u001b[0;34m)\u001b[0m\u001b[0;34m,\u001b[0m\u001b[0;34m\u001b[0m\u001b[0;34m\u001b[0m\u001b[0m\n",
      "\u001b[0;32m~/anaconda3/envs/ml/lib/python3.8/site-packages/elasticsearch/transport.py\u001b[0m in \u001b[0;36mperform_request\u001b[0;34m(self, method, url, headers, params, body)\u001b[0m\n\u001b[1;32m    456\u001b[0m                         \u001b[0;32mraise\u001b[0m \u001b[0me\u001b[0m\u001b[0;34m\u001b[0m\u001b[0;34m\u001b[0m\u001b[0m\n\u001b[1;32m    457\u001b[0m                 \u001b[0;32melse\u001b[0m\u001b[0;34m:\u001b[0m\u001b[0;34m\u001b[0m\u001b[0;34m\u001b[0m\u001b[0m\n\u001b[0;32m--> 458\u001b[0;31m                     \u001b[0;32mraise\u001b[0m \u001b[0me\u001b[0m\u001b[0;34m\u001b[0m\u001b[0;34m\u001b[0m\u001b[0m\n\u001b[0m\u001b[1;32m    459\u001b[0m \u001b[0;34m\u001b[0m\u001b[0m\n\u001b[1;32m    460\u001b[0m             \u001b[0;32melse\u001b[0m\u001b[0;34m:\u001b[0m\u001b[0;34m\u001b[0m\u001b[0;34m\u001b[0m\u001b[0m\n",
      "\u001b[0;32m~/anaconda3/envs/ml/lib/python3.8/site-packages/elasticsearch/transport.py\u001b[0m in \u001b[0;36mperform_request\u001b[0;34m(self, method, url, headers, params, body)\u001b[0m\n\u001b[1;32m    417\u001b[0m \u001b[0;34m\u001b[0m\u001b[0m\n\u001b[1;32m    418\u001b[0m             \u001b[0;32mtry\u001b[0m\u001b[0;34m:\u001b[0m\u001b[0;34m\u001b[0m\u001b[0;34m\u001b[0m\u001b[0m\n\u001b[0;32m--> 419\u001b[0;31m                 status, headers_response, data = connection.perform_request(\n\u001b[0m\u001b[1;32m    420\u001b[0m                     \u001b[0mmethod\u001b[0m\u001b[0;34m,\u001b[0m\u001b[0;34m\u001b[0m\u001b[0;34m\u001b[0m\u001b[0m\n\u001b[1;32m    421\u001b[0m                     \u001b[0murl\u001b[0m\u001b[0;34m,\u001b[0m\u001b[0;34m\u001b[0m\u001b[0;34m\u001b[0m\u001b[0m\n",
      "\u001b[0;32m~/anaconda3/envs/ml/lib/python3.8/site-packages/elasticsearch/connection/http_urllib3.py\u001b[0m in \u001b[0;36mperform_request\u001b[0;34m(self, method, url, params, body, timeout, ignore, headers)\u001b[0m\n\u001b[1;32m    285\u001b[0m                 \u001b[0mmethod\u001b[0m\u001b[0;34m,\u001b[0m \u001b[0mfull_url\u001b[0m\u001b[0;34m,\u001b[0m \u001b[0murl\u001b[0m\u001b[0;34m,\u001b[0m \u001b[0morig_body\u001b[0m\u001b[0;34m,\u001b[0m \u001b[0mduration\u001b[0m\u001b[0;34m,\u001b[0m \u001b[0mresponse\u001b[0m\u001b[0;34m.\u001b[0m\u001b[0mstatus\u001b[0m\u001b[0;34m,\u001b[0m \u001b[0mraw_data\u001b[0m\u001b[0;34m\u001b[0m\u001b[0;34m\u001b[0m\u001b[0m\n\u001b[1;32m    286\u001b[0m             )\n\u001b[0;32m--> 287\u001b[0;31m             \u001b[0mself\u001b[0m\u001b[0;34m.\u001b[0m\u001b[0m_raise_error\u001b[0m\u001b[0;34m(\u001b[0m\u001b[0mresponse\u001b[0m\u001b[0;34m.\u001b[0m\u001b[0mstatus\u001b[0m\u001b[0;34m,\u001b[0m \u001b[0mraw_data\u001b[0m\u001b[0;34m)\u001b[0m\u001b[0;34m\u001b[0m\u001b[0;34m\u001b[0m\u001b[0m\n\u001b[0m\u001b[1;32m    288\u001b[0m \u001b[0;34m\u001b[0m\u001b[0m\n\u001b[1;32m    289\u001b[0m         self.log_request_success(\n",
      "\u001b[0;32m~/anaconda3/envs/ml/lib/python3.8/site-packages/elasticsearch/connection/base.py\u001b[0m in \u001b[0;36m_raise_error\u001b[0;34m(self, status_code, raw_data)\u001b[0m\n\u001b[1;32m    335\u001b[0m             \u001b[0mlogger\u001b[0m\u001b[0;34m.\u001b[0m\u001b[0mwarning\u001b[0m\u001b[0;34m(\u001b[0m\u001b[0;34m\"Undecodable raw error response from server: %s\"\u001b[0m\u001b[0;34m,\u001b[0m \u001b[0merr\u001b[0m\u001b[0;34m)\u001b[0m\u001b[0;34m\u001b[0m\u001b[0;34m\u001b[0m\u001b[0m\n\u001b[1;32m    336\u001b[0m \u001b[0;34m\u001b[0m\u001b[0m\n\u001b[0;32m--> 337\u001b[0;31m         raise HTTP_EXCEPTIONS.get(status_code, TransportError)(\n\u001b[0m\u001b[1;32m    338\u001b[0m             \u001b[0mstatus_code\u001b[0m\u001b[0;34m,\u001b[0m \u001b[0merror_message\u001b[0m\u001b[0;34m,\u001b[0m \u001b[0madditional_info\u001b[0m\u001b[0;34m\u001b[0m\u001b[0;34m\u001b[0m\u001b[0m\n\u001b[1;32m    339\u001b[0m         )\n",
      "\u001b[0;31mRequestError\u001b[0m: RequestError(400, 'illegal_argument_exception', \"[nested] requires 'path' field\")"
     ]
    }
   ],
   "source": [
    "s = Search(using=es, index=\"ustawa\").query('nested', query=Q('match', content='konstytucja'), inner_hits={\"highlight\": {\"fields\": {\"content\": {}}}})\n",
    "\n",
    "for hit in s:\n",
    "    for comment in hit.meta.inner_hits.content.hits:\n",
    "        # not 100% sure about the path, but look into comment.meta\n",
    "        for fragment in comment.meta.highlight['content']:\n",
    "            print(fragment)\n"
   ]
  },
  {
   "cell_type": "code",
   "execution_count": 454,
   "id": "f8f9cd56-b27c-4daa-9b43-c7a06aedd43f",
   "metadata": {},
   "outputs": [
    {
     "name": "stdout",
     "output_type": "stream",
     "text": [
      "[]\n"
     ]
    }
   ],
   "source": [
    "s = Search().query('nested', path='comments', query=Q('match_phrase', content='konstytucja'), inner_hits={\"highlight\": {\"fields\": {\"comments.content\": {}}}})\n",
    "\n",
    "for hit in s:\n",
    "    for comment in hit.meta.inner_hits.comments.hits:\n",
    "        # not 100% sure about the path, but look into comment.meta\n",
    "        for fragment in comment.meta.highlight['comment.content']:\n",
    "            print(fragment)\n"
   ]
  }
 ],
 "metadata": {
  "kernelspec": {
   "display_name": "Python [conda env:ml] *",
   "language": "python",
   "name": "conda-env-ml-py"
  },
  "language_info": {
   "codemirror_mode": {
    "name": "ipython",
    "version": 3
   },
   "file_extension": ".py",
   "mimetype": "text/x-python",
   "name": "python",
   "nbconvert_exporter": "python",
   "pygments_lexer": "ipython3",
   "version": "3.8.5"
  }
 },
 "nbformat": 4,
 "nbformat_minor": 5
}
