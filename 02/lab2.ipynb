{
 "cells": [
  {
   "cell_type": "code",
   "execution_count": 19,
   "id": "35ac25ea-6868-4e63-8597-b68d4de2485a",
   "metadata": {},
   "outputs": [],
   "source": [
    "%matplotlib inline\n",
    "import re\n",
    "import tarfile\n",
    "import os\n",
    "import matplotlib.pyplot as plt\n",
    "import numpy as np\n",
    "import regex\n",
    "import pandas as pd\n",
    "import morfeusz2\n",
    "from elasticsearch_dsl import *\n",
    "from elasticsearch_dsl import query\n",
    "from elasticsearch import *"
   ]
  },
  {
   "cell_type": "markdown",
   "id": "ee1c63f6-6db0-4b7b-ab17-599661352363",
   "metadata": {},
   "source": [
    "1. Install ElasticSearch (ES).\n",
    "2. Install an ES plugin for Polish https://github.com/allegro/elasticsearch-analysis-morfologik "
   ]
  },
  {
   "cell_type": "code",
   "execution_count": 2,
   "id": "7a2f3951-3137-447b-bfd8-888b70a63c8a",
   "metadata": {},
   "outputs": [
    {
     "data": {
      "text/plain": [
       "{'name': 'x-dell',\n",
       " 'cluster_name': 'elasticsearch',\n",
       " 'cluster_uuid': 'hrJwCHZtSGm_1kBHAztvag',\n",
       " 'version': {'number': '7.10.1',\n",
       "  'build_flavor': 'default',\n",
       "  'build_type': 'deb',\n",
       "  'build_hash': '1c34507e66d7db1211f66f3513706fdf548736aa',\n",
       "  'build_date': '2020-12-05T01:00:33.671820Z',\n",
       "  'build_snapshot': False,\n",
       "  'lucene_version': '8.7.0',\n",
       "  'minimum_wire_compatibility_version': '6.8.0',\n",
       "  'minimum_index_compatibility_version': '6.0.0-beta1'},\n",
       " 'tagline': 'You Know, for Search'}"
      ]
     },
     "execution_count": 2,
     "metadata": {},
     "output_type": "execute_result"
    }
   ],
   "source": [
    "# before restarting kernel please remove all content from ElasticSearch\n",
    "# curl -X DELETE 'http://localhost:9200/_all'\n",
    "\n",
    "es = Elasticsearch(\"http://localhost:9200\")\n",
    "resp = es.info()\n",
    "resp"
   ]
  },
  {
   "cell_type": "code",
   "execution_count": 3,
   "id": "dda5bc21-fb6e-407a-b2f8-c7fa6234b487",
   "metadata": {},
   "outputs": [
    {
     "name": "stdout",
     "output_type": "stream",
     "text": [
      "name   component           version description\n",
      "x-dell analysis-morfologik 7.10.1  Morfologik Polish Lemmatizer plugin for Elasticsearch\n",
      "\n"
     ]
    }
   ],
   "source": [
    "connections.add_connection('python_client', es)\n",
    "connections.create_connection(hosts=['localhost'])\n",
    "\n",
    "print(es.cat.plugins(params={'v': '', 'h': 'name,component,version,description'}))\n"
   ]
  },
  {
   "cell_type": "markdown",
   "id": "ae65618e-0842-4b7e-af0a-90ba06e0a006",
   "metadata": {},
   "source": [
    "3. Define an ES analyzer for Polish texts containing:\n",
    "   1. standard tokenizer\n",
    "   1. synonym filter with the following definitions:\n",
    "      1. kpk - kodeks postępowania karnego\n",
    "      1. kpc - kodeks postępowania cywilnego\n",
    "      1. kk - kodeks karny\n",
    "      1. kc - kodeks cywilny\n",
    "   1. Morfologik-based lemmatizer\n",
    "   1. lowercase filter\n",
    "\n",
    "4. Define an ES index for storing the contents of the legislative acts.\n",
    "5. Load the data to the ES index."
   ]
  },
  {
   "cell_type": "code",
   "execution_count": 4,
   "id": "c9f24876-0093-4bfa-88db-054ad664dce7",
   "metadata": {},
   "outputs": [],
   "source": [
    "\n",
    "\n",
    "synonym = token_filter('my_name', type='synonym',\n",
    "                       synonyms =\n",
    "                       [\"kpk => kodeks postępowania karnego\",\n",
    "                        \"kpc => kodeks postępowania cywilnego\",\n",
    "                        \"kk => kodeks karny\",\n",
    "                        \"kc => kodeks cywilny\"\n",
    "                       ])\n",
    "\n",
    "my_analyzer = analyzer('my_analyzer',\n",
    "    tokenizer=tokenizer('standard'),\n",
    "    filter=[\"lowercase\",synonym,\"morfologik_stem\",]\n",
    ")\n",
    "\n",
    "\n",
    "# es.delete_by_query(index=['ustawa'], body={\"query\": {\"match_all\": {}}})\n",
    "\n",
    "\n",
    "class Ustawa(Document):\n",
    "    title = Text()\n",
    "    created_at = Integer()\n",
    "    content = Text(analyzer=my_analyzer)\n",
    "    \n",
    "    class Index:\n",
    "        name = 'ustawa'\n",
    "        \n",
    "        \n",
    "\n",
    "Ustawa.init()\n",
    "\n",
    "iterations = 0\n",
    "path=\"../data/ustawy\"\n",
    "for filename in os.listdir(path):\n",
    "    with open(os.path.join(path, filename), 'r',encoding='utf-8') as f: # open in readonly mode\n",
    "        \n",
    "        year = int(re.search(r'.*\\/([^\\/]{4})',f.name).group(1))\n",
    "        first = Ustawa(title=f.name,content=f.read(),created_at = year)\n",
    "        \n",
    "        first.save(using=es)\n",
    "        iterations+=1\n",
    "\n",
    "\n",
    "\n"
   ]
  },
  {
   "cell_type": "code",
   "execution_count": 5,
   "id": "73c2c62f-2fd6-4d69-8a92-853d188b6a66",
   "metadata": {},
   "outputs": [
    {
     "name": "stdout",
     "output_type": "stream",
     "text": [
      "Test that number of files is the same as number of iterations\n",
      "True\n"
     ]
    }
   ],
   "source": [
    "\n",
    "s = Search(using=es, index=\"ustawa\").count()\n",
    "print('Test that number of files is the same as number of iterations')\n",
    "print(iterations == s)\n"
   ]
  },
  {
   "cell_type": "code",
   "execution_count": 6,
   "id": "d3ccc923-6742-4b56-b185-e092c22acdf9",
   "metadata": {},
   "outputs": [
    {
     "name": "stdout",
     "output_type": "stream",
     "text": [
      "test that random document eg. 2001_906.txt occures only once\n",
      "1\n"
     ]
    }
   ],
   "source": [
    "print('test that random document eg. 2001_906.txt occures only once')\n",
    "s = Search(using=es, index=\"ustawa\").query(\"match_phrase\", title='../data/ustawy/2001_906.txt').count()\n",
    "print(s)"
   ]
  },
  {
   "cell_type": "markdown",
   "id": "57e92455-d322-48fd-93b2-c052af50e571",
   "metadata": {},
   "source": [
    "6. Determine the number of legislative acts containing the word **ustawa** (in any form)."
   ]
  },
  {
   "cell_type": "code",
   "execution_count": 7,
   "id": "2a7d7200-0c70-4a67-93f8-fce7de45cb5d",
   "metadata": {},
   "outputs": [
    {
     "name": "stdout",
     "output_type": "stream",
     "text": [
      "There are 1178 documents with the word \"ustawa\" in them\n"
     ]
    }
   ],
   "source": [
    "s = Search(using=es, index=\"ustawa\").filter(\"match_phrase\", content='ustawa').count()\n",
    "print(f'There are {s} documents with the word \"ustawa\" in them')"
   ]
  },
  {
   "cell_type": "code",
   "execution_count": 8,
   "id": "38e025d4-e5c7-443c-8491-ee2d4e6eb538",
   "metadata": {},
   "outputs": [
    {
     "name": "stdout",
     "output_type": "stream",
     "text": [
      "There are 1178 documents with the word \"ustawa\" in them\n"
     ]
    }
   ],
   "source": [
    "s = Search(index='ustawa',using=es).query('match', content='ustawa').count()\n",
    "print(f'There are {s} documents with the word \"ustawa\" in them')\n"
   ]
  },
  {
   "cell_type": "markdown",
   "id": "b1776ea4-dd42-4098-a792-1a84ba5a38ab",
   "metadata": {},
   "source": [
    "7. Determine the number of occurrences of the word **ustawa** by searching for this particular form, including the other inflectional forms.\n",
    "8. Determine the number of occurrences of the word **ustaw** by searching for this particular form, including the other inflectional forms."
   ]
  },
  {
   "cell_type": "code",
   "execution_count": 9,
   "id": "29b4fa4c-3c6b-42eb-b863-04ebe405d2c8",
   "metadata": {
    "tags": []
   },
   "outputs": [
    {
     "name": "stdout",
     "output_type": "stream",
     "text": [
      "24934\n"
     ]
    }
   ],
   "source": [
    "s = Search(using=es, index=\"ustawa\").query(\"match_all\")[:3000].execute()\n",
    "ids = [x.meta.id for x in s]\n",
    "\n",
    "amount=0\n",
    "for id in ids:\n",
    "    s = es.termvectors(index=\"ustawa\", fields=\"content\", id =id,field_statistics=True)\n",
    "    try:\n",
    "        amount += s['term_vectors']['content']['terms']['ustawa']['term_freq']\n",
    "    except KeyError:\n",
    "        pass\n",
    "print(amount)"
   ]
  },
  {
   "cell_type": "code",
   "execution_count": 10,
   "id": "285f9e54-2340-4fad-9e19-099e9e8f72bc",
   "metadata": {
    "tags": []
   },
   "outputs": [
    {
     "name": "stdout",
     "output_type": "stream",
     "text": [
      "Show term_vestors for the first document on the list\n",
      "['1', '14', '19', '1998', '1999', '2', '229', '26', '3', 'a', 'artykuł', 'australią', 'czerwiec', 'dokonanie', 'dokonać', 'dz.u', 'dzień', 'ekstradycja', 'kanberze', 'luty', 'między', 'na', 'numer', 'o', 'ocean', 'od', 'oda', 'ogłosić', 'ogłoszenie', 'ojciec', 'po', 'podpisać', 'polski', 'pozycja', 'prezydent', 'przez', 'ratyfikacja', 'rok', 'rzeczpospolita', 'się', 'umowa', 'umowy', 'upływ', 'ustawa', 'w', 'wchodzić', 'wiek', 'wyrażać', 'z', 'zgoda', 'życie', 'żyto', 'żyć']\n",
      "Number of occurences of the word \"ustawa\" 2\n"
     ]
    }
   ],
   "source": [
    "\n",
    "print('Show term_vestors for the first document on the list')\n",
    "print('Number of occurences of the word \"ustawa\"',s['term_vectors']['content']['terms']['ustawa']['term_freq'])\n",
    "s = es.termvectors(index=\"ustawa\", fields=\"content\", id =ids[0],field_statistics=False)\n",
    "print(list(s['term_vectors']['content']['terms'].keys())[:100])\n",
    "\n"
   ]
  },
  {
   "cell_type": "markdown",
   "id": "b8f9eea7-c422-44b3-a294-09915406d47a",
   "metadata": {},
   "source": [
    "9. Determine the number of legislative acts containing the words **kodeks postępowania cywilnego** \n",
    "   in the specified order, but in any inflection form."
   ]
  },
  {
   "cell_type": "code",
   "execution_count": 11,
   "id": "5702053a-f825-42c2-8986-4c8aad92b79a",
   "metadata": {},
   "outputs": [
    {
     "name": "stdout",
     "output_type": "stream",
     "text": [
      "The number of files containing the words \"kodeks postępowania cywilnego\" is: 99\n",
      "The number of files containing the words \"kpc\" is: 99\n"
     ]
    }
   ],
   "source": [
    "s = Search(using=es, index=\"ustawa\").query(\"match_phrase\", content='kodeks postępowania cywilnego').count()\n",
    "print(f'The number of files containing the words \"kodeks postępowania cywilnego\" is: {s}')\n",
    "\n",
    "s = Search(using=es, index=\"ustawa\").query(\"match_phrase\", content='kpc').count()\n",
    "print(f'The number of files containing the words \"kpc\" is: {s}')"
   ]
  },
  {
   "cell_type": "markdown",
   "id": "18a3985d-343b-4817-8f0c-c01a34605e59",
   "metadata": {},
   "source": [
    "10. Determine the number of legislative acts containing the words **wchodzi w życie** \n",
    "   (in any form) allowing for up to 2 additional words in the searched phrase."
   ]
  },
  {
   "cell_type": "code",
   "execution_count": 17,
   "id": "c636b373-ec3a-47cc-9d81-2cac3634a74a",
   "metadata": {},
   "outputs": [
    {
     "name": "stdout",
     "output_type": "stream",
     "text": [
      "1174\n"
     ]
    }
   ],
   "source": [
    "\n",
    "q = query.MatchPhrase(content={'query' : \"wchodzi w życie\",'slop' :2})\n",
    "s = Search(using=es, index=\"ustawa\").query(q).count()\n",
    "\n",
    "print(s)"
   ]
  },
  {
   "cell_type": "markdown",
   "id": "d79f03ea-8aaa-4f1a-ab5d-95992bf42e3e",
   "metadata": {},
   "source": [
    "11. Determine the 10 documents that are the most relevant for the phrase **konstytucja**.\n",
    "12. Print the excerpts containing the word **konstytucja** (up to three excerpts per document) \n",
    "   from the previous task."
   ]
  },
  {
   "cell_type": "code",
   "execution_count": 18,
   "id": "19167905-a633-489d-a4c5-a6ac12aed9f1",
   "metadata": {
    "tags": []
   },
   "outputs": [
    {
     "name": "stdout",
     "output_type": "stream",
     "text": [
      "0 ../data/ustawy/1997_629.txt 6.8693724\n",
      "- \n",
      "           i uchwalenia <em>Konstytucji</em> Rzeczypospolitej Polskiej\n",
      "-  przygotowania i \n",
      "uchwalenia <em>Konstytucji</em> Rzeczypospolitej Polskiej (Dz.U. Nr 67, poz\n",
      "-  przedstawienia\n",
      "                Zgromadzeniu Narodowemu projektu nowej <em>Konstytucji</em>\n",
      "1 ../data/ustawy/2000_443.txt 6.664267\n",
      "- . 89 ust.\n",
      "  1 i art. 90 <em>Konstytucji</em> Rzeczypospolitej Polskiej, oraz inne umowy\n",
      "- . 89\n",
      "     ust. 1 lub art. 90 <em>Konstytucji</em> Rzeczypospolitej Polskiej, lub\n",
      "   3\n",
      "-  przesłanek określonych w art. 89 ust. 1 lub art. 90 <em>Konstytucji</em>\n",
      "     Rzeczypospolitej\n",
      "2 ../data/ustawy/1997_604.txt 6.633459\n",
      "-  co do zgodności z <em>Konstytucją</em> celów lub \n",
      "   zasad działania partii politycznej\n",
      "-  <em>Konstytucją</em>.\n",
      " 2. Na postanowienie, o którym mowa w ust. 1, zażalenie nie przysługuje\n",
      "-  \n",
      "   politycznej z <em>Konstytucją</em>, Sąd odmawia wpisu partii do ewidencji.\n",
      " 4\n",
      "3 ../data/ustawy/1996_350.txt 6.628284\n",
      "-  <em>Konstytucji</em> lub ustawy, w związku z zajmowanym\n",
      "              stanowiskiem lub w\n",
      "-  w art. 107 <em>Konstytucji</em> odpowiedzialność przed\n",
      "           Trybunałem Stanu\n",
      "-  <em>Konstytucji</em>, ustawy lub za\n",
      "              popełnienie przestępstwa.\n",
      "         2. W\n",
      "4 ../data/ustawy/1997_642.txt 6.2530427\n",
      "- ) stwierdzenie zgodności ustaw i umów międzynarodowych z\n",
      "               <em>Konstytucją</em>\n",
      "-  wydawanych przez\n",
      "               centralne organy państwowe, z <em>Konstytucją</em>\n",
      "- ) stwierdzenie zgodności z <em>Konstytucją</em> celów lub\n",
      "               działalności partii\n",
      "5 ../data/ustawy/2001_23.txt 6.058934\n",
      "-  \"Dziennikiem\n",
      "  Ustaw\", ogłasza się:\n",
      "   1) <em>Konstytucję</em>,\n",
      "   2) ustawy,\n",
      "   3) rozporządzenia\n",
      "- ) referendum zatwierdzającego zmianę <em>Konstytucji</em> i referendum\n",
      "     ogólnokrajowego\n",
      "-  referendum zatwierdzającego zmianę\n",
      "     <em>Konstytucji</em> i referendum ogólnokrajowego.\n",
      "3. W\n",
      "6 ../data/ustawy/1996_199.txt 5.928945\n",
      "-  i uchwalenia <em>Konstytucji</em> Rzeczypospolitej Polskiej\n",
      "(Dz.U. Nr 67, poz. 336 i z\n",
      "-  uchwalenia <em>Konstytucji</em> Rzeczypospolitej\n",
      "Polskiej, przeprowadza się na podstawie\n",
      "- .\n",
      " \n",
      "                                Art. 13.\n",
      " 1. Prezydent Rzeczypospolitej Polskiej zarządza poddanie <em>Konstytucji</em>\n",
      "7 ../data/ustawy/1999_688.txt 5.850716\n",
      "- \n",
      "ustawodawczej przez obywateli, o której mowa w art. 118 ust. 2 <em>Konstytucji</em>\n",
      "- , dla których <em>Konstytucja</em>\n",
      "Rzeczypospolitej Polskiej zastrzega wyłączną\n",
      "-  powinien odpowiadać wymogom\n",
      "  zawartym w <em>Konstytucji</em> i Regulaminie Sejmu\n",
      "8 ../data/ustawy/2001_1082.txt 5.4673944\n",
      "-  dalej \"Radą\", realizuje cele określone w\n",
      "  <em>Konstytucji</em> Rzeczypospolitej Polskiej\n",
      "-  zgodności z <em>Konstytucją</em> Rzeczypospolitej Polskiej aktów\n",
      "     normatywnych w\n",
      "9 ../data/ustawy/1997_681.txt 5.4673944\n",
      "-  Rzecznikiem, stoi na straży praw dziecka\n",
      "  określonych w <em>Konstytucji</em> Rzeczypospolitej\n",
      "-  wierności <em>Konstytucji</em> Rzeczypospolitej\n",
      "     Polskiej, będę strzec praw dziecka\n"
     ]
    }
   ],
   "source": [
    "q = query.Match(content={'query' : \"konstytucja\"})\n",
    "s = Search(using=es, index=\"ustawa\").query(q).highlight('content',number_of_fragments=3,type='plain',fragment_size=80)[:10].execute()\n",
    "\n",
    "for i,hit in enumerate(s):\n",
    "    fragments = hit.meta['highlight']['content']\n",
    "    print(i,hit['title'],hit.meta.score)\n",
    "    for fragment in fragments:\n",
    "        print('-', fragment)\n"
   ]
  }
 ],
 "metadata": {
  "kernelspec": {
   "display_name": "Python [conda env:ml] *",
   "language": "python",
   "name": "conda-env-ml-py"
  },
  "language_info": {
   "codemirror_mode": {
    "name": "ipython",
    "version": 3
   },
   "file_extension": ".py",
   "mimetype": "text/x-python",
   "name": "python",
   "nbconvert_exporter": "python",
   "pygments_lexer": "ipython3",
   "version": "3.8.5"
  }
 },
 "nbformat": 4,
 "nbformat_minor": 5
}
