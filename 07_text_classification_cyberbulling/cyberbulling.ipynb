{
 "cells": [
  {
   "cell_type": "markdown",
   "id": "b725fcf9",
   "metadata": {},
   "source": [
    "# Text classification\n",
    "\n",
    "The task concentrates on content-based text classification.\n",
    "\n",
    "\n",
    "## Tasks\n",
    "\n",
    "1. Get acquainted with the data of the [Polish Cyberbullying detection dataset](https://huggingface.co/datasets/poleval2019_cyberbullying). \n",
    "   Pay special attention to the distribution of the positive and negative examples in the first task as well as\n",
    "   distribution of the classes in the second task.\n"
   ]
  },
  {
   "cell_type": "code",
   "execution_count": 46,
   "id": "0428975d",
   "metadata": {},
   "outputs": [
    {
     "ename": "ModuleNotFoundError",
     "evalue": "No module named 'matplotlib'",
     "output_type": "error",
     "traceback": [
      "\u001b[0;31m---------------------------------------------------------------------------\u001b[0m",
      "\u001b[0;31mModuleNotFoundError\u001b[0m                       Traceback (most recent call last)",
      "\u001b[0;32m/tmp/ipykernel_20481/2932033348.py\u001b[0m in \u001b[0;36m<module>\u001b[0;34m\u001b[0m\n\u001b[1;32m      2\u001b[0m \u001b[0;32mfrom\u001b[0m \u001b[0msklearn\u001b[0m\u001b[0;34m.\u001b[0m\u001b[0mnaive_bayes\u001b[0m \u001b[0;32mimport\u001b[0m \u001b[0;34m*\u001b[0m\u001b[0;34m\u001b[0m\u001b[0;34m\u001b[0m\u001b[0m\n\u001b[1;32m      3\u001b[0m \u001b[0;32mfrom\u001b[0m \u001b[0msklearn\u001b[0m \u001b[0;32mimport\u001b[0m \u001b[0mmetrics\u001b[0m\u001b[0;34m\u001b[0m\u001b[0;34m\u001b[0m\u001b[0m\n\u001b[0;32m----> 4\u001b[0;31m \u001b[0;32mimport\u001b[0m \u001b[0mmatplotlib\u001b[0m\u001b[0;34m.\u001b[0m\u001b[0mpyplot\u001b[0m \u001b[0;32mas\u001b[0m \u001b[0mplt\u001b[0m\u001b[0;34m\u001b[0m\u001b[0;34m\u001b[0m\u001b[0m\n\u001b[0m",
      "\u001b[0;31mModuleNotFoundError\u001b[0m: No module named 'matplotlib'"
     ]
    }
   ],
   "source": [
    "from sklearn.feature_extraction.text import TfidfVectorizer\n",
    "from sklearn.naive_bayes import *\n",
    "from sklearn import metrics\n",
    "import matplotlib.pyplot as plt"
   ]
  },
  {
   "cell_type": "code",
   "execution_count": 4,
   "id": "3caadb21",
   "metadata": {},
   "outputs": [
    {
     "name": "stderr",
     "output_type": "stream",
     "text": [
      "Reusing dataset poleval2019_cyber_bullying (/home/x/.cache/huggingface/datasets/poleval2019_cyber_bullying/task01/1.0.0/ce6060c56dae43c469bab309a7573b86299b0bcc2484e85cfe0ae70b5f770450)\n"
     ]
    },
    {
     "data": {
      "application/vnd.jupyter.widget-view+json": {
       "model_id": "5256f9f6088b4f62a067487a1d93c474",
       "version_major": 2,
       "version_minor": 0
      },
      "text/plain": [
       "  0%|          | 0/2 [00:00<?, ?it/s]"
      ]
     },
     "metadata": {},
     "output_type": "display_data"
    },
    {
     "name": "stdout",
     "output_type": "stream",
     "text": [
      "{'text': '@anonymized_account @anonymized_account Przecież to nawet nie jest przewrotka 😂', 'label': 0}\n",
      "{'text': '@anonymized_account @anonymized_account Musi. Innej drogi nie mamy.', 'label': 0}\n"
     ]
    }
   ],
   "source": [
    "from datasets import list_datasets, load_dataset, list_metrics, load_metric\n",
    "\n",
    "# print(list_datasets())\n",
    "\n",
    "dataset = load_dataset('poleval2019_cyberbullying','task01')\n",
    "print(dataset['test'][3])\n",
    "print(dataset['train'][3])\n",
    "\n",
    "# # List all the available metrics\n",
    "# print(list_metrics())\n",
    "\n",
    "# # Load a metric\n",
    "# squad_metric = load_metric('squad')\n",
    "\n",
    "# # Process the dataset - add a column with the length of the context texts\n",
    "# dataset_with_length = squad_dataset.map(lambda x: {\"length\": len(x[\"context\"])})\n",
    "\n",
    "# # Process the dataset - tokenize the context texts (using a tokenizer from the 🤗 Transformers library)\n",
    "# from transformers import AutoTokenizer\n",
    "# tokenizer = AutoTokenizer.from_pretrained('bert-base-cased')\n",
    "\n",
    "# tokenized_dataset = squad_dataset.map(lambda x: tokenizer(x['context']), batched=True)\n"
   ]
  },
  {
   "cell_type": "code",
   "execution_count": 3,
   "id": "95ebe6cd",
   "metadata": {},
   "outputs": [],
   "source": []
  },
  {
   "cell_type": "markdown",
   "id": "c66759ee",
   "metadata": {},
   "source": [
    "2. Train the following classifiers on the training sets (for the task 1 and the task 2)\n",
    "\n",
    "\n",
    "    i. Bayesian classifier with TF * IDF weighting.\n",
    "    ii. Fasttext text classifier\n",
    "    iii. Transformer classifier (take into account that a number of experiments should be performed for this model)."
   ]
  },
  {
   "cell_type": "code",
   "execution_count": 89,
   "id": "d1959e60",
   "metadata": {},
   "outputs": [
    {
     "name": "stdout",
     "output_type": "stream",
     "text": [
      "n_samples: 10041, n_features: 22872\n",
      "(1000, 22872)\n",
      "              precision    recall  f1-score   support\n",
      "\n",
      "    Positive       0.87      1.00      0.93       866\n",
      "    Negative       1.00      0.01      0.01       134\n",
      "\n",
      "    accuracy                           0.87      1000\n",
      "   macro avg       0.93      0.50      0.47      1000\n",
      "weighted avg       0.88      0.87      0.81      1000\n",
      "\n",
      "Confusion matrix\n",
      "[[866   0]\n",
      " [133   1]]\n"
     ]
    }
   ],
   "source": [
    "train_X = dataset['train']['text']\n",
    "train_y = dataset['train']['label']\n",
    "\n",
    "test_X = dataset['test']['text']\n",
    "test_y = dataset['test']['label']\n",
    "\n",
    "tf_idf = TfidfVectorizer()\n",
    "\n",
    "\n",
    "X_train_tf = tf_idf.fit_transform(train_X)\n",
    "X_train_tf = tf_idf.transform(train_X)\n",
    "X_test_tf = tf_idf.transform(test_X)\n",
    "\n",
    "print(\"n_samples: %d, n_features: %d\" % X_train_tf.shape)\n",
    "print(X_test_tf.shape)\n",
    "\n",
    "naive_bayes_classifier = MultinomialNB()\n",
    "naive_bayes_classifier.fit(X_train_tf,train_y)\n",
    "\n",
    "y_pred = naive_bayes_classifier.predict(X_test_tf)\n",
    "y_pred\n",
    "X_train_tf\n",
    "\n",
    "print(metrics.classification_report(test_y,y_pred,target_names=['Positive','Negative']))\n",
    "\n",
    "# vectorizer = TfidfVectorizer()\n",
    "# X = vectorizer.fit_transform(dataset['train'])\n",
    "# vectorizer.get_feature_names_out()\n",
    "\n",
    "print(\"Confusion matrix\")\n",
    "print(metrics.confusion_matrix(test_y,y_pred))"
   ]
  },
  {
   "cell_type": "code",
   "execution_count": 92,
   "id": "95398aa0",
   "metadata": {},
   "outputs": [
    {
     "name": "stdout",
     "output_type": "stream",
     "text": [
      "true=1, predicted=0, @anonymized_account Dokładnie, pisdzielstwo nie ma prawa rozpierdalać systemu,  sądownictwa nie mając większości\n",
      "true=1, predicted=0, @anonymized_account Adrian Juda, figurant WSI i  lobby żydowskiego\n",
      "true=1, predicted=0, @anonymized_account Widać ludziom w Sączu tak pasuje. Ja bym mu w gębę napluł\n",
      "true=1, predicted=0, @anonymized_account powinnaś odpowiedzieć za działanie na szkodę Polski i obywateli\n",
      "true=1, predicted=0, RT @anonymized_account @anonymized_account powinnaś odpowiedzieć za działanie na szkodę Polski i obywateli\n",
      "true=1, predicted=0, @anonymized_account @anonymized_account @anonymized_account Najbardziej to on jest wolny od mózgu.\n",
      "true=1, predicted=0, @anonymized_account   Półgłówek Wieliński, wymyślił sobie półautorytaryzm!\n",
      "true=1, predicted=0, RT @anonymized_account @anonymized_account   Półgłówek Wieliński, wymyślił sobie półautorytaryzm!\n",
      "true=1, predicted=0, @anonymized_account @anonymized_account @anonymized_account Podstawowe zadanie każdego księdza to narzucanie wiary.\n",
      "true=1, predicted=0, @anonymized_account A na drzewach zamiast liści będą wisieć syjoniści\n"
     ]
    }
   ],
   "source": [
    "# Sformułowań użyto jedynie do celów naukowych i nie odzwierciedlają one poglądów studenta\n",
    "testing_X = [x for (x,y)in zip(test_X,test_y) if y==1][1:10]\n",
    "testing_y = [y for (x,y)in zip(test_X,test_y) if y==1][1:10]\n",
    "testing_X.append(\"@anonymized_account A na drzewach zamiast liści będą wisieć syjoniści\")\n",
    "testing_y.append(1)\n",
    "test_input = tf_idf.transform(testing_X)\n",
    "result = naive_bayes_classifier.predict(test_input)\n",
    "# print(list(zip(testing_X,testing_y,result)))\n",
    "for X,y, result in zip(testing_X,testing_y,result):\n",
    "    print(f'true={y}, predicted={result}, {X}')\n"
   ]
  },
  {
   "cell_type": "code",
   "execution_count": 85,
   "id": "a4e17c39",
   "metadata": {},
   "outputs": [
    {
     "data": {
      "text/plain": [
       "['@anonymized_account Dokładnie, pisdzielstwo nie ma prawa rozpierdalać systemu,  sądownictwa nie mając większości',\n",
       " '@anonymized_account Adrian Juda, figurant WSI i  lobby żydowskiego',\n",
       " '@anonymized_account Widać ludziom w Sączu tak pasuje. Ja bym mu w gębę napluł',\n",
       " '@anonymized_account powinnaś odpowiedzieć za działanie na szkodę Polski i obywateli',\n",
       " 'RT @anonymized_account @anonymized_account powinnaś odpowiedzieć za działanie na szkodę Polski i obywateli',\n",
       " '@anonymized_account @anonymized_account @anonymized_account Najbardziej to on jest wolny od mózgu.',\n",
       " '@anonymized_account   Półgłówek Wieliński, wymyślił sobie półautorytaryzm!',\n",
       " 'RT @anonymized_account @anonymized_account   Półgłówek Wieliński, wymyślił sobie półautorytaryzm!',\n",
       " '@anonymized_account @anonymized_account @anonymized_account Podstawowe zadanie każdego księdza to narzucanie wiary.']"
      ]
     },
     "execution_count": 85,
     "metadata": {},
     "output_type": "execute_result"
    }
   ],
   "source": [
    "testing_X"
   ]
  },
  {
   "cell_type": "markdown",
   "id": "f593073c",
   "metadata": {},
   "source": [
    "   \n",
    "   \n",
    "3. Compare the results of classification on the test set. Select the appropriate measures (from accuracy, F1, macro/micro F1, MCC) to compare the results."
   ]
  },
  {
   "cell_type": "markdown",
   "id": "75f23f9b",
   "metadata": {},
   "source": [
    "4. Select 1 TP, 1 TN, 1 FP and 1 FN from your predictions (for the best classifier) and compare the decisions of each\n",
    "   classifier on these examples using [LIME](https://github.com/marcotcr/lime)."
   ]
  },
  {
   "cell_type": "markdown",
   "id": "f643e2ac",
   "metadata": {},
   "source": [
    "5. Answer the following questions:\n",
    "\n",
    "\n",
    "1. Which of the classifiers works the best for the task 1 and the task 2.\n",
    "1. Did you achieve results comparable with the results of [PolEval Task](http://2019.poleval.pl/index.php/results/)?\n",
    "1. Did you achieve results comparable with the [Klej leaderboard](https://klejbenchmark.com/leaderboard/)?\n",
    "1. Describe strengths and weaknesses of each of the compared algorithms.\n",
    "1. Do you think comparison of raw performance values on a single task is enough to assess the value of a given\n",
    "  algorithm/model?\n",
    "1. Did SHAP show that the models use valuable features/words when performing their decision?"
   ]
  },
  {
   "cell_type": "code",
   "execution_count": null,
   "id": "2567f550",
   "metadata": {},
   "outputs": [],
   "source": []
  }
 ],
 "metadata": {
  "kernelspec": {
   "display_name": "Python [conda env:ml]",
   "language": "python",
   "name": "conda-env-ml-py"
  },
  "language_info": {
   "codemirror_mode": {
    "name": "ipython",
    "version": 3
   },
   "file_extension": ".py",
   "mimetype": "text/x-python",
   "name": "python",
   "nbconvert_exporter": "python",
   "pygments_lexer": "ipython3",
   "version": "3.9.7"
  }
 },
 "nbformat": 4,
 "nbformat_minor": 5
}
