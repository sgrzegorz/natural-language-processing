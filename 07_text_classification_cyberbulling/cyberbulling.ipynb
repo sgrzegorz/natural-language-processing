{
 "cells": [
  {
   "cell_type": "markdown",
   "id": "b725fcf9",
   "metadata": {},
   "source": [
    "# Text classification\n",
    "\n",
    "The task concentrates on content-based text classification.\n",
    "\n",
    "\n",
    "\n",
    "1. Get acquainted with the data of the [Polish Cyberbullying detection dataset](https://huggingface.co/datasets/poleval2019_cyberbullying). \n",
    "   Pay special attention to the distribution of the positive and negative examples in the first task as well as\n",
    "   distribution of the classes in the second task.\n"
   ]
  },
  {
   "cell_type": "code",
   "execution_count": 185,
   "id": "0428975d",
   "metadata": {},
   "outputs": [],
   "source": [
    "from sklearn.feature_extraction.text import TfidfVectorizer\n",
    "from sklearn.naive_bayes import *\n",
    "from sklearn import metrics\n",
    "import matplotlib.pyplot as plt\n",
    "import pandas as pd\n",
    "import csv\n",
    "from imblearn.over_sampling import RandomOverSampler\n",
    "import numpy as np\n",
    "import random\n",
    "from datasets import list_datasets, load_dataset, list_metrics, load_metric\n",
    "from pycm import ConfusionMatrix\n",
    "from lime import lime_text\n",
    "from sklearn.pipeline import make_pipeline\n",
    "from lime.lime_text import LimeTextExplainer\n",
    "import fasttext\n"
   ]
  },
  {
   "cell_type": "markdown",
   "id": "fd56b069",
   "metadata": {},
   "source": [
    "### Utils"
   ]
  },
  {
   "cell_type": "code",
   "execution_count": 164,
   "id": "fe7f5d9d",
   "metadata": {},
   "outputs": [],
   "source": [
    "def print_metrics(test_y,y_pred):\n",
    "    print(f'f1_score={metrics.f1_score(test_y,y_pred)}')\n",
    "    val = metrics.f1_score(test_y,y_pred,average='micro')\n",
    "    print(f'f1_score micro={val}')\n",
    "    val =metrics.f1_score(test_y,y_pred,average='macro')\n",
    "    print(f'f1_score macro={val}')\n",
    "    print(f'MCC={metrics.matthews_corrcoef(test_y, y_pred)}')\n",
    "    print()\n",
    "    print(metrics.classification_report(test_y,y_pred,target_names=['Positive','Negative']))\n",
    "\n",
    "    print('Confusion matrix')\n",
    "    print(metrics.confusion_matrix(test_y,y_pred))"
   ]
  },
  {
   "cell_type": "code",
   "execution_count": 2,
   "id": "9eea717f",
   "metadata": {},
   "outputs": [],
   "source": [
    "class Statistics():\n",
    "    def __init__(self):\n",
    "        pass\n",
    "    \n",
    "    def calc_metrics(algorithm,test_y,y_pred):\n",
    "        self.f1_score =  metrics.f1_score(test_y,y_pred)\n",
    "        self.f1_score_micro =  metrics.f1_score(test_y,y_pred,average='micro')\n",
    "        self.f1_score_macro = metrics.f1_score(test_y,y_pred,average='macro')\n",
    "        self.mcc = metrics.matthews_corrcoef(test_y, y_pred)\n",
    "        \n",
    "        self.confusion_matrix = metrics.confusion_matrix(test_y,y_pred)\n",
    "        \n",
    "\n",
    "        \n",
    "statistics = {\"bayesian\" : Statistics(),\"fasttext\" :Statistics(),\"transformer\" : Statistics()}\n",
    "\n"
   ]
  },
  {
   "cell_type": "code",
   "execution_count": 202,
   "id": "3caadb21",
   "metadata": {},
   "outputs": [
    {
     "name": "stderr",
     "output_type": "stream",
     "text": [
      "Reusing dataset poleval2019_cyber_bullying (/home/x/.cache/huggingface/datasets/poleval2019_cyber_bullying/task01/1.0.0/ce6060c56dae43c469bab309a7573b86299b0bcc2484e85cfe0ae70b5f770450)\n"
     ]
    },
    {
     "data": {
      "application/vnd.jupyter.widget-view+json": {
       "model_id": "89b88b575e2d4f48802893081d863cfd",
       "version_major": 2,
       "version_minor": 0
      },
      "text/plain": [
       "  0%|          | 0/2 [00:00<?, ?it/s]"
      ]
     },
     "metadata": {},
     "output_type": "display_data"
    }
   ],
   "source": [
    "\n",
    "\n",
    "dataset = load_dataset('poleval2019_cyberbullying','task01')\n",
    "\n",
    "\n",
    "train_X = dataset['train']['text']\n",
    "train_y = dataset['train']['label']\n",
    "\n",
    "test_X = dataset['test']['text']\n",
    "test_y = dataset['test']['label']\n",
    "\n",
    "oversample = RandomOverSampler(sampling_strategy='minority')\n",
    "\n",
    "train_X, train_y = oversample.fit_resample(np.array(train_X).reshape(-1,1), np.array(train_y))\n",
    "train_X = train_X.reshape(-1).tolist()\n",
    "train_y=train_y.reshape(-1).tolist()\n"
   ]
  },
  {
   "cell_type": "code",
   "execution_count": null,
   "id": "1d50b614",
   "metadata": {},
   "outputs": [],
   "source": [
    "dataset = load_dataset('poleval2019_cyberbullying','task02')\n",
    "\n",
    "\n",
    "train_X = dataset['train']['text']\n",
    "train_y = dataset['train']['label']\n",
    "\n",
    "test_X = dataset['test']['text']\n",
    "test_y = dataset['test']['label']\n",
    "\n",
    "oversample = RandomOverSampler(sampling_strategy='minority')\n",
    "\n",
    "train_X, train_y = oversample.fit_resample(np.array(train_X).reshape(-1,1), np.array(train_y))\n",
    "train_X = train_X.reshape(-1).tolist()\n",
    "train_y=train_y.reshape(-1).tolist()"
   ]
  },
  {
   "cell_type": "code",
   "execution_count": 203,
   "id": "fc7a0e66",
   "metadata": {},
   "outputs": [
    {
     "data": {
      "text/html": [
       "<div>\n",
       "<style scoped>\n",
       "    .dataframe tbody tr th:only-of-type {\n",
       "        vertical-align: middle;\n",
       "    }\n",
       "\n",
       "    .dataframe tbody tr th {\n",
       "        vertical-align: top;\n",
       "    }\n",
       "\n",
       "    .dataframe thead th {\n",
       "        text-align: right;\n",
       "    }\n",
       "</style>\n",
       "<table border=\"1\" class=\"dataframe\">\n",
       "  <thead>\n",
       "    <tr style=\"text-align: right;\">\n",
       "      <th></th>\n",
       "      <th>text</th>\n",
       "      <th>pred</th>\n",
       "    </tr>\n",
       "  </thead>\n",
       "  <tbody>\n",
       "    <tr>\n",
       "      <th>0</th>\n",
       "      <td>@anonymized_account Ty już robiłeś swoje refor...</td>\n",
       "      <td>1</td>\n",
       "    </tr>\n",
       "    <tr>\n",
       "      <th>1</th>\n",
       "      <td>@anonymized_account @anonymized_account Szacun...</td>\n",
       "      <td>1</td>\n",
       "    </tr>\n",
       "    <tr>\n",
       "      <th>2</th>\n",
       "      <td>Słyszę, że Pierwsza Milcząca będzie czytała dz...</td>\n",
       "      <td>1</td>\n",
       "    </tr>\n",
       "    <tr>\n",
       "      <th>3</th>\n",
       "      <td>@anonymized_account mam pytanie.Za te kłopoty ...</td>\n",
       "      <td>0</td>\n",
       "    </tr>\n",
       "    <tr>\n",
       "      <th>4</th>\n",
       "      <td>@anonymized_account @anonymized_account Łżesz ...</td>\n",
       "      <td>1</td>\n",
       "    </tr>\n",
       "    <tr>\n",
       "      <th>5</th>\n",
       "      <td>może wypuścimy szczepiaki zamiast słodziaków a...</td>\n",
       "      <td>0</td>\n",
       "    </tr>\n",
       "    <tr>\n",
       "      <th>6</th>\n",
       "      <td>@anonymized_account Tak jak pisdzielstwo ośmie...</td>\n",
       "      <td>1</td>\n",
       "    </tr>\n",
       "    <tr>\n",
       "      <th>7</th>\n",
       "      <td>@anonymized_account @anonymized_account Widać ...</td>\n",
       "      <td>1</td>\n",
       "    </tr>\n",
       "    <tr>\n",
       "      <th>8</th>\n",
       "      <td>@anonymized_account oj nie wiedział co odpisać...</td>\n",
       "      <td>1</td>\n",
       "    </tr>\n",
       "    <tr>\n",
       "      <th>9</th>\n",
       "      <td>@anonymized_account @anonymized_account A niby...</td>\n",
       "      <td>0</td>\n",
       "    </tr>\n",
       "    <tr>\n",
       "      <th>10</th>\n",
       "      <td>@anonymized_account Prosimy o kolejne rewelacj...</td>\n",
       "      <td>0</td>\n",
       "    </tr>\n",
       "    <tr>\n",
       "      <th>11</th>\n",
       "      <td>@anonymized_account @anonymized_account @anony...</td>\n",
       "      <td>1</td>\n",
       "    </tr>\n",
       "    <tr>\n",
       "      <th>12</th>\n",
       "      <td>@anonymized_account To tak jak w Wiśle Carlito...</td>\n",
       "      <td>0</td>\n",
       "    </tr>\n",
       "    <tr>\n",
       "      <th>13</th>\n",
       "      <td>@anonymized_account @anonymized_account @anony...</td>\n",
       "      <td>0</td>\n",
       "    </tr>\n",
       "    <tr>\n",
       "      <th>14</th>\n",
       "      <td>@anonymized_account Won niemcu. Sprzedawalisci...</td>\n",
       "      <td>1</td>\n",
       "    </tr>\n",
       "    <tr>\n",
       "      <th>15</th>\n",
       "      <td>@anonymized_account @anonymized_account Trzyma...</td>\n",
       "      <td>0</td>\n",
       "    </tr>\n",
       "    <tr>\n",
       "      <th>16</th>\n",
       "      <td>@anonymized_account @anonymized_account @anony...</td>\n",
       "      <td>1</td>\n",
       "    </tr>\n",
       "    <tr>\n",
       "      <th>17</th>\n",
       "      <td>Ale to jest kurwa pisdzielskie podejście  na k...</td>\n",
       "      <td>1</td>\n",
       "    </tr>\n",
       "    <tr>\n",
       "      <th>18</th>\n",
       "      <td>@anonymized_account Wszedzie wciskasz swojego ...</td>\n",
       "      <td>1</td>\n",
       "    </tr>\n",
       "    <tr>\n",
       "      <th>19</th>\n",
       "      <td>@anonymized_account Kończyłeś już kilka razy 😂</td>\n",
       "      <td>0</td>\n",
       "    </tr>\n",
       "  </tbody>\n",
       "</table>\n",
       "</div>"
      ],
      "text/plain": [
       "                                                 text  pred\n",
       "0   @anonymized_account Ty już robiłeś swoje refor...     1\n",
       "1   @anonymized_account @anonymized_account Szacun...     1\n",
       "2   Słyszę, że Pierwsza Milcząca będzie czytała dz...     1\n",
       "3   @anonymized_account mam pytanie.Za te kłopoty ...     0\n",
       "4   @anonymized_account @anonymized_account Łżesz ...     1\n",
       "5   może wypuścimy szczepiaki zamiast słodziaków a...     0\n",
       "6   @anonymized_account Tak jak pisdzielstwo ośmie...     1\n",
       "7   @anonymized_account @anonymized_account Widać ...     1\n",
       "8   @anonymized_account oj nie wiedział co odpisać...     1\n",
       "9   @anonymized_account @anonymized_account A niby...     0\n",
       "10  @anonymized_account Prosimy o kolejne rewelacj...     0\n",
       "11  @anonymized_account @anonymized_account @anony...     1\n",
       "12  @anonymized_account To tak jak w Wiśle Carlito...     0\n",
       "13  @anonymized_account @anonymized_account @anony...     0\n",
       "14  @anonymized_account Won niemcu. Sprzedawalisci...     1\n",
       "15  @anonymized_account @anonymized_account Trzyma...     0\n",
       "16  @anonymized_account @anonymized_account @anony...     1\n",
       "17  Ale to jest kurwa pisdzielskie podejście  na k...     1\n",
       "18  @anonymized_account Wszedzie wciskasz swojego ...     1\n",
       "19     @anonymized_account Kończyłeś już kilka razy 😂     0"
      ]
     },
     "execution_count": 203,
     "metadata": {},
     "output_type": "execute_result"
    }
   ],
   "source": [
    "pd.DataFrame(random.sample(list(zip(train_X,train_y)),20),columns=['text','pred'])"
   ]
  },
  {
   "cell_type": "markdown",
   "id": "c66759ee",
   "metadata": {},
   "source": [
    "2. Train the following classifiers on the training sets (for the task 1 and the task 2)\n",
    "\n",
    "\n",
    "    i. Bayesian classifier with TF * IDF weighting.\n",
    "    ii. Fasttext text classifier\n",
    "    iii. Transformer classifier (take into account that a number of experiments should be performed for this model)."
   ]
  },
  {
   "cell_type": "markdown",
   "id": "1fc2930e",
   "metadata": {},
   "source": [
    "### Bayesian classifier with TF * IDF weighting"
   ]
  },
  {
   "cell_type": "code",
   "execution_count": 172,
   "id": "d1959e60",
   "metadata": {},
   "outputs": [],
   "source": [
    "\n",
    "def tfidf(train_X,test_X):\n",
    "    tf_idf = TfidfVectorizer()\n",
    "\n",
    "\n",
    "    X_train_tf = tf_idf.fit_transform(train_X)\n",
    "    X_train_tf = tf_idf.transform(train_X)\n",
    "    X_test_tf = tf_idf.transform(test_X)\n",
    "\n",
    "    # print(\"n_samples: %d, n_features: %d\" % X_train_tf.shape)\n",
    "    # print(X_test_tf.shape)\n",
    "\n",
    "    naive_bayes_classifier = MultinomialNB()\n",
    "    naive_bayes_classifier.fit(X_train_tf,train_y)\n",
    "\n",
    "    y_pred = naive_bayes_classifier.predict(X_test_tf)\n",
    "    return [y_pred,naive_bayes_classifier]\n",
    "\n"
   ]
  },
  {
   "cell_type": "code",
   "execution_count": 173,
   "id": "8833fa7b",
   "metadata": {},
   "outputs": [],
   "source": [
    "def sample_tf(naive_bayes_classifier,test_X,test_y):\n",
    "    testing_X = [x for (x,y)in zip(test_X,test_y) if y==1][1:10]\n",
    "    testing_y = [y for (x,y)in zip(test_X,test_y) if y==1][1:10]\n",
    "\n",
    "    test_input = tf_idf.transform(testing_X)\n",
    "    result = naive_bayes_classifier.predict(test_input)\n",
    "    # print(list(zip(testing_X,testing_y,result)))\n",
    "    for X,y, result in zip(testing_X,testing_y,result):\n",
    "        print(f'true={class_names[y]}, predicted={class_names[result]}, {X}')\n",
    "\n"
   ]
  },
  {
   "cell_type": "code",
   "execution_count": 174,
   "id": "5dbadd11",
   "metadata": {},
   "outputs": [
    {
     "name": "stdout",
     "output_type": "stream",
     "text": [
      "Probability(harmful) = 0.23346132796823493\n"
     ]
    },
    {
     "data": {
      "text/html": [
       "<div>\n",
       "<style scoped>\n",
       "    .dataframe tbody tr th:only-of-type {\n",
       "        vertical-align: middle;\n",
       "    }\n",
       "\n",
       "    .dataframe tbody tr th {\n",
       "        vertical-align: top;\n",
       "    }\n",
       "\n",
       "    .dataframe thead th {\n",
       "        text-align: right;\n",
       "    }\n",
       "</style>\n",
       "<table border=\"1\" class=\"dataframe\">\n",
       "  <thead>\n",
       "    <tr style=\"text-align: right;\">\n",
       "      <th></th>\n",
       "      <th>word</th>\n",
       "      <th>value</th>\n",
       "    </tr>\n",
       "  </thead>\n",
       "  <tbody>\n",
       "    <tr>\n",
       "      <th>0</th>\n",
       "      <td>ok</td>\n",
       "      <td>-0.232064</td>\n",
       "    </tr>\n",
       "    <tr>\n",
       "      <th>1</th>\n",
       "      <td>Duda</td>\n",
       "      <td>0.121119</td>\n",
       "    </tr>\n",
       "    <tr>\n",
       "      <th>2</th>\n",
       "      <td>pięć</td>\n",
       "      <td>-0.083097</td>\n",
       "    </tr>\n",
       "    <tr>\n",
       "      <th>3</th>\n",
       "      <td>Spoko</td>\n",
       "      <td>-0.059688</td>\n",
       "    </tr>\n",
       "    <tr>\n",
       "      <th>4</th>\n",
       "      <td>im</td>\n",
       "      <td>0.058557</td>\n",
       "    </tr>\n",
       "    <tr>\n",
       "      <th>5</th>\n",
       "      <td>Morawieckim</td>\n",
       "      <td>-0.034639</td>\n",
       "    </tr>\n",
       "  </tbody>\n",
       "</table>\n",
       "</div>"
      ],
      "text/plain": [
       "          word     value\n",
       "0           ok -0.232064\n",
       "1         Duda  0.121119\n",
       "2         pięć -0.083097\n",
       "3        Spoko -0.059688\n",
       "4           im  0.058557\n",
       "5  Morawieckim -0.034639"
      ]
     },
     "metadata": {},
     "output_type": "display_data"
    }
   ],
   "source": [
    "# local interpretable model-agnositc explenations LIME\n",
    "\n",
    "\n",
    "def lime_explain(idx):\n",
    "    class_names = [\"non-harmful\",\"harmful\"]\n",
    "\n",
    "\n",
    "    c = make_pipeline(tf_idf, naive_bayes_classifier)\n",
    "\n",
    "#     print(c.predict_proba([test_X[0]]))\n",
    "\n",
    "    explainer = LimeTextExplainer(class_names=class_names)\n",
    "\n",
    "    exp = explainer.explain_instance(test_X[idx], c.predict_proba, num_features=6)\n",
    "#     print('Document id: %d' % idx)\n",
    "    print('Probability(harmful) =', c.predict_proba([test_X[idx]])[0,1])\n",
    "#     print(f'True class: {class_names[test_y[idx]]} Predicted class: {class_names[y_pred[idx]]}')\n",
    "\n",
    "    display(pd.DataFrame(exp.as_list(),columns=['word','value']))\n",
    "lime_explain(0)"
   ]
  },
  {
   "cell_type": "code",
   "execution_count": 175,
   "id": "500e47e3",
   "metadata": {},
   "outputs": [],
   "source": [
    "def lime_explain_confusion_matrix(test_y,y_pred):\n",
    "    cm = ConfusionMatrix(actual_vector=test_y, predict_vector=y_pred)\n",
    "    conf_indices= cm.position()[0]\n",
    "\n",
    "    states = ['TP','FP','FN','TN']\n",
    "    for state in states:\n",
    "        if len(conf_indices[state]) ==0:\n",
    "            print(f'{state} no samples')\n",
    "            continue\n",
    "        index = conf_indices[state][0]\n",
    "        print(f'{state}, True={class_names[test_y[index]]}, Pred={class_names[y_pred[index]]}, {test_X[index]}')\n",
    "        lime_explain(index)\n",
    "        \n"
   ]
  },
  {
   "cell_type": "code",
   "execution_count": 177,
   "id": "168512d8",
   "metadata": {},
   "outputs": [
    {
     "name": "stdout",
     "output_type": "stream",
     "text": [
      "true=harmful, predicted=non-harmful, @anonymized_account Dokładnie, pisdzielstwo nie ma prawa rozpierdalać systemu,  sądownictwa nie mając większości\n",
      "true=harmful, predicted=harmful, @anonymized_account Adrian Juda, figurant WSI i  lobby żydowskiego\n",
      "true=harmful, predicted=non-harmful, @anonymized_account Widać ludziom w Sączu tak pasuje. Ja bym mu w gębę napluł\n",
      "true=harmful, predicted=non-harmful, @anonymized_account powinnaś odpowiedzieć za działanie na szkodę Polski i obywateli\n",
      "true=harmful, predicted=non-harmful, RT @anonymized_account @anonymized_account powinnaś odpowiedzieć za działanie na szkodę Polski i obywateli\n",
      "true=harmful, predicted=non-harmful, @anonymized_account @anonymized_account @anonymized_account Najbardziej to on jest wolny od mózgu.\n",
      "true=harmful, predicted=harmful, @anonymized_account   Półgłówek Wieliński, wymyślił sobie półautorytaryzm!\n",
      "true=harmful, predicted=harmful, RT @anonymized_account @anonymized_account   Półgłówek Wieliński, wymyślił sobie półautorytaryzm!\n",
      "true=harmful, predicted=non-harmful, @anonymized_account @anonymized_account @anonymized_account Podstawowe zadanie każdego księdza to narzucanie wiary.\n"
     ]
    }
   ],
   "source": [
    "[y_pred,naive_bayes_classifier] = tfidf(train_X,test_X)\n",
    "\n",
    "sample_tf(naive_bayes_classifier,test_X,test_y)\n",
    "\n"
   ]
  },
  {
   "cell_type": "code",
   "execution_count": 179,
   "id": "d3d683a9",
   "metadata": {},
   "outputs": [
    {
     "name": "stdout",
     "output_type": "stream",
     "text": [
      "f1_score=0.4464285714285714\n",
      "f1_score micro=0.8140000000000001\n",
      "f1_score macro=0.6673248626373627\n",
      "MCC=0.3504588851261634\n",
      "\n",
      "              precision    recall  f1-score   support\n",
      "\n",
      "    Positive       0.93      0.85      0.89       866\n",
      "    Negative       0.37      0.56      0.45       134\n",
      "\n",
      "    accuracy                           0.81      1000\n",
      "   macro avg       0.65      0.71      0.67      1000\n",
      "weighted avg       0.85      0.81      0.83      1000\n",
      "\n",
      "Confusion matrix\n",
      "[[739 127]\n",
      " [ 59  75]]\n"
     ]
    }
   ],
   "source": [
    "print_metrics(test_y,y_pred)\n",
    "\n"
   ]
  },
  {
   "cell_type": "code",
   "execution_count": 180,
   "id": "f9ef09ce",
   "metadata": {},
   "outputs": [
    {
     "name": "stdout",
     "output_type": "stream",
     "text": [
      "TP, True=non-harmful, Pred=non-harmful, @anonymized_account Spoko, jak im Duda z Morawieckim zamówią po pięć piw to wszystko będzie ok.\n",
      "Probability(harmful) = 0.23346132796823493\n"
     ]
    },
    {
     "data": {
      "text/html": [
       "<div>\n",
       "<style scoped>\n",
       "    .dataframe tbody tr th:only-of-type {\n",
       "        vertical-align: middle;\n",
       "    }\n",
       "\n",
       "    .dataframe tbody tr th {\n",
       "        vertical-align: top;\n",
       "    }\n",
       "\n",
       "    .dataframe thead th {\n",
       "        text-align: right;\n",
       "    }\n",
       "</style>\n",
       "<table border=\"1\" class=\"dataframe\">\n",
       "  <thead>\n",
       "    <tr style=\"text-align: right;\">\n",
       "      <th></th>\n",
       "      <th>word</th>\n",
       "      <th>value</th>\n",
       "    </tr>\n",
       "  </thead>\n",
       "  <tbody>\n",
       "    <tr>\n",
       "      <th>0</th>\n",
       "      <td>ok</td>\n",
       "      <td>-0.230961</td>\n",
       "    </tr>\n",
       "    <tr>\n",
       "      <th>1</th>\n",
       "      <td>Duda</td>\n",
       "      <td>0.118478</td>\n",
       "    </tr>\n",
       "    <tr>\n",
       "      <th>2</th>\n",
       "      <td>pięć</td>\n",
       "      <td>-0.082712</td>\n",
       "    </tr>\n",
       "    <tr>\n",
       "      <th>3</th>\n",
       "      <td>Spoko</td>\n",
       "      <td>-0.060575</td>\n",
       "    </tr>\n",
       "    <tr>\n",
       "      <th>4</th>\n",
       "      <td>im</td>\n",
       "      <td>0.057571</td>\n",
       "    </tr>\n",
       "    <tr>\n",
       "      <th>5</th>\n",
       "      <td>Morawieckim</td>\n",
       "      <td>-0.033458</td>\n",
       "    </tr>\n",
       "  </tbody>\n",
       "</table>\n",
       "</div>"
      ],
      "text/plain": [
       "          word     value\n",
       "0           ok -0.230961\n",
       "1         Duda  0.118478\n",
       "2         pięć -0.082712\n",
       "3        Spoko -0.060575\n",
       "4           im  0.057571\n",
       "5  Morawieckim -0.033458"
      ]
     },
     "metadata": {},
     "output_type": "display_data"
    },
    {
     "name": "stdout",
     "output_type": "stream",
     "text": [
      "FP, True=harmful, Pred=non-harmful, @anonymized_account Dokładnie, pisdzielstwo nie ma prawa rozpierdalać systemu,  sądownictwa nie mając większości\n",
      "Probability(harmful) = 0.4202574617947113\n"
     ]
    },
    {
     "data": {
      "text/html": [
       "<div>\n",
       "<style scoped>\n",
       "    .dataframe tbody tr th:only-of-type {\n",
       "        vertical-align: middle;\n",
       "    }\n",
       "\n",
       "    .dataframe tbody tr th {\n",
       "        vertical-align: top;\n",
       "    }\n",
       "\n",
       "    .dataframe thead th {\n",
       "        text-align: right;\n",
       "    }\n",
       "</style>\n",
       "<table border=\"1\" class=\"dataframe\">\n",
       "  <thead>\n",
       "    <tr style=\"text-align: right;\">\n",
       "      <th></th>\n",
       "      <th>word</th>\n",
       "      <th>value</th>\n",
       "    </tr>\n",
       "  </thead>\n",
       "  <tbody>\n",
       "    <tr>\n",
       "      <th>0</th>\n",
       "      <td>pisdzielstwo</td>\n",
       "      <td>0.192534</td>\n",
       "    </tr>\n",
       "    <tr>\n",
       "      <th>1</th>\n",
       "      <td>większości</td>\n",
       "      <td>-0.144137</td>\n",
       "    </tr>\n",
       "    <tr>\n",
       "      <th>2</th>\n",
       "      <td>systemu</td>\n",
       "      <td>0.138809</td>\n",
       "    </tr>\n",
       "    <tr>\n",
       "      <th>3</th>\n",
       "      <td>mając</td>\n",
       "      <td>-0.125510</td>\n",
       "    </tr>\n",
       "    <tr>\n",
       "      <th>4</th>\n",
       "      <td>sądownictwa</td>\n",
       "      <td>-0.099180</td>\n",
       "    </tr>\n",
       "    <tr>\n",
       "      <th>5</th>\n",
       "      <td>prawa</td>\n",
       "      <td>-0.025020</td>\n",
       "    </tr>\n",
       "  </tbody>\n",
       "</table>\n",
       "</div>"
      ],
      "text/plain": [
       "           word     value\n",
       "0  pisdzielstwo  0.192534\n",
       "1    większości -0.144137\n",
       "2       systemu  0.138809\n",
       "3         mając -0.125510\n",
       "4   sądownictwa -0.099180\n",
       "5         prawa -0.025020"
      ]
     },
     "metadata": {},
     "output_type": "display_data"
    },
    {
     "name": "stdout",
     "output_type": "stream",
     "text": [
      "FN, True=non-harmful, Pred=harmful, Jajka na miękko czy na twardo? Jeśli jecie jajka ofc\n",
      "Probability(harmful) = 0.7688665235325993\n"
     ]
    },
    {
     "data": {
      "text/html": [
       "<div>\n",
       "<style scoped>\n",
       "    .dataframe tbody tr th:only-of-type {\n",
       "        vertical-align: middle;\n",
       "    }\n",
       "\n",
       "    .dataframe tbody tr th {\n",
       "        vertical-align: top;\n",
       "    }\n",
       "\n",
       "    .dataframe thead th {\n",
       "        text-align: right;\n",
       "    }\n",
       "</style>\n",
       "<table border=\"1\" class=\"dataframe\">\n",
       "  <thead>\n",
       "    <tr style=\"text-align: right;\">\n",
       "      <th></th>\n",
       "      <th>word</th>\n",
       "      <th>value</th>\n",
       "    </tr>\n",
       "  </thead>\n",
       "  <tbody>\n",
       "    <tr>\n",
       "      <th>0</th>\n",
       "      <td>twardo</td>\n",
       "      <td>0.175310</td>\n",
       "    </tr>\n",
       "    <tr>\n",
       "      <th>1</th>\n",
       "      <td>Jajka</td>\n",
       "      <td>0.124510</td>\n",
       "    </tr>\n",
       "    <tr>\n",
       "      <th>2</th>\n",
       "      <td>jajka</td>\n",
       "      <td>0.119602</td>\n",
       "    </tr>\n",
       "    <tr>\n",
       "      <th>3</th>\n",
       "      <td>Jeśli</td>\n",
       "      <td>-0.102823</td>\n",
       "    </tr>\n",
       "    <tr>\n",
       "      <th>4</th>\n",
       "      <td>ofc</td>\n",
       "      <td>-0.075717</td>\n",
       "    </tr>\n",
       "    <tr>\n",
       "      <th>5</th>\n",
       "      <td>czy</td>\n",
       "      <td>-0.030908</td>\n",
       "    </tr>\n",
       "  </tbody>\n",
       "</table>\n",
       "</div>"
      ],
      "text/plain": [
       "     word     value\n",
       "0  twardo  0.175310\n",
       "1   Jajka  0.124510\n",
       "2   jajka  0.119602\n",
       "3   Jeśli -0.102823\n",
       "4     ofc -0.075717\n",
       "5     czy -0.030908"
      ]
     },
     "metadata": {},
     "output_type": "display_data"
    },
    {
     "name": "stdout",
     "output_type": "stream",
     "text": [
      "TN, True=harmful, Pred=harmful, @anonymized_account Tej szmaty się nie komentuje\n",
      "Probability(harmful) = 0.6308802393175929\n"
     ]
    },
    {
     "data": {
      "text/html": [
       "<div>\n",
       "<style scoped>\n",
       "    .dataframe tbody tr th:only-of-type {\n",
       "        vertical-align: middle;\n",
       "    }\n",
       "\n",
       "    .dataframe tbody tr th {\n",
       "        vertical-align: top;\n",
       "    }\n",
       "\n",
       "    .dataframe thead th {\n",
       "        text-align: right;\n",
       "    }\n",
       "</style>\n",
       "<table border=\"1\" class=\"dataframe\">\n",
       "  <thead>\n",
       "    <tr style=\"text-align: right;\">\n",
       "      <th></th>\n",
       "      <th>word</th>\n",
       "      <th>value</th>\n",
       "    </tr>\n",
       "  </thead>\n",
       "  <tbody>\n",
       "    <tr>\n",
       "      <th>0</th>\n",
       "      <td>szmaty</td>\n",
       "      <td>0.217807</td>\n",
       "    </tr>\n",
       "    <tr>\n",
       "      <th>1</th>\n",
       "      <td>komentuje</td>\n",
       "      <td>-0.095630</td>\n",
       "    </tr>\n",
       "    <tr>\n",
       "      <th>2</th>\n",
       "      <td>się</td>\n",
       "      <td>-0.011910</td>\n",
       "    </tr>\n",
       "    <tr>\n",
       "      <th>3</th>\n",
       "      <td>anonymized_account</td>\n",
       "      <td>0.006923</td>\n",
       "    </tr>\n",
       "    <tr>\n",
       "      <th>4</th>\n",
       "      <td>Tej</td>\n",
       "      <td>-0.004740</td>\n",
       "    </tr>\n",
       "    <tr>\n",
       "      <th>5</th>\n",
       "      <td>nie</td>\n",
       "      <td>-0.002315</td>\n",
       "    </tr>\n",
       "  </tbody>\n",
       "</table>\n",
       "</div>"
      ],
      "text/plain": [
       "                 word     value\n",
       "0              szmaty  0.217807\n",
       "1           komentuje -0.095630\n",
       "2                 się -0.011910\n",
       "3  anonymized_account  0.006923\n",
       "4                 Tej -0.004740\n",
       "5                 nie -0.002315"
      ]
     },
     "metadata": {},
     "output_type": "display_data"
    }
   ],
   "source": [
    "lime_explain_confusion_matrix(test_y,y_pred)"
   ]
  },
  {
   "cell_type": "markdown",
   "id": "4abd5a40",
   "metadata": {},
   "source": [
    "### Fasttext classification"
   ]
  },
  {
   "cell_type": "code",
   "execution_count": 204,
   "id": "5d975567",
   "metadata": {},
   "outputs": [],
   "source": [
    "\n",
    "def convert_to_fasttext_format(name):\n",
    "    df = pd.DataFrame(dataset[name])\n",
    "    df = df[['label','text']]\n",
    "    df.label = df.label.apply(lambda x: f'__label__{x}')\n",
    "    return df\n",
    "\n",
    "def tofile(df,filename):\n",
    "    df.to_csv(filename, \n",
    "      index = False, \n",
    "      sep = ' ',\n",
    "      header = None, \n",
    "      quoting = csv.QUOTE_NONE, \n",
    "      quotechar = \"\", \n",
    "      escapechar = \" \")\n",
    "    \n",
    "\n",
    "def fast_text():\n",
    "    df = convert_to_fasttext_format('train')\n",
    "    tofile(df,'train.txt')\n",
    "\n",
    "    df = convert_to_fasttext_format('test')\n",
    "    tofile(df,'test.txt')\n",
    "    \n",
    "    model = fasttext.train_supervised('train.txt',epoch=40)\n",
    "    y_pred = [ int(model.predict(x)[0][0][-1]) for x,y in zip(test_X,test_y)]\n",
    "    return [y_pred,model]"
   ]
  },
  {
   "cell_type": "code",
   "execution_count": 205,
   "id": "c727eaa3",
   "metadata": {},
   "outputs": [
    {
     "name": "stderr",
     "output_type": "stream",
     "text": [
      "Read 0M words\n",
      "Number of words:  31486\n",
      "Number of labels: 2\n",
      "Progress: 100.0% words/sec/thread: 1174713 lr:  0.000000 avg.loss:  0.032007 ETA:   0h 0m 0s100.0% words/sec/thread: 1175004 lr: -0.000001 avg.loss:  0.032007 ETA:   0h 0m 0s\n"
     ]
    }
   ],
   "source": [
    "[y_pred,model] = fast_text()"
   ]
  },
  {
   "cell_type": "code",
   "execution_count": 206,
   "id": "589773f4",
   "metadata": {},
   "outputs": [
    {
     "name": "stdout",
     "output_type": "stream",
     "text": [
      "true=non-harmful, predicted=non-harmful, @anonymized_account @anonymized_account Ale on tu nie miał szans jej zagrania, a ta 'proba' to czysta prowizorka.\n",
      "true=non-harmful, predicted=non-harmful, @anonymized_account No czy Prezes nie miał racji, mówiąc,ze to są zdradzieckie mordy? No czy nie miał racji?😁😁\n",
      "true=non-harmful, predicted=non-harmful, @anonymized_account @anonymized_account Przecież to nawet nie jest przewrotka 😂\n",
      "true=non-harmful, predicted=non-harmful, @anonymized_account @anonymized_account Owszem podatki tak. Ale nie w takich okolicznościach. Czemu Małysza odpalili z teamu Orlen?\n",
      "\n",
      "true=harmful, predicted=non-harmful, @anonymized_account Dokładnie, pisdzielstwo nie ma prawa rozpierdalać systemu,  sądownictwa nie mając większości\n",
      "true=harmful, predicted=non-harmful, @anonymized_account Adrian Juda, figurant WSI i  lobby żydowskiego\n",
      "true=harmful, predicted=non-harmful, @anonymized_account Widać ludziom w Sączu tak pasuje. Ja bym mu w gębę napluł\n",
      "true=harmful, predicted=non-harmful, @anonymized_account powinnaś odpowiedzieć za działanie na szkodę Polski i obywateli\n",
      "\n"
     ]
    }
   ],
   "source": [
    "def sample_ft(model,test_X,test_y,number_samples_to_predict = 5):\n",
    "    for label in {0,1}:\n",
    "        testing_X = [x for (x,y)in zip(test_X,test_y) if y==label][1:number_samples_to_predict]\n",
    "        testing_y = [y for (x,y)in zip(test_X,test_y) if y==label][1:number_samples_to_predict]\n",
    "        for X,y in zip(testing_X,testing_y):\n",
    "            predicted = int(model.predict(X)[0][0][-1])\n",
    "            print(f'true={class_names[y]}, predicted={class_names[predicted]}, {X}')\n",
    "        print()\n",
    "\n",
    "sample_ft(model,test_X,test_y,5)"
   ]
  },
  {
   "cell_type": "code",
   "execution_count": 207,
   "id": "7de60648",
   "metadata": {},
   "outputs": [
    {
     "name": "stdout",
     "output_type": "stream",
     "text": [
      "f1_score=0.1875\n",
      "f1_score micro=0.87\n",
      "f1_score macro=0.5584239130434783\n",
      "MCC=0.21243406452447067\n",
      "\n",
      "              precision    recall  f1-score   support\n",
      "\n",
      "    Positive       0.88      0.99      0.93       866\n",
      "    Negative       0.58      0.11      0.19       134\n",
      "\n",
      "    accuracy                           0.87      1000\n",
      "   macro avg       0.73      0.55      0.56      1000\n",
      "weighted avg       0.84      0.87      0.83      1000\n",
      "\n",
      "Confusion matrix\n",
      "[[855  11]\n",
      " [119  15]]\n"
     ]
    }
   ],
   "source": [
    "print_metrics(test_y,y_pred)"
   ]
  },
  {
   "cell_type": "code",
   "execution_count": 208,
   "id": "9da830b1",
   "metadata": {},
   "outputs": [
    {
     "name": "stdout",
     "output_type": "stream",
     "text": [
      "TP, True=non-harmful, Pred=non-harmful, @anonymized_account Spoko, jak im Duda z Morawieckim zamówią po pięć piw to wszystko będzie ok.\n",
      "Probability(harmful) = 0.23346132796823493\n"
     ]
    },
    {
     "data": {
      "text/html": [
       "<div>\n",
       "<style scoped>\n",
       "    .dataframe tbody tr th:only-of-type {\n",
       "        vertical-align: middle;\n",
       "    }\n",
       "\n",
       "    .dataframe tbody tr th {\n",
       "        vertical-align: top;\n",
       "    }\n",
       "\n",
       "    .dataframe thead th {\n",
       "        text-align: right;\n",
       "    }\n",
       "</style>\n",
       "<table border=\"1\" class=\"dataframe\">\n",
       "  <thead>\n",
       "    <tr style=\"text-align: right;\">\n",
       "      <th></th>\n",
       "      <th>word</th>\n",
       "      <th>value</th>\n",
       "    </tr>\n",
       "  </thead>\n",
       "  <tbody>\n",
       "    <tr>\n",
       "      <th>0</th>\n",
       "      <td>ok</td>\n",
       "      <td>-0.232028</td>\n",
       "    </tr>\n",
       "    <tr>\n",
       "      <th>1</th>\n",
       "      <td>Duda</td>\n",
       "      <td>0.117200</td>\n",
       "    </tr>\n",
       "    <tr>\n",
       "      <th>2</th>\n",
       "      <td>pięć</td>\n",
       "      <td>-0.082130</td>\n",
       "    </tr>\n",
       "    <tr>\n",
       "      <th>3</th>\n",
       "      <td>Spoko</td>\n",
       "      <td>-0.059579</td>\n",
       "    </tr>\n",
       "    <tr>\n",
       "      <th>4</th>\n",
       "      <td>im</td>\n",
       "      <td>0.058608</td>\n",
       "    </tr>\n",
       "    <tr>\n",
       "      <th>5</th>\n",
       "      <td>Morawieckim</td>\n",
       "      <td>-0.031165</td>\n",
       "    </tr>\n",
       "  </tbody>\n",
       "</table>\n",
       "</div>"
      ],
      "text/plain": [
       "          word     value\n",
       "0           ok -0.232028\n",
       "1         Duda  0.117200\n",
       "2         pięć -0.082130\n",
       "3        Spoko -0.059579\n",
       "4           im  0.058608\n",
       "5  Morawieckim -0.031165"
      ]
     },
     "metadata": {},
     "output_type": "display_data"
    },
    {
     "name": "stdout",
     "output_type": "stream",
     "text": [
      "FP, True=harmful, Pred=non-harmful, @anonymized_account Tej szmaty się nie komentuje\n",
      "Probability(harmful) = 0.6308802393175929\n"
     ]
    },
    {
     "data": {
      "text/html": [
       "<div>\n",
       "<style scoped>\n",
       "    .dataframe tbody tr th:only-of-type {\n",
       "        vertical-align: middle;\n",
       "    }\n",
       "\n",
       "    .dataframe tbody tr th {\n",
       "        vertical-align: top;\n",
       "    }\n",
       "\n",
       "    .dataframe thead th {\n",
       "        text-align: right;\n",
       "    }\n",
       "</style>\n",
       "<table border=\"1\" class=\"dataframe\">\n",
       "  <thead>\n",
       "    <tr style=\"text-align: right;\">\n",
       "      <th></th>\n",
       "      <th>word</th>\n",
       "      <th>value</th>\n",
       "    </tr>\n",
       "  </thead>\n",
       "  <tbody>\n",
       "    <tr>\n",
       "      <th>0</th>\n",
       "      <td>szmaty</td>\n",
       "      <td>0.217141</td>\n",
       "    </tr>\n",
       "    <tr>\n",
       "      <th>1</th>\n",
       "      <td>komentuje</td>\n",
       "      <td>-0.095687</td>\n",
       "    </tr>\n",
       "    <tr>\n",
       "      <th>2</th>\n",
       "      <td>się</td>\n",
       "      <td>-0.011215</td>\n",
       "    </tr>\n",
       "    <tr>\n",
       "      <th>3</th>\n",
       "      <td>anonymized_account</td>\n",
       "      <td>0.006621</td>\n",
       "    </tr>\n",
       "    <tr>\n",
       "      <th>4</th>\n",
       "      <td>Tej</td>\n",
       "      <td>-0.005036</td>\n",
       "    </tr>\n",
       "    <tr>\n",
       "      <th>5</th>\n",
       "      <td>nie</td>\n",
       "      <td>-0.001894</td>\n",
       "    </tr>\n",
       "  </tbody>\n",
       "</table>\n",
       "</div>"
      ],
      "text/plain": [
       "                 word     value\n",
       "0              szmaty  0.217141\n",
       "1           komentuje -0.095687\n",
       "2                 się -0.011215\n",
       "3  anonymized_account  0.006621\n",
       "4                 Tej -0.005036\n",
       "5                 nie -0.001894"
      ]
     },
     "metadata": {},
     "output_type": "display_data"
    },
    {
     "name": "stdout",
     "output_type": "stream",
     "text": [
      "FN, True=non-harmful, Pred=harmful, @anonymized_account Droga p.Kamilko! Leczyć się . Leczyć póki czas😁😁\n",
      "Probability(harmful) = 0.8708997771641055\n"
     ]
    },
    {
     "data": {
      "text/html": [
       "<div>\n",
       "<style scoped>\n",
       "    .dataframe tbody tr th:only-of-type {\n",
       "        vertical-align: middle;\n",
       "    }\n",
       "\n",
       "    .dataframe tbody tr th {\n",
       "        vertical-align: top;\n",
       "    }\n",
       "\n",
       "    .dataframe thead th {\n",
       "        text-align: right;\n",
       "    }\n",
       "</style>\n",
       "<table border=\"1\" class=\"dataframe\">\n",
       "  <thead>\n",
       "    <tr style=\"text-align: right;\">\n",
       "      <th></th>\n",
       "      <th>word</th>\n",
       "      <th>value</th>\n",
       "    </tr>\n",
       "  </thead>\n",
       "  <tbody>\n",
       "    <tr>\n",
       "      <th>0</th>\n",
       "      <td>Leczyć</td>\n",
       "      <td>0.389602</td>\n",
       "    </tr>\n",
       "    <tr>\n",
       "      <th>1</th>\n",
       "      <td>Droga</td>\n",
       "      <td>-0.114598</td>\n",
       "    </tr>\n",
       "    <tr>\n",
       "      <th>2</th>\n",
       "      <td>póki</td>\n",
       "      <td>0.041016</td>\n",
       "    </tr>\n",
       "    <tr>\n",
       "      <th>3</th>\n",
       "      <td>czas</td>\n",
       "      <td>0.026613</td>\n",
       "    </tr>\n",
       "    <tr>\n",
       "      <th>4</th>\n",
       "      <td>się</td>\n",
       "      <td>-0.008075</td>\n",
       "    </tr>\n",
       "    <tr>\n",
       "      <th>5</th>\n",
       "      <td>anonymized_account</td>\n",
       "      <td>0.003217</td>\n",
       "    </tr>\n",
       "  </tbody>\n",
       "</table>\n",
       "</div>"
      ],
      "text/plain": [
       "                 word     value\n",
       "0              Leczyć  0.389602\n",
       "1               Droga -0.114598\n",
       "2                póki  0.041016\n",
       "3                czas  0.026613\n",
       "4                 się -0.008075\n",
       "5  anonymized_account  0.003217"
      ]
     },
     "metadata": {},
     "output_type": "display_data"
    },
    {
     "name": "stdout",
     "output_type": "stream",
     "text": [
      "TN, True=harmful, Pred=harmful, @anonymized_account Dokładnie wie co mówi. A Ty pajacu poczytaj ustawę domsie dowiesz kto decyduje o wysokości zarobków w samorządach.\n",
      "Probability(harmful) = 0.4766271084155878\n"
     ]
    },
    {
     "data": {
      "text/html": [
       "<div>\n",
       "<style scoped>\n",
       "    .dataframe tbody tr th:only-of-type {\n",
       "        vertical-align: middle;\n",
       "    }\n",
       "\n",
       "    .dataframe tbody tr th {\n",
       "        vertical-align: top;\n",
       "    }\n",
       "\n",
       "    .dataframe thead th {\n",
       "        text-align: right;\n",
       "    }\n",
       "</style>\n",
       "<table border=\"1\" class=\"dataframe\">\n",
       "  <thead>\n",
       "    <tr style=\"text-align: right;\">\n",
       "      <th></th>\n",
       "      <th>word</th>\n",
       "      <th>value</th>\n",
       "    </tr>\n",
       "  </thead>\n",
       "  <tbody>\n",
       "    <tr>\n",
       "      <th>0</th>\n",
       "      <td>pajacu</td>\n",
       "      <td>0.183502</td>\n",
       "    </tr>\n",
       "    <tr>\n",
       "      <th>1</th>\n",
       "      <td>poczytaj</td>\n",
       "      <td>-0.141596</td>\n",
       "    </tr>\n",
       "    <tr>\n",
       "      <th>2</th>\n",
       "      <td>decyduje</td>\n",
       "      <td>-0.097367</td>\n",
       "    </tr>\n",
       "    <tr>\n",
       "      <th>3</th>\n",
       "      <td>ustawę</td>\n",
       "      <td>0.088714</td>\n",
       "    </tr>\n",
       "    <tr>\n",
       "      <th>4</th>\n",
       "      <td>dowiesz</td>\n",
       "      <td>-0.084682</td>\n",
       "    </tr>\n",
       "    <tr>\n",
       "      <th>5</th>\n",
       "      <td>Ty</td>\n",
       "      <td>0.068466</td>\n",
       "    </tr>\n",
       "  </tbody>\n",
       "</table>\n",
       "</div>"
      ],
      "text/plain": [
       "       word     value\n",
       "0    pajacu  0.183502\n",
       "1  poczytaj -0.141596\n",
       "2  decyduje -0.097367\n",
       "3    ustawę  0.088714\n",
       "4   dowiesz -0.084682\n",
       "5        Ty  0.068466"
      ]
     },
     "metadata": {},
     "output_type": "display_data"
    }
   ],
   "source": [
    "lime_explain_confusion_matrix(test_y,y_pred)"
   ]
  },
  {
   "cell_type": "markdown",
   "id": "768a4b33",
   "metadata": {},
   "source": [
    "### Transformers"
   ]
  },
  {
   "cell_type": "markdown",
   "id": "f593073c",
   "metadata": {},
   "source": [
    "   \n",
    "   \n",
    "3. Compare the results of classification on the test set. Select the appropriate measures (from accuracy, F1, macro/micro F1, MCC) to compare the results."
   ]
  },
  {
   "cell_type": "markdown",
   "id": "75f23f9b",
   "metadata": {},
   "source": [
    "4. Select 1 TP, 1 TN, 1 FP and 1 FN from your predictions (for the best classifier) and compare the decisions of each\n",
    "   classifier on these examples using [LIME](https://github.com/marcotcr/lime)."
   ]
  },
  {
   "cell_type": "code",
   "execution_count": 30,
   "id": "4a91e017",
   "metadata": {},
   "outputs": [
    {
     "ename": "NameError",
     "evalue": "name 'vectorizer' is not defined",
     "output_type": "error",
     "traceback": [
      "\u001b[0;31m---------------------------------------------------------------------------\u001b[0m",
      "\u001b[0;31mNameError\u001b[0m                                 Traceback (most recent call last)",
      "\u001b[0;32m/tmp/ipykernel_80801/4127805042.py\u001b[0m in \u001b[0;36m<module>\u001b[0;34m\u001b[0m\n\u001b[1;32m      1\u001b[0m \u001b[0;32mfrom\u001b[0m \u001b[0mlime\u001b[0m \u001b[0;32mimport\u001b[0m \u001b[0mlime_text\u001b[0m\u001b[0;34m\u001b[0m\u001b[0;34m\u001b[0m\u001b[0m\n\u001b[1;32m      2\u001b[0m \u001b[0;32mfrom\u001b[0m \u001b[0msklearn\u001b[0m\u001b[0;34m.\u001b[0m\u001b[0mpipeline\u001b[0m \u001b[0;32mimport\u001b[0m \u001b[0mmake_pipeline\u001b[0m\u001b[0;34m\u001b[0m\u001b[0;34m\u001b[0m\u001b[0m\n\u001b[0;32m----> 3\u001b[0;31m \u001b[0mc\u001b[0m \u001b[0;34m=\u001b[0m \u001b[0mmake_pipeline\u001b[0m\u001b[0;34m(\u001b[0m\u001b[0mvectorizer\u001b[0m\u001b[0;34m,\u001b[0m \u001b[0mrf\u001b[0m\u001b[0;34m)\u001b[0m\u001b[0;34m\u001b[0m\u001b[0;34m\u001b[0m\u001b[0m\n\u001b[0m",
      "\u001b[0;31mNameError\u001b[0m: name 'vectorizer' is not defined"
     ]
    }
   ],
   "source": [
    "from lime import lime_text\n",
    "from sklearn.pipeline import make_pipeline\n",
    "c = make_pipeline(vectorizer, rf)\n"
   ]
  },
  {
   "cell_type": "markdown",
   "id": "f643e2ac",
   "metadata": {},
   "source": [
    "5. Answer the following questions:\n",
    "\n",
    "\n",
    "1. Which of the classifiers works the best for the task 1 and the task 2.\n",
    "1. Did you achieve results comparable with the results of [PolEval Task](http://2019.poleval.pl/index.php/results/)?\n",
    "1. Did you achieve results comparable with the [Klej leaderboard](https://klejbenchmark.com/leaderboard/)?\n",
    "1. Describe strengths and weaknesses of each of the compared algorithms.\n",
    "1. Do you think comparison of raw performance values on a single task is enough to assess the value of a given\n",
    "  algorithm/model?\n",
    "1. Did SHAP show that the models use valuable features/words when performing their decision?"
   ]
  },
  {
   "cell_type": "code",
   "execution_count": null,
   "id": "2567f550",
   "metadata": {},
   "outputs": [],
   "source": []
  }
 ],
 "metadata": {
  "kernelspec": {
   "display_name": "Python [conda env:ml]",
   "language": "python",
   "name": "conda-env-ml-py"
  },
  "language_info": {
   "codemirror_mode": {
    "name": "ipython",
    "version": 3
   },
   "file_extension": ".py",
   "mimetype": "text/x-python",
   "name": "python",
   "nbconvert_exporter": "python",
   "pygments_lexer": "ipython3",
   "version": "3.9.7"
  }
 },
 "nbformat": 4,
 "nbformat_minor": 5
}
