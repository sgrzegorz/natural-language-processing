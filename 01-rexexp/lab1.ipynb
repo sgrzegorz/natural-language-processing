{
 "cells": [
  {
   "cell_type": "code",
   "execution_count": 1,
   "metadata": {},
   "outputs": [],
   "source": [
    "import re\n",
    "import tarfile\n",
    "import os\n",
    "import matplotlib.pyplot as plt\n",
    "import numpy as np\n",
    "import regex\n",
    "import pandas as pd\n",
    "import morfeusz2\n",
    "\n",
    "\n",
    "%matplotlib inline"
   ]
  },
  {
   "cell_type": "code",
   "execution_count": 2,
   "metadata": {
    "tags": []
   },
   "outputs": [],
   "source": [
    "merged_law = open(\"merged_law.txt\", \"w+b\")\n",
    "\n",
    "tar = tarfile.open(\"ustawy.tar.gz\", \"r:gz\")\n",
    "for member in tar.getmembers():\n",
    "    f = tar.extractfile(member)\n",
    "    if f is not None:\n",
    "        content = f.read()\n",
    "        merged_law.write(content)\n",
    "merged_law.close()"
   ]
  },
  {
   "cell_type": "markdown",
   "metadata": {
    "tags": []
   },
   "source": [
    "## 1\n",
    "### addition of a unit (e.g. dodaje się ust. 5a),\n",
    "\n",
    "https://regex101.com/r/frAaay/2"
   ]
  },
  {
   "cell_type": "code",
   "execution_count": 3,
   "metadata": {
    "tags": []
   },
   "outputs": [
    {
     "name": "stdout",
     "output_type": "stream",
     "text": [
      "5726\n"
     ]
    }
   ],
   "source": [
    "def get_addition_number(filename):\n",
    "    file = open(filename, \"r\")\n",
    "    text = file.read()\n",
    "    expression = r\"(((w)|(po))\\s((art\\.)|(ust\\.)|(pkt)|rozdziale|§)\\s\\d+\\w+\\s?)*dodaje\\ssię\\s(now[y|e]\\s)?(((w\\s)?ust\\.)|(art\\.)|(poz\\.)|(rozdział)|§|pkt|lit\\.).*(w\\s)?brzmieniu\"\n",
    "    pattern = regex.compile(expression, re.I)\n",
    "\n",
    "    # for match in regex.finditer(pattern,text):\n",
    "    #     print(match)\n",
    "    return len([*regex.finditer(pattern, text)])\n",
    "\n",
    "\n",
    "print(get_addition_number(\"merged_law.txt\"))"
   ]
  },
  {
   "cell_type": "markdown",
   "metadata": {},
   "source": [
    "### removal of a unit (e.g. w art. 10 ust. 1 pkt 8 skreśla się)\n",
    "https://regex101.com/r/aahqHw/6"
   ]
  },
  {
   "cell_type": "code",
   "execution_count": 4,
   "metadata": {},
   "outputs": [
    {
     "name": "stdout",
     "output_type": "stream",
     "text": [
      "2156\n"
     ]
    }
   ],
   "source": [
    "def get_removal_number(filename):\n",
    "    file = open(filename, \"r\")\n",
    "    text = file.read()\n",
    "    expression = r\"(((skreśla)|uchyla)\\ssię\\s(((w\\s)?ust\\.)|(art\\.)|(poz\\.)|(rozdział)|§|pkt|lit\\.|(dział)))|(((art\\.?)|(ust\\.?)|\\§|(pkt\\.?))\\s\\w+\\s((skreśla)|(uchyla))\\ssię(?!\\s(wyrazy?|zdanie)))\"\n",
    "    pattern = regex.compile(expression, re.I)\n",
    "    return len([*regex.finditer(pattern, text)])\n",
    "\n",
    "print(get_removal_number(\"merged_law.txt\"))"
   ]
  },
  {
   "cell_type": "markdown",
   "metadata": {},
   "source": [
    "### change of a unit (e.g. art. 5 otrzymuje brzmienie)\n",
    "https://regex101.com/r/CWUPxg/2\n"
   ]
  },
  {
   "cell_type": "code",
   "execution_count": 5,
   "metadata": {},
   "outputs": [
    {
     "name": "stdout",
     "output_type": "stream",
     "text": [
      "9289\n"
     ]
    }
   ],
   "source": [
    "def get_changes_number(filename):\n",
    "    file = open(filename, \"r\")\n",
    "    text = file.read()\n",
    "    # firstly I thought about r\"(otrzymuj[eą]\\s((brzmienie)|(oznaczeni[ae])))|(oznacza\\ssię)\"\n",
    "    # but it matched \"w ust. 2 zdanie pierwsze otrzymuje brzmienie\" So I prevented this behavior\n",
    "\n",
    "    expression = r\"(((w\\s)?ust\\.?)|(Kategoria)|(art\\.?)|(poz\\.?)|(rozdział)|§|pkt|lit\\.?)(?!.*zdanie.*).*(otrzymuj[eą]\\s((brzmienie)|(oznaczeni[ae])))|(oznacza\\ssię)\"\n",
    "    pattern = regex.compile(expression, re.I)\n",
    "    return len([*regex.finditer(pattern, text)])\n",
    "\n",
    "\n",
    "print(get_changes_number(\"merged_law.txt\"))"
   ]
  },
  {
   "cell_type": "code",
   "execution_count": 6,
   "metadata": {
    "tags": []
   },
   "outputs": [],
   "source": [
    "units_added_yearly = []\n",
    "units_changed_yearly = []\n",
    "units_removed_yearly = []\n",
    "\n",
    "path = \"./ustawy\"\n",
    "paths = os.listdir(path)\n",
    "for year in range(1993, 2005):\n",
    "    filenames = list(filter(lambda x: x.startswith(str(year)), paths))\n",
    "    units_added = 0\n",
    "    units_changed = 0\n",
    "    units_removed = 0\n",
    "    for filename in filenames:\n",
    "        units_added += get_addition_number(path + \"/\" + filename)\n",
    "        units_changed += get_changes_number(path + \"/\" + filename)\n",
    "        units_removed += get_removal_number(path + \"/\" + filename)\n",
    "    units_added_yearly.append(units_added)\n",
    "    units_changed_yearly.append(units_changed)\n",
    "    units_removed_yearly.append(units_removed)"
   ]
  },
  {
   "cell_type": "code",
   "execution_count": 7,
   "metadata": {},
   "outputs": [
    {
     "data": {
      "text/plain": [
       "[29, 96, 324, 479, 615, 212, 158, 731, 1056, 89, 956, 981]"
      ]
     },
     "execution_count": 7,
     "metadata": {},
     "output_type": "execute_result"
    }
   ],
   "source": [
    "units_added_yearly"
   ]
  },
  {
   "cell_type": "code",
   "execution_count": 8,
   "metadata": {},
   "outputs": [
    {
     "data": {
      "image/png": "[encoded data removed]",
      "text/plain": [
       "<Figure size 432x288 with 1 Axes>"
      ]
     },
     "metadata": {
      "needs_background": "light"
     },
     "output_type": "display_data"
    }
   ],
   "source": [
    "years = range(1993, 2005)\n",
    "map(lambda x: str(x), years)\n",
    "\n",
    "r = np.arange(len(years))\n",
    "width = 0.25\n",
    "\n",
    "\n",
    "plt.bar(\n",
    "    r - width,\n",
    "    units_added_yearly,\n",
    "    color=\"r\",\n",
    "    width=width,\n",
    "    edgecolor=\"black\",\n",
    "    label=\"Added\",\n",
    ")\n",
    "plt.bar(\n",
    "    r, units_removed_yearly, color=\"b\", width=width, edgecolor=\"black\", label=\"Removed\"\n",
    ")\n",
    "plt.bar(\n",
    "    r + width,\n",
    "    units_changed_yearly,\n",
    "    color=\"g\",\n",
    "    width=width,\n",
    "    edgecolor=\"black\",\n",
    "    label=\"Changed\",\n",
    ")\n",
    "\n",
    "plt.xlabel(\"Year\")\n",
    "plt.ylabel(\"Number of units\")\n",
    "plt.title(\"Units added/changed/removed in each year\")\n",
    "\n",
    "plt.xticks(r + width / 2, years)\n",
    "plt.legend()\n",
    "\n",
    "plt.show()"
   ]
  },
  {
   "cell_type": "markdown",
   "metadata": {},
   "source": [
    "The same as above but show in % on y axis"
   ]
  },
  {
   "cell_type": "code",
   "execution_count": 9,
   "metadata": {},
   "outputs": [
    {
     "data": {
      "image/png": "[encoded data removed]",
      "text/plain": [
       "<Figure size 432x288 with 1 Axes>"
      ]
     },
     "metadata": {
      "needs_background": "light"
     },
     "output_type": "display_data"
    }
   ],
   "source": [
    "\n",
    "total = []\n",
    "for i in range(len(years)):\n",
    "    total.append(units_added_yearly[i]+units_changed_yearly[i]+units_removed_yearly[i]) \n",
    "    \n",
    "perc_added = [a/t for a, t in zip(units_added_yearly,total)]\n",
    "perc_changed = [a/t for a, t in zip(units_changed_yearly,total)]\n",
    "perc_removed = [a/t for a, t in zip(units_removed_yearly,total)]\n",
    "\n",
    "\n",
    "r = np.arange(len(years))\n",
    "width = 0.25\n",
    "\n",
    "\n",
    "plt.bar(r-width, perc_added, color = 'r',\n",
    "        width = width, edgecolor = 'black',\n",
    "        label='Added')\n",
    "plt.bar(r + width, perc_changed, color = 'g',\n",
    "        width = width, edgecolor = 'black',\n",
    "        label='Changed')\n",
    "plt.bar(r, perc_removed, color = 'b',\n",
    "        width = width, edgecolor = 'black',\n",
    "        label='Removed')\n",
    "  \n",
    "plt.xlabel(\"Year\")\n",
    "plt.ylabel(\"Procent of units [%]\")\n",
    "plt.title(\"Units added/changed/removed in each year\")\n",
    "  \n",
    "plt.xticks(r + width/2,years)\n",
    "plt.legend()\n",
    "  \n",
    "plt.show()"
   ]
  },
  {
   "cell_type": "markdown",
   "metadata": {},
   "source": [
    "## 4, 5, 6\n",
    "4. Compute the total number of occurrences of the word ustawa in any inflectional form (ustawa, ustawie, ustawę, etc.) and all spelling forms (ustawa, Ustawa, USTAWA), excluding other words with the same prefix (e.g. ustawić)\n",
    "\n",
    "5. Compute the total number of occurrences of the same word (same conditions), followed by z dnia expression.\n",
    "\n",
    "6. As above, but not followed by z dnia expression. Is the result correct (result 4 =? result 5 + result 6)?\n"
   ]
  },
  {
   "cell_type": "code",
   "execution_count": 10,
   "metadata": {},
   "outputs": [],
   "source": [
    "file = open(\"merged_law.txt\", \"r\")\n",
    "# file = open(\"ustawy/1993_646.txt\", \"r\")\n",
    "text = file.read()\n",
    "\n",
    "# test returning list with each match's line numbers\n",
    "def test():\n",
    "    matched_lines =[]\n",
    "    for match in regex.finditer(pattern,text):\n",
    "        lineno = text.count('\\n', 0, match.start())\n",
    "        matched_lines.append(lineno+1)\n",
    "    return matched_lines\n",
    "\n",
    "# test printing first \"n\" matched lines with line number\n",
    "def test1(max_lines=50):\n",
    "    matched_lines =[]\n",
    "    i =0\n",
    "    for match in regex.finditer(pattern,text):\n",
    "        lineno = text.count('\\n', 0, match.start())\n",
    "        matched_lines.append(lineno+1)\n",
    "        print(lineno+1,text.splitlines()[lineno])\n",
    "        i+=1\n",
    "        if i==max_lines:\n",
    "            break"
   ]
  },
  {
   "cell_type": "code",
   "execution_count": 11,
   "metadata": {},
   "outputs": [
    {
     "name": "stdout",
     "output_type": "stream",
     "text": [
      "\\b(ustawa|ustawy|ustawie|ustawę|ustawą|ustawo|ustawy|ustaw|ustawom|ustawami|ustawach)\\b\n",
      "total appearances of the word ustawa = 24934\n"
     ]
    }
   ],
   "source": [
    "morf = morfeusz2.Morfeusz()\n",
    "forms = morf.generate(\"ustawa\")\n",
    "forms = pd.DataFrame(forms)[0][:-1]  # -1 to remove last entry -> \"U\" which in my mind shouldn't be inflectional form\n",
    "\n",
    "\n",
    "expression = '|'.join(forms)\n",
    "expression = r'\\b('+expression+r')\\b'\n",
    "print(expression)\n",
    "pattern = regex.compile(expression, re.I)\n",
    "\n",
    "# matched_lines=test()\n",
    "law_total = len([*regex.finditer(pattern, text)])\n",
    "print(\"total appearances of the word ustawa =\",law_total)"
   ]
  },
  {
   "cell_type": "code",
   "execution_count": 12,
   "metadata": {},
   "outputs": [
    {
     "name": "stdout",
     "output_type": "stream",
     "text": [
      "17418\n"
     ]
    }
   ],
   "source": [
    "law_day =r\"\\b(ustawa|ustawy|ustawie|ustawę|ustawą|ustawo|ustawy|ustaw|ustawom|ustawami|ustawach)\\b(?!\\sz\\sdnia)\"\n",
    "\n",
    "pattern = regex.compile(law_day, re.I)\n",
    "law_day_amount = len([*regex.finditer(pattern, text)])\n",
    "\n",
    "# matched_lines1 =test()\n",
    "\n",
    "print(law_day_amount)"
   ]
  },
  {
   "cell_type": "code",
   "execution_count": 13,
   "metadata": {},
   "outputs": [
    {
     "name": "stdout",
     "output_type": "stream",
     "text": [
      "law_day_amount+law_without_day_amount = 24934\n"
     ]
    }
   ],
   "source": [
    "law_without_day = r\"\\b(ustawa|ustawy|ustawie|ustawę|ustawą|ustawo|ustawy|ustaw|ustawom|ustawami|ustawach)\\b(?=\\sz\\sdnia)\"\n",
    "\n",
    "\n",
    "pattern = regex.compile(law_without_day, re.I)\n",
    "law_without_day_amount = len([*regex.finditer(pattern, text)])\n",
    "\n",
    "# matched_lines2 =test()\n",
    "\n",
    "\n",
    "print(\"law_day_amount+law_without_day_amount =\", law_day_amount+law_without_day_amount)"
   ]
  },
  {
   "cell_type": "code",
   "execution_count": 14,
   "metadata": {
    "tags": []
   },
   "outputs": [],
   "source": [
    "# set(matched_lines) - set(matched_lines1 + matched_lines2) "
   ]
  },
  {
   "cell_type": "markdown",
   "metadata": {},
   "source": [
    "## 7, 8\n",
    "7. Compute the total number of occurrences of the word ustawa in any inflectional form, excluding occurrences following o zmianie expression.\n",
    "8. Plot results 4-7 using a bar chart"
   ]
  },
  {
   "cell_type": "code",
   "execution_count": 15,
   "metadata": {},
   "outputs": [
    {
     "name": "stdout",
     "output_type": "stream",
     "text": [
      "24082\n"
     ]
    }
   ],
   "source": [
    "expression= r\"(?<!(o\\szmianie\\s))\\b(ustawa|ustawy|ustawie|ustawę|ustawą|ustawo|ustawy|ustaw|ustawom|ustawami|ustawach)\\b\"\n",
    "pattern = regex.compile(expression, re.I)\n",
    "number_of_occurrences = len([*regex.finditer(pattern, text)])\n",
    "print(number_of_occurrences)"
   ]
  },
  {
   "cell_type": "code",
   "execution_count": 16,
   "metadata": {},
   "outputs": [
    {
     "name": "stdout",
     "output_type": "stream",
     "text": [
      "6                                 USTAWA\n",
      "14 W ustawie z dnia 8 stycznia 1993 r. o podatku od towarów i usług oraz o podatku\n",
      "23              ustawy.\";\n",
      "56              ust. 1 pkt 1-5, 7-36 i 38, art. 15 oraz art. 20 ustawy z dnia \n",
      "362 25) w art. 47 wyrazy \"w okresie 3 lat od dnia ogłoszenia ustawy\" zastępuje się \n",
      "381          ustawy w życie\" zastępuje się wyrazami \"do 31 grudnia 1993 r.\",\n",
      "419              do ogłoszenia załączników do ustawy z uwzględnieniem\n",
      "430    do niniejszej ustawy,\n",
      "446 W okresie od dnia wejścia  w  życie  ustawy do 31 grudnia 1996 r. przepisu \n",
      "447 art. 34 ust. 2 w brzmieniu nadanym niniejszą ustawą nie stosuje się do wyrobów\n",
      "450 Minister Finansów ogłosi w Dzienniku Ustaw Rzeczypospolitej Polskiej jednolity\n",
      "451 tekst ustawy o podatku od towarów i usług oraz o podatku akcyzowym, z \n",
      "455 Ustawa wchodzi w życie z dniem 1 stycznia 1994 r.\n",
      "457                                    Załączniki do ustawy \n",
      "1017                                 USTAWA\n",
      "1020     o zmianie niektórych ustaw dotyczących zaopatrzenia emerytalnego\n",
      "1025 W ustawie z dnia 29 maja 1974 r. o zaopatrzeniu inwalidów wojennych i wojskowych\n",
      "1042 W ustawie z dnia 26 stycznia 1982 r. - Karta Nauczyciela (Dz.U. Nr 3, poz. \n",
      "1057 W ustawie z dnia 24 stycznia 1991 r. o kombatantach oraz niektórych osobach \n",
      "1069 W ustawie z dnia 17 października 1991 r. o rewaloryzacji emerytur i rent, o \n",
      "1070 zasadach  ustalania emerytur i rent oraz o zmianie niektórych ustaw (Dz.U. \n",
      "1155 Ustawa  wchodzi w życie z dniem 1 stycznia 1994 r.\n",
      "1161                                 Ustawa \n",
      "1166 W ustawie z dnia 24 stycznia 1991 r. o kombatantach oraz niektórych osobach\n",
      "1172 Ustawa wchodzi w życie z dniem ogłoszenia. \n",
      "1178                                 USTAWA\n",
      "1181       o zmianie niektórych ustaw regulujących zasady opodatkowania\n",
      "1182                        i niektórych innych ustaw\n",
      "1186                         Zmiany niektórych ustaw\n",
      "1189 W ustawie z dnia 26 lipca 1991 r. o podatku dochodowym od osób fizycznych \n",
      "1279              tworzenia w ciężar kosztów określają odrębne ustawy,\",\n",
      "1371               27 ust. 3 ustawy, na każde dziecko,\",\n",
      "1403             ponosili w okresie obowiązywania ustawy wydatki na cele \n",
      "1565              art. 17 ust. 1 pkt 15 ustawy z dnia 15 lutego 1992 r. o podatku\n",
      "1750                 o którym mowa w art. 15 ust. 6 ustawy z dnia 6 marca \n",
      "1751                 1993 r. o zmianie niektórych ustaw regulujących zasady \n",
      "1752                 opodatkowania oraz niektórych innych ustaw (Dz.U. Nr \n",
      "1771 W ustawie z dnia 15 lutego 1992 r. o podatku dochodowym od osób prawnych \n",
      "1838              tworzenia w ciężar kosztów określają odrębne ustawy,\",\n",
      "1956 W ustawie z dnia 14 czerwca 1991 r. o spółkach z udziałem zagranicznym \n",
      "1972 W ustawie z dnia 19 grudnia 1980 r. o zobowiązaniach podatkowych (Dz.U. z \n",
      "2001              ustawy, następuje w formie bankowych rozliczeń bezgotówkowych,\n",
      "2038  8) w art. 40 w ust. 1 wyraz \"ustawie\" zastępuje się wyrazem \"ustawach\".\n",
      "2038  8) w art. 40 w ust. 1 wyraz \"ustawie\" zastępuje się wyrazem \"ustawach\".\n",
      "2041 W ustawie z dnia 23 grudnia 1988 r. o działalności gospodarczej (Dz.U. Nr 41, \n",
      "2115 W ustawie z dnia 31 stycznia 1989 r. - Prawo bankowe (Dz.U. z 1992 r. Nr 72, \n",
      "2119        \"3. W celu realizacji obowiązku wynikającego z art. 3 ustawy z dnia \n",
      "2129 W ustawie z dnia 29 grudnia 1982 r. o urzędzie Ministra Finansów oraz urzędach\n",
      "2146 W ustawie, o której mowa w art. 1, na 1994 r. wprowadza się następujące \n",
      "2168    ustawy wymienionej w art. 1 i nie odliczyli przed tym dniem przysługującej \n"
     ]
    }
   ],
   "source": [
    "test1()\n",
    "    "
   ]
  },
  {
   "cell_type": "code",
   "execution_count": 17,
   "metadata": {},
   "outputs": [
    {
     "data": {
      "image/png": "[encoded data removed]",
      "text/plain": [
       "<Figure size 1080x360 with 1 Axes>"
      ]
     },
     "metadata": {
      "needs_background": "light"
     },
     "output_type": "display_data"
    }
   ],
   "source": [
    "fig = plt.figure(figsize=(15,5))\n",
    "langs = ['total \"ustawa\"', '\"ustawa z dania\"', 'ustawa (without \"z dnia\")', '\"ustawa\" excluding \\noccurrences following \"o zmianie\"']\n",
    "students = [law_total,law_day_amount,law_without_day_amount,number_of_occurrences]\n",
    "plt.bar(langs,students)\n",
    "\n",
    "plt.show()"
   ]
  }
 ],
 "metadata": {
  "kernelspec": {
   "display_name": "Python 3.8 (XPython)",
   "language": "python",
   "name": "xpython"
  },
  "language_info": {
   "file_extension": ".py",
   "mimetype": "text/x-python",
   "name": "python",
   "version": "3.8.12"
  }
 },
 "nbformat": 4,
 "nbformat_minor": 4
}
