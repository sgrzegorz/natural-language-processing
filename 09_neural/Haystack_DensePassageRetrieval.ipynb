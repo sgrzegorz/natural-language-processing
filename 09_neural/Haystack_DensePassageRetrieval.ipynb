{
 "cells": [
  {
   "cell_type": "code",
   "execution_count": 29,
   "id": "0ca0d1ae",
   "metadata": {},
   "outputs": [],
   "source": [
    "from haystack.document_stores import FAISSDocumentStore\n",
    "from haystack.nodes import DensePassageRetriever\n",
    "import pandas as pd\n",
    "import os\n",
    "import re\n",
    "from pathlib import Path\n",
    "\n",
    "# conda create --name pjn \n",
    "# pip install git+https://github.com/apohllo/haystack.git@b79c5b099b294ad5f6cf37a01e4c504b438b8018\n",
    "# conda install  -c conda-forge ipywidgets\n",
    "# restart jupyter notebook"
   ]
  },
  {
   "cell_type": "code",
   "execution_count": 30,
   "id": "d46f6db2",
   "metadata": {},
   "outputs": [
    {
     "ename": "ValueError",
     "evalue": "The number of documents present in the SQL database does not match the number of embeddings in FAISS. Make sure your FAISS configuration file correctly points to the same database that was used when creating the original index.",
     "output_type": "error",
     "traceback": [
      "\u001b[0;31m---------------------------------------------------------------------------\u001b[0m",
      "\u001b[0;31mValueError\u001b[0m                                Traceback (most recent call last)",
      "\u001b[0;32m/tmp/ipykernel_350186/1969692466.py\u001b[0m in \u001b[0;36m<module>\u001b[0;34m\u001b[0m\n\u001b[1;32m      2\u001b[0m \u001b[0;32mfrom\u001b[0m \u001b[0mhaystack\u001b[0m\u001b[0;34m.\u001b[0m\u001b[0mretriever\u001b[0m \u001b[0;32mimport\u001b[0m \u001b[0mDensePassageRetriever\u001b[0m\u001b[0;34m\u001b[0m\u001b[0;34m\u001b[0m\u001b[0m\n\u001b[1;32m      3\u001b[0m \u001b[0;34m\u001b[0m\u001b[0m\n\u001b[0;32m----> 4\u001b[0;31m \u001b[0mdocument_store\u001b[0m \u001b[0;34m=\u001b[0m \u001b[0mFAISSDocumentStore\u001b[0m\u001b[0;34m(\u001b[0m\u001b[0mfaiss_index_factory_str\u001b[0m\u001b[0;34m=\u001b[0m\u001b[0;34m\"Flat\"\u001b[0m\u001b[0;34m)\u001b[0m\u001b[0;34m\u001b[0m\u001b[0;34m\u001b[0m\u001b[0m\n\u001b[0m\u001b[1;32m      5\u001b[0m \u001b[0;34m\u001b[0m\u001b[0m\n",
      "\u001b[0;32m~/anaconda3/envs/pjn2/lib/python3.7/site-packages/haystack/document_stores/faiss.py\u001b[0m in \u001b[0;36m__init__\u001b[0;34m(self, sql_url, vector_dim, faiss_index_factory_str, faiss_index, return_embedding, index, similarity, embedding_field, progress_bar, duplicate_documents, faiss_index_path, faiss_config_path, **kwargs)\u001b[0m\n\u001b[1;32m    150\u001b[0m         )\n\u001b[1;32m    151\u001b[0m \u001b[0;34m\u001b[0m\u001b[0m\n\u001b[0;32m--> 152\u001b[0;31m         \u001b[0mself\u001b[0m\u001b[0;34m.\u001b[0m\u001b[0m_validate_index_sync\u001b[0m\u001b[0;34m(\u001b[0m\u001b[0;34m)\u001b[0m\u001b[0;34m\u001b[0m\u001b[0;34m\u001b[0m\u001b[0m\n\u001b[0m\u001b[1;32m    153\u001b[0m \u001b[0;34m\u001b[0m\u001b[0m\n\u001b[1;32m    154\u001b[0m     \u001b[0;32mdef\u001b[0m \u001b[0m_validate_params_load_from_disk\u001b[0m\u001b[0;34m(\u001b[0m\u001b[0mself\u001b[0m\u001b[0;34m,\u001b[0m \u001b[0msig\u001b[0m\u001b[0;34m:\u001b[0m \u001b[0mSignature\u001b[0m\u001b[0;34m,\u001b[0m \u001b[0mlocals\u001b[0m\u001b[0;34m:\u001b[0m \u001b[0mdict\u001b[0m\u001b[0;34m,\u001b[0m \u001b[0mkwargs\u001b[0m\u001b[0;34m:\u001b[0m \u001b[0mdict\u001b[0m\u001b[0;34m)\u001b[0m\u001b[0;34m:\u001b[0m\u001b[0;34m\u001b[0m\u001b[0;34m\u001b[0m\u001b[0m\n",
      "\u001b[0;32m~/anaconda3/envs/pjn2/lib/python3.7/site-packages/haystack/document_stores/faiss.py\u001b[0m in \u001b[0;36m_validate_index_sync\u001b[0;34m(self)\u001b[0m\n\u001b[1;32m    169\u001b[0m         \u001b[0;31m# used when creating the original FAISS index\u001b[0m\u001b[0;34m\u001b[0m\u001b[0;34m\u001b[0m\u001b[0;34m\u001b[0m\u001b[0m\n\u001b[1;32m    170\u001b[0m         \u001b[0;32mif\u001b[0m \u001b[0;32mnot\u001b[0m \u001b[0mself\u001b[0m\u001b[0;34m.\u001b[0m\u001b[0mget_document_count\u001b[0m\u001b[0;34m(\u001b[0m\u001b[0;34m)\u001b[0m \u001b[0;34m==\u001b[0m \u001b[0mself\u001b[0m\u001b[0;34m.\u001b[0m\u001b[0mget_embedding_count\u001b[0m\u001b[0;34m(\u001b[0m\u001b[0;34m)\u001b[0m\u001b[0;34m:\u001b[0m\u001b[0;34m\u001b[0m\u001b[0;34m\u001b[0m\u001b[0m\n\u001b[0;32m--> 171\u001b[0;31m             raise ValueError(\"The number of documents present in the SQL database does not \"\n\u001b[0m\u001b[1;32m    172\u001b[0m                              \u001b[0;34m\"match the number of embeddings in FAISS. Make sure your FAISS \"\u001b[0m\u001b[0;34m\u001b[0m\u001b[0;34m\u001b[0m\u001b[0m\n\u001b[1;32m    173\u001b[0m                              \u001b[0;34m\"configuration file correctly points to the same database that \"\u001b[0m\u001b[0;34m\u001b[0m\u001b[0;34m\u001b[0m\u001b[0m\n",
      "\u001b[0;31mValueError\u001b[0m: The number of documents present in the SQL database does not match the number of embeddings in FAISS. Make sure your FAISS configuration file correctly points to the same database that was used when creating the original index."
     ]
    }
   ],
   "source": [
    "from haystack.document_stores import FAISSDocumentStore\n",
    "from haystack.retriever import DensePassageRetriever\n",
    "\n",
    "document_store = FAISSDocumentStore(faiss_index_factory_str=\"Flat\")\n",
    "\n"
   ]
  },
  {
   "cell_type": "code",
   "execution_count": null,
   "id": "dfce1ae0",
   "metadata": {},
   "outputs": [],
   "source": [
    "article_directory = 'artykuly2'\n",
    "article_reqex = r'( *Art\\. )(\\d+)(\\.((?! *Art)([\\s\\S]))*)'\n",
    "pattern = re.compile(article_reqex)\n"
   ]
  },
  {
   "cell_type": "code",
   "execution_count": null,
   "id": "8031bf6e",
   "metadata": {},
   "outputs": [],
   "source": [
    "\n",
    "\n",
    "artykuly = []\n",
    "for filename in os.listdir(article_directory):\n",
    "    with open(os.path.join(article_directory, filename), 'r',encoding='utf-8') as file:\n",
    "        match = re.match(pattern,file.read())\n",
    "        \n",
    "        artykul = {\n",
    "            'content': match.group(3),\n",
    "            'meta': {\n",
    "                'name': Path(file.name).stem,\n",
    "                'artykul_id' : match.group(2)\n",
    "            }\n",
    "        }\n",
    "        artykuly.append(artykul)\n",
    "        \n",
    "print(artykuly[1])\n",
    "document_store.write_documents(artykuly)"
   ]
  },
  {
   "cell_type": "code",
   "execution_count": 7,
   "id": "24adc57a",
   "metadata": {},
   "outputs": [
    {
     "name": "stderr",
     "output_type": "stream",
     "text": [
      "INFO - haystack.modeling.utils -  Using devices: CPU\n",
      "INFO - haystack.modeling.utils -  Number of GPUs: 0\n",
      "INFO - haystack.modeling.model.language_model -  LOADING MODEL\n",
      "INFO - haystack.modeling.model.language_model -  =============\n",
      "INFO - haystack.modeling.model.language_model -  Could not find enelpol/czywiesz-question locally.\n",
      "INFO - haystack.modeling.model.language_model -  Looking on Transformers Model Hub (in local cache and online)...\n",
      "INFO - haystack.modeling.model.language_model -  Loaded enelpol/czywiesz-question\n",
      "INFO - haystack.modeling.model.language_model -  LOADING MODEL\n",
      "INFO - haystack.modeling.model.language_model -  =============\n",
      "INFO - haystack.modeling.model.language_model -  Could not find enelpol/czywiesz-context locally.\n",
      "INFO - haystack.modeling.model.language_model -  Looking on Transformers Model Hub (in local cache and online)...\n",
      "INFO - haystack.modeling.model.language_model -  Loaded enelpol/czywiesz-context\n",
      "INFO - haystack.document_stores.faiss -  Updating embeddings for 101 docs...\n"
     ]
    },
    {
     "data": {
      "application/vnd.jupyter.widget-view+json": {
       "model_id": "7a57168794124105bc2776304810c4d6",
       "version_major": 2,
       "version_minor": 0
      },
      "text/plain": [
       "Updating Embedding:   0%|          | 0/101 [00:00<?, ? docs/s]"
      ]
     },
     "metadata": {},
     "output_type": "display_data"
    },
    {
     "name": "stderr",
     "output_type": "stream",
     "text": [
      "/home/x/anaconda3/envs/pjn2/lib/python3.7/site-packages/haystack/modeling/data_handler/dataset.py:65: UserWarning: Creating a tensor from a list of numpy.ndarrays is extremely slow. Please consider converting the list to a single numpy.ndarray with numpy.array() before converting to a tensor. (Triggered internally at  ../torch/csrc/utils/tensor_new.cpp:201.)\n",
      "  cur_tensor = torch.tensor([sample[t_name] for sample in features], dtype=torch.long)\n"
     ]
    },
    {
     "data": {
      "application/vnd.jupyter.widget-view+json": {
       "model_id": "",
       "version_major": 2,
       "version_minor": 0
      },
      "text/plain": [
       "Create embeddings:   0%|          | 0/112 [00:00<?, ? Docs/s]"
      ]
     },
     "metadata": {},
     "output_type": "display_data"
    }
   ],
   "source": [
    "retriever = DensePassageRetriever(\n",
    "    document_store=document_store,\n",
    "    query_embedding_model=\"enelpol/czywiesz-question\",\n",
    "    passage_embedding_model=\"enelpol/czywiesz-context\"\n",
    ")\n",
    "\n",
    "document_store.update_embeddings(retriever)\n"
   ]
  },
  {
   "cell_type": "code",
   "execution_count": 26,
   "id": "3ea3e5c3",
   "metadata": {},
   "outputs": [
    {
     "name": "stdout",
     "output_type": "stream",
     "text": [
      "<Document: id=e93c64874e83ad475ac182eff7775d0c, content='.\n",
      "W ustawie, o której mowa w art. 1, na 1994 r. wprowadza się następujące \n",
      "zmiany:\n",
      " 1) w art. 27 w u ...'>\n"
     ]
    }
   ],
   "source": [
    "df = pd.read_csv('questions1.csv',names=['passage_id', 'question', 'passage'])\n",
    "\n",
    "top_k = 3\n",
    "\n",
    "candidate_documents = retriever.retrieve(\n",
    "    query=df.iloc[3]['question'],\n",
    "    top_k=top_k\n",
    ")\n",
    "\n",
    "print(candidate_documents[2])"
   ]
  },
  {
   "cell_type": "code",
   "execution_count": null,
   "id": "378bb2e9",
   "metadata": {},
   "outputs": [],
   "source": [
    "for do"
   ]
  },
  {
   "cell_type": "code",
   "execution_count": 9,
   "id": "c23e2df6",
   "metadata": {},
   "outputs": [
    {
     "name": "stdout",
     "output_type": "stream",
     "text": [
      "W jakim momencie powstaje obowiązek podatkowy?\n"
     ]
    }
   ],
   "source": [
    "print(df.iloc[3]['question'])"
   ]
  },
  {
   "cell_type": "code",
   "execution_count": 8,
   "id": "87f174d3",
   "metadata": {},
   "outputs": [],
   "source": [
    "df = pd.read_csv('questions1.csv',names=['passage_id', 'question', 'passage'])"
   ]
  },
  {
   "cell_type": "code",
   "execution_count": 28,
   "id": "181db64e",
   "metadata": {},
   "outputs": [
    {
     "data": {
      "text/plain": [
       "[<Document: {'content': '.\\n 1. Podatnicy, którzy przed dniem 1 stycznia 1994 r. nabyli prawo do odliczenia\\n   wydatków poniesionych na cele określone w art. 26 ust. 1 pkt 5 lit.g) \\n   ustawy wymienionej w art. 1 i nie odliczyli przed tym dniem przysługującej \\n   im kwoty, zachowują prawo do odliczenia pozostałej części wydatków od \\n   dochodów uzyskanych po tym dniu.\\n 2. Przepis art. 26 ust. 6 ustawy wymienionej w art. 1, w części dotyczącej  \\n   możliwości odliczania wydatków udokumentowanych fakturą (rachunkiem) \\n   wystawioną wyłącznie przez podatnika podatku od towarów i usług nie korzystającego\\n   ze zwolnienia od tego podatku, w 1994 r. nie ma zastosowania\\n   u tych podatników, którzy przed dniem ogłoszenia ustawy zawarli \\n   umowy o wykonanie czynności określonych w art. 26 ust. 1 pkt 5 lit.b) \\n   oraz lit. d)-g) i w pkt 6 z osobami korzystającymi ze zwolnienia od podatku\\n   od towarów i usług oraz w terminie do dnia 31 stycznia 1994 r. zawiadomili\\n   o zawarciu tych umów urzędy skarbowe właściwe w sprawach opodatkowania\\n   podatkiem dochodowym od osób fizycznych.\\n 3. Przepis art. 26 ust. 10, w brzmieniu obowiązującym w latach 1992 i 1993, \\n   ustawy wymienionej w art. 1 ma zastosowanie również do spłaty kredytów \\n   lub pożyczek podlegających odliczeniu na podstawie przepisów obowiązujących\\n   przed wejściem w życie niniejszej ustawy.\\n 4. Przepis art. 37 ust. 3 ustawy wymienionej w art. 3, w części dotyczącej \\n   utraty prawa do zwolnienia z powodu ogłoszenia upadłości spółki, ma zastosowanie\\n   do spółek, które korzystają ze zwolnienia w dniu ogłoszenia \\n   ustawy lub uzyskają zwolnienie do dnia 31 marca 1994 r.\\n 5. Przepis art. 22 ust. 1a ustawy wymienionej w art. 4 ma zastosowanie, jeżeli \\n   decyzja o odroczeniu terminu zapłaty lub rozłożeniu podatku na raty została\\n   wydana po dniu 1 stycznia 1994 r.\\n 6. Podmioty gospodarcze prowadzące, zgodnie z odrębnymi przepisami, podatkową\\n   księgę przychodów i rozchodów są zobowiązane do posiadania \\n   rachunku bankowego nie później niż przed upływem 60 dni od dnia ogłoszenia\\n   ustawy; art. 3 ust. 3 ustawy wymienionej w art. 5 stosuje się od dnia \\n   otwarcia rachunku.\\n 7. Zawiadomień, o których mowa w art. 3 ust. 3 ustawy wymienionej w art. 5, \\n   należy dokonać w ciągu 30 dni od dnia ogłoszenia ustawy, z wyjątkiem \\n   podmiotów gospodarczych prowadzących podatkową księgę przychodów i \\n   rozchodów, dla których termin ten wynosi do 60 dni.\\n \\n', 'content_type': 'text', 'score': 0.9078007105423627, 'meta': {'name': '1993_646_9', 'artykul_id': '9', 'vector_id': '28'}, 'embedding': None, 'id': '48f26a89a3d084fce549a145ca462f42'}>,\n",
       " <Document: {'content': '. 1. Zwalnia się od podatku podatników:\\n                  1) u których wartość sprzedaży towarów w rozumieniu\\n                    art. 2 ust. 1 i 3, a także wartość eksportu     \\n                    towarów lub usług nie przekroczyła łącznie w poprzednim\\n                    roku podatkowym 1,2 mld zł,\\n                  2) opłacających podatek dochodowy w formie karty \\n                    podatkowej, w zakresie działalności objętej tą    \\n                    formą opodatkowania, z uwzględnieniem art. 18 \\n                    ust. 3.\\n              2. Podatnicy, o których mowa w ust. 1, mogą zrezygnować \\n                ze zwolnienia określonego w ust. 1, pod warunkiem zawiadomienia\\n                o tym zamiarze właściwego urzędu skarbowego\\n                przed początkiem miesiąca, w którym rezygnują \\n                ze zwolnienia. Rezygnacja obowiązuje do końca roku \\n                podatkowego.\\n              3. Jeżeli wartość sprzedaży towarów u podatników zwolnionych\\n                od podatku na podstawie ust. 1 pkt 1 przekroczy\\n                kwotę 1,2 mld zł, zwolnienie traci moc w momencie \\n                przekroczenie tej kwoty. Obowiązek podatkowy powstaje\\n                z chwilą przekroczenia tej kwoty, a opodatkowaniu \\n                podlega nadwyżka ponad tę kwotę. Za zgodą właściwego\\n                urzędu skarbowego podatnik może zmniejszyć podatek\\n                należny o podatek naliczony, wynikający z rachunków\\n                uproszczonych dokumentujących zakupy dokonane \\n                przed dniem utraty zwolnienia, pod warunkiem sporządzenia\\n                spisu z natury zapasów tych towarów posiadanych\\n                w dniu przekroczenia kwoty 1,2 mld zł.\\n              4. W przypadku podatników,  o których mowa w art. 16 \\n                ust. 1 pkt 2, przez wartość sprzedaży towarów określoną \\n                w ust. 1 pkt 1 rozumie się:\\n                  1) 30-krotność kwoty prowizji - u podatników dokonujących\\n                    sprzedaży będącej przedmiotem umowy \\n                    pośrednictwa,\\n                  2) wartość sprzedanych towarów - u podatników dokonujących\\n                    sprzedaży towarów będącej przedmiotem\\n                    umowy komisu.\\n              5. Podatnicy będący zakładami pracy chronionej w rozumieniu\\n                przepisów o zatrudnieniu i rehabilitacji zawodowej\\n                osób niepełnosprawnych mogą wybrać zwolnienie od \\n                podatku, bez względu na wartość sprzedaży towarów, \\n                pod warunkiem złożenia przez podatnika pisemnego \\n                oświadczenia we właściwym urzędzie skarbowym.\\n              6. Podatnik rozpoczynający wykonywanie czynności określonych\\n                w art. 2 w ciągu roku podatkowego może wybrać \\n                zwolnienie od podatku, jeżeli przewidywana przez podatnika\\n                wartość sprzedaży towarów, określona w złożonym \\n                oświadczeniu, nie przekroczy - w proporcji do okresu \\n                prowadzonej sprzedaży - kwoty wymienionej w ust. 1 \\n                pkt 1. Podatnik składa oświadczenie w urzędzie skarbowym\\n                przed dniem dokonania pierwszej sprzedaży (świadczenia\\n                usługi).\\n              7. Jeżeli wartość sprzedaży towarów określona zgodnie z \\n                ust. 6 zostanie przekroczona w ciągu roku podatkowego, \\n                zwolnienie  traci  moc od momentu przekroczenia tej \\n                wartości. Opodatkowaniu podlega nadwyżka sprzedaży \\n                ponad wartość określoną zgodnie z ust. 6, a obowiązek \\n                podatkowy powstaje z chwilą przekroczenia tej wartości. \\n                Przepis ust. 3 zdanie trzecie stosuje się odpowiednio.\\n              8. Jeżeli podatnicy określeni w ust. 1 pkt 1, wykorzystując \\n                związki z kontrahentami, tak układają swoje interesy, że \\n                uzyskują wartość sprzedaży towarów znacznie niższą niż \\n                uzyskaliby w przypadku, gdyby związek ten nie istniał, a \\n                w wyniku tych związków nastąpiło zmniejszenie wpływów\\n                podatkowych, zwolnienie od podatku traci moc od \\n                początku roku podatkowego.\\n              9. Poczynając  od 1995 r. kwota, o której mowa w ust. 1 \\n                pkt 1 i ust. 3, ulega corocznie podwyższeniu w stopniu \\n                odpowiadającym wskaźnikowi cen konsumpcyjnych towarów\\n                i usług w okresie pierwszych trzech kwartałów \\n                roku poprzedzającego rok kalendarzowy w stosunku do \\n                tego samego okresu roku ubiegłego.\\n             10. Zwolnień, o których mowa w ust. 1, 5 i 6, nie stosuje się \\n                do podatników określonych w art. 5 ust. 2, do importu \\n                towarów i usług oraz podatników:\\n                  1) sprzedających: \\n                     a) wyroby z metali szlachetnych lub z udziałem \\n                       tych metali,\\n                     b) wyroby akcyzowe, z wyjątkiem wyrobów wymienionych\\n                       w załączniku nr 6 poz. 8, 9, 10, 11, \\n                       16 i 17,\\n                  2) świadczących usługi prawnicze oraz usługi w zakresie\\n                    doradztwa.\\n             11. Minister Finansów określi, w drodze rozporządzenia, listę\\n                towarów i usług, o których mowa w ust. 10 pkt 1 lit.a) \\n                i pkt 2, z uwzględnieniem klasyfikacji wydanych na podstawie\\n                przepisów o statystyce państwowej.\\n             12. Minister Finansów w porozumieniu z Prezesem Głównego\\n                Urzędu Statystycznego ustala do 30 listopada roku \\n                poprzedzającego rok podatkowy, w drodze obwieszczenia,\\n                kwotę, o której mowa w ust. 1 pkt 1 i ust. 3, z \\n                uwzględnieniem zasady określonej w ust. 9, zaokrąglając \\n                tę kwotę do pełnych 10 mln zł.\";\\n              \\n 8) w art. 15:\\n    a) w ust. 1 w zdaniu drugim po wyrazie \"kwotę\" dodaje się wyraz \"należnego\",\\n    b) w ust. 2 wyrazy \"rachunków (faktur)\" zastępuje się wyrazami \"faktur lub \\n      rachunków uproszczonych\",\\n    c) w ust. 3 po wyrazie \"kwotę\" dodaje się wyraz \"należnego\",\\n    d) ust. 4 otrzymuje brzmienie:\\n          \"4. Podstawą opodatkowania w imporcie towarów jest wartość \\n             celna powiększona o należne cło i podatek importowy. Jeżeli\\n             przedmiotem importu są towary opodatkowane podatkiem \\n             akcyzowym, wartość celną powiększoną o należne cło i podatek\\n             importowy zwiększa się również o podatek akcyzowy.\";\\n          \\n 9) w art. 19:\\n    a) w ust. 2 wyrazy \"rachunkach (fakturach)\" zastępuje się wyrazem \"fakturach\",\\n    b) ust. 3 otrzymuje brzmienie:\\n          \"3. Obniżenie kwoty podatku należnego, o której mowa w ust. 1, \\n             następuje w rozliczeniu za miesiąc, w którym podatnik \\n             otrzymał fakturę, rachunek uproszczony w przypadku określonym\\n             w art. 14 ust. 3 lub dokument odprawy celnej, albo w \\n             miesiącu następnym.\",\\n    c) w ust. 4 kropkę skreśla się i dodaje wyrazy \"nie później jednak niż w \\n      ciągu 36 miesięcy od końca miesiąca, w którym podatnik otrzymał fakturę\\n      lub dokument odprawy celnej.\";\\n10) w art. 20 po ust. 3 dodaje się ust. 4 i 5 w brzmieniu:\\n          \"4. W przypadku nabycia towarów, o których mowa w art. 21 \\n             ust. 3, procentowy udział wartości sprzedaży towarów opodatkowanych\\n             w wartości sprzedaży ogółem oblicza się na \\n             podstawie sprzedaży z ostatnich sześciu miesięcy.\\n           5. Podatnicy dokonujący czynności, o których mowa w art. 2 \\n             ust. 1-3, w okresie krótszym niż sześć miesięcy obliczają \\n             procentowy udział zgodnie z ust. 3, przy czym po upływie \\n             sześciu miesięcy od rozpoczęcia działalności wyliczają ten \\n             udział zgodnie z ust. 4 i dokonują korekty podatku naliczonego.\"\\n \\n11) w art. 21:\\n    a) ust. 4 otrzymuje brzmienie:\\n       \"4. W przypadku gdy kwota zwrotu różnicy podatku dla podatnika \\n          dokonującego sprzedaży towarów opodatkowanych stawkami niższymi\\n          niż stawka określona w art. 18 ust. 1 przekracza kwotę \\n          wynoszącą 22% całości obrotu opodatkowanego stawkami niższymi,\\n          urząd skarbowy może na czas nie dłuższy niż trzy miesiące\\n          ograniczyć jej wysokość do wysokości tej kwoty.\",\\n    b) ust. 6 otrzymuje brzmienie: \\n       \"6. Zwrot różnicy podatku następuje na rachunek bankowy podatnika\\n          w ciągu 15 dni od dnia złożenia rozliczenia przez podatnika. \\n          Jeżeli w przypadku określonym w ust. 3 zasadność zwrotu wymaga\\n          dodatkowego sprawdzenia, urząd skarbowy może dokonać \\n          zwrotu różnicy podatku ratalnie w dwóch równych ratach w ciągu\\n          dwóch miesięcy następujących po miesiącu, w którym wystąpiła\\n          sytuacja uzasadniająca zwrot różnicy podatku. Rozliczenie \\n          powinno być złożone w terminie do 15 dnia miesiąca następującego\\n          po miesiącu, w którym wystąpiła sytuacja uzasadniająca \\n          zwrot różnicy podatku.\";\\n12) skreśla się art. 22;\\n13) art. 23 otrzymuje brzmienie:\\n   \"', 'content_type': 'text', 'score': 0.907738367231623, 'meta': {'name': '1993_599_14', 'artykul_id': '14', 'vector_id': '82'}, 'embedding': None, 'id': 'ccf61b808fd50eb1d43fa27bf394abab'}>,\n",
       " <Document: {'content': '.\\nW ustawie, o której mowa w art. 1, na 1994 r. wprowadza się następujące \\nzmiany:\\n 1) w art. 27 w ust. 1 skala podatkowa otrzymuje brzmienie:\\n+----------------------+--------------------------------------------------+\\n|Podstawa obliczenia   |                                                  |\\n|podatku w złotych     |                 Podatek wynosi                   |\\n|ponad        do       |                                                  |\\n+----------------------+--------------------------------------------------+\\n|            90.800.000|21% podstawy obliczenia minus kwota   1.212.000 zł|\\n| 90.800.000181.600.000| 17.856.000 zł + 33% nadwyżki ponad  90.800.000 zł|\\n|181.600.000           | 47.820.000 zł + 45% nadwyżki ponad 181.600.000 zł|\\n+----------------------+--------------------------------------------------+\\n 2) w art. 32:\\n   a) w ust. 1 stawki \"20%\", \"30%\" i \"40%\" zastępuje się odpowiednio stawkami\\n     \"21%\", \"33%\" i \"45%\",\\n   b) w ust. 1a stawki \"20%\" i \"30%\" zastępuje się odpowiednio stawkami \\n     \"21%\" i \"33%\";\\n 3) w art. 34 w ust. 3 stawkę \"20%\" zastępuje się stawką \"21%\".\\n \\n', 'content_type': 'text', 'score': 0.9071608066038597, 'meta': {'name': '1993_646_8', 'artykul_id': '8', 'vector_id': '95'}, 'embedding': None, 'id': 'e93c64874e83ad475ac182eff7775d0c'}>]"
      ]
     },
     "execution_count": 28,
     "metadata": {},
     "output_type": "execute_result"
    }
   ],
   "source": [
    "candidate_documents = retriever.retrieve(\n",
    "    query=df.iloc[3]['question'],\n",
    "    top_k=3\n",
    "#     filters={\"year\": [\"2015\", \"2016\", \"2017\"]}\n",
    ")\n",
    "\n",
    "candidate_documents"
   ]
  },
  {
   "cell_type": "code",
   "execution_count": 7,
   "id": "221ffa05",
   "metadata": {},
   "outputs": [
    {
     "name": "stderr",
     "output_type": "stream",
     "text": [
      "INFO - haystack.modeling.utils -  Using devices: CPU\n",
      "INFO - haystack.modeling.utils -  Number of GPUs: 0\n",
      "INFO - haystack.modeling.model.language_model -  LOADING MODEL\n",
      "INFO - haystack.modeling.model.language_model -  =============\n",
      "INFO - haystack.modeling.model.language_model -  Could not find enelpol/czywiesz-question locally.\n",
      "INFO - haystack.modeling.model.language_model -  Looking on Transformers Model Hub (in local cache and online)...\n",
      "INFO - haystack.modeling.model.language_model -  Loaded enelpol/czywiesz-question\n",
      "INFO - haystack.modeling.model.language_model -  LOADING MODEL\n",
      "INFO - haystack.modeling.model.language_model -  =============\n",
      "INFO - haystack.modeling.model.language_model -  Could not find enelpol/czywiesz-context locally.\n",
      "INFO - haystack.modeling.model.language_model -  Looking on Transformers Model Hub (in local cache and online)...\n",
      "INFO - haystack.modeling.model.language_model -  Loaded enelpol/czywiesz-context\n"
     ]
    }
   ],
   "source": []
  },
  {
   "cell_type": "code",
   "execution_count": 19,
   "id": "140df96c",
   "metadata": {},
   "outputs": [
    {
     "ename": "AttributeError",
     "evalue": "'FAISSDocumentStore' object has no attribute 'udpate_embeddings'",
     "output_type": "error",
     "traceback": [
      "\u001b[0;31m---------------------------------------------------------------------------\u001b[0m",
      "\u001b[0;31mAttributeError\u001b[0m                            Traceback (most recent call last)",
      "\u001b[0;32m/tmp/ipykernel_313603/58727979.py\u001b[0m in \u001b[0;36m<module>\u001b[0;34m\u001b[0m\n\u001b[1;32m     10\u001b[0m \u001b[0;31m#     document_store.write_documents([artykul])\u001b[0m\u001b[0;34m\u001b[0m\u001b[0;34m\u001b[0m\u001b[0;34m\u001b[0m\u001b[0m\n\u001b[1;32m     11\u001b[0m \u001b[0;34m\u001b[0m\u001b[0m\n\u001b[0;32m---> 12\u001b[0;31m \u001b[0mdocument_store\u001b[0m\u001b[0;34m.\u001b[0m\u001b[0mudpate_embeddings\u001b[0m\u001b[0;34m(\u001b[0m\u001b[0mretriever\u001b[0m\u001b[0;34m)\u001b[0m\u001b[0;34m\u001b[0m\u001b[0;34m\u001b[0m\u001b[0m\n\u001b[0m\u001b[1;32m     13\u001b[0m \u001b[0mdocument_store\u001b[0m\u001b[0;34m.\u001b[0m\u001b[0msave\u001b[0m\u001b[0;34m(\u001b[0m\u001b[0;34m\"contexts.faiss\"\u001b[0m\u001b[0;34m)\u001b[0m\u001b[0;34m\u001b[0m\u001b[0;34m\u001b[0m\u001b[0m\n",
      "\u001b[0;31mAttributeError\u001b[0m: 'FAISSDocumentStore' object has no attribute 'udpate_embeddings'"
     ]
    }
   ],
   "source": [
    "# artykuly = []\n",
    "\n",
    "\n",
    "# article_directory='artykuly1'\n",
    "# for filename in os.listdir(article_directory):\n",
    "#     with open(os.path.join(article_directory, filename), 'r',encoding='utf-8') as file:        \n",
    "#         artykuly.append(file.read())\n",
    "\n",
    "# for artykul in artykuly:\n",
    "#     document_store.write_documents([artykul])\n",
    "    \n",
    "# document_store.udpate_embeddings(retriever)\n",
    "document_store.save(\"contexts.faiss\")"
   ]
  },
  {
   "cell_type": "code",
   "execution_count": 22,
   "id": "33a5b82a",
   "metadata": {},
   "outputs": [
    {
     "data": {
      "text/plain": [
       "[]"
      ]
     },
     "execution_count": 22,
     "metadata": {},
     "output_type": "execute_result"
    }
   ],
   "source": []
  },
  {
   "cell_type": "code",
   "execution_count": 19,
   "id": "dc05d159",
   "metadata": {},
   "outputs": [
    {
     "data": {
      "text/plain": [
       "'W jakim momencie powstaje obowiązek podatkowy?'"
      ]
     },
     "execution_count": 19,
     "metadata": {},
     "output_type": "execute_result"
    }
   ],
   "source": [
    "df.iloc[3]['question']"
   ]
  },
  {
   "cell_type": "code",
   "execution_count": null,
   "id": "757a235a",
   "metadata": {},
   "outputs": [],
   "source": []
  }
 ],
 "metadata": {
  "kernelspec": {
   "display_name": "Python [conda env:pjn2]",
   "language": "python",
   "name": "conda-env-pjn2-py"
  },
  "language_info": {
   "codemirror_mode": {
    "name": "ipython",
    "version": 3
   },
   "file_extension": ".py",
   "mimetype": "text/x-python",
   "name": "python",
   "nbconvert_exporter": "python",
   "pygments_lexer": "ipython3",
   "version": "3.7.12"
  }
 },
 "nbformat": 4,
 "nbformat_minor": 5
}
